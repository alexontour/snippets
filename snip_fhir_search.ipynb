{
  "nbformat": 4,
  "nbformat_minor": 0,
  "metadata": {
    "colab": {
      "provenance": [],
      "authorship_tag": "ABX9TyOjpV5/tnI4qp46Daf+oAS0",
      "include_colab_link": true
    },
    "kernelspec": {
      "name": "python3",
      "display_name": "Python 3"
    },
    "language_info": {
      "name": "python"
    }
  },
  "cells": [
    {
      "cell_type": "markdown",
      "metadata": {
        "id": "view-in-github",
        "colab_type": "text"
      },
      "source": [
        "<a href=\"https://colab.research.google.com/github/alexontour/snippets/blob/main/snip_fhir_search.ipynb\" target=\"_parent\"><img src=\"https://colab.research.google.com/assets/colab-badge.svg\" alt=\"Open In Colab\"/></a>"
      ]
    },
    {
      "cell_type": "markdown",
      "source": [
        "**Author: Alexander Kollmann, 09/2022**\n",
        "\n",
        "---\n",
        "\n",
        "**Funktion**\n",
        "\n",
        "FHIR - Abfragen und Suchen (nativ und mittels fhirclient)\n",
        "\n",
        "---\n",
        "\n",
        "\n",
        "\n",
        "**Referenzen**\n",
        "\n",
        "https://github.com/Alvearie/FHIR-from-Jupyter/blob/main/Bonus%20Notebook%20-%20Location%20Search.ipynb \n",
        "\n",
        "\n",
        "---\n",
        "\n"
      ],
      "metadata": {
        "id": "3ey91dSQzEhk"
      }
    },
    {
      "cell_type": "code",
      "source": [
        "import json\n",
        "import requests\n",
        "from collections import OrderedDict\n",
        "from io import StringIO\n",
        "from IPython.display import IFrame"
      ],
      "metadata": {
        "id": "bxF4O2l3ybto"
      },
      "execution_count": 1,
      "outputs": []
    },
    {
      "cell_type": "code",
      "source": [
        "# Define Base URL\n",
        "url = \"http://hapi.fhir.org/baseR4/\" # Open HAPI FHIR Server\n",
        "#url = \"https://server.fire.ly/R4/\" # Open Firely Server\n",
        "headers = {\"Content-Type\": \"application/fhir+json;charset=utf-8\"}"
      ],
      "metadata": {
        "id": "LbEOtxb1y1KA"
      },
      "execution_count": 2,
      "outputs": []
    },
    {
      "cell_type": "code",
      "source": [
        "# now add some search parameters\n",
        "\n",
        "# each FHIR resource type has its own set of parameters; find them toward the bottom of the page for that resource type in the specification\n",
        "# for example, for the Patient resource type, see https://www.hl7.org/fhir/patient.html#search\n",
        "IFrame('https://www.hl7.org/fhir/patient.html#search', width=1200, height=500)"
      ],
      "metadata": {
        "id": "ldxiwtw4DGQ2"
      },
      "execution_count": null,
      "outputs": []
    },
    {
      "cell_type": "code",
      "execution_count": null,
      "metadata": {
        "id": "yY-HvnEHyXPj"
      },
      "outputs": [],
      "source": [
        "# Abfrage nach Name UND Geburtsdatum\n",
        "\n",
        "# SEARCH PARAM and FORMAT (as documented in FHIR R4)\n",
        "# birthdate = date\n",
        "# name = string\n",
        "\n",
        "req = url + \"Patient?\" + \"birthdate\" + \"=\" + \"1950-01-01\" + \"&\" + \"name\" + \"=\" + \"MrXXX\"\n",
        "print(req)\n",
        "response = requests.request(\"GET\", req, headers=headers)\n",
        "\n",
        "print(response.text)"
      ]
    },
    {
      "cell_type": "code",
      "source": [
        "# diverse Abfrage\n",
        "# MrXXX\n",
        "patient_id = str(7168516)\n",
        "# Get Condition of this patient\n",
        "req = url + \"Condition/\" + \"?patient=\" + patient_id\n",
        "response = requests.request(\"GET\", req, headers=headers)\n",
        "print(response.text)"
      ],
      "metadata": {
        "id": "y3-tIheyycLL"
      },
      "execution_count": null,
      "outputs": []
    },
    {
      "cell_type": "code",
      "source": [
        "# Alle Patienten mit einer gewissen Observation (Heart Rate)\n",
        "req = url + \"/Patient?_has:Observation:patient:code=8867-4\"\n",
        "response = requests.request(\"GET\", req, headers=headers)\n",
        "print(response.text)"
      ],
      "metadata": {
        "id": "nvJptnx0_j2D"
      },
      "execution_count": null,
      "outputs": []
    },
    {
      "cell_type": "code",
      "source": [
        "# alle Patienten mit Namen\n",
        "req = url + \"Patient?name=Alex\"\n",
        "response = requests.request(\"GET\", req, headers=headers)\n",
        "print(response.text)"
      ],
      "metadata": {
        "id": "gXBwsumZ_o-E"
      },
      "execution_count": null,
      "outputs": []
    },
    {
      "cell_type": "code",
      "source": [
        "# Anzahl der Patienten\n",
        "req = url + \"Patient?_summary=count\"\n",
        "response = requests.request(\"GET\", req, headers=headers)\n",
        "print(\"Anzahl der Patienten: \" + str(response.json().get('total')))\n",
        "print(response.text)"
      ],
      "metadata": {
        "id": "oWuztxwyBg3A"
      },
      "execution_count": null,
      "outputs": []
    },
    {
      "cell_type": "code",
      "source": [
        "# Anzahl der Patienten\n",
        "req = url + \"Patient?_total=accurate\"\n",
        "response = requests.request(\"GET\", req, headers=headers)\n",
        "print(response.text)"
      ],
      "metadata": {
        "id": "ULLmd2qM_q9_"
      },
      "execution_count": null,
      "outputs": []
    },
    {
      "cell_type": "code",
      "source": [
        "# Verteilung des Geschlechts\n",
        "req = url + \"Patient\" + '?' + 'gender=male' + '&' + '_summary=count'\n",
        "response = requests.request(\"GET\", req, headers=headers)\n",
        "print(\"male: \" + str(response.json().get('total')))\n",
        "req = url + \"Patient\" + '?' + 'gender=female' + '&' + '_summary=count'\n",
        "response = requests.request(\"GET\", req, headers=headers)\n",
        "print(\"female: \" + str(response.json().get('total')))\n",
        "req = url + \"Patient\" + '?' + 'gender=missing=true' + '&' + '_summary=count'\n",
        "response = requests.request(\"GET\", req, headers=headers)\n",
        "print(\"missing: \" + str(response.json().get('total')))"
      ],
      "metadata": {
        "colab": {
          "base_uri": "https://localhost:8080/"
        },
        "id": "Dg7BDcV-DjUH",
        "outputId": "182b4edd-0791-4e4c-8c59-095ce8e7c5ac"
      },
      "execution_count": 23,
      "outputs": [
        {
          "output_type": "stream",
          "name": "stdout",
          "text": [
            "male: 142792\n",
            "female: 64011\n",
            "missing: 0\n"
          ]
        }
      ]
    },
    {
      "cell_type": "code",
      "source": [
        "# String Search\n",
        "#req = url + 'Patient' + '?' + 'family=MrXXX' + '&_elements=name'\n",
        "#req = url + 'Patient' + '?' + 'family:exact=MrXXX' + '&_elements=name'\n",
        "req = url + 'Patient' + '?' + 'family:contains=Mr' + '&_elements=name'\n",
        "response = requests.request(\"GET\", req, headers=headers)\n",
        "print(response.text)"
      ],
      "metadata": {
        "id": "kejUpgQGEoGL"
      },
      "execution_count": null,
      "outputs": []
    },
    {
      "cell_type": "code",
      "source": [
        "# Date Search\n",
        "# date searches support lt(<), le(<=), gt(>), ge(>=), sa(starts after), and eb(ends before) \"prefixes\"\n",
        "# some servers support ap(approximately equal) as well, although the spec lets the server decide exactly what that means...\n",
        "req = url + 'Patient' + '?' + 'birthdate=1984' + '&_elements=birthDate'\n",
        "#req = url + 'Patient' + '?' + 'birthdate=eb1984' + '&_elements=birthDate'\n",
        "#req = url + 'Patient' + '?' + 'birthdate=sa1984' + '&_elements=birthDate'\n",
        "#req = url + 'Patient' + '?' + 'birthdate=ap1984' + '&_elements=birthDate'\n",
        "response = requests.request(\"GET\", req, headers=headers)\n",
        "print(response.text)"
      ],
      "metadata": {
        "id": "zyCmqzGcFYxg"
      },
      "execution_count": null,
      "outputs": []
    },
    {
      "cell_type": "code",
      "source": [
        "# Reference search\n",
        "#response = get(base + '/Patient?general-practitioner:missing=false&_elements=generalPractitioner,link,managingOrganization&_count=1')"
      ],
      "metadata": {
        "id": "xr2xMGI-GP2a"
      },
      "execution_count": null,
      "outputs": []
    },
    {
      "cell_type": "code",
      "source": [
        "#req = url + \"Patient$export\""
      ],
      "metadata": {
        "id": "hUr5danT_0KU"
      },
      "execution_count": null,
      "outputs": []
    },
    {
      "cell_type": "code",
      "source": [
        "# Search for all Patients with Diabetes Mellitus\n",
        "\n",
        "# Use the _has parameter\n",
        "# Patient is selected based on Condition\n",
        "# Condition references the patient (thus links the inforamtion)\n",
        "# Condition has the search parameter patient\n",
        "# The patient is the subject of the condition, which itself has a code element\n",
        "# We look for Patients with Diabetes Mellitus\n",
        "\n",
        "req = url + \"Patient?_has:Condition:patient:code=E10.65\"\n",
        "response = requests.request(\"GET\", req, headers=headers)\n",
        "print(response.text)"
      ],
      "metadata": {
        "id": "Ec3_6tklykVH"
      },
      "execution_count": null,
      "outputs": []
    },
    {
      "cell_type": "code",
      "source": [
        "# Location Search\n",
        "\n",
        "#  "
      ],
      "metadata": {
        "id": "I0YD2jKM8Fsm"
      },
      "execution_count": null,
      "outputs": []
    }
  ]
}