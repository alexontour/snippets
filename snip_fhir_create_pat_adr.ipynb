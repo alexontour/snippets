{
  "nbformat": 4,
  "nbformat_minor": 0,
  "metadata": {
    "colab": {
      "provenance": [],
      "authorship_tag": "ABX9TyMF51J/mey2A4RMKzRW/CIl",
      "include_colab_link": true
    },
    "kernelspec": {
      "name": "python3",
      "display_name": "Python 3"
    },
    "language_info": {
      "name": "python"
    }
  },
  "cells": [
    {
      "cell_type": "markdown",
      "metadata": {
        "id": "view-in-github",
        "colab_type": "text"
      },
      "source": [
        "<a href=\"https://colab.research.google.com/github/alexontour/snippets/blob/main/snip_fhir_create_pat_adr.ipynb\" target=\"_parent\"><img src=\"https://colab.research.google.com/assets/colab-badge.svg\" alt=\"Open In Colab\"/></a>"
      ]
    },
    {
      "cell_type": "markdown",
      "source": [
        "Erstellen eine PAT-FHIR Ressource mit einer bestimmten Adresse\n",
        "\n",
        "Bsp.: 15.10.2024"
      ],
      "metadata": {
        "id": "_TOMj8wxjNXt"
      }
    },
    {
      "cell_type": "code",
      "execution_count": null,
      "metadata": {
        "id": "M1McbhloQ6KD"
      },
      "outputs": [],
      "source": [
        "import json\n",
        "import requests\n",
        "from collections import OrderedDict\n",
        "from io import StringIO"
      ]
    },
    {
      "cell_type": "code",
      "source": [
        "# Base URL zum FHIR-Server\n",
        "# https://confluence.hl7.org/display/FHIR/Public+Test+Servers\n",
        "\n",
        "url = \"http://hapi.fhir.org/baseR4/\"\n",
        "#url = 'https://server.fire.ly/'\n",
        "\n",
        "# https://hub.docker.com/r/hapiproject/hapi\n",
        "#url = \"http://localhost:8080/fhir/\"\n",
        "\n",
        "# Header definieren\n",
        "headers = {\"Content-Type\": \"application/fhir+json;charset=utf-8\"}"
      ],
      "metadata": {
        "id": "DLGNejMCRBc6"
      },
      "execution_count": null,
      "outputs": []
    },
    {
      "cell_type": "code",
      "source": [
        "patient = json.loads(\"\"\"{\n",
        "   \"resourceType\":\"Patient\",\n",
        "   \"name\":[\n",
        "      {\n",
        "         \"given\": \"FHWN\",\n",
        "         \"family\": \"HCI2024_ako\",\n",
        "         \"text\":\"FHWN HCI2024_ako\",\n",
        "         \"use\": \"official\"\n",
        "      }\n",
        "   ],\n",
        "   \"gender\":\"male\",\n",
        "   \"birthDate\":\"2022-12-05\"\n",
        "}\"\"\")"
      ],
      "metadata": {
        "id": "XBqErPonRO7_"
      },
      "execution_count": null,
      "outputs": []
    },
    {
      "cell_type": "markdown",
      "source": [
        "https://www.hl7.org/fhir/datatypes.html#Address"
      ],
      "metadata": {
        "id": "BJtWJWSQjzb3"
      }
    },
    {
      "cell_type": "code",
      "source": [
        "# Hausübung - mit Adresse\n",
        "\n",
        "\n",
        "patient = json.loads(\"\"\"{\n",
        "   \"resourceType\":\"Patient\",\n",
        "   \"name\":[\n",
        "      {\n",
        "         \"given\": \"FHWN\",\n",
        "         \"family\": \"HCI2024_ako\",\n",
        "         \"text\":\"FHWN HCI2024_ako\",\n",
        "         \"use\": \"official\"\n",
        "      }\n",
        "   ],\n",
        "   \"address\":[\n",
        "    {\n",
        "      \"line\": \"Teststrasse 12345\",\n",
        "      \"postalCode\": \"2700\",\n",
        "      \"city\": \"Wr. Neustadt\"\n",
        "    }\n",
        "   ],\n",
        "   \"gender\":\"male\",\n",
        "   \"birthDate\":\"2022-12-05\"\n",
        "}\"\"\")"
      ],
      "metadata": {
        "id": "wamqWPnpjVwK"
      },
      "execution_count": null,
      "outputs": []
    },
    {
      "cell_type": "code",
      "source": [
        "response = requests.request(\"POST\", url + \"Patient\", headers=headers, data=str(patient))\n",
        "\n",
        "# Ergebnis (Response) verarbeiten\n",
        "patient_id = json.loads(response.text)['id']\n",
        "patient_name = json.loads(response.text)['name']\n",
        "#response.json()\n",
        "\n",
        "print(\"Patient-ID: \" + patient_id)\n",
        "#print(patient_name[0]['given'])"
      ],
      "metadata": {
        "colab": {
          "base_uri": "https://localhost:8080/"
        },
        "id": "j2tJgChVRUan",
        "outputId": "38479773-87ed-4a25-afc4-e627ce8685c9"
      },
      "execution_count": null,
      "outputs": [
        {
          "output_type": "stream",
          "name": "stdout",
          "text": [
            "Patient-ID: 45085147\n"
          ]
        }
      ]
    }
  ]
}