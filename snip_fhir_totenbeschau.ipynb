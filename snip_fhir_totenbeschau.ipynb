{
  "nbformat": 4,
  "nbformat_minor": 0,
  "metadata": {
    "colab": {
      "provenance": [],
      "authorship_tag": "ABX9TyM5cVEF1Tgu7+YNqF5/+hQb",
      "include_colab_link": true
    },
    "kernelspec": {
      "name": "python3",
      "display_name": "Python 3"
    },
    "language_info": {
      "name": "python"
    }
  },
  "cells": [
    {
      "cell_type": "markdown",
      "metadata": {
        "id": "view-in-github",
        "colab_type": "text"
      },
      "source": [
        "<a href=\"https://colab.research.google.com/github/alexontour/snippets/blob/main/snip_fhir_totenbeschau.ipynb\" target=\"_parent\"><img src=\"https://colab.research.google.com/assets/colab-badge.svg\" alt=\"Open In Colab\"/></a>"
      ]
    },
    {
      "cell_type": "markdown",
      "source": [
        "Erstellen eine PAT-FHIR Ressource mit einer bestimmten Adresse\n",
        "\n",
        "Bsp.: 15.10.2024"
      ],
      "metadata": {
        "id": "_TOMj8wxjNXt"
      }
    },
    {
      "cell_type": "code",
      "execution_count": null,
      "metadata": {
        "id": "M1McbhloQ6KD"
      },
      "outputs": [],
      "source": [
        "import json\n",
        "import requests\n",
        "from collections import OrderedDict\n",
        "from io import StringIO"
      ]
    },
    {
      "cell_type": "code",
      "source": [
        "# Base URL zum FHIR-Server\n",
        "# https://confluence.hl7.org/display/FHIR/Public+Test+Servers\n",
        "\n",
        "url = \"https://hapifhir4ako.duckdns.org/fhir/\"\n",
        "#url = \"http://hapi.fhir.org/baseR4/\"\n",
        "#url = 'https://server.fire.ly/'\n",
        "\n",
        "# https://hub.docker.com/r/hapiproject/hapi\n",
        "#url = \"http://localhost:8080/fhir/\"\n",
        "\n",
        "# Header definieren\n",
        "headers = {\"Content-Type\": \"application/fhir+json;charset=utf-8\"}"
      ],
      "metadata": {
        "id": "DLGNejMCRBc6"
      },
      "execution_count": null,
      "outputs": []
    },
    {
      "cell_type": "code",
      "source": [
        "# mit Adresse - Extention\n",
        "patient = {\n",
        "  \"resourceType\": \"Patient\",\n",
        "  \"id\": \"example\",\n",
        "  \"active\": \"true\",\n",
        "  \"name\": [\n",
        "    {\n",
        "      \"use\": \"official\",\n",
        "      \"family\": \"Doe\",\n",
        "      \"given\": [\"John\"]\n",
        "    }\n",
        "  ],\n",
        "  \"gender\": \"male\",\n",
        "  \"birthDate\": \"1970-01-01\",\n",
        "  \"deceasedDateTime\": \"2024-12-01T14:30:00Z\",\n",
        "  \"deceasedBoolean\": \"true\",\n",
        "  \"address\": [\n",
        "    {\n",
        "      \"use\": \"home\",\n",
        "      \"line\": [\"123 Main Street\"],\n",
        "      \"city\": \"Salzburg\",\n",
        "      \"postalCode\": \"5020\",\n",
        "      \"country\": \"Austria\"\n",
        "    },\n",
        "    {\n",
        "      \"use\": \"temp\",\n",
        "      \"line\": [\"456 Elm Street\"],\n",
        "      \"city\": \"Salzburg\",\n",
        "      \"postalCode\": \"5020\",\n",
        "      \"country\": \"Austria\"\n",
        "    }\n",
        "  ],\n",
        "  \"extension\": [\n",
        "    {\n",
        "      \"url\": \"http://hl7.org/fhir/StructureDefinition/patient-religion\",\n",
        "      \"valueCodeableConcept\": {\n",
        "        \"coding\": [\n",
        "          {\n",
        "            \"system\": \"https://terminology.hl7.org/5.5.0/ValueSet-v3-ReligiousAffiliation\",\n",
        "            \"code\": \"1013\",\n",
        "            \"display\": \"Christian\"\n",
        "          }\n",
        "        ],\n",
        "        \"text\": \"Christian\"\n",
        "      }\n",
        "    }\n",
        "  ]\n",
        "}\n"
      ],
      "metadata": {
        "id": "CFIIZIPp2yVy"
      },
      "execution_count": 1,
      "outputs": []
    },
    {
      "cell_type": "code",
      "source": [
        "response = requests.request(\"POST\", url + \"Patient\", headers=headers, data=str(patient))\n",
        "#response = requests.post(f\"{url}/Patient\", json=str(patient))\n",
        "\n",
        "# Ergebnis (Response) verarbeiten\n",
        "patient_id = json.loads(response.text)['id']\n",
        "patient_name = json.loads(response.text)['name']\n",
        "#response.json()\n",
        "\n",
        "print(\"Patient-ID: \" + patient_id)\n",
        "#print(patient_name[0]['given'])"
      ],
      "metadata": {
        "colab": {
          "base_uri": "https://localhost:8080/"
        },
        "id": "j2tJgChVRUan",
        "outputId": "386590c7-de4f-4c55-bf51-24fd033ca32d"
      },
      "execution_count": null,
      "outputs": [
        {
          "output_type": "stream",
          "name": "stdout",
          "text": [
            "Patient-ID: 15\n"
          ]
        }
      ]
    },
    {
      "cell_type": "code",
      "source": [
        "response.text"
      ],
      "metadata": {
        "colab": {
          "base_uri": "https://localhost:8080/",
          "height": 124
        },
        "id": "z5D4Nynj3TGX",
        "outputId": "2db0e919-67c8-4105-9d08-e748fa3ba7b7"
      },
      "execution_count": null,
      "outputs": [
        {
          "output_type": "execute_result",
          "data": {
            "text/plain": [
              "'{\\n  \"resourceType\": \"Patient\",\\n  \"id\": \"15\",\\n  \"meta\": {\\n    \"versionId\": \"1\",\\n    \"lastUpdated\": \"2024-12-10T19:09:39.133+00:00\",\\n    \"source\": \"#HGojyOMg7kZFPNbN\"\\n  },\\n  \"extension\": [ {\\n    \"url\": \"http://hl7.org/fhir/StructureDefinition/patient-religion\",\\n    \"valueCodeableConcept\": {\\n      \"coding\": [ {\\n        \"system\": \"http://terminology.hl7.org/CodeSystem/religion\",\\n        \"code\": \"1013\",\\n        \"display\": \"Christian\"\\n      } ],\\n      \"text\": \"Christian\"\\n    }\\n  } ],\\n  \"active\": true,\\n  \"name\": [ {\\n    \"use\": \"official\",\\n    \"family\": \"Doe\",\\n    \"given\": [ \"John\" ]\\n  } ],\\n  \"gender\": \"male\",\\n  \"birthDate\": \"1970-01-01\",\\n  \"deceasedDateTime\": \"2024-12-01T14:30:00Z\",\\n  \"address\": [ {\\n    \"use\": \"home\",\\n    \"line\": [ \"123 Main Street\" ],\\n    \"city\": \"Salzburg\",\\n    \"postalCode\": \"5020\",\\n    \"country\": \"Austria\"\\n  } ]\\n}'"
            ],
            "application/vnd.google.colaboratory.intrinsic+json": {
              "type": "string"
            }
          },
          "metadata": {},
          "execution_count": 62
        }
      ]
    }
  ]
}