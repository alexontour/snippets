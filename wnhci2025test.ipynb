{
  "nbformat": 4,
  "nbformat_minor": 0,
  "metadata": {
    "colab": {
      "provenance": [],
      "authorship_tag": "ABX9TyPMwIF4l37B7UzQjeCK3vsf",
      "include_colab_link": true
    },
    "kernelspec": {
      "name": "python3",
      "display_name": "Python 3"
    },
    "language_info": {
      "name": "python"
    }
  },
  "cells": [
    {
      "cell_type": "markdown",
      "metadata": {
        "id": "view-in-github",
        "colab_type": "text"
      },
      "source": [
        "<a href=\"https://colab.research.google.com/github/alexontour/snippets/blob/main/wnhci2025test.ipynb\" target=\"_parent\"><img src=\"https://colab.research.google.com/assets/colab-badge.svg\" alt=\"Open In Colab\"/></a>"
      ]
    },
    {
      "cell_type": "markdown",
      "source": [
        "DEMO im Zuge der Vorlesung"
      ],
      "metadata": {
        "id": "dW3NnPiA00xO"
      }
    },
    {
      "cell_type": "markdown",
      "source": [
        "text\n"
      ],
      "metadata": {
        "id": "e2RmfOFfoGCg"
      }
    },
    {
      "cell_type": "code",
      "execution_count": null,
      "metadata": {
        "id": "yVTIC1QawdVx"
      },
      "outputs": [],
      "source": [
        "import json\n",
        "import requests\n",
        "from collections import OrderedDict\n",
        "from io import StringIO"
      ]
    },
    {
      "cell_type": "code",
      "source": [
        "# Base URL zum FHIR-Server\n",
        "url = \"https://hapi.ehealth-solutions.at/fhir/\"\n",
        "# Header definieren\n",
        "headers = {\"Content-Type\": \"application/fhir+json;charset=utf-8\"}"
      ],
      "metadata": {
        "id": "-mfMwgINxNYS"
      },
      "execution_count": null,
      "outputs": []
    },
    {
      "cell_type": "code",
      "source": [
        "#einfacher Patient\n",
        "patient = json.loads(\"\"\"{\n",
        "   \"resourceType\":\"Patient\",\n",
        "   \"name\":[\n",
        "      {\n",
        "         \"given\": \"Alex\",\n",
        "         \"family\": \"KOLLLLLLLLLLLLLLLLLLLLLLLLL\",\n",
        "         \"text\":\"FHWN HCI2025\",\n",
        "         \"use\": \"official\",\n",
        "         \"prefix\": \"xxxx\"\n",
        "      }\n",
        "   ],\n",
        "   \"gender\":\"male\",\n",
        "   \"birthDate\":\"2012-12-12\"\n",
        "}\"\"\")"
      ],
      "metadata": {
        "id": "mzfk82H0xwlZ"
      },
      "execution_count": null,
      "outputs": []
    },
    {
      "cell_type": "code",
      "source": [
        "#Patient mit Adresse\n",
        "patient = json.loads(\"\"\"\n",
        "{\n",
        "   \"resourceType\": \"Patient\",\n",
        "   \"name\": [\n",
        "      {\n",
        "         \"use\": \"official\",\n",
        "         \"text\": \"FHWN HCI2025\",\n",
        "         \"family\": \"xxxxxxxxxxxxxxxxx\",\n",
        "         \"given\": [\"Alex\"]\n",
        "      }\n",
        "   ],\n",
        "   \"gender\": \"male\",\n",
        "   \"birthDate\": \"2012-12-12\",\n",
        "   \"address\": [\n",
        "      {\n",
        "         \"use\": \"home\",\n",
        "         \"type\": \"both\",\n",
        "         \"line\": [\"Hauptstraße 12\"],\n",
        "         \"city\": \"Stadt\",\n",
        "         \"postalCode\": \"1111\",\n",
        "         \"state\": \"Niederösterreich\",\n",
        "         \"country\": \"AT\"\n",
        "      }\n",
        "   ]\n",
        "}\n",
        "\"\"\")"
      ],
      "metadata": {
        "id": "R3EfMVNG1VyG"
      },
      "execution_count": null,
      "outputs": []
    },
    {
      "cell_type": "code",
      "source": [
        "#patient mit extention\n",
        "patient = json.loads(\"\"\"\n",
        "{\n",
        "  \"resourceType\": \"Patient\",\n",
        "  \"name\": [\n",
        "    {\n",
        "      \"use\": \"official\",\n",
        "      \"text\": \"FHWN HCI2025\",\n",
        "      \"family\": \"xxxxxxxxxxxxxxxxx\",\n",
        "      \"given\": [\"Alex\"]\n",
        "    }\n",
        "  ],\n",
        "  \"gender\": \"male\",\n",
        "  \"birthDate\": \"2012-12-12\",\n",
        "  \"address\": [\n",
        "    {\n",
        "      \"use\": \"home\",\n",
        "      \"type\": \"both\",\n",
        "      \"line\": [\"Hauptstraße 12\"],\n",
        "      \"city\": \"Stadt\",\n",
        "      \"postalCode\": \"1111\",\n",
        "      \"state\": \"Niederösterreich\",\n",
        "      \"country\": \"AT\"\n",
        "    }\n",
        "  ],\n",
        "  \"extension\": [\n",
        "    {\n",
        "      \"url\": \"http://hl7.org/fhir/StructureDefinition/patient-birthPlace\",\n",
        "      \"valueAddress\": {\n",
        "        \"city\": \"Wien\",\n",
        "        \"country\": \"AT\"\n",
        "      }\n",
        "    }\n",
        "  ]\n",
        "}\n",
        "\"\"\")"
      ],
      "metadata": {
        "id": "TBo67ZCtFT9B"
      },
      "execution_count": null,
      "outputs": []
    },
    {
      "cell_type": "code",
      "source": [
        "# FHIR Ressource an FHIR-Server senden (POST)\n",
        "response = requests.request(\"POST\", url + \"Patient\", headers=headers, data=str(patient))\n",
        "\n",
        "# Ergebnis (Response) verarbeiten\n",
        "patient_id = json.loads(response.text)['id']\n",
        "patient_name = json.loads(response.text)['name']\n",
        "#response.json()\n",
        "\n",
        "print(\"Patient-Name: \"+ str(patient_name))\n",
        "print(\"Patient-ID: \" + patient_id)\n",
        "#print(patient_name[0]['given'])"
      ],
      "metadata": {
        "colab": {
          "base_uri": "https://localhost:8080/"
        },
        "id": "rYePnAc9yUT0",
        "outputId": "b8950b89-07cc-4661-8e77-46f324d603f5"
      },
      "execution_count": null,
      "outputs": [
        {
          "output_type": "stream",
          "name": "stdout",
          "text": [
            "Patient-Name: [{'use': 'official', 'text': 'FHWN HCI2025', 'family': 'xxxxxxxxxxxxxxxxx', 'given': ['Alex']}]\n",
            "Patient-ID: 191\n"
          ]
        }
      ]
    },
    {
      "cell_type": "code",
      "source": [
        "observation = json.loads(f\"\"\"\n",
        "{{\n",
        "   \"resourceType\": \"Observation\",\n",
        "   \"status\": \"final\",\n",
        "   \"category\": [\n",
        "      {{\n",
        "         \"coding\": [\n",
        "            {{\n",
        "               \"system\": \"http://terminology.hl7.org/CodeSystem/observation-category\",\n",
        "               \"code\": \"laboratory\",\n",
        "               \"display\": \"Laboratory\"\n",
        "            }}\n",
        "         ]\n",
        "      }}\n",
        "   ],\n",
        "   \"code\": {{\n",
        "      \"coding\": [\n",
        "         {{\n",
        "            \"system\": \"http://loinc.org\",\n",
        "            \"code\": \"15074-8\",\n",
        "            \"display\": \"Glucose [Moles/volume] in Capillary blood\"\n",
        "         }}\n",
        "      ],\n",
        "      \"text\": \"Blutzucker\"\n",
        "   }},\n",
        "   \"subject\": {{\n",
        "      \"reference\": \"Patient/{patient_id}\",\n",
        "      \"display\": \"Alex KOLLLLLLLLLLLLLLLLLLLLLLLLL\"\n",
        "   }},\n",
        "   \"effectiveDateTime\": \"2025-10-20T08:30:00+02:00\",\n",
        "   \"valueQuantity\": {{\n",
        "      \"value\": 5.8,\n",
        "      \"unit\": \"mmol/L\",\n",
        "      \"system\": \"http://unitsofmeasure.org\",\n",
        "      \"code\": \"mmol/L\"\n",
        "   }}\n",
        "}}\n",
        "\"\"\")\n",
        "\n",
        "\n",
        "#print(json.dumps(observation, indent=3, ensure_ascii=False))\n"
      ],
      "metadata": {
        "id": "ylB1toWq2OQB"
      },
      "execution_count": null,
      "outputs": []
    },
    {
      "cell_type": "code",
      "source": [
        "response = requests.request(\"POST\", url + \"Observation\", headers=headers, data=str(observation))\n",
        "observation_id = json.loads(response.text)['id']\n",
        "#response.json()\n",
        "print(\"Observation-ID: \" + observation_id)"
      ],
      "metadata": {
        "colab": {
          "base_uri": "https://localhost:8080/"
        },
        "id": "2mPvgxL731qr",
        "outputId": "13f6544d-373f-47f4-fbff-01b4c9b5f1db"
      },
      "execution_count": null,
      "outputs": [
        {
          "output_type": "stream",
          "name": "stdout",
          "text": [
            "Observation-ID: 192\n"
          ]
        }
      ]
    }
  ]
}