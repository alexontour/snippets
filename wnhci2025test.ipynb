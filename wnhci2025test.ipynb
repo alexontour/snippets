{
  "nbformat": 4,
  "nbformat_minor": 0,
  "metadata": {
    "colab": {
      "provenance": [],
      "authorship_tag": "ABX9TyNPZVr+h0MIerb6DIwB7jbj",
      "include_colab_link": true
    },
    "kernelspec": {
      "name": "python3",
      "display_name": "Python 3"
    },
    "language_info": {
      "name": "python"
    }
  },
  "cells": [
    {
      "cell_type": "markdown",
      "metadata": {
        "id": "view-in-github",
        "colab_type": "text"
      },
      "source": [
        "<a href=\"https://colab.research.google.com/github/alexontour/snippets/blob/main/wnhci2025test.ipynb\" target=\"_parent\"><img src=\"https://colab.research.google.com/assets/colab-badge.svg\" alt=\"Open In Colab\"/></a>"
      ]
    },
    {
      "cell_type": "code",
      "execution_count": 1,
      "metadata": {
        "id": "yVTIC1QawdVx"
      },
      "outputs": [],
      "source": [
        "import json\n",
        "import requests\n",
        "from collections import OrderedDict\n",
        "from io import StringIO"
      ]
    },
    {
      "cell_type": "code",
      "source": [
        "# Base URL zum FHIR-Server\n",
        "url = \"https://hapi.ehealth-solutions.at/fhir/\"\n",
        "# Header definieren\n",
        "headers = {\"Content-Type\": \"application/fhir+json;charset=utf-8\"}"
      ],
      "metadata": {
        "id": "-mfMwgINxNYS"
      },
      "execution_count": 2,
      "outputs": []
    },
    {
      "cell_type": "code",
      "source": [
        "patient = json.loads(\"\"\"{\n",
        "   \"resourceType\":\"Patient\",\n",
        "   \"name\":[\n",
        "      {\n",
        "         \"given\": \"Alex\",\n",
        "         \"family\": \"KOLLLLLLLLLLLLLLLLLLLLLLLLL\",\n",
        "         \"text\":\"FHWN HCI2025\",\n",
        "         \"use\": \"official\"\n",
        "      }\n",
        "   ],\n",
        "   \"gender\":\"male\",\n",
        "   \"birthDate\":\"2012-12-12\"\n",
        "}\"\"\")"
      ],
      "metadata": {
        "id": "mzfk82H0xwlZ"
      },
      "execution_count": 3,
      "outputs": []
    },
    {
      "cell_type": "code",
      "source": [
        "# FHIR Ressource an FHIR-Server senden (POST)\n",
        "response = requests.request(\"POST\", url + \"Patient\", headers=headers, data=str(patient))\n",
        "\n",
        "# Ergebnis (Response) verarbeiten\n",
        "patient_id = json.loads(response.text)['id']\n",
        "patient_name = json.loads(response.text)['name']\n",
        "#response.json()\n",
        "\n",
        "print(\"Patient-Name: \"+ str(patient_name))\n",
        "print(\"Patient-ID: \" + patient_id)\n",
        "#print(patient_name[0]['given'])"
      ],
      "metadata": {
        "colab": {
          "base_uri": "https://localhost:8080/"
        },
        "id": "rYePnAc9yUT0",
        "outputId": "a2d4bc2c-f15e-4261-ec04-bad8756734be"
      },
      "execution_count": 4,
      "outputs": [
        {
          "output_type": "stream",
          "name": "stdout",
          "text": [
            "Patient-Name: [{'use': 'official', 'text': 'FHWN HCI2025', 'family': 'KOLLLLLLLLLLLLLLLLLLLLLLLLL', 'given': ['Alex']}]\n",
            "Patient-ID: 22\n"
          ]
        }
      ]
    }
  ]
}