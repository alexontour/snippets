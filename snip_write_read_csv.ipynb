{
  "nbformat": 4,
  "nbformat_minor": 0,
  "metadata": {
    "colab": {
      "provenance": [],
      "collapsed_sections": [],
      "authorship_tag": "ABX9TyMLzSFhL+H6+zGs7nwWVmo9",
      "include_colab_link": true
    },
    "kernelspec": {
      "name": "python3",
      "display_name": "Python 3"
    },
    "language_info": {
      "name": "python"
    }
  },
  "cells": [
    {
      "cell_type": "markdown",
      "metadata": {
        "id": "view-in-github",
        "colab_type": "text"
      },
      "source": [
        "<a href=\"https://colab.research.google.com/github/alexontour/snippets/blob/main/snip_write_read_csv.ipynb\" target=\"_parent\"><img src=\"https://colab.research.google.com/assets/colab-badge.svg\" alt=\"Open In Colab\"/></a>"
      ]
    },
    {
      "cell_type": "markdown",
      "source": [
        "**Author: Alexander Kollmann, 08/2022**\n",
        "\n",
        "---\n",
        "\n",
        "**Funktion**\n",
        "\n",
        "CSV-Dateien schreiben\n",
        "\n",
        "CSV-Dateien lesen\n",
        "\n",
        "---\n",
        "\n",
        "**Referenzen**\n",
        "\n",
        "https://cyublog.com/articles/python-en/colab-pandas-three-ways-to-save-dataframe-data/\n",
        "\n",
        "https://www.shanelynn.ie/python-pandas-read-csv-load-data-from-csv-files/\n",
        "\n",
        "https://iq.opengenus.org/google-colab/\n",
        "\n",
        "---\n",
        "\n"
      ],
      "metadata": {
        "id": "4Ba6v0iH9uUI"
      }
    },
    {
      "cell_type": "markdown",
      "source": [
        "# Schreiben von CSV-Dateien"
      ],
      "metadata": {
        "id": "2hsMHuvU_SeW"
      }
    },
    {
      "cell_type": "code",
      "source": [
        "from google.colab import files\n",
        "from google.colab import drive\n",
        "import pandas as pd\n",
        "import requests\n",
        "from io import StringIO"
      ],
      "metadata": {
        "id": "CdD2NG0ZxqTz"
      },
      "execution_count": null,
      "outputs": []
    },
    {
      "cell_type": "markdown",
      "source": [],
      "metadata": {
        "id": "21rGTmbz-Bsx"
      }
    },
    {
      "cell_type": "code",
      "source": [
        "# Test Dataframe erstellen mit Zahlen, Text und Umlauten bzw. Sonderzeichen\n",
        "data = {\n",
        "  \"calories\": [1, 2, 3],\n",
        "  \"duration\": [4, 5, 6],\n",
        "  \"info\": ['test1', 'test2', 'test3'],\n",
        "  \"uml\": ['äest4', 'Üest5', 'test6ßßßßß']\n",
        "}\n",
        "\n",
        "df = pd.DataFrame(data)"
      ],
      "metadata": {
        "id": "ibt-7KHbwiYE"
      },
      "execution_count": null,
      "outputs": []
    },
    {
      "cell_type": "code",
      "source": [
        "# Datei runter laden (Achtung: mit mit EXcel kann es zu Problemen mit der Datstellung der Umlaute kommen)\n",
        "df.to_csv('output.csv', encoding = 'utf-8', index=False) \n",
        "files.download('output.csv')"
      ],
      "metadata": {
        "id": "drxAqRfpld6L",
        "colab": {
          "base_uri": "https://localhost:8080/",
          "height": 17
        },
        "outputId": "60fd8d12-a619-49ba-9620-83f5af528ff4"
      },
      "execution_count": null,
      "outputs": [
        {
          "output_type": "display_data",
          "data": {
            "text/plain": [
              "<IPython.core.display.Javascript object>"
            ],
            "application/javascript": [
              "\n",
              "    async function download(id, filename, size) {\n",
              "      if (!google.colab.kernel.accessAllowed) {\n",
              "        return;\n",
              "      }\n",
              "      const div = document.createElement('div');\n",
              "      const label = document.createElement('label');\n",
              "      label.textContent = `Downloading \"${filename}\": `;\n",
              "      div.appendChild(label);\n",
              "      const progress = document.createElement('progress');\n",
              "      progress.max = size;\n",
              "      div.appendChild(progress);\n",
              "      document.body.appendChild(div);\n",
              "\n",
              "      const buffers = [];\n",
              "      let downloaded = 0;\n",
              "\n",
              "      const channel = await google.colab.kernel.comms.open(id);\n",
              "      // Send a message to notify the kernel that we're ready.\n",
              "      channel.send({})\n",
              "\n",
              "      for await (const message of channel.messages) {\n",
              "        // Send a message to notify the kernel that we're ready.\n",
              "        channel.send({})\n",
              "        if (message.buffers) {\n",
              "          for (const buffer of message.buffers) {\n",
              "            buffers.push(buffer);\n",
              "            downloaded += buffer.byteLength;\n",
              "            progress.value = downloaded;\n",
              "          }\n",
              "        }\n",
              "      }\n",
              "      const blob = new Blob(buffers, {type: 'application/binary'});\n",
              "      const a = document.createElement('a');\n",
              "      a.href = window.URL.createObjectURL(blob);\n",
              "      a.download = filename;\n",
              "      div.appendChild(a);\n",
              "      a.click();\n",
              "      div.remove();\n",
              "    }\n",
              "  "
            ]
          },
          "metadata": {}
        },
        {
          "output_type": "display_data",
          "data": {
            "text/plain": [
              "<IPython.core.display.Javascript object>"
            ],
            "application/javascript": [
              "download(\"download_399c6255-bea5-41d0-a8e0-ba9d71ad83ad\", \"output.csv\", 87)"
            ]
          },
          "metadata": {}
        }
      ]
    },
    {
      "cell_type": "code",
      "source": [
        "# in Google Drive speichern \n",
        "drive.mount('/content/drive/', force_remount=True)\n",
        "path = '/content/drive/MyDrive/data/output.csv'\n",
        "\n",
        "df.to_csv(path, sep=';', encoding='utf-8', index = False)"
      ],
      "metadata": {
        "colab": {
          "base_uri": "https://localhost:8080/"
        },
        "id": "gFaX0tV8zYm8",
        "outputId": "8ace1450-a5c0-4d8a-c6fe-357521cb1c0a"
      },
      "execution_count": null,
      "outputs": [
        {
          "output_type": "stream",
          "name": "stdout",
          "text": [
            "Mounted at /content/drive/\n"
          ]
        }
      ]
    },
    {
      "cell_type": "code",
      "source": [
        "ls"
      ],
      "metadata": {
        "id": "ZlpNa1ZW1u23",
        "colab": {
          "base_uri": "https://localhost:8080/"
        },
        "outputId": "c6496078-f075-47df-b374-e39fc546b9ee"
      },
      "execution_count": null,
      "outputs": [
        {
          "output_type": "stream",
          "name": "stdout",
          "text": [
            "\u001b[0m\u001b[01;34mdrive\u001b[0m/  output.csv  \u001b[01;34msample_data\u001b[0m/\n"
          ]
        }
      ]
    },
    {
      "cell_type": "markdown",
      "source": [
        "# Lesen von CSV-Dateien"
      ],
      "metadata": {
        "id": "fGu4bEP7WRUL"
      }
    },
    {
      "cell_type": "code",
      "source": [
        "# Datei von Google Drive lesen (Wichtig: die Datei muss freigegeben werden)\n",
        "url='https://drive.google.com/file/d/132SKFpDRX4qfi2XBf_qWXJC9VdKVtKkY/view?usp=sharing'\n",
        "\n",
        "file_id=url.split('/')[-2]\n",
        "dwn_url='https://drive.google.com/uc?id=' + file_id\n",
        "df = pd.read_csv(dwn_url, sep=';')\n",
        "print(df.head())"
      ],
      "metadata": {
        "colab": {
          "base_uri": "https://localhost:8080/"
        },
        "id": "9xQiiChjojdu",
        "outputId": "50068e2c-dbdf-4e8e-a12d-81f0f60f4734"
      },
      "execution_count": null,
      "outputs": [
        {
          "output_type": "stream",
          "name": "stdout",
          "text": [
            "   calories  duration   info         uml\n",
            "0         1         4  test1       äest4\n",
            "1         2         5  test2       Üest5\n",
            "2         3         6  test3  test6ßßßßß\n"
          ]
        }
      ]
    },
    {
      "cell_type": "code",
      "source": [
        "# Datei von einer URL lesen - z.B. COVID-19 Schutzimpfungen - Ausgelieferte und bestellte Impfdosen\n",
        "\n",
        "url = 'https://info.gesundheitsministerium.gv.at/data/timeline-bbg.csv'\n",
        "\n",
        "df = pd.read_csv(url, sep=';')\n",
        "df"
      ],
      "metadata": {
        "colab": {
          "base_uri": "https://localhost:8080/",
          "height": 424
        },
        "id": "iYWKHOfS_uoa",
        "outputId": "c0b0cec9-38e3-4ddd-d89e-883e11fb5171"
      },
      "execution_count": null,
      "outputs": [
        {
          "output_type": "execute_result",
          "data": {
            "text/plain": [
              "                          Datum  BundeslandID  Bevölkerung              Name  \\\n",
              "0     2021-01-09T23:59:59+01:00             0          NaN  Bundesverwaltung   \n",
              "1     2021-01-09T23:59:59+01:00             1     299235.0        Burgenland   \n",
              "2     2021-01-09T23:59:59+01:00             2     566166.0           Kärnten   \n",
              "3     2021-01-09T23:59:59+01:00             3    1708140.0  Niederösterreich   \n",
              "4     2021-01-09T23:59:59+01:00             4    1512226.0    Oberösterreich   \n",
              "...                         ...           ...          ...               ...   \n",
              "6694  2022-09-09T23:59:59+02:00             6    1256890.0        Steiermark   \n",
              "6695  2022-09-09T23:59:59+02:00             7     766492.0             Tirol   \n",
              "6696  2022-09-09T23:59:59+02:00             8     403203.0        Vorarlberg   \n",
              "6697  2022-09-09T23:59:59+02:00             9    1951354.0              Wien   \n",
              "6698  2022-09-09T23:59:59+02:00            10    9027999.0        Österreich   \n",
              "\n",
              "      Auslieferungen  AuslieferungenPro100  Bestellungen  BestellungenPro100  \n",
              "0                  0                   NaN             0                 NaN  \n",
              "1                355              0.118636          3995            1.335071  \n",
              "2                305              0.053871          6830            1.206360  \n",
              "3               9042              0.529348         20070            1.174962  \n",
              "4                520              0.034386         21395            1.414802  \n",
              "...              ...                   ...           ...                 ...  \n",
              "6694         2671399            212.540397       2678473          213.103215  \n",
              "6695         1683977            219.699227       1691865          220.728331  \n",
              "6696          822135            203.901013        822953          204.103888  \n",
              "6697         4619271            236.721323       4627783          237.157533  \n",
              "6698        24304624            269.213853      24364256          269.874376  \n",
              "\n",
              "[6699 rows x 8 columns]"
            ],
            "text/html": [
              "\n",
              "  <div id=\"df-cecbdb0f-b456-4c70-a9e3-c1e391523455\">\n",
              "    <div class=\"colab-df-container\">\n",
              "      <div>\n",
              "<style scoped>\n",
              "    .dataframe tbody tr th:only-of-type {\n",
              "        vertical-align: middle;\n",
              "    }\n",
              "\n",
              "    .dataframe tbody tr th {\n",
              "        vertical-align: top;\n",
              "    }\n",
              "\n",
              "    .dataframe thead th {\n",
              "        text-align: right;\n",
              "    }\n",
              "</style>\n",
              "<table border=\"1\" class=\"dataframe\">\n",
              "  <thead>\n",
              "    <tr style=\"text-align: right;\">\n",
              "      <th></th>\n",
              "      <th>Datum</th>\n",
              "      <th>BundeslandID</th>\n",
              "      <th>Bevölkerung</th>\n",
              "      <th>Name</th>\n",
              "      <th>Auslieferungen</th>\n",
              "      <th>AuslieferungenPro100</th>\n",
              "      <th>Bestellungen</th>\n",
              "      <th>BestellungenPro100</th>\n",
              "    </tr>\n",
              "  </thead>\n",
              "  <tbody>\n",
              "    <tr>\n",
              "      <th>0</th>\n",
              "      <td>2021-01-09T23:59:59+01:00</td>\n",
              "      <td>0</td>\n",
              "      <td>NaN</td>\n",
              "      <td>Bundesverwaltung</td>\n",
              "      <td>0</td>\n",
              "      <td>NaN</td>\n",
              "      <td>0</td>\n",
              "      <td>NaN</td>\n",
              "    </tr>\n",
              "    <tr>\n",
              "      <th>1</th>\n",
              "      <td>2021-01-09T23:59:59+01:00</td>\n",
              "      <td>1</td>\n",
              "      <td>299235.0</td>\n",
              "      <td>Burgenland</td>\n",
              "      <td>355</td>\n",
              "      <td>0.118636</td>\n",
              "      <td>3995</td>\n",
              "      <td>1.335071</td>\n",
              "    </tr>\n",
              "    <tr>\n",
              "      <th>2</th>\n",
              "      <td>2021-01-09T23:59:59+01:00</td>\n",
              "      <td>2</td>\n",
              "      <td>566166.0</td>\n",
              "      <td>Kärnten</td>\n",
              "      <td>305</td>\n",
              "      <td>0.053871</td>\n",
              "      <td>6830</td>\n",
              "      <td>1.206360</td>\n",
              "    </tr>\n",
              "    <tr>\n",
              "      <th>3</th>\n",
              "      <td>2021-01-09T23:59:59+01:00</td>\n",
              "      <td>3</td>\n",
              "      <td>1708140.0</td>\n",
              "      <td>Niederösterreich</td>\n",
              "      <td>9042</td>\n",
              "      <td>0.529348</td>\n",
              "      <td>20070</td>\n",
              "      <td>1.174962</td>\n",
              "    </tr>\n",
              "    <tr>\n",
              "      <th>4</th>\n",
              "      <td>2021-01-09T23:59:59+01:00</td>\n",
              "      <td>4</td>\n",
              "      <td>1512226.0</td>\n",
              "      <td>Oberösterreich</td>\n",
              "      <td>520</td>\n",
              "      <td>0.034386</td>\n",
              "      <td>21395</td>\n",
              "      <td>1.414802</td>\n",
              "    </tr>\n",
              "    <tr>\n",
              "      <th>...</th>\n",
              "      <td>...</td>\n",
              "      <td>...</td>\n",
              "      <td>...</td>\n",
              "      <td>...</td>\n",
              "      <td>...</td>\n",
              "      <td>...</td>\n",
              "      <td>...</td>\n",
              "      <td>...</td>\n",
              "    </tr>\n",
              "    <tr>\n",
              "      <th>6694</th>\n",
              "      <td>2022-09-09T23:59:59+02:00</td>\n",
              "      <td>6</td>\n",
              "      <td>1256890.0</td>\n",
              "      <td>Steiermark</td>\n",
              "      <td>2671399</td>\n",
              "      <td>212.540397</td>\n",
              "      <td>2678473</td>\n",
              "      <td>213.103215</td>\n",
              "    </tr>\n",
              "    <tr>\n",
              "      <th>6695</th>\n",
              "      <td>2022-09-09T23:59:59+02:00</td>\n",
              "      <td>7</td>\n",
              "      <td>766492.0</td>\n",
              "      <td>Tirol</td>\n",
              "      <td>1683977</td>\n",
              "      <td>219.699227</td>\n",
              "      <td>1691865</td>\n",
              "      <td>220.728331</td>\n",
              "    </tr>\n",
              "    <tr>\n",
              "      <th>6696</th>\n",
              "      <td>2022-09-09T23:59:59+02:00</td>\n",
              "      <td>8</td>\n",
              "      <td>403203.0</td>\n",
              "      <td>Vorarlberg</td>\n",
              "      <td>822135</td>\n",
              "      <td>203.901013</td>\n",
              "      <td>822953</td>\n",
              "      <td>204.103888</td>\n",
              "    </tr>\n",
              "    <tr>\n",
              "      <th>6697</th>\n",
              "      <td>2022-09-09T23:59:59+02:00</td>\n",
              "      <td>9</td>\n",
              "      <td>1951354.0</td>\n",
              "      <td>Wien</td>\n",
              "      <td>4619271</td>\n",
              "      <td>236.721323</td>\n",
              "      <td>4627783</td>\n",
              "      <td>237.157533</td>\n",
              "    </tr>\n",
              "    <tr>\n",
              "      <th>6698</th>\n",
              "      <td>2022-09-09T23:59:59+02:00</td>\n",
              "      <td>10</td>\n",
              "      <td>9027999.0</td>\n",
              "      <td>Österreich</td>\n",
              "      <td>24304624</td>\n",
              "      <td>269.213853</td>\n",
              "      <td>24364256</td>\n",
              "      <td>269.874376</td>\n",
              "    </tr>\n",
              "  </tbody>\n",
              "</table>\n",
              "<p>6699 rows × 8 columns</p>\n",
              "</div>\n",
              "      <button class=\"colab-df-convert\" onclick=\"convertToInteractive('df-cecbdb0f-b456-4c70-a9e3-c1e391523455')\"\n",
              "              title=\"Convert this dataframe to an interactive table.\"\n",
              "              style=\"display:none;\">\n",
              "        \n",
              "  <svg xmlns=\"http://www.w3.org/2000/svg\" height=\"24px\"viewBox=\"0 0 24 24\"\n",
              "       width=\"24px\">\n",
              "    <path d=\"M0 0h24v24H0V0z\" fill=\"none\"/>\n",
              "    <path d=\"M18.56 5.44l.94 2.06.94-2.06 2.06-.94-2.06-.94-.94-2.06-.94 2.06-2.06.94zm-11 1L8.5 8.5l.94-2.06 2.06-.94-2.06-.94L8.5 2.5l-.94 2.06-2.06.94zm10 10l.94 2.06.94-2.06 2.06-.94-2.06-.94-.94-2.06-.94 2.06-2.06.94z\"/><path d=\"M17.41 7.96l-1.37-1.37c-.4-.4-.92-.59-1.43-.59-.52 0-1.04.2-1.43.59L10.3 9.45l-7.72 7.72c-.78.78-.78 2.05 0 2.83L4 21.41c.39.39.9.59 1.41.59.51 0 1.02-.2 1.41-.59l7.78-7.78 2.81-2.81c.8-.78.8-2.07 0-2.86zM5.41 20L4 18.59l7.72-7.72 1.47 1.35L5.41 20z\"/>\n",
              "  </svg>\n",
              "      </button>\n",
              "      \n",
              "  <style>\n",
              "    .colab-df-container {\n",
              "      display:flex;\n",
              "      flex-wrap:wrap;\n",
              "      gap: 12px;\n",
              "    }\n",
              "\n",
              "    .colab-df-convert {\n",
              "      background-color: #E8F0FE;\n",
              "      border: none;\n",
              "      border-radius: 50%;\n",
              "      cursor: pointer;\n",
              "      display: none;\n",
              "      fill: #1967D2;\n",
              "      height: 32px;\n",
              "      padding: 0 0 0 0;\n",
              "      width: 32px;\n",
              "    }\n",
              "\n",
              "    .colab-df-convert:hover {\n",
              "      background-color: #E2EBFA;\n",
              "      box-shadow: 0px 1px 2px rgba(60, 64, 67, 0.3), 0px 1px 3px 1px rgba(60, 64, 67, 0.15);\n",
              "      fill: #174EA6;\n",
              "    }\n",
              "\n",
              "    [theme=dark] .colab-df-convert {\n",
              "      background-color: #3B4455;\n",
              "      fill: #D2E3FC;\n",
              "    }\n",
              "\n",
              "    [theme=dark] .colab-df-convert:hover {\n",
              "      background-color: #434B5C;\n",
              "      box-shadow: 0px 1px 3px 1px rgba(0, 0, 0, 0.15);\n",
              "      filter: drop-shadow(0px 1px 2px rgba(0, 0, 0, 0.3));\n",
              "      fill: #FFFFFF;\n",
              "    }\n",
              "  </style>\n",
              "\n",
              "      <script>\n",
              "        const buttonEl =\n",
              "          document.querySelector('#df-cecbdb0f-b456-4c70-a9e3-c1e391523455 button.colab-df-convert');\n",
              "        buttonEl.style.display =\n",
              "          google.colab.kernel.accessAllowed ? 'block' : 'none';\n",
              "\n",
              "        async function convertToInteractive(key) {\n",
              "          const element = document.querySelector('#df-cecbdb0f-b456-4c70-a9e3-c1e391523455');\n",
              "          const dataTable =\n",
              "            await google.colab.kernel.invokeFunction('convertToInteractive',\n",
              "                                                     [key], {});\n",
              "          if (!dataTable) return;\n",
              "\n",
              "          const docLinkHtml = 'Like what you see? Visit the ' +\n",
              "            '<a target=\"_blank\" href=https://colab.research.google.com/notebooks/data_table.ipynb>data table notebook</a>'\n",
              "            + ' to learn more about interactive tables.';\n",
              "          element.innerHTML = '';\n",
              "          dataTable['output_type'] = 'display_data';\n",
              "          await google.colab.output.renderOutput(dataTable, element);\n",
              "          const docLink = document.createElement('div');\n",
              "          docLink.innerHTML = docLinkHtml;\n",
              "          element.appendChild(docLink);\n",
              "        }\n",
              "      </script>\n",
              "    </div>\n",
              "  </div>\n",
              "  "
            ]
          },
          "metadata": {},
          "execution_count": 11
        }
      ]
    }
  ]
}