{
  "nbformat": 4,
  "nbformat_minor": 0,
  "metadata": {
    "colab": {
      "provenance": [],
      "authorship_tag": "ABX9TyOKTGx+Dbig4FEbLwCy/lYf",
      "include_colab_link": true
    },
    "kernelspec": {
      "name": "python3",
      "display_name": "Python 3"
    },
    "language_info": {
      "name": "python"
    }
  },
  "cells": [
    {
      "cell_type": "markdown",
      "metadata": {
        "id": "view-in-github",
        "colab_type": "text"
      },
      "source": [
        "<a href=\"https://colab.research.google.com/github/alexontour/snippets/blob/main/snip_mysql.ipynb\" target=\"_parent\"><img src=\"https://colab.research.google.com/assets/colab-badge.svg\" alt=\"Open In Colab\"/></a>"
      ]
    },
    {
      "cell_type": "markdown",
      "source": [
        "**Author: Alexander Kollmann, 10/2022**\n",
        "\n",
        "---\n",
        "\n",
        "**Funktion**\n",
        "\n",
        "Verbindung zu einer MySQL-DB herstellen\n",
        "\n",
        "CRUD-Operationen ausführen\n",
        "\n",
        "---\n",
        "\n",
        "\n",
        "\n",
        "**Referenzen**\n",
        "\n",
        "tbd\n",
        "\n",
        "---"
      ],
      "metadata": {
        "id": "RMfMEIhZmdc5"
      }
    },
    {
      "cell_type": "code",
      "execution_count": null,
      "metadata": {
        "colab": {
          "base_uri": "https://localhost:8080/"
        },
        "id": "NxBWN32NjULp",
        "outputId": "fc43f4fe-bdfa-4aa0-99e7-d2f561a5f39d"
      },
      "outputs": [
        {
          "output_type": "stream",
          "name": "stdout",
          "text": [
            "Reading package lists... Done\n",
            "Building dependency tree       \n",
            "Reading state information... Done\n",
            "default-libmysqlclient-dev is already the newest version (1.0.4).\n",
            "default-libmysqlclient-dev set to manually installed.\n",
            "python3-dev is already the newest version (3.6.7-1~18.04).\n",
            "python3-dev set to manually installed.\n",
            "The following package was automatically installed and is no longer required:\n",
            "  libnvidia-common-460\n",
            "Use 'sudo apt autoremove' to remove it.\n",
            "0 upgraded, 0 newly installed, 0 to remove and 12 not upgraded.\n",
            "Looking in indexes: https://pypi.org/simple, https://us-python.pkg.dev/colab-wheels/public/simple/\n",
            "Collecting pymysql\n",
            "  Downloading PyMySQL-1.0.2-py3-none-any.whl (43 kB)\n",
            "\u001b[K     |████████████████████████████████| 43 kB 1.4 MB/s \n",
            "\u001b[?25hInstalling collected packages: pymysql\n",
            "Successfully installed pymysql-1.0.2\n"
          ]
        }
      ],
      "source": [
        "!sudo apt-get install python3-dev default-libmysqlclient-dev\n",
        "!pip install pymysql"
      ]
    },
    {
      "cell_type": "code",
      "source": [
        "from sqlalchemy import create_engine\n",
        "from sqlalchemy.exc import SQLAlchemyError"
      ],
      "metadata": {
        "id": "b6YNlHkimsSk"
      },
      "execution_count": null,
      "outputs": []
    },
    {
      "cell_type": "code",
      "source": [
        "MYSQL_HOSTNAME = 'remotemysql.com' # you probably don't need to change this\n",
        "MYSQL_USER = 'ddv67SeI3z'\n",
        "MYSQL_PASSWORD = 'i934PvTXFJ'\n",
        "MYSQL_DATABASE = 'ddv67SeI3z'\n",
        "\n",
        "connection_string = f'mysql+pymysql://{MYSQL_USER}:{MYSQL_PASSWORD}@{MYSQL_HOSTNAME}/{MYSQL_DATABASE}'\n",
        "\n",
        "con = create_engine(connection_string)"
      ],
      "metadata": {
        "id": "OcMVMeuzjrye"
      },
      "execution_count": null,
      "outputs": []
    },
    {
      "cell_type": "code",
      "source": [
        "# CREATE (mehrere)\n",
        "\n",
        "try:\n",
        "    query=\"INSERT INTO  `ddv67SeI3z`.`pat` (`patid` ,`vorname` ,`nachname` ,`gebdat`)  VALUES(%s,%s,%s,%s)\"\n",
        "    data=[('bpk1','vn1','nn1','1950-12-01'),\n",
        "            ('bpk2','vn2','nn2','1950-12-02'),\n",
        "            ('bpk3','vn3','nn3','1950-12-03')]\n",
        "    \n",
        "    id=con.execute(query,data)\n",
        "    \n",
        "    print(\"Rows Added  = \",id.rowcount)\n",
        "    \n",
        "except SQLAlchemyError as e:\n",
        "        error = str(e.__dict__['orig'])\n",
        "        print(error)"
      ],
      "metadata": {
        "colab": {
          "base_uri": "https://localhost:8080/"
        },
        "id": "rnNjfw7Jm4bt",
        "outputId": "d01b9111-8a7b-49a0-dd7c-b9135c1dd796"
      },
      "execution_count": null,
      "outputs": [
        {
          "output_type": "stream",
          "name": "stdout",
          "text": [
            "Rows Added  =  3\n"
          ]
        }
      ]
    },
    {
      "cell_type": "code",
      "source": [
        "query = \"\"\"INSERT INTO * FROM pat;\"\"\".format(MYSQL_DATABASE)\n",
        "\n",
        "# df.to_sql(con=con, name='table_name_for_df', if_exists='replace', flavor='mysql')"
      ],
      "metadata": {
        "id": "ohVglQcYm6mt"
      },
      "execution_count": null,
      "outputs": []
    },
    {
      "cell_type": "code",
      "source": [
        "# READ\n",
        "\n",
        "query = \"\"\"SELECT * FROM pat;\"\"\".format(MYSQL_DATABASE)\n",
        "\n",
        "pat_df = pd.read_sql(query, con=db)\n",
        "pat_df"
      ],
      "metadata": {
        "colab": {
          "base_uri": "https://localhost:8080/",
          "height": 143
        },
        "id": "GwhjUCG3kKuU",
        "outputId": "2129f1e5-692f-4516-c77f-b479158ea5a7"
      },
      "execution_count": null,
      "outputs": [
        {
          "output_type": "execute_result",
          "data": {
            "text/plain": [
              "  patid vorname nachname      gebdat  svnr\n",
              "0  bpk1     vn1      nn1  1950-12-01  None\n",
              "1  bpk2     vn2      nn2  1950-12-02  None\n",
              "2  bpk3     vn3      nn3  1950-12-03  None"
            ],
            "text/html": [
              "\n",
              "  <div id=\"df-b41195b9-9c16-4c8f-992e-a7d38e17ea3c\">\n",
              "    <div class=\"colab-df-container\">\n",
              "      <div>\n",
              "<style scoped>\n",
              "    .dataframe tbody tr th:only-of-type {\n",
              "        vertical-align: middle;\n",
              "    }\n",
              "\n",
              "    .dataframe tbody tr th {\n",
              "        vertical-align: top;\n",
              "    }\n",
              "\n",
              "    .dataframe thead th {\n",
              "        text-align: right;\n",
              "    }\n",
              "</style>\n",
              "<table border=\"1\" class=\"dataframe\">\n",
              "  <thead>\n",
              "    <tr style=\"text-align: right;\">\n",
              "      <th></th>\n",
              "      <th>patid</th>\n",
              "      <th>vorname</th>\n",
              "      <th>nachname</th>\n",
              "      <th>gebdat</th>\n",
              "      <th>svnr</th>\n",
              "    </tr>\n",
              "  </thead>\n",
              "  <tbody>\n",
              "    <tr>\n",
              "      <th>0</th>\n",
              "      <td>bpk1</td>\n",
              "      <td>vn1</td>\n",
              "      <td>nn1</td>\n",
              "      <td>1950-12-01</td>\n",
              "      <td>None</td>\n",
              "    </tr>\n",
              "    <tr>\n",
              "      <th>1</th>\n",
              "      <td>bpk2</td>\n",
              "      <td>vn2</td>\n",
              "      <td>nn2</td>\n",
              "      <td>1950-12-02</td>\n",
              "      <td>None</td>\n",
              "    </tr>\n",
              "    <tr>\n",
              "      <th>2</th>\n",
              "      <td>bpk3</td>\n",
              "      <td>vn3</td>\n",
              "      <td>nn3</td>\n",
              "      <td>1950-12-03</td>\n",
              "      <td>None</td>\n",
              "    </tr>\n",
              "  </tbody>\n",
              "</table>\n",
              "</div>\n",
              "      <button class=\"colab-df-convert\" onclick=\"convertToInteractive('df-b41195b9-9c16-4c8f-992e-a7d38e17ea3c')\"\n",
              "              title=\"Convert this dataframe to an interactive table.\"\n",
              "              style=\"display:none;\">\n",
              "        \n",
              "  <svg xmlns=\"http://www.w3.org/2000/svg\" height=\"24px\"viewBox=\"0 0 24 24\"\n",
              "       width=\"24px\">\n",
              "    <path d=\"M0 0h24v24H0V0z\" fill=\"none\"/>\n",
              "    <path d=\"M18.56 5.44l.94 2.06.94-2.06 2.06-.94-2.06-.94-.94-2.06-.94 2.06-2.06.94zm-11 1L8.5 8.5l.94-2.06 2.06-.94-2.06-.94L8.5 2.5l-.94 2.06-2.06.94zm10 10l.94 2.06.94-2.06 2.06-.94-2.06-.94-.94-2.06-.94 2.06-2.06.94z\"/><path d=\"M17.41 7.96l-1.37-1.37c-.4-.4-.92-.59-1.43-.59-.52 0-1.04.2-1.43.59L10.3 9.45l-7.72 7.72c-.78.78-.78 2.05 0 2.83L4 21.41c.39.39.9.59 1.41.59.51 0 1.02-.2 1.41-.59l7.78-7.78 2.81-2.81c.8-.78.8-2.07 0-2.86zM5.41 20L4 18.59l7.72-7.72 1.47 1.35L5.41 20z\"/>\n",
              "  </svg>\n",
              "      </button>\n",
              "      \n",
              "  <style>\n",
              "    .colab-df-container {\n",
              "      display:flex;\n",
              "      flex-wrap:wrap;\n",
              "      gap: 12px;\n",
              "    }\n",
              "\n",
              "    .colab-df-convert {\n",
              "      background-color: #E8F0FE;\n",
              "      border: none;\n",
              "      border-radius: 50%;\n",
              "      cursor: pointer;\n",
              "      display: none;\n",
              "      fill: #1967D2;\n",
              "      height: 32px;\n",
              "      padding: 0 0 0 0;\n",
              "      width: 32px;\n",
              "    }\n",
              "\n",
              "    .colab-df-convert:hover {\n",
              "      background-color: #E2EBFA;\n",
              "      box-shadow: 0px 1px 2px rgba(60, 64, 67, 0.3), 0px 1px 3px 1px rgba(60, 64, 67, 0.15);\n",
              "      fill: #174EA6;\n",
              "    }\n",
              "\n",
              "    [theme=dark] .colab-df-convert {\n",
              "      background-color: #3B4455;\n",
              "      fill: #D2E3FC;\n",
              "    }\n",
              "\n",
              "    [theme=dark] .colab-df-convert:hover {\n",
              "      background-color: #434B5C;\n",
              "      box-shadow: 0px 1px 3px 1px rgba(0, 0, 0, 0.15);\n",
              "      filter: drop-shadow(0px 1px 2px rgba(0, 0, 0, 0.3));\n",
              "      fill: #FFFFFF;\n",
              "    }\n",
              "  </style>\n",
              "\n",
              "      <script>\n",
              "        const buttonEl =\n",
              "          document.querySelector('#df-b41195b9-9c16-4c8f-992e-a7d38e17ea3c button.colab-df-convert');\n",
              "        buttonEl.style.display =\n",
              "          google.colab.kernel.accessAllowed ? 'block' : 'none';\n",
              "\n",
              "        async function convertToInteractive(key) {\n",
              "          const element = document.querySelector('#df-b41195b9-9c16-4c8f-992e-a7d38e17ea3c');\n",
              "          const dataTable =\n",
              "            await google.colab.kernel.invokeFunction('convertToInteractive',\n",
              "                                                     [key], {});\n",
              "          if (!dataTable) return;\n",
              "\n",
              "          const docLinkHtml = 'Like what you see? Visit the ' +\n",
              "            '<a target=\"_blank\" href=https://colab.research.google.com/notebooks/data_table.ipynb>data table notebook</a>'\n",
              "            + ' to learn more about interactive tables.';\n",
              "          element.innerHTML = '';\n",
              "          dataTable['output_type'] = 'display_data';\n",
              "          await google.colab.output.renderOutput(dataTable, element);\n",
              "          const docLink = document.createElement('div');\n",
              "          docLink.innerHTML = docLinkHtml;\n",
              "          element.appendChild(docLink);\n",
              "        }\n",
              "      </script>\n",
              "    </div>\n",
              "  </div>\n",
              "  "
            ]
          },
          "metadata": {},
          "execution_count": 23
        }
      ]
    },
    {
      "cell_type": "code",
      "source": [
        "\n",
        "# UPDATE"
      ],
      "metadata": {
        "id": "82vIwHlqrDBR"
      },
      "execution_count": null,
      "outputs": []
    },
    {
      "cell_type": "code",
      "source": [
        "# DELETE"
      ],
      "metadata": {
        "id": "mhErFL-KlSrO"
      },
      "execution_count": null,
      "outputs": []
    }
  ]
}