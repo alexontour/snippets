{
  "nbformat": 4,
  "nbformat_minor": 0,
  "metadata": {
    "colab": {
      "provenance": [],
      "authorship_tag": "ABX9TyPrU8Dqexn79Yb1ndExgoU3",
      "include_colab_link": true
    },
    "kernelspec": {
      "name": "python3",
      "display_name": "Python 3"
    },
    "language_info": {
      "name": "python"
    }
  },
  "cells": [
    {
      "cell_type": "markdown",
      "metadata": {
        "id": "view-in-github",
        "colab_type": "text"
      },
      "source": [
        "<a href=\"https://colab.research.google.com/github/alexontour/snippets/blob/main/snip_fhir_fhirclient_patient.ipynb\" target=\"_parent\"><img src=\"https://colab.research.google.com/assets/colab-badge.svg\" alt=\"Open In Colab\"/></a>"
      ]
    },
    {
      "cell_type": "code",
      "source": [
        "# Installiere die fhirclient Bibliothek\n",
        "!pip install fhirclient requests"
      ],
      "metadata": {
        "colab": {
          "base_uri": "https://localhost:8080/"
        },
        "id": "9tSVCmnuSTYJ",
        "outputId": "f3a39803-f502-41e0-ac6d-06af57f3cb99"
      },
      "execution_count": 6,
      "outputs": [
        {
          "output_type": "stream",
          "name": "stdout",
          "text": [
            "Requirement already satisfied: fhirclient in /usr/local/lib/python3.10/dist-packages (4.2.1)\n",
            "Requirement already satisfied: requests in /usr/local/lib/python3.10/dist-packages (2.32.3)\n",
            "Requirement already satisfied: charset-normalizer<4,>=2 in /usr/local/lib/python3.10/dist-packages (from requests) (3.3.2)\n",
            "Requirement already satisfied: idna<4,>=2.5 in /usr/local/lib/python3.10/dist-packages (from requests) (3.10)\n",
            "Requirement already satisfied: urllib3<3,>=1.21.1 in /usr/local/lib/python3.10/dist-packages (from requests) (2.2.3)\n",
            "Requirement already satisfied: certifi>=2017.4.17 in /usr/local/lib/python3.10/dist-packages (from requests) (2024.8.30)\n"
          ]
        }
      ]
    },
    {
      "cell_type": "code",
      "execution_count": 11,
      "metadata": {
        "colab": {
          "base_uri": "https://localhost:8080/"
        },
        "id": "B62YJwoESFeG",
        "outputId": "2e134948-0301-484a-bec8-1868948ce89a"
      },
      "outputs": [
        {
          "output_type": "stream",
          "name": "stdout",
          "text": [
            "Patient wurde erfolgreich erstellt. Location: https://hapi.fhir.org/baseR4/Patient/45078491/_history/1\n"
          ]
        }
      ],
      "source": [
        "import json\n",
        "import requests\n",
        "from fhirclient import client\n",
        "from fhirclient.models import patient as p\n",
        "from fhirclient.models import humanname, fhirdate\n",
        "\n",
        "# Konfiguration für den HAPI FHIR-Server\n",
        "hapi_server_url = \"http://hapi.fhir.org/baseR4\"  # oder deine eigene HAPI FHIR-Instanz\n",
        "\n",
        "# Erstellen eines neuen Patienten\n",
        "def create_patient_resource():\n",
        "    patient = p.Patient()\n",
        "    patient.id = \"example-id\"\n",
        "\n",
        "    # Füge dem Patienten einen Namen hinzu\n",
        "    patient.name = [humanname.HumanName({\n",
        "        \"family\": \"Mustermann\",\n",
        "        \"given\": [\"Max\"]\n",
        "    })]\n",
        "\n",
        "    # Geburtsdatum setzen (als FHIRDate Objekt)\n",
        "    patient.birthDate = fhirdate.FHIRDate(\"1990-01-01\")\n",
        "\n",
        "    # Geschlecht setzen\n",
        "    patient.gender = \"male\"\n",
        "\n",
        "    return patient\n",
        "\n",
        "# Funktion zum Senden der Ressource an den HAPI FHIR-Server\n",
        "def send_patient_to_hapi(patient_resource):\n",
        "    headers = {'Content-Type': 'application/fhir+json'}\n",
        "    patient_json = patient_resource.as_json()\n",
        "\n",
        "    # POST Anfrage an den HAPI FHIR-Server senden\n",
        "    response = requests.post(f\"{hapi_server_url}/Patient\", headers=headers, data=json.dumps(patient_json))\n",
        "\n",
        "    if response.status_code == 201:\n",
        "        print(f\"Patient wurde erfolgreich erstellt. Location: {response.headers['Location']}\")\n",
        "    else:\n",
        "        print(f\"Fehler: {response.status_code}, {response.text}\")\n",
        "\n",
        "# Erstelle eine neue Patient-Ressource\n",
        "new_patient = create_patient_resource()\n",
        "\n",
        "# Sende die Patient-Ressource an den HAPI FHIR-Server\n",
        "send_patient_to_hapi(new_patient)\n"
      ]
    }
  ]
}