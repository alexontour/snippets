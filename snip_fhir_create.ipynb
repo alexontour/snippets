{
  "nbformat": 4,
  "nbformat_minor": 0,
  "metadata": {
    "colab": {
      "provenance": [],
      "collapsed_sections": [],
      "authorship_tag": "ABX9TyPzK+87HpRDgULZk/o4MQzj",
      "include_colab_link": true
    },
    "kernelspec": {
      "name": "python3",
      "display_name": "Python 3"
    },
    "language_info": {
      "name": "python"
    }
  },
  "cells": [
    {
      "cell_type": "markdown",
      "metadata": {
        "id": "view-in-github",
        "colab_type": "text"
      },
      "source": [
        "<a href=\"https://colab.research.google.com/github/alexontour/snippets/blob/main/snip_fhir_create.ipynb\" target=\"_parent\"><img src=\"https://colab.research.google.com/assets/colab-badge.svg\" alt=\"Open In Colab\"/></a>"
      ]
    },
    {
      "cell_type": "markdown",
      "source": [
        "**Author: Alexander Kollmann, 08/2022**\n",
        "\n",
        "---\n",
        "\n",
        "**Funktion**\n",
        "\n",
        "FHIR - Ressorcen schreiben und verknüpfen (versch. Optionen)\n",
        "\n",
        "Patient, Encounter, Observation, Condition\n",
        "\n",
        "---\n",
        "\n",
        "\n",
        "\n",
        "**Referenzen**\n",
        "\n",
        "https://colab.research.google.com/drive/1OSuqqACnCqw8h67E7DKDMyIGO1C2qbEq?usp=sharing#scrollTo=rU-lfJob3fOf\n",
        "\n",
        "---\n",
        "\n"
      ],
      "metadata": {
        "id": "M38yeRPGzMtb"
      }
    },
    {
      "cell_type": "code",
      "source": [
        "import json\n",
        "import requests\n",
        "from collections import OrderedDict\n",
        "from io import StringIO"
      ],
      "metadata": {
        "id": "LImJnBaNJj5T"
      },
      "execution_count": null,
      "outputs": []
    },
    {
      "cell_type": "code",
      "source": [
        "# Define Base URL\n",
        "url = \"http://hapi.fhir.org/baseR4/\" # Open HAPI FHIR Server\n",
        "#url = \"https://server.fire.ly/R4/\" # Open Firely Server"
      ],
      "metadata": {
        "id": "Nzln2QiRJmQ_"
      },
      "execution_count": null,
      "outputs": []
    },
    {
      "cell_type": "code",
      "source": [
        "#Option 1: JSON\n",
        "patient = json.loads(\"\"\"{\n",
        "   \"resourceType\":\"Patient\",\n",
        "   \"name\":[\n",
        "      {\n",
        "         \"given\": \"Christiano\",\n",
        "         \"family\": \"Ronaldo\",\n",
        "         \"text\":\"Christiano Ronaldo\",\n",
        "         \"use\": \"official\"\n",
        "      }\n",
        "   ],\n",
        "   \"gender\":\"male\",\n",
        "   \"birthDate\":\"1950-01-01\"\n",
        "}\"\"\")"
      ],
      "metadata": {
        "id": "kiVFzH4rJqhK"
      },
      "execution_count": null,
      "outputs": []
    },
    {
      "cell_type": "code",
      "source": [
        "headers = {\"Content-Type\": \"application/fhir+json;charset=utf-8\"}\n",
        "\n",
        "response = requests.request(\"POST\", url + \"Patient\", headers=headers, data=str(patient))\n",
        "\n",
        "patient_id = json.loads(response.text)['id']\n",
        "patient_name = json.loads(response.text)['name']\n",
        "#response.json()\n",
        "\n",
        "\n",
        "print(patient_id)\n",
        "print(patient_name[0]['given'])\n",
        "\n"
      ],
      "metadata": {
        "colab": {
          "base_uri": "https://localhost:8080/"
        },
        "id": "ldbyaqlgJ2cY",
        "outputId": "6bfc5ba3-f4b4-47a7-b5be-5a54d56e400c"
      },
      "execution_count": null,
      "outputs": [
        {
          "output_type": "stream",
          "name": "stdout",
          "text": [
            "6997815\n",
            "['Christiano']\n"
          ]
        }
      ]
    },
    {
      "cell_type": "code",
      "source": [
        "# Option 2: Funktion\n",
        "def create_patient():\n",
        "\n",
        "\n",
        "    body = {\n",
        "        \"name\":[\n",
        "            {\n",
        "              \"given\": \"Christiano\",\n",
        "              \"family\": \"Ronaldo\",\n",
        "              \"text\":\"Christiano Ronaldo\",\n",
        "              \"use\": \"official\"\n",
        "            }\n",
        "        ],\n",
        "        \"birthDate\":\"1950-01-01\",\n",
        "        \"gender\": \"male\",\n",
        "        \"resourceType\": \"Patient\",\n",
        "    }\n",
        "\n",
        "    io = StringIO()\n",
        "    json.dump(body, io, indent=2)\n",
        "\n",
        "    return io\n"
      ],
      "metadata": {
        "id": "qSAAYrmvOjjn"
      },
      "execution_count": null,
      "outputs": []
    },
    {
      "cell_type": "code",
      "source": [
        "headers = {\"Content-Type\": \"application/fhir+json;charset=utf-8\"}\n",
        "\n",
        "response = requests.request(\"POST\", url + \"Patient\", headers=headers, data=create_patient().getvalue())\n",
        "\n",
        "patient_id = json.loads(response.text)['id']\n",
        "patient_name = json.loads(response.text)['name']\n",
        "#response.json()\n",
        "\n",
        "\n",
        "print(patient_id)\n",
        "print(patient_name[0]['given'])\n"
      ],
      "metadata": {
        "colab": {
          "base_uri": "https://localhost:8080/"
        },
        "id": "FnXdm6J2PMWA",
        "outputId": "44978a01-0b63-48bd-e06a-d90876be73c1"
      },
      "execution_count": null,
      "outputs": [
        {
          "output_type": "stream",
          "name": "stdout",
          "text": [
            "6997911\n",
            "['Christiano']\n"
          ]
        }
      ]
    },
    {
      "cell_type": "code",
      "source": [
        "def create_encounter(patient_id):\n",
        "\n",
        "\n",
        "    body = {\n",
        "        \"status\": \"finished\",\n",
        "        \"class\": {\n",
        "            \"system\": \"http://hl7.org/fhir/v3/ActCode\",\n",
        "            \"code\": \"IMP\",\n",
        "            \"display\": \"inpatient encounter\",\n",
        "        },\n",
        "        \"reason\": [\n",
        "            {\n",
        "                \"text\": \"The patient had an abnormal heart rate. She was concerned about this.\"\n",
        "            }\n",
        "        ],\n",
        "        \"subject\": {\"reference\": \"Patient/{}\".format(patient_id)},\n",
        "        \"resourceType\": \"Encounter\",\n",
        "    }\n",
        "\n",
        "\n",
        "    io = StringIO()\n",
        "    json.dump(body, io, indent=2)\n",
        "\n",
        "    return io\n",
        "\n",
        "\n",
        "# [END healthcare_create_encounter]\n",
        "\n",
        "\n"
      ],
      "metadata": {
        "id": "oeuGYcrCfnBA"
      },
      "execution_count": null,
      "outputs": []
    },
    {
      "cell_type": "code",
      "source": [
        "headers = {\"Content-Type\": \"application/fhir+json;charset=utf-8\"}\n",
        "\n",
        "e = create_encounter(patient_id)\n",
        "\n",
        "response = requests.request(\"POST\", url + \"Encounter\", headers=headers, data=create_encounter(patient_id).getvalue())\n",
        "\n",
        "encounter_id = json.loads(response.text)['id']\n",
        "#response.json()\n",
        "\n",
        "print(encounter_id)\n",
        "\n",
        "\n"
      ],
      "metadata": {
        "colab": {
          "base_uri": "https://localhost:8080/"
        },
        "id": "fY8C6XxKRsRO",
        "outputId": "299d9162-3e64-4ad4-9f4f-b4adc57fd4ac"
      },
      "execution_count": null,
      "outputs": [
        {
          "output_type": "stream",
          "name": "stdout",
          "text": [
            "6997907\n"
          ]
        }
      ]
    },
    {
      "cell_type": "code",
      "source": [
        "# [START healthcare_create_observation]\n",
        "def create_observation(patient_id,encounter_id):\n",
        "\n",
        "    # Sets required application/fhir+json header on the request\n",
        "\n",
        "    body = {\n",
        "        \"resourceType\": \"Observation\",\n",
        "        \"code\": {\n",
        "            \"coding\": [\n",
        "                {\n",
        "                    \"system\": \"http://loinc.org\",\n",
        "                    \"code\": \"8867-4\",\n",
        "                    \"display\": \"Heart rate\",\n",
        "                }\n",
        "            ]\n",
        "        },\n",
        "        \"status\": \"final\",\n",
        "        \"subject\": {\"reference\": \"Patient/{}\".format(patient_id)},\n",
        "        \"effectiveDateTime\": \"2019-01-01T00:00:00+00:00\",\n",
        "        \"valueQuantity\": {\"value\": 80, \"unit\": \"bpm\"},\n",
        "        \"context\": {\"reference\": \"Encounter/{}\".format(encounter_id)},\n",
        "    }\n",
        "\n",
        "    io = StringIO()\n",
        "    json.dump(body, io, indent=2)\n",
        "\n",
        "    return io\n"
      ],
      "metadata": {
        "id": "zKddjdhOf74m"
      },
      "execution_count": null,
      "outputs": []
    },
    {
      "cell_type": "code",
      "source": [
        "headers = {\"Content-Type\": \"application/fhir+json;charset=utf-8\"}\n",
        "\n",
        "o = create_observation(patient_id, encounter_id)\n",
        "\n",
        "response = requests.request(\"POST\", url + \"Observation\", headers=headers, data=create_observation(patient_id,encounter_id).getvalue())\n",
        "\n",
        "observation_id = json.loads(response.text)['id']\n",
        "#response.json()\n",
        "\n",
        "print(observation_id)"
      ],
      "metadata": {
        "colab": {
          "base_uri": "https://localhost:8080/"
        },
        "id": "f5sz3FMgTL9s",
        "outputId": "d3e3e71f-8c53-43f6-ae5e-cdf6176be184"
      },
      "execution_count": null,
      "outputs": [
        {
          "output_type": "stream",
          "name": "stdout",
          "text": [
            "6997909\n"
          ]
        }
      ]
    },
    {
      "cell_type": "code",
      "source": [
        "# Option 3_ Dictionary\n",
        "problem = OrderedDict()\n",
        "problem['resourceType'] = 'Condition'\n",
        "#problem['id'] = 'example'\n",
        "problem['patient'] = {\"reference\": \"Patient/{}\".format(patient_id)}\n",
        "#problem['encounter'] = {'reference': 'Encounter/67890'}\n",
        "problem['dateRecorded'] = '2016-04-01T13:00'\n",
        "problem['code'] = {'coding':\n",
        "                       [{'system': 'http://hl7.org/fhir/sid/icd-10-us',\n",
        "                         'code': 'E10.65',\n",
        "                         'display': 'Type 1 Diabetes Mellitus with Hyperglycemia'}]}\n",
        "problem['clinicalStatus'] = \"active\"\n",
        "problem['verificationStatus'] = 'provisional'\n",
        "\n",
        "io = StringIO()\n",
        "json.dump(problem, io, indent=2)\n",
        "print(io.getvalue())\n",
        "\n",
        "diab = io.getvalue()\n",
        "\n",
        "headers = {\"Content-Type\": \"application/fhir+json;charset=utf-8\"}\n",
        "\n",
        "\n",
        "response = requests.request(\"POST\", url + \"Condition\", headers=headers, data=diab)\n",
        "\n",
        "condition_id = json.loads(response.text)['id']\n",
        "#response.json()\n",
        "\n",
        "print(condition_id)"
      ],
      "metadata": {
        "id": "dywQlGmaXU2j",
        "colab": {
          "base_uri": "https://localhost:8080/"
        },
        "outputId": "9a3d28f4-cbb7-4f3a-f007-d3d8f7dfaf59"
      },
      "execution_count": null,
      "outputs": [
        {
          "output_type": "stream",
          "name": "stdout",
          "text": [
            "{\n",
            "  \"resourceType\": \"Condition\",\n",
            "  \"patient\": {\n",
            "    \"reference\": \"Patient/6997904\"\n",
            "  },\n",
            "  \"dateRecorded\": \"2016-04-01T13:00\",\n",
            "  \"code\": {\n",
            "    \"coding\": [\n",
            "      {\n",
            "        \"system\": \"http://hl7.org/fhir/sid/icd-10-us\",\n",
            "        \"code\": \"E10.65\",\n",
            "        \"display\": \"Type 1 Diabetes Mellitus with Hyperglycemia\"\n",
            "      }\n",
            "    ]\n",
            "  },\n",
            "  \"clinicalStatus\": \"active\",\n",
            "  \"verificationStatus\": \"provisional\"\n",
            "}\n",
            "6997910\n"
          ]
        }
      ]
    }
  ]
}