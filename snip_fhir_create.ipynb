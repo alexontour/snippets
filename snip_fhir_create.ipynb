{
  "cells": [
    {
      "cell_type": "markdown",
      "metadata": {
        "id": "view-in-github",
        "colab_type": "text"
      },
      "source": [
        "<a href=\"https://colab.research.google.com/github/alexontour/snippets/blob/main/snip_fhir_create.ipynb\" target=\"_parent\"><img src=\"https://colab.research.google.com/assets/colab-badge.svg\" alt=\"Open In Colab\"/></a>"
      ]
    },
    {
      "cell_type": "markdown",
      "metadata": {
        "id": "M38yeRPGzMtb"
      },
      "source": [
        "**Author: Alexander Kollmann, 08/2022**\n",
        "\n",
        "---\n",
        "\n",
        "**Funktion**\n",
        "\n",
        "Verbindung zu einem FHIR-Server herstellen (Firely, HAPI, etc.)\n",
        "\n",
        "FHIR - Ressorcen schreiben und verknüpfen (versch. Möglichkeiten)\n",
        "\n",
        "> Patient, Encounter, Observation, Condition\n",
        "\n",
        "---\n",
        "\n",
        "**Referenzen**\n",
        "\n",
        "https://colab.research.google.com/drive/1OSuqqACnCqw8h67E7DKDMyIGO1C2qbEq?usp=sharing#scrollTo=rU-lfJob3fOf\n",
        "\n",
        "https://github.com/Alvearie/FHIR-from-Jupyter\n",
        "\n",
        "https://pypi.org/project/fhirclient/\n",
        "\n",
        "https://github.com/intrahealth/client-registry/blob/master/docs/notebooks/load_bulk_data_in_python.ipynb\n",
        "\n",
        "https://github.com/CODA-19/csv-to-fhir/blob/master/demo_csv-json.py \n",
        "\n",
        "https://github.com/Healthedata1/smart_pythonclient_example/blob/master/Argo-patient-example.ipynb\n",
        "\n",
        "https://www.convertcsv.com/xml-to-csv.htm\n",
        "\n",
        "---\n",
        "\n"
      ]
    },
    {
      "cell_type": "code",
      "execution_count": 50,
      "metadata": {
        "id": "LImJnBaNJj5T"
      },
      "outputs": [],
      "source": [
        "import json\n",
        "import requests\n",
        "from collections import OrderedDict\n",
        "from io import StringIO\n",
        "from IPython.display import IFrame"
      ]
    },
    {
      "cell_type": "code",
      "execution_count": 51,
      "metadata": {
        "id": "Nzln2QiRJmQ_"
      },
      "outputs": [],
      "source": [
        "# Base URL zum FHIR-Server\n",
        "# https://confluence.hl7.org/display/FHIR/Public+Test+Servers\n",
        "\n",
        "url = \"http://hapi.fhir.org/baseR4/\"\n",
        "#url = 'https://server.fire.ly/'\n",
        "\n",
        "# https://hub.docker.com/r/hapiproject/hapi\n",
        "#url = \"http://localhost:8080/fhir/\"\n",
        "\n",
        "# Header definieren\n",
        "headers = {\"Content-Type\": \"application/fhir+json;charset=utf-8\"}"
      ]
    },
    {
      "cell_type": "code",
      "execution_count": 52,
      "metadata": {
        "id": "MFVUP0ptoq8C"
      },
      "outputs": [],
      "source": [
        "# Zufalls-Wert für Namen generieren um Dupletten zu vermeiden\n",
        "\n",
        "import random\n",
        "import string\n",
        "\n",
        "def get_random_string(length):\n",
        "    # choose from all lowercase letter\n",
        "    letters = string.ascii_letters\n",
        "    result_str = ''.join(random.choice(letters) for i in range(length))\n",
        "    return result_str"
      ]
    },
    {
      "cell_type": "markdown",
      "metadata": {
        "id": "UC4QrIcxm05F"
      },
      "source": [
        "# **Patient** \n",
        "\n",
        "https://www.hl7.org/fhir/patient.html\n",
        "\n",
        "Demographics and other administrative information about an individual or animal receiving care or other health-related services. This Resource covers data about patients and animals involved in a wide range of health-related activities."
      ]
    },
    {
      "cell_type": "code",
      "execution_count": 53,
      "metadata": {
        "colab": {
          "base_uri": "https://localhost:8080/",
          "height": 371
        },
        "id": "buzROHnEPSqO",
        "outputId": "22d4d205-1243-4350-b62e-559987e82750"
      },
      "outputs": [
        {
          "output_type": "execute_result",
          "data": {
            "text/plain": [
              "<IPython.lib.display.IFrame at 0x7f8e27d5b710>"
            ],
            "text/html": [
              "\n",
              "        <iframe\n",
              "            width=\"1200\"\n",
              "            height=\"330\"\n",
              "            src=\"https://www.hl7.org/fhir/patient.html\"\n",
              "            frameborder=\"0\"\n",
              "            allowfullscreen\n",
              "        ></iframe>\n",
              "        "
            ]
          },
          "metadata": {},
          "execution_count": 53
        }
      ],
      "source": [
        "\n",
        "# HL7 FHIR defines a set of \"resources\" for exchanging information.\n",
        "IFrame('https://www.hl7.org/fhir/patient.html', width=1200, height=330)"
      ]
    },
    {
      "cell_type": "code",
      "execution_count": 54,
      "metadata": {
        "colab": {
          "base_uri": "https://localhost:8080/",
          "height": 371
        },
        "id": "Wk8Vmo30gkJx",
        "outputId": "e0d8f618-3c11-4150-caa7-f72c38586974"
      },
      "outputs": [
        {
          "output_type": "execute_result",
          "data": {
            "text/plain": [
              "<IPython.lib.display.IFrame at 0x7f8e27d4edd0>"
            ],
            "text/html": [
              "\n",
              "        <iframe\n",
              "            width=\"1200\"\n",
              "            height=\"330\"\n",
              "            src=\"https://jsonformatter.org/jsbeautifier\"\n",
              "            frameborder=\"0\"\n",
              "            allowfullscreen\n",
              "        ></iframe>\n",
              "        "
            ]
          },
          "metadata": {},
          "execution_count": 54
        }
      ],
      "source": [
        "# JSON Formatieren und Editiern\n",
        "IFrame('https://jsonformatter.org/jsbeautifier', width=1200, height=330)"
      ]
    },
    {
      "cell_type": "code",
      "execution_count": 55,
      "metadata": {
        "id": "kiVFzH4rJqhK"
      },
      "outputs": [],
      "source": [
        "# Option 1: JSON - Ressouce erstellen lt. Datenmodell\n",
        "# json.load() takes a file object and returns the json object. It is used to read JSON encoded data from a file and convert it into a \n",
        "# Python dictionary and deserialize a file itself i.e. it accepts a file object.\n",
        "\n",
        "patient = json.loads(\"\"\"{\n",
        "   \"resourceType\":\"Patient\",\n",
        "   \"name\":[\n",
        "      {\n",
        "         \"given\": \"FHWN\",\n",
        "         \"family\": \"HCI2022\",\n",
        "         \"text\":\"FHWN HCI2022\",\n",
        "         \"use\": \"official\"\n",
        "      }\n",
        "   ],\n",
        "   \"gender\":\"male\",\n",
        "   \"birthDate\":\"2022-12-05\"\n",
        "}\"\"\")"
      ]
    },
    {
      "cell_type": "code",
      "execution_count": 56,
      "metadata": {
        "id": "JvLVovRZjZbU"
      },
      "outputs": [],
      "source": [
        "# JSON von URL laden\n",
        "# url_austrian_patient = \"https://raw.githubusercontent.com/alexontour/snippets/main/austrian_patient_example.json\"\n",
        "# patient = requests.get(url_austrian_patient).json()\n",
        "\n",
        "# dict in json umwandeln\n",
        "# patient = json.dumps(patient, indent = 2)\n"
      ]
    },
    {
      "cell_type": "code",
      "execution_count": 57,
      "metadata": {
        "colab": {
          "base_uri": "https://localhost:8080/"
        },
        "id": "ldbyaqlgJ2cY",
        "outputId": "2c4e31ca-a28d-46cb-ea03-0621bf1f20ba"
      },
      "outputs": [
        {
          "output_type": "stream",
          "name": "stdout",
          "text": [
            "Patient-ID: 7185196\n"
          ]
        }
      ],
      "source": [
        "# FHIR Ressource an FHIR-Server senden (POST)\n",
        "response = requests.request(\"POST\", url + \"Patient\", headers=headers, data=str(patient))\n",
        "\n",
        "# Ergebnis (Response) verarbeiten\n",
        "patient_id = json.loads(response.text)['id']\n",
        "patient_name = json.loads(response.text)['name']\n",
        "#response.json()\n",
        "\n",
        "print(\"Patient-ID: \" + patient_id)\n",
        "#print(patient_name[0]['given'])"
      ]
    },
    {
      "cell_type": "code",
      "execution_count": 58,
      "metadata": {
        "id": "5iv-UmxWsrzj"
      },
      "outputs": [],
      "source": [
        "#print(response.text)"
      ]
    },
    {
      "cell_type": "code",
      "execution_count": 59,
      "metadata": {
        "id": "qSAAYrmvOjjn"
      },
      "outputs": [],
      "source": [
        "# Option 2: Erzeugen der FHIR-Ressource als Python-Dictionary in eine Funktion auslagern\n",
        "# Dictionaries are used to store data values in key:value pairs. A dictionary is a collection which is ordered*, changeable and do not allow duplicates.\n",
        "\n",
        "def create_patient():\n",
        "\n",
        "    # Random Namenszusatz für Eindeutigkeit\n",
        "    rand = get_random_string(5)\n",
        "\n",
        "    body = {\n",
        "        \"name\":[\n",
        "            {\n",
        "              \"given\": \"Fachhochschule\",\n",
        "              \"family\": \"WienerNeustadt{}\".format(rand),\n",
        "              \"text\":\"Fachhochschule WienerNeustadt{}\".format(rand),\n",
        "              \"use\": \"official\"\n",
        "            }\n",
        "        ],\n",
        "        \"birthDate\":\"2022-12-05\",\n",
        "        \"gender\": \"female\",\n",
        "        \"resourceType\": \"Patient\",\n",
        "    }\n",
        "\n",
        "    io = StringIO()\n",
        "    json.dump(body, io, indent=2)\n",
        "\n",
        "    return io\n"
      ]
    },
    {
      "cell_type": "code",
      "execution_count": 60,
      "metadata": {
        "colab": {
          "base_uri": "https://localhost:8080/"
        },
        "id": "FnXdm6J2PMWA",
        "outputId": "9957d094-e16c-4068-c9e7-8b54416b82aa"
      },
      "outputs": [
        {
          "output_type": "stream",
          "name": "stdout",
          "text": [
            "Patient-Name: [{'use': 'official', 'text': 'Fachhochschule WienerNeustadtNJrLm', 'family': 'WienerNeustadtNJrLm', 'given': ['Fachhochschule']}]\n",
            "Patient-ID: 7185197\n"
          ]
        }
      ],
      "source": [
        "# FHIR Ressource über Funktionsaufruf erstellen unn an FHIR-Server senden (POST)\n",
        "response = requests.request(\"POST\", url + \"Patient\", headers=headers, data=create_patient().getvalue())\n",
        "\n",
        "patient_id = json.loads(response.text)['id']\n",
        "patient_name = json.loads(response.text)['name']\n",
        "\n",
        "print(\"Patient-Name: \"+ str(patient_name))\n",
        "print(\"Patient-ID: \"+ patient_id)"
      ]
    },
    {
      "cell_type": "markdown",
      "metadata": {
        "id": "PR2stYl7oF7a"
      },
      "source": [
        "# **Encounter**\n",
        "\n",
        "https://www.hl7.org/fhir/encounter.html\n",
        "\n",
        "A patient encounter is further characterized by the setting in which it takes place. Amongst them are ambulatory, emergency, home health, inpatient and virtual encounters. An Encounter encompasses the lifecycle from pre-admission, the actual encounter (for ambulatory encounters), and admission, stay and discharge (for inpatient encounters). During the encounter the patient may move from practitioner to practitioner and location to location."
      ]
    },
    {
      "cell_type": "code",
      "execution_count": 61,
      "metadata": {
        "colab": {
          "base_uri": "https://localhost:8080/",
          "height": 371
        },
        "id": "wT_PgSyrcMO0",
        "outputId": "3fdbd546-adf6-4d34-a556-3c0c64496a60"
      },
      "outputs": [
        {
          "output_type": "execute_result",
          "data": {
            "text/plain": [
              "<IPython.lib.display.IFrame at 0x7f8e27d4c0d0>"
            ],
            "text/html": [
              "\n",
              "        <iframe\n",
              "            width=\"1200\"\n",
              "            height=\"330\"\n",
              "            src=\"https://www.hl7.org/fhir/encounter.html\"\n",
              "            frameborder=\"0\"\n",
              "            allowfullscreen\n",
              "        ></iframe>\n",
              "        "
            ]
          },
          "metadata": {},
          "execution_count": 61
        }
      ],
      "source": [
        "# HL7 FHIR defines a set of \"resources\" for exchanging information.\n",
        "IFrame('https://www.hl7.org/fhir/encounter.html', width=1200, height=330)"
      ]
    },
    {
      "cell_type": "code",
      "execution_count": 62,
      "metadata": {
        "colab": {
          "base_uri": "https://localhost:8080/"
        },
        "id": "oeuGYcrCfnBA",
        "outputId": "235dd18c-c358-44ae-f9fd-6deadd868049"
      },
      "outputs": [
        {
          "output_type": "stream",
          "name": "stdout",
          "text": [
            "Encounter-ID: 7185198\n"
          ]
        }
      ],
      "source": [
        "def create_encounter(patient_id):\n",
        "\n",
        "    body = {\n",
        "        \"status\": \"finished\",\n",
        "        \"class\": {\n",
        "          \"system\": \"http://terminology.hl7.org/CodeSystem/v3-ActCode\",\n",
        "          \"code\": \"AMB\",\n",
        "          \"display\": \"ambulatory\"\n",
        "          },\n",
        "        \"type\": [\n",
        "          {\n",
        "            \"coding\": [\n",
        "              {\n",
        "                \"system\": \"http://snomed.info/sct\",\n",
        "                \"code\": \"270427003\",\n",
        "                \"display\": \"Patient-initiated encounter\"\n",
        "              }\n",
        "            ]\n",
        "          }\n",
        "        ],\n",
        " #       \"class\": {\n",
        " #           \"system\": \"http://hl7.org/fhir/v3/ActCode\",\n",
        " #           \"code\": \"IMP\",\n",
        " #           \"display\": \"inpatient encounter\",\n",
        " #       },\n",
        "        \"reason\": [\n",
        "            {\n",
        "                \"text\": \"The patient had an abnormal heart rate. She was concerned about this.\"\n",
        "            }\n",
        "        ],\n",
        "        \"subject\": {\"reference\": \"Patient/{}\".format(patient_id)},\n",
        "        \"text\": {\n",
        "          \"status\": \"additional\",\n",
        "          \"div\": \"<div>Encounter zum Patienten:{}\".format(patient_name)+ \"</div>\"\n",
        "        },\n",
        "        \"resourceType\": \"Encounter\",\n",
        "    }\n",
        "\n",
        "    io = StringIO()\n",
        "    json.dump(body, io, indent=2)\n",
        "\n",
        "    return io\n",
        "\n",
        "response = requests.request(\"POST\", url + \"Encounter\", headers=headers, data=create_encounter(patient_id).getvalue())\n",
        "\n",
        "encounter_id = json.loads(response.text)['id']\n",
        "#response.json()\n",
        "\n",
        "print(\"Encounter-ID: \" + encounter_id)"
      ]
    },
    {
      "cell_type": "markdown",
      "metadata": {
        "id": "q2eEmVATo2dc"
      },
      "source": [
        "# **Observation**\n",
        "\n",
        "https://www.hl7.org/fhir/observation.html\n",
        "\n",
        "Measurements and simple assertions made about a patient, device or other subject. Observations are a central element in healthcare, used to support diagnosis, monitor progress, determine baselines and patterns and even capture demographic characteristics."
      ]
    },
    {
      "cell_type": "code",
      "execution_count": 63,
      "metadata": {
        "colab": {
          "base_uri": "https://localhost:8080/",
          "height": 371
        },
        "id": "HaQUe49ScPQH",
        "outputId": "3fa6cd62-862b-4f02-ab76-faa493c953ab"
      },
      "outputs": [
        {
          "output_type": "execute_result",
          "data": {
            "text/plain": [
              "<IPython.lib.display.IFrame at 0x7f8e27d41590>"
            ],
            "text/html": [
              "\n",
              "        <iframe\n",
              "            width=\"1200\"\n",
              "            height=\"330\"\n",
              "            src=\"https://www.hl7.org/fhir/observation.html\"\n",
              "            frameborder=\"0\"\n",
              "            allowfullscreen\n",
              "        ></iframe>\n",
              "        "
            ]
          },
          "metadata": {},
          "execution_count": 63
        }
      ],
      "source": [
        "# HL7 FHIR defines a set of \"resources\" for exchanging information.\n",
        "IFrame('https://www.hl7.org/fhir/observation.html', width=1200, height=330)"
      ]
    },
    {
      "cell_type": "code",
      "execution_count": 64,
      "metadata": {
        "colab": {
          "base_uri": "https://localhost:8080/"
        },
        "id": "zKddjdhOf74m",
        "outputId": "7d89e88f-36d9-42de-f4ad-f5d78a0030ad"
      },
      "outputs": [
        {
          "output_type": "stream",
          "name": "stdout",
          "text": [
            "Observation-ID: 7185199\n"
          ]
        }
      ],
      "source": [
        "# die Observation referenziert auf einen Patienten und einen Encounter\n",
        "\n",
        "def create_observation(patient_id,encounter_id):\n",
        "\n",
        "    body = {\n",
        "        \"resourceType\": \"Observation\",\n",
        "        \"code\": {\n",
        "            \"coding\": [\n",
        "                {\n",
        "                    \"system\": \"http://loinc.org\",\n",
        "                    \"code\": \"8867-4\",\n",
        "                    \"display\": \"Heart rate\",\n",
        "                }\n",
        "            ]\n",
        "        },\n",
        "        \"status\": \"final\",\n",
        "        \"subject\": {\"reference\": \"Patient/{}\".format(patient_id)},\n",
        "        \"effectiveDateTime\": \"2019-01-01T00:00:00+00:00\",\n",
        "        \"valueQuantity\": {\"value\": 80, \"unit\": \"bpm\"},\n",
        "        \"context\": {\"reference\": \"Encounter/{}\".format(encounter_id)},\n",
        "    }\n",
        "\n",
        "    io = StringIO()\n",
        "    json.dump(body, io, indent=2)\n",
        "\n",
        "    return io\n",
        "\n",
        "response = requests.request(\"POST\", url + \"Observation\", headers=headers, data=create_observation(patient_id,encounter_id).getvalue())\n",
        "\n",
        "observation_id = json.loads(response.text)['id']\n",
        "#response.json()\n",
        "\n",
        "print(\"Observation-ID: \" + observation_id)"
      ]
    },
    {
      "cell_type": "markdown",
      "metadata": {
        "id": "cffUMcH6pVAX"
      },
      "source": [
        "# **Condition**\n",
        "\n",
        "https://www.hl7.org/fhir/condition.html\n",
        "\n",
        "A clinical condition, problem, diagnosis, or other event, situation, issue, or clinical concept that has risen to a level of concern. This resource is used to record detailed information about a condition, problem, diagnosis, or other event, situation, issue, or clinical concept that has risen to a level of concern."
      ]
    },
    {
      "cell_type": "code",
      "execution_count": 65,
      "metadata": {
        "colab": {
          "base_uri": "https://localhost:8080/",
          "height": 371
        },
        "id": "SVBehzTgcSIS",
        "outputId": "d4bd9e20-4588-4890-a13c-1d46a18a3bf7"
      },
      "outputs": [
        {
          "output_type": "execute_result",
          "data": {
            "text/plain": [
              "<IPython.lib.display.IFrame at 0x7f8e27d22fd0>"
            ],
            "text/html": [
              "\n",
              "        <iframe\n",
              "            width=\"1200\"\n",
              "            height=\"330\"\n",
              "            src=\"https://www.hl7.org/fhir/condition.html\"\n",
              "            frameborder=\"0\"\n",
              "            allowfullscreen\n",
              "        ></iframe>\n",
              "        "
            ]
          },
          "metadata": {},
          "execution_count": 65
        }
      ],
      "source": [
        "# HL7 FHIR defines a set of \"resources\" for exchanging information.\n",
        "IFrame('https://www.hl7.org/fhir/condition.html', width=1200, height=330)"
      ]
    },
    {
      "cell_type": "code",
      "execution_count": 71,
      "metadata": {
        "colab": {
          "base_uri": "https://localhost:8080/"
        },
        "id": "dywQlGmaXU2j",
        "outputId": "ed97c2ce-1a2e-4dbc-9b81-baba8017e1c8"
      },
      "outputs": [
        {
          "output_type": "stream",
          "name": "stdout",
          "text": [
            "Condition-ID: 7185206\n"
          ]
        }
      ],
      "source": [
        "# Option 3: FHIR-Ressource über Orderd-Dictionary erstellen\n",
        "# An OrderedDict is a dictionary subclass that remembers the order that keys were first inserted. \n",
        "# A regular dict doesn’t track the insertion order and iterating it gives the values in an arbitrary order. By contrast, the order the items are inserted is remembered by OrderedDict.\n",
        "\n",
        "cond = OrderedDict()\n",
        "cond['resourceType'] = 'Condition'\n",
        "#cond['id'] = 'example'\n",
        "cond['subject'] = {\"reference\": \"Patient/{}\".format(patient_id)}\n",
        "cond['encounter'] = {'reference': 'Encounter/{}'.format(encounter_id)}\n",
        "cond['dateRecorded'] = '2021-04-01T13:00'\n",
        "cond['code'] = {'coding':\n",
        "                       [{'system': 'http://hl7.org/fhir/sid/icd-10-us',\n",
        "                         'code': 'E10.65',\n",
        "                         'display': 'Type 1 Diabetes Mellitus with Hyperglycemia'}]}\n",
        "cond['clinicalStatus'] = \"active\"\n",
        "cond['verificationStatus'] = 'provisional'\n",
        "\n",
        "io = StringIO()\n",
        "json.dump(cond, io, indent=2)\n",
        "#print(io.getvalue())\n",
        "\n",
        "response = requests.request(\"POST\", url + \"Condition\", headers=headers, data=io.getvalue())\n",
        "\n",
        "condition_id = json.loads(response.text)['id']\n",
        "#response.json()\n",
        "\n",
        "print(\"Condition-ID: \" + condition_id)"
      ]
    },
    {
      "cell_type": "markdown",
      "metadata": {
        "id": "Ki1wqZGUhO1i"
      },
      "source": [
        "# Ergebnis"
      ]
    },
    {
      "cell_type": "code",
      "execution_count": 67,
      "metadata": {
        "colab": {
          "base_uri": "https://localhost:8080/"
        },
        "id": "qrxKH_HZhSGW",
        "outputId": "e2621c4f-3ace-4972-e74d-fe150b786969"
      },
      "outputs": [
        {
          "output_type": "stream",
          "name": "stdout",
          "text": [
            "Patient-Name: [{'use': 'official', 'text': 'Fachhochschule WienerNeustadtNJrLm', 'family': 'WienerNeustadtNJrLm', 'given': ['Fachhochschule']}]\n",
            "Patient-ID: 7185197\n",
            "Encounter-ID: 7185198\n",
            "Condition-ID: 7185200\n",
            "Observation-ID: 7185199\n"
          ]
        }
      ],
      "source": [
        "print(\"Patient-Name: \" + str(patient_name))\n",
        "print(\"Patient-ID: \" + patient_id)\n",
        "print(\"Encounter-ID: \" + encounter_id)\n",
        "print(\"Condition-ID: \" + condition_id)\n",
        "print(\"Observation-ID: \" + observation_id)"
      ]
    },
    {
      "cell_type": "markdown",
      "source": [
        "Ergebnis abrufbar unter: http://clinfhir.com/patientViewer.html\n",
        "\n",
        "siehe auch: http://gb2.clinfhir.com/\n",
        "\n",
        "![img_fhir.JPG](data:image/jpeg;base64,/9j/4AAQSkZJRgABAQEAkACQAAD/4RDmRXhpZgAATU0AKgAAAAgABAE7AAIAAAAJAAAISodpAAQAAAABAAAIVJydAAEAAAASAAAQzOocAAcAAAgMAAAAPgAAAAAc6gAAAAgAAAAAAAAAAAAAAAAAAAAAAAAAAAAAAAAAAAAAAAAAAAAAAAAAAAAAAAAAAAAAAAAAAAAAAAAAAAAAAAAAAAAAAAAAAAAAAAAAAAAAAAAAAAAAAAAAAAAAAAAAAAAAAAAAAAAAAAAAAAAAAAAAAAAAAAAAAAAAAAAAAAAAAAAAAAAAAAAAAAAAAAAAAAAAAAAAAAAAAAAAAAAAAAAAAAAAAAAAAAAAAAAAAAAAAAAAAAAAAAAAAAAAAAAAAAAAAAAAAAAAAAAAAAAAAAAAAAAAAAAAAAAAAAAAAAAAAAAAAAAAAAAAAAAAAAAAAAAAAAAAAAAAAAAAAAAAAAAAAAAAAAAAAAAAAAAAAAAAAAAAAAAAAAAAAAAAAAAAAAAAAAAAAAAAAAAAAAAAAAAAAAAAAAAAAAAAAAAAAAAAAAAAAAAAAAAAAAAAAAAAAAAAAAAAAAAAAAAAAAAAAAAAAAAAAAAAAAAAAAAAAAAAAAAAAAAAAAAAAAAAAAAAAAAAAAAAAAAAAAAAAAAAAAAAAAAAAAAAAAAAAAAAAAAAAAAAAAAAAAAAAAAAAAAAAAAAAAAAAAAAAAAAAAAAAAAAAAAAAAAAAAAAAAAAAAAAAAAAAAAAAAAAAAAAAAAAAAAAAAAAAAAAAAAAAAAAAAAAAAAAAAAAAAAAAAAAAAAAAAAAAAAAAAAAAAAAAAAAAAAAAAAAAAAAAAAAAAAAAAAAAAAAAAAAAAAAAAAAAAAAAAAAAAAAAAAAAAAAAAAAAAAAAAAAAAAAAAAAAAAAAAAAAAAAAAAAAAAAAAAAAAAAAAAAAAAAAAAAAAAAAAAAAAAAAAAAAAAAAAAAAAAAAAAAAAAAAAAAAAAAAAAAAAAAAAAAAAAAAAAAAAAAAAAAAAAAAAAAAAAAAAAAAAAAAAAAAAAAAAAAAAAAAAAAAAAAAAAAAAAAAAAAAAAAAAAAAAAAAAAAAAAAAAAAAAAAAAAAAAAAAAAAAAAAAAAAAAAAAAAAAAAAAAAAAAAAAAAAAAAAAAAAAAAAAAAAAAAAAAAAAAAAAAAAAAAAAAAAAAAAAAAAAAAAAAAAAAAAAAAAAAAAAAAAAAAAAAAAAAAAAAAAAAAAAAAAAAAAAAAAAAAAAAAAAAAAAAAAAAAAAAAAAAAAAAAAAAAAAAAAAAAAAAAAAAAAAAAAAAAAAAAAAAAAAAAAAAAAAAAAAAAAAAAAAAAAAAAAAAAAAAAAAAAAAAAAAAAAAAAAAAAAAAAAAAAAAAAAAAAAAAAAAAAAAAAAAAAAAAAAAAAAAAAAAAAAAAAAAAAAAAAAAAAAAAAAAAAAAAAAAAAAAAAAAAAAAAAAAAAAAAAAAAAAAAAAAAAAAAAAAAAAAAAAAAAAAAAAAAAAAAAAAAAAAAAAAAAAAAAAAAAAAAAAAAAAAAAAAAAAAAAAAAAAAAAAAAAAAAAAAAAAAAAAAAAAAAAAAAAAAAAAAAAAAAAAAAAAAAAAAAAAAAAAAAAAAAAAAAAAAAAAAAAAAAAAAAAAAAAAAAAAAAAAAAAAAAAAAAAAAAAAAAAAAAAAAAAAAAAAAAAAAAAAAAAAAAAAAAAAAAAAAAAAAAAAAAAAAAAAAAAAAAAAAAAAAAAAAAAAAAAAAAAAAAAAAAAAAAAAAAAAAAAAAAAAAAAAAAAAAAAAAAAAAAAAAAAAAAAAAAAAAAAAAAAAAAAAAAAAAAAAAAAAAAAAAAAAAAAAAAAAAAAAAAAAAAAAAAAAAAAAAAAAAAAAAAAAAAAAAAAAAAAAAAAAAAAAAAAAAAAAAAAAAAAAAAAAAAAAAAAAAAAAAAAAAAAAAAAAAAAAAAAAAAAAAAAAAAAAAAAAAAAAAAAAAAAAAAAAAAAAAAAAAAAAAAAAAAAAAAAAAAAAAAAAAAAAAAAAAAAAAAAAAAAAAAAAAAAAAAAAAAAAAAAAAAAAAAAAAAAAAAAAAAAAAAAAAAAAAAAAAAAAAAAAAAAAAAAAAAAAAAAAAAAAAAAAAAAAAAAAAAAAAAAAAAAAAAAAAAAAAAAAAAAAAAAAAAAAAAAAAAAAAAAAAAAAAAAAAAAAAAAAAAAAAAAAAAAAAAAAAAAAAAAAAAAAAAAAAAAAAAAAAAAAAAAAAAAAAAAAAAAAAAAAAAAAAAAAAAAAAAAAAAAAAAAAAAAAAAAAAAAAAAAAAAAAAAAAAAAAAAAAAAAAAAAAAAAAAAAAAAAAAAAAAAAAAAAAAAAAAAAAAAAAAAAAAAAAAAAAAAAAAAAAAAAAAAAAAAAAAAAAAAAAAAAAAAAAAAAAAAAAAAAAAAAAAAAAAAAAAAAAAAAAAAAAAAAAAAAAAAAAAAAAAAAAAAAAAAAAAAAAAAAAAAAAAAAAAAAAAAAAAAAAAAAAAAAAAAAAAAAAAAAAAAAAAAAAAAAAAAAAAAAAAAAAAAAAAAAAAAAAAAAAAAAAAAAAAAAAAAAAAAAAAAAAAAAAAAAAAAAAAAAAAAAAAAAAAAAAAAAAAAAAAAAAAAAAAAAAAAAAAAAAAAAAAAAAAAAAAAAAAAAAAAAAAAAAAAAAAAAAAAAAAAAAAAAAAAAAAAAAAAAAAAAAAAAAAAAAAAAAAAAAAAAAAAAAAAAAAAAAAAAAAAAAAAAAAAAAAAAAAAAAAAAAAAAAAAAAAAAAAAAAAAAAAAAAAAAAAAAAAAAAAAAAAAAAAAAAAAAAAAAAAAAAAAAAAAAAAAAAAAAAAAAAAAAAAAAAAAAAAAAAAAAAAEFMS09MTDAxAAAABZADAAIAAAAUAAAQopAEAAIAAAAUAAAQtpKRAAIAAAADNDQAAJKSAAIAAAADNDQAAOocAAcAAAgMAAAIlgAAAAAc6gAAAAgAAAAAAAAAAAAAAAAAAAAAAAAAAAAAAAAAAAAAAAAAAAAAAAAAAAAAAAAAAAAAAAAAAAAAAAAAAAAAAAAAAAAAAAAAAAAAAAAAAAAAAAAAAAAAAAAAAAAAAAAAAAAAAAAAAAAAAAAAAAAAAAAAAAAAAAAAAAAAAAAAAAAAAAAAAAAAAAAAAAAAAAAAAAAAAAAAAAAAAAAAAAAAAAAAAAAAAAAAAAAAAAAAAAAAAAAAAAAAAAAAAAAAAAAAAAAAAAAAAAAAAAAAAAAAAAAAAAAAAAAAAAAAAAAAAAAAAAAAAAAAAAAAAAAAAAAAAAAAAAAAAAAAAAAAAAAAAAAAAAAAAAAAAAAAAAAAAAAAAAAAAAAAAAAAAAAAAAAAAAAAAAAAAAAAAAAAAAAAAAAAAAAAAAAAAAAAAAAAAAAAAAAAAAAAAAAAAAAAAAAAAAAAAAAAAAAAAAAAAAAAAAAAAAAAAAAAAAAAAAAAAAAAAAAAAAAAAAAAAAAAAAAAAAAAAAAAAAAAAAAAAAAAAAAAAAAAAAAAAAAAAAAAAAAAAAAAAAAAAAAAAAAAAAAAAAAAAAAAAAAAAAAAAAAAAAAAAAAAAAAAAAAAAAAAAAAAAAAAAAAAAAAAAAAAAAAAAAAAAAAAAAAAAAAAAAAAAAAAAAAAAAAAAAAAAAAAAAAAAAAAAAAAAAAAAAAAAAAAAAAAAAAAAAAAAAAAAAAAAAAAAAAAAAAAAAAAAAAAAAAAAAAAAAAAAAAAAAAAAAAAAAAAAAAAAAAAAAAAAAAAAAAAAAAAAAAAAAAAAAAAAAAAAAAAAAAAAAAAAAAAAAAAAAAAAAAAAAAAAAAAAAAAAAAAAAAAAAAAAAAAAAAAAAAAAAAAAAAAAAAAAAAAAAAAAAAAAAAAAAAAAAAAAAAAAAAAAAAAAAAAAAAAAAAAAAAAAAAAAAAAAAAAAAAAAAAAAAAAAAAAAAAAAAAAAAAAAAAAAAAAAAAAAAAAAAAAAAAAAAAAAAAAAAAAAAAAAAAAAAAAAAAAAAAAAAAAAAAAAAAAAAAAAAAAAAAAAAAAAAAAAAAAAAAAAAAAAAAAAAAAAAAAAAAAAAAAAAAAAAAAAAAAAAAAAAAAAAAAAAAAAAAAAAAAAAAAAAAAAAAAAAAAAAAAAAAAAAAAAAAAAAAAAAAAAAAAAAAAAAAAAAAAAAAAAAAAAAAAAAAAAAAAAAAAAAAAAAAAAAAAAAAAAAAAAAAAAAAAAAAAAAAAAAAAAAAAAAAAAAAAAAAAAAAAAAAAAAAAAAAAAAAAAAAAAAAAAAAAAAAAAAAAAAAAAAAAAAAAAAAAAAAAAAAAAAAAAAAAAAAAAAAAAAAAAAAAAAAAAAAAAAAAAAAAAAAAAAAAAAAAAAAAAAAAAAAAAAAAAAAAAAAAAAAAAAAAAAAAAAAAAAAAAAAAAAAAAAAAAAAAAAAAAAAAAAAAAAAAAAAAAAAAAAAAAAAAAAAAAAAAAAAAAAAAAAAAAAAAAAAAAAAAAAAAAAAAAAAAAAAAAAAAAAAAAAAAAAAAAAAAAAAAAAAAAAAAAAAAAAAAAAAAAAAAAAAAAAAAAAAAAAAAAAAAAAAAAAAAAAAAAAAAAAAAAAAAAAAAAAAAAAAAAAAAAAAAAAAAAAAAAAAAAAAAAAAAAAAAAAAAAAAAAAAAAAAAAAAAAAAAAAAAAAAAAAAAAAAAAAAAAAAAAAAAAAAAAAAAAAAAAAAAAAAAAAAAAAAAAAAAAAAAAAAAAAAAAAAAAAAAAAAAAAAAAAAAAAAAAAAAAAAAAAAAAAAAAAAAAAAAAAAAAAAAAAAAAAAAAAAAAAAAAAAAAAAAAAAAAAAAAAAAAAAAAAAAAAAAAAAAAAAAAAAAAAAAAAAAAAAAAAAAAAAAAAAAAAAAAAAAAAAAAAAAAAAAAAAAAAAAAAAAAAAAAAAAAAAAAAAAAAAAAAAAAAAAAAAAAAAAAAAAAAAAAAAAAAAAAAAAAAAAAAAAAAAAAAAAAAAAAAAAAAAAAAAAAAAAAAAAAAAAAAAAAAAAAAAAAAAAAAAAAAAAAAAAAAAAAAAAAAAAAAAAAAAAAAAAAAAAAAAAAAAAAAAAAAAAAAAAAAAAAAAAAAAAAAAAAAAAAAAAAAAAAAAAAAAAAAAAAAAAAAAAAAAAAAAAAAAAAAAAAAAAAAAAAAAAAAAAAAAAAAAAAAAAAAAAAAAAAAAAAAAAAAAAAAAAAAAAAAAAAAAAAAAAAAAAAAAAAAAAAAAAAAAAAAAAAAAAAAAAAAAAAAAAAAAAAAAAAAAAAAAAAAAAAAAAAAAAAAAAAAAAAAAAAAAAAAAAAAAAAAAAAAAAAAAAAAAAAAAAAAAAAAAAAAAAAAAAAAAAAAAAAAAAAAAAAAAAAAAAAAAAAAAAAAAAAAAAAAAAAAAAAAAAAAAAAAAAAAAAAAAAAAAAAAAAAAAAAAAAAAAAAAAAAAAAAAAAAAAAAAAAAAAAAAAAAAAAAAAAAAAAAAAAAAAAAAAAAAAAAAAAAAAAAAAAAAAAAAAAAAAAAAAAAAAAAAAAAAAAAAAAAAAAAAAAAAAAAAAAAAAAAAAAAAAAAAAAAAAAAAAAAAAAAAAAAAAAAAAAAAAAAAAAAAAAAAAAAAAAAAAAAAAAAAAAAAAAAAAAAAAAAAAAAAAAAAAAAAAAAAAAAAAAAAAAAAAAAAAAAAAAAAAAAAAAAAAAAAAAAAAAAAAAAAAAAAAAAAAAAAAAAAAAAAAAADIwMjI6MTI6MDUgMTY6MDA6NDgAMjAyMjoxMjowNSAxNjowMDo0OAAAAEEATABLAE8ATABMADAAMQAAAP/hCxtodHRwOi8vbnMuYWRvYmUuY29tL3hhcC8xLjAvADw/eHBhY2tldCBiZWdpbj0n77u/JyBpZD0nVzVNME1wQ2VoaUh6cmVTek5UY3prYzlkJz8+DQo8eDp4bXBtZXRhIHhtbG5zOng9ImFkb2JlOm5zOm1ldGEvIj48cmRmOlJERiB4bWxuczpyZGY9Imh0dHA6Ly93d3cudzMub3JnLzE5OTkvMDIvMjItcmRmLXN5bnRheC1ucyMiPjxyZGY6RGVzY3JpcHRpb24gcmRmOmFib3V0PSJ1dWlkOmZhZjViZGQ1LWJhM2QtMTFkYS1hZDMxLWQzM2Q3NTE4MmYxYiIgeG1sbnM6ZGM9Imh0dHA6Ly9wdXJsLm9yZy9kYy9lbGVtZW50cy8xLjEvIi8+PHJkZjpEZXNjcmlwdGlvbiByZGY6YWJvdXQ9InV1aWQ6ZmFmNWJkZDUtYmEzZC0xMWRhLWFkMzEtZDMzZDc1MTgyZjFiIiB4bWxuczp4bXA9Imh0dHA6Ly9ucy5hZG9iZS5jb20veGFwLzEuMC8iPjx4bXA6Q3JlYXRlRGF0ZT4yMDIyLTEyLTA1VDE2OjAwOjQ4LjQ0MzwveG1wOkNyZWF0ZURhdGU+PC9yZGY6RGVzY3JpcHRpb24+PHJkZjpEZXNjcmlwdGlvbiByZGY6YWJvdXQ9InV1aWQ6ZmFmNWJkZDUtYmEzZC0xMWRhLWFkMzEtZDMzZDc1MTgyZjFiIiB4bWxuczpkYz0iaHR0cDovL3B1cmwub3JnL2RjL2VsZW1lbnRzLzEuMS8iPjxkYzpjcmVhdG9yPjxyZGY6U2VxIHhtbG5zOnJkZj0iaHR0cDovL3d3dy53My5vcmcvMTk5OS8wMi8yMi1yZGYtc3ludGF4LW5zIyI+PHJkZjpsaT5BTEtPTEwwMTwvcmRmOmxpPjwvcmRmOlNlcT4NCgkJCTwvZGM6Y3JlYXRvcj48L3JkZjpEZXNjcmlwdGlvbj48L3JkZjpSREY+PC94OnhtcG1ldGE+DQogICAgICAgICAgICAgICAgICAgICAgICAgICAgICAgICAgICAgICAgICAgICAgICAgICAgICAgICAgICAgICAgICAgICAgICAgICAgICAgICAgICAgICAgICAgICAgICAgICAgCiAgICAgICAgICAgICAgICAgICAgICAgICAgICAgICAgICAgICAgICAgICAgICAgICAgICAgICAgICAgICAgICAgICAgICAgICAgICAgICAgICAgICAgICAgICAgICAgICAgICAKICAgICAgICAgICAgICAgICAgICAgICAgICAgICAgICAgICAgICAgICAgICAgICAgICAgICAgICAgICAgICAgICAgICAgICAgICAgICAgICAgICAgICAgICAgICAgICAgICAgIAogICAgICAgICAgICAgICAgICAgICAgICAgICAgICAgICAgICAgICAgICAgICAgICAgICAgICAgICAgICAgICAgICAgICAgICAgICAgICAgICAgICAgICAgICAgICAgICAgICAgCiAgICAgICAgICAgICAgICAgICAgICAgICAgICAgICAgICAgICAgICAgICAgICAgICAgICAgICAgICAgICAgICAgICAgICAgICAgICAgICAgICAgICAgICAgICAgICAgICAgICAKICAgICAgICAgICAgICAgICAgICAgICAgICAgICAgICAgICAgICAgICAgICAgICAgICAgICAgICAgICAgICAgICAgICAgICAgICAgICAgICAgICAgICAgICAgICAgICAgICAgIAogICAgICAgICAgICAgICAgICAgICAgICAgICAgICAgICAgICAgICAgICAgICAgICAgICAgICAgICAgICAgICAgICAgICAgICAgICAgICAgICAgICAgICAgICAgICAgICAgICAgCiAgICAgICAgICAgICAgICAgICAgICAgICAgICAgICAgICAgICAgICAgICAgICAgICAgICAgICAgICAgICAgICAgICAgICAgICAgICAgICAgICAgICAgICAgICAgICAgICAgICAKICAgICAgICAgICAgICAgICAgICAgICAgICAgICAgICAgICAgICAgICAgICAgICAgICAgICAgICAgICAgICAgICAgICAgICAgICAgICAgICAgICAgICAgICAgICAgICAgICAgIAogICAgICAgICAgICAgICAgICAgICAgICAgICAgICAgICAgICAgICAgICAgICAgICAgICAgICAgICAgICAgICAgICAgICAgICAgICAgICAgICAgICAgICAgICAgICAgICAgICAgCiAgICAgICAgICAgICAgICAgICAgICAgICAgICAgICAgICAgICAgICAgICAgICAgICAgICAgICAgICAgICAgICAgICAgICAgICAgICAgICAgICAgICAgICAgICAgICAgICAgICAKICAgICAgICAgICAgICAgICAgICAgICAgICAgICAgICAgICAgICAgICAgICAgICAgICAgICAgICAgICAgICAgICAgICAgICAgICAgICAgICAgICAgICAgICAgICAgICAgICAgIAogICAgICAgICAgICAgICAgICAgICAgICAgICAgICAgICAgICAgICAgICAgICAgICAgICAgICAgICAgICAgICAgICAgICAgICAgICAgICAgICAgICAgICAgICAgICAgICAgICAgCiAgICAgICAgICAgICAgICAgICAgICAgICAgICAgICAgICAgICAgICAgICAgICAgICAgICAgICAgICAgICAgICAgICAgICAgICAgICAgICAgICAgICAgICAgICAgICAgICAgICAKICAgICAgICAgICAgICAgICAgICAgICAgICAgICAgICAgICAgICAgICAgICAgICAgICAgICAgICAgICAgICAgICAgICAgICAgICAgICAgICAgICAgICAgICAgICAgICAgICAgIAogICAgICAgICAgICAgICAgICAgICAgICAgICAgICAgICAgICAgICAgICAgICAgICAgICAgICAgICAgICAgICAgICAgICAgICAgICAgICAgICAgICAgICAgICAgICAgICAgICAgCiAgICAgICAgICAgICAgICAgICAgICAgICAgICAgICAgICAgICAgICAgICAgICAgICAgICAgICAgICAgICAgICAgICAgICAgICAgICAgICAgICAgICAgICAgICAgICAgICAgICAKICAgICAgICAgICAgICAgICAgICAgICAgICAgICAgICAgICAgICAgICAgICAgICAgICAgICAgICAgICAgICAgICAgICAgICAgICAgICAgICAgICAgICAgICAgICAgICAgICAgIAogICAgICAgICAgICAgICAgICAgICAgICAgICAgICAgICAgICAgICAgICAgICAgICAgICAgICAgICAgICAgICAgICAgICAgICAgICAgICAgICAgICAgICAgICAgICAgICAgICAgCiAgICAgICAgICAgICAgICAgICAgICAgICAgICAgICAgICAgICAgICAgICAgICAgICAgICAgICAgICAgICAgICAgICAgICAgICAgICAgICAgICAgICAgICAgICAgICAgICAgICAKICAgICAgICAgICAgICAgICAgICAgICAgICAgIDw/eHBhY2tldCBlbmQ9J3cnPz7/2wBDAAcFBQYFBAcGBQYIBwcIChELCgkJChUPEAwRGBUaGRgVGBcbHichGx0lHRcYIi4iJSgpKywrGiAvMy8qMicqKyr/2wBDAQcICAoJChQLCxQqHBgcKioqKioqKioqKioqKioqKioqKioqKioqKioqKioqKioqKioqKioqKioqKioqKioqKir/wAARCAH1ArgDASIAAhEBAxEB/8QAHwAAAQUBAQEBAQEAAAAAAAAAAAECAwQFBgcICQoL/8QAtRAAAgEDAwIEAwUFBAQAAAF9AQIDAAQRBRIhMUEGE1FhByJxFDKBkaEII0KxwRVS0fAkM2JyggkKFhcYGRolJicoKSo0NTY3ODk6Q0RFRkdISUpTVFVWV1hZWmNkZWZnaGlqc3R1dnd4eXqDhIWGh4iJipKTlJWWl5iZmqKjpKWmp6ipqrKztLW2t7i5usLDxMXGx8jJytLT1NXW19jZ2uHi4+Tl5ufo6erx8vP09fb3+Pn6/8QAHwEAAwEBAQEBAQEBAQAAAAAAAAECAwQFBgcICQoL/8QAtREAAgECBAQDBAcFBAQAAQJ3AAECAxEEBSExBhJBUQdhcRMiMoEIFEKRobHBCSMzUvAVYnLRChYkNOEl8RcYGRomJygpKjU2Nzg5OkNERUZHSElKU1RVVldYWVpjZGVmZ2hpanN0dXZ3eHl6goOEhYaHiImKkpOUlZaXmJmaoqOkpaanqKmqsrO0tba3uLm6wsPExcbHyMnK0tPU1dbX2Nna4uPk5ebn6Onq8vP09fb3+Pn6/9oADAMBAAIRAxEAPwD6RooooAKKKKACiiigAooooAKKKKACiiigAooooAKKKKACiiigAooooAKKKKACiiigAooooAKKKKACiiigAooooAKKKKACiiigAooooAKKKKACiiigAooooAKKKKACiiigAooooAKKKKACiiigAooooAKKKKACiiigAooooAKKKKACiiigAooooAKKKKACiiigAooooAKKKKACiiigAooooAKKKKACiiigAooooAKKKKACiiigAooooAKKKKACiiigAooooAKKKKACiiigAooooAKKKKACiiigAooooAKKKKACiiigAooooAKKKKACiiigAooooAKKKKACiiigAooooAKKKKACiiigAooooAKKKKACiiigAooooAKKKKACiiigAooooAKKKKACiiigAooooAKKKKACiiigAooooAKKKKACiiigAooooAKKKKACiiigAooooAKKKKACiiigAooooAKa7rHGzucKoJJ9BTqqaocaVc4/55mlJ2TYECC5vVEsk0kEbcpHHgHHufWl+xH/AJ+7r/v7S3l3Fp2lzXlxxDbwtI+P7qjJ/lXNWFv4q1vTotVbXV0prhBLBYxWcckcakZUSM3zMcYztK+1eRzTlq2aHSfYj/z93X/f2j7Ef+fu6/7+1xmoeNL6HwmLyfFpfWWrRWN+sCeYD+8AbYCCcMpBHfn1roLHxbZ3VxPb3lreaXPDCbgx30QQvEOrqQSCB3GcjuBQ/aJXuGhp/Yj/AM/d1/39o+xH/n7uv+/tZOneMbXUL62tn07UbJbwE2k11AFS4wN3ykMSDjnDAHFR3HjiwglmYWWozWNvIY59Rit90ETA4bJzuIB6lVIGDzR+8DQ2vsR/5+7r/v7R9iP/AD93X/f2su68XW0HiA6Pb2F/e3QhjnJto1ZBG5IDFiwGBj688Z5xIPFVj/wjd1rTR3Cw2ryRyQlR5odGKlMZxknpzzkUvfDQ0PsR/wCfu6/7+0fYj/z93X/f2si/8YQ2d1Nb2+k6pqElsivc/Y4VYQZGQGLMMnHOFyapaj4ykF94cbR7K6vbLVWZ2khjT5l2EgfMwIIPJ46D14prnfUNDpPsR/5+7r/v7R9iP/P3df8Af2sK28UQWVjqVzqF1cXXlak9pDEtsBIzcbYkVSd/1OD1zjFW7DxXa3r3UM9ne6fd2sPnva3cQV2j/vKQxVhxjg8Hrij3+4aGl9iP/P3df9/aFlmspkWaUzQSMFDMBuQnpnHUVgWHj7T786fIun6nDZ6gVS3vZrcLCzsOFJ3ZB7ZxtJ6E1v6n/wAg9/ZlP/jwpxnOElqGjNGiiivXMwooooAKKKKACiiigAooooAKKKKACiiigAooooAKKKKACiiigAooooAKKKKACiiigAooooAKKKKACiiigAooooAKKKKACiiigAooooAKKKKACiiigAooooAKKKKACiiigAooooAKKKKACiiigAooooAKKKKACiiigAooooAKKKKACiiigAooooAKKKKACqmqf8gq5/65mrdVNU/5BVz/ANczUz+FgV9T09NV0S60+U7UuoGiY+m5cZ/Wub0zxFfaNpUGmavoOqS39rGIQ1lamWG42jAZXHyqDjo5XFdev3R9KWvGT0szQ87vdH1ez8L/AGyXT3utTvNbh1CazgO/yxvXCZ6fKqjJ6Z9q0WkuvEfiSPUYNFuo7XT7KeLZfxGA3Mkm392A3O3C8tjHIxmtTUPElyuryaVoOlnU7yBVa4ZpxDDBu+6GfBO4jnAU8dcU/SfEjXmoT6ZqlhJpupwxed5DSCRJY843o4+8M8HIBHpWl5WvYDlNCgu7fW9Oj8O23iHT7bdi/sdSDNawR7TkRs+ed2MbGI/Cs628P22n2FzpOqeHNe1C/wDNkWP7NeXK2t0jMSrF1fy4xg/MCBjng13fh/xZp+uWNk7XFtbXt3GZFsTcq0gGSM44JHHXFaF3rOl6fdRW1/qVnazzf6uKadUZ/oCcmnzyTtYDC0bTprPx9qDi0khtRpVnDG3zMmVaXKhz94gEe/I9az73Rr5vHH9nR2sh0e9uY9UnmCnYrxjBjJ6Asyxtjvhq0/FfiTW/DtvdXtp4fhv9OtYDNJO2oCJuBkgJsP8AOrGla5qkkEt14k0q00WzSISLcHUVlU59cou3jvml73xAYGr3Osza/qVre/8ACQJAGAsIdJgQRTJtGS8+3KtuznLLgYqtpNvfaX4b8FTXem3xNjLIl1EkDySRbkdQSoGSMkc/jXfWuo2N9Z/a7K8t7m2wT58MqunHX5gcVBBr+kXdpPc2mq2VxBbAmaSK4Rljx13EHA/GlzO1rAcWNL1KB31OPT7ib7B4hmuzbhMSTRMhTcgON2N2R64OKvMLrxF4il1aDTr60tLTS57ZDdwGJ7iSQqcCM/NgbOpAyTxWrY+N9Eu/Cg197yGK06OFkEjIxPCELn5jx8vXmrfhnXl8SaGmpJbSWqvJIgil++u1yvI7Hjp26U25LVoDmJdOvT8NfDFqLO4NxBPYGWHym3xhWXcWGMjHfPSuz1P/AJB8n1X/ANCFWqq6n/yD5Pqv/oQqHK7A0aKKK9ozCiiigAooooAKKKKACiiigAooooAKKKKACiiigAooooAKKKKACiiigAooooAKKKKACiiigAooooAKKKKACiiigAooooAKKKKACiiigAooooAKKKKACiiigAooooAKKKKACiiigAoork/EXxAsNCvTZQQSX94v344jgJ7E4PPsBWNavToR56jsi4QlN2ijrKK82/4Wnff9C63/AH/P/wARR/wtO+/6F1v+/wCf/iK4f7Wwf8/4P/I2+q1ux6TRXm3/AAtO+/6F1v8Av+f/AIij/had9/0Lrf8Af8//ABFH9rYP+f8AB/5B9Vrdj0mivNv+Fp33/Qut/wB/z/8AEUf8LTvv+hdb/v8An/4ij+1sH/P+D/yD6rW7HpNFebf8LTvv+hdb/v8An/4ij/had9/0Lrf9/wA//EUf2tg/5/wf+QfVa3Y9Jorzb/had9/0Lrf9/wA//EUf8LTvv+hdb/v+f/iKP7Wwf8/4P/IPqtbsek0V51F8VnRwb/QZoou7pLkj8Co/nXdaZqlprGnx3unyiWGToehB7gjsa6aGMoYh2pSuzOdGdP4kW6KKK6zIKKKKACiiigAqpqn/ACCrn/rmat1W1FDJptwq8kxnA9eKmfwsBV+6PpS0yGRZYEdDkMoIp9eIanHaFd2+jeMfEGn6pLHbXF9dC8tWlYKLiMxqvyk9SpUgjqOKSW6g1v4kWkmlSJcRaVZTrdzxHcqvJt2x5HBPykkdsCupv9NsdUt/I1Oyt7yHOfLuIlkXP0IIp9rZ21jbLbWVvFbwKMLFEgRR9AOK05lv1EeU2a6APhBbrp4tf7VaVfJ8sL5/2vzOMfxZ/wDZfatTXbaNdV124tLzRLwOiDU9P1eNo2UCMfcl6hSOnBAOcHOa7qHQtJtrqO6t9LsoriJPLjmjt0V0X+6CBkD2ovNE0rUbmO41DTLO6ni/1cs9ujsn0JGRV+0VwOa8RXSX3wVvrqG3kto5tHZ1hkJLRgx8KSeTj1qn4zWZ7nwor3drZ2jSMGmvLfzoRN5Y8vcu5Rn72CT1xXd3FtBd20lvdQxzwSKVeKRAyup6gg8EU24s7a7tGtbq3int2G1oZEDIR6EHioU7AecSaZYLF4mXUvE9myTW8S3hsNNMcUDbjtd8O6sT0Yf3QM8Ve0aVoPGEVnqNvo15cT2EgivtKLJ+6UrxLFkgAk8HJ7gV2tpplhYWZtLGxtra2OcwwwqiHPX5QMU3T9H0zSfM/srTrSy805k+zQLHvPvtAzVe00AxPAMdrN4D0oKkL7IwTgA7XBP5EU/wJ/yLkv8A2ELv/wBKHrcs9OstP837BZ29r5zmSXyYlTex6scDk+5qSC2gtYzHawxwoWLFY0CjcTknA7kkk1Dle4ElVdT/AOQfJ9V/9CFWqqakc2ojH3pJFVR6ncKlbjNKiiivcMgooooAKKKKACiiigAooooAKKKKACiiigAooooAKKKKACiiigAooooAKKKKACiiigAooooAKKKKACiiigAooooAKKKKACiiigAooooAKKKKACiiigAooooAKKKKACiiigAooooAhvZzbWFxOBkxRM4HrgZrw3SAZIJLmUl5pnJd25J/ya9t1b/kC3v/AF7yf+gmvE9G/wCQav8AvGvls/b5qa9f0PSwO0jN1fxrpOjXhtZvOnmX74gUHYfQkkc/StbTNTtdXsVurGTfG3B4wVPoR61zPhbUNO05tTh1K4gtr77W5lM7BC4zxyeo60y+1OxXwfdzeGla1ia52SyIhUjLcsD9OnoD2rz6mEg2qUItO6XN0d/60OiNV/E2vTqdpRXGvp9p4f1/Rv7DZkN4xSeMSlhMmPvEE9uuRVWHRbTVbrxK96JH8mdjGokIVWCn5sA4J+tYrBwa5ud8tr7a722v+pXtZbW19fK53lUG1iAatNpwimaeGDzztUEMPQc5zXH+a+o6V4ZstQnkNpdMwnJcjzNv3VJqe2s7bT/FmrW1k7GKPTSAjSF/L4+6Cecd8e9aLAxipc7u7Pppo7b/AKfiT7Zu1l/VrnTSa5bwWFtdXUVxb/aZFiSGWPEgYnABHb1qyL3Opmz+zXHEfmef5f7rrjbu9fauAubC2ufCPhySePc7XCwk7iPkZjkcVtGMWHjWZLKPAg0nESZJ6E4HNVPB0knyvX3vTR27iVWXXy/E66ivO/sVqvg1fES3Mv8Aa5If7T5x3F92NmM46cYxWjdWMer+N7aLUA+x9N3Sxq5Tdz904IOMnp7Vm8DFN+/or306xte2vn5Fe2b6dvxOzIBGCMg1u/C6ZoNZ1bT1J8nasqrnhTnH8iPyrzzwan2YarZI7mC2vGSJWbOxfSu/+Gv/ACN2q/8AXAf+hCtcDTdHMIwTv/wUTWlz0Gz0+iiivuDxgooooAKKKKACiiigCidPkiZjZT+UrHJjZdy59vSj7PqH/PxB/wB+j/jV6isHQpt3sO7KH2fUP+fiD/v0f8aPs+of8/EH/fo/41fopfV6fYLso/Z9Q/5+IP8Av0f8aPs+of8APxB/36P+NXqKPq9PsF2Ufs+of8/EH/fo/wCNH2fUP+fiD/v0f8avUUfV6fYLso/Z9Q/5+IP+/R/xo+z6h/z8Qf8Afo/41eoo+r0+wXZR+z6h/wA/EH/fo/40fZ9Q/wCfiD/v0f8AGr1FH1en2C7KP2e//wCfmD/v0f8AGkGmFmEk9zI8y/cdflCfQf41foqlQpp3SC7Km+8t/wDWItyn96P5WH4dD+FSw3cM52xv846owww/A1NUU1tDcACaNWx0PcfQ9q0s1sIloqn5F1b/APHvMJk/55zdfwb/ABzTl1CNWCXStbOeB5n3T9G6Ucy66AWqKAcjI5FFUAUUUUAFFFFABRRRQAUUUUAFFFFABRRRQAUUUUAFFFFABRRRQAUUUUAFFFFABRRRQAUUUUAFFFFABRRRQAUUUUAFFFFABRRRQAUUUUAFFFFABRRRQAUUUUAFFFFAFTVv+QLe/wDXvJ/6Ca8T0b/kGr/vGvbNW/5At7/17yf+gmvE9G/5Bq/7xr5XP/ih8z08DtIqa3pHh+5dLnXI7dG+6JZJvK3e2QRnpV60tdOfSlt7OK3exZcBYwGRh39jXNQ6TaeJPFerNrAaZbNlihh3lQoxnPBBq/ZafZ+FbPVbizuHlhTMn2bfkQkLnHrk+/bH1rzKkLU1T9o3JWaXTXtr5nRF+85cqt+Jf03w7pOkTtNp9msUjDBcszHHtknH4VYh0uzgN0YodpvGLT/MTvJGPXj8K5h9T16x0q3166vYZraZkMlkIAoRGPGH6kjI6/rVq4u9YvfFlzpunX6WkC2ySBmgWQqTjpnHX3zRKhXk25VL93d9GtNr6XX6ApwSso/l1NeTQNLm0qPTZbRXtY/uIWOV+jZz+tQW2i6Fpl15VtDDBPPCYgnmkNInfgnn69aw08S6oPDQ3NE2oNffYlm2fLnP3sdM/p7U7yNRtvHWkx6neR3p8mUpMsQjY8HIIHHpWioV4qUZ1LL3na71sr3/AOH1Fzwdmo9jSuE8LNpq6Tc3Vj9mhbAha7AKEH13Zz171d02x0jzEvdM8uUxxC3WWOYuAg/h6kf1rmvE3hvSYdS0147Xa15e7Zz5j/ODye/H4VWutWh0XUrrS9K1CPRba15VWgaczyEZOSc7R0FaLD+2ppUZybd3rtvZ7Xer8vUnn5Je+lodWvhfRV1L7cunxi43bwcnaD67c7f096unT7X+0hqBi/0oR+V5m4/dznGM4rmL7xJqM/hfT9Qsw1sszYuriKDzfIA6nae3HekN1e6l4P1PGs212EUstxFFh2TByroQNpNYPD4hpOpPry7t21t6fK/yK9pTWkV5nTWNnZW/nT2Cri6fzXdXLBye/X+VdJ8Nf+Ru1X/rgP8A0IVxfhCK4i8M2ZuLnzw8atGPLC+WuBheOuPWu0+Gv/I3ar/1wH/oQq8HFxzCMW72drirO9Bu1j0+iiivuTxgooooAKKKKACiiigAooooAKKKKACiiigAooooAKKKKACiiigAooooAKKKKACkZQ6lWAYHqCOtLRQBUNgIzmzla3P90cof+An+mKPtNxB/x9Qb1/56Q8j8V6j9at1T1bVbbRtNkvr0v5UeBtjUszsSAqqB1JJAA96nlttoBYhuIrhd0MiuO+D0qSuXTxJp959tN7pmo6bd2VsbporiNUleMZ+ZWVip6Yxn64q9/bK2dtps8ryzQ6lJHFADGN6lwSNxzjGOvWi76gbVFcNaeOJrXWPEFte2epahHYXpUNZ2oZbaHy1PzHjdyWOBub2xitdteim8U6VHa6gxs7zTprpY1hUxyqDHhzITuXAboBg5OcYFUB0VFc1B45sJ5oWNjqMVhcSCODUpbfFvIxOFwc7gCeAxUA5HNO1LxpZ2F9c20On6lqH2IA3ktlbh0t8jOGJIycc4XccdqAOjorlE8WT3Hjm0020srmfTriwFwtzGqbDuYYfJbdtA46ZyeneuroAKKKKACiiigAooooAKKKKACiiigAooooAKKKKACiiigAooooAKKKKACiiigAooooAKKKKACiiigAooooAKKKKACiiigAooooAKKKrX2pWWmQGbULqK3jHeRgM/T1pOSirsaTew3Vv+QLe/9e8n/oJrxPRv+Qav+8a7vUPiOl5K1j4Y0ybU5mG0syEJj6Dkj64rhpdO1XwsiLrFjJHBN8yOpDAH0yDjPtXyWcVI4hxlS1Ub3a2+89PCRcLqWlzL1nwp/aOofb9P1CfTbthtkkhz849wCOenftUuj+F7bTLO5jnlkvJrwEXE0vVx6e3X1NXP7btPV/8Avmj+27T1f/vmvHeKrun7Pm0/rrudfsoc3NbUyo/CUuIbW61aa40yBw0do0Sg8dAXHJArTh0jyvEVxqnnZ86FYvK2fdx3zn+lO/tu09X/AO+aP7btPV/++aU8TWnu/wAF/Xz3GqcFsZv/AAiMTaPcWUl22+S6a6imRNpiY9OM8/p+FOtfDd0mt2up3+rveTQIyYaEICCOMAHjr75rQ/tu09X/AO+aP7btPV/++ar63Xaavvfouu/TQXsodhuq6R/adxYSef5X2OcTY2bt+O3Xiql94euJNSmvdJ1STTpLlQs4ESyB8cAjPQ+9Xf7btPV/++aP7btPV/8AvmohiKsEknt5J+fUbhF7kN1o08mn20Nnq13bz233Z2fzDJ671PDVBZ+GfJi1Br69e7utQTZLMIxGMYwMKOM1d/tu09X/AO+aP7btPV/++aFiKqjyp/gr733336B7ON7iaHptxpOmraXN79sEeBG3kiPYoGAvBOfrXVfDX/kbtV/64D/0IVyp1mJyEtopZpW4VAvU16R8PfDd1o9nc32qKUvL0gmI9Y1GcZ9znp9K9HLIVK+MVVrbVs58S4wpcp2NFFFfbnjhRRRQAUUUUAFFFFABRRRQAUUUUAFFFFABRRRQAUUUUAFFFFABRRRQAUUUUAFFFFABWP4qhW48N3MUulNq0TbfMtI5Njsu4ZKn+8OoAIJI6itiigDznS7PVLuTUrLSX1xtHm0+WMprqsrJOwwixlwHK4znOR0waet9qGp2vheyTQdTgewvIPtr3FsUWLYhU7T/ABjP8QyMd69DooA4K11S90PUvEkUvh7U7r7VftJZvb2xdJyY0GCeijI+8fl688YqhDoFxaat4e0OeRUuf+EdvYHZTkKzNFnHsCa9MrLi0GFPEkmtS3NzPcNF5MUcjL5cCEgsEAAPJUE5JoA870zQrH+z7DS73wpr0upQtHHcLNf3SWa7SMyCTeYyvG4KAT0GBXQWuoXnhm81qEaPf6gb67a7sZrOHzY5t6gbXYcIQRjLYGMc13FQyWkbnKlom67o22k/XsfxpO/QDl0bUbbxtpV1qtlKz3OmfZ5pbSFnhim3hiCRnavXBPHvXXVVzeQdQtynt8r/AOB/SnxXkMrbNxST+442t+Rpcy6gT0UUVQBRRRQAUUUUAFFFFABRRRQAUUUUAFFFFABRRRQAUUUUAFFFFABRRRQAUUUUAFFFFABRRRQAUVXm1CztruC1uLuCK4uSRBDJKFeXAydqk5OPappZY4IXlmdY40Us7ucBQOpJ7CgB1FRWt3b31rHc2VxFc28gyksLh1ceoI4NPkkSKMvK6oijJZjgD8aAHUVzOpfEDQNPfy47k3s+cCK1Xfk+men61l3niLxfqX7vQtIht/m2uZJkeWI4BG9cgJkEHBB4rjnjKMbqPvNdEr/kaqjN76ep28s0VvEZJ5EijXqzsAB+JrlNV+JOhaeTHayPqE3QLbj5c/7x4/LNZcPw71LV5Vn8W61LOc58mFsgfieB+ArrNJ8L6NogH9n2MaSD/lqw3P8A99HmsufGVvhioLu9X9233l2pQ3dzkRqnjnxPxptmmj2jf8tZRhsfUjP5Crdj8MrZ5xdeItQuNTuDywLFVP49T+YruaKccBTb5qzc357fdsJ1pLSCsVrHT7PTbcQafbRW8Y/hjUDP19askBgQRkHqDRRXekkrIxu3qyv/AGfZ/wDPpB/36H+FH9n2f/PpB/36H+FWKKXLHsF2V/7Ps/8An0g/79D/AAo/s+z/AOfSD/v0P8KsUUcsewXZX/s+z/59IP8Av0P8KP7Ps/8An0g/79D/AAqxRRyx7Bdlf+z7P/n0g/79D/Cj+z7P/n0g/wC/Q/wqxRRyx7Bdlf8As+z/AOfSD/v0P8KP7Ps/+fSD/v0P8KsUUcsewXZFFbQQEmGGOMnqUQDNS0UU0kthBRRRTAKKKKACiiigAooooAKKKKACiiigAooooAKKKKACiiigAooooAKKKKACiiigAooooAKKKKACiiigAooooAKKKKACmSwxzrtmRXHowp9FG4FX7NND/wAes5x/zzl+Yfgeo/Wj7YYuLuJov9sfMn5jp+OKtUVPLbYBEdZFDRsGU9CpyKWq72URYvFugkPVojjP1HQ/jUck1zaRs8wSaJRkuDtYfgeD+lHM1uBZhmjnjDxMGXpx2PpT64mx1KexnMkRyrH50PRq66yvob6ASQt/vKeqmsqVZVNOo2rFiimvIkUbPIyoijLMxwAPrWK/i/SgxERnnA/iigYj88Uq2Jo0P4s1H1ZnKcYfE7G5RWD/AMJhp3/PG8/8BzR/wmGnf88bz/wHNc/9p4L/AJ+x+8j29L+ZG9RWD/wmGnf88bz/AMBzR/wmGnf88bz/AMBzR/aeC/5+x+8Pb0v5kb1FYP8AwmGnf88bz/wHNH/CYad/zxvP/Ac0f2ngv+fsfvD29L+ZG9RWD/wmGnf88bz/AMBzR/wmGnf88bz/AMBzR/aeC/5+x+8Pb0v5kb1FZdh4i03UJxBDMyTHpHMhQn6Z6/hWpXXSrU60eanJNeRpGUZK8XcKKKK1KCijPOO9FABRRRQAVl+JrzUdP8MahdaJa/a9QhgZreHaW3t24HJ+netQkAEk4A6mub8Sa9oP9l3Njea61m8qFfMsZyJ4z6qVyQaidSFNXm7eo1Fy0SON+Hfi3WNW16G3vfF1nqZaIreabe2Qsrq2lGeIwq4kwQc88DsK0tD8U6xeeHfG9zc3m+bSry5is28pB5SomVGAMHB9c1zVnIsuu6fqN74k1Hxbc6XuNhaxaYIGViMZeQZLDA/E/jW1D8PNU1E6tLZa9qGhafrbPLd6c1rEzCRlwSH3ZC57AAkcZ71nTxFKq7Qd/T/PYqVOUVeSOfvNS1vXrn4aX0d5D/a11HcE3M8QKqSuC2xcA4XJA4GQK6Cz8Ra9Y6hr/hvX9St9aaPSWv7S/Fqke9SCNrRjKkZ+vvnPFyb4VySWHhmCDxDNay+H0cJcQ2wDSMehwWIUA9Qd2RkcVV1HQ7bwN4f17xB4r1+TU9Sv7U2a3LWwiUAqQkaRpkDJ6np9OTW2pBg3HxCu9G8B+ELKLULbRZNTgaSfUVsA62yKf4IUXbknjGMdfqIbXxVb674b13UtWuR4gl8O4aC4WNreK9V/ul4uNuG64AyB+J6XQvBE+sfDvwpcRXs+ia1plvvtroQq5QP1Vkb7wIxxx/SujsvBbv4c1HTPE+tXmuvqeftE0p8tUHYRxjIjA68d/wAqmdOFRcs1dDjJxd0cz4X8MeKrTUdMv55tGvLS9tWlmZNNigawYqCnllRukPP8XGFOeTUHwesNVh1bxNLd6z9pgj1OWKaH7KiedN8uZtw5XjjaOK3ND+Hup6drGm3WreLbvU7bSUZLG2FusGwEAYd1JMgwB164/Cr3hzwbd+G/E2q31vrRl03Up3uG09rVQUlbHzebnJ6EYxjmnGMY6RVgbb3OsoooqhBRRRQAUUUUAFFFFABRRRQAUUUUAFFFFABRRRQAUUUUAFFFFABRRRQAUUUUAFFFFABRRRQAUUUUAFFFFABRRRQAUUUUAFFFFABRRRQAUUUUAFFFFABRRRQAUUUUAFFFFABRRRQAUUUUAFFFFABWfqthcahGsccyxxg5IIPzGtCiplFSVmBzDeGLr+GaE/Ukf0pYNF1OzmEtu8e4ejdfbpXTUVj9WgndDuzkfFF3cTiysbmEwrIWklUMCr7cYGfTJzj6VlgYGBWt4u/5C2nf9cpf5rWTX5tn8pPMJpu9rfkjwcY26zMzVPEOmaLNDDqM7xyTAtGqQPIWAxk/Kp9RS6Z4g0zWJHj0+53yxjc0bxtG4HrtYA496xdfmvIPHGkPp1ml5N9kuB5TzeUMZTndg/yqzb2mqXWtrrGrQWunLa20kUcaTeaTuIJZmwowNvSuX6tRVCM3u1f4lvdq3La/Tcz5I8qf6/pudHVS41WytYbuWecKlku64IBPljGeQPbmuKm1D7KLG9sb/WruR7qJJbiVHS2lV3CnCNhcc8bR+Pepr23axi8Y3lrdXaTRx5Q/aXwpMQOQM9R2PYcVccvSdpvfyt1S67b/APAGqOuv9ancqwdFZTlWGQaWuN1G81C+1wafDDqE8FvaRSstjdJAzM+eWZmUkcdAfXNNmfWxpunW17Ld2Mr6mIUkaVGleEqcbihKk9vwBrJYF2V5pN9L62323/An2XmdmzKiFnIVVGST2FMgnjubeOeBw8UihkYdwehrl2tpLbUdV0g317NayaeLhfNuGZ42ywO1+oBwOM1qeFLdbbwrp6o8rhoEcmWQuQSo4BPQe3asquHjTp8/Nfa3o1cmUEo3uac8QliI6MOUYdVI6EV3Wj3bX2i2dzJ9+WFWc46nHP61xJ6GktfiPpOi6FbWYiuLm6hiCsiqFUN6Fj/QGvf4bxMKFSp7SVlb8T0MtjOc3GJ6GzKilnIVVGSScACuF8SfE6x0/fb6KFvbkcGX/lkh+v8AF+HHvXAeIfGereInK3Evk2ueLaI4X8f7341z9ezi86lL3cOref8AkfT0sGlrM9W+G+r3us6jq+oatdGRo0jUFzhUBLHAHQDiuov/ABn4e07IuNUgZh/BCfMP0+XOK8d8JaXYa1r0enancTQRzA+WYiBucdByD2zz/jXrFh8PfDdhgiwFw4/iuGL5/Dp+ldOXVsVVoJU0tL3bbfnt/wAEyrwpxn71/RGRcfFO2lkMOiaTd30vbI25/AZP8qi/tH4h6z/x6WEOlxHo0igMPruyf0rvbe2gtI/LtYI4UH8MaBR+QqWvQ+q15/xar/7d0/zZh7SC+GP36nnv/CvNY1Q7vEXiOaUHrFEWYfhnAH5Vsaf8N/DtgQz2z3bj+K4fcPyGB+ldVRVwwGGi78t356/mJ16j0uRW9rb2kQjtII4Ix0WNAo/IVLRRXakkrIxCiiimAUUUUAFFFFABRRRQAUUUUAFFFFABRRRQAUUUUAFFFFABRRRQAUUUUAFFFFABRRRQAUUUUAFFFFABRRRQAUUUUAFFFFABRRRQAUUUUAFFFFABRRRQAUUUUAFFFFABRRRQAUUUUAFFFFABRRRQAUUUUAFFFFABRRRQAUUUUAFFFFAHJ+Lv+Qtp3/XKX+a1k1reLv8AkLad/wBcpf5rXJ63oOl6vCZdSso7l4Y2EbOPu96/MM6UZZnNTdlpsr9F5o8LFWdd3/rQszaXDNrNtqbNIJreJ4kUEbSGxnPGc/KO9WpoUuIHhmXdHIpVl9QeDXBaTHo/hnwbpWtRWVtHf3EMcYnkYoNzjksew6k1q6V4u+06i9jLdafqMhgeaN9OY9V6oVJODzwc888CuSrg6urpttRur2ts9bav8zOVOXTVItHwdavBDBPqGozRW8iPBHJOCIipBGPl56Y+bPFWbzw3bXsuoM9zdRpqEPlTxIy7TxjcMqSGxx1x7Vn6H4g1DVpoHSXTLmGUHzYbdyJbQ4yN4Y/NzweAawdQN43gnVjq00M0P9o7SI42B4mAbqxyPQDp710QpYl1VCdSzul977eqv57lqM3KzZ2N7oEF3PDcRXN1Z3MMflCe2cKzJ/dYEEEfUUkfhyyigtY0ab/R7n7VvZ9zSyc5LkjnOfauSlg8PySW/wDwh1jcR6mJ4yskNtNEqLuG7eWAG3bng10+q3uswSzvanTbO1hUFZL5ifOOMnGGG0dsnP0rKpTrR5YKbXlJcr+67dtdPmS4yVlf79C++lQPqct85cyS2/2dlyNu3JPpnPPrS6Vpq6Tp6WcVxPPHHwhnYFlXsuQBwPfmubm1PUNXl8M3tjJbwJdFmaN1Zxu2NnkMMjGce/PtVjXrW+Ou6ZczXuLRb6NYbWNcA5Byznuc9B0FZuhPSnOdrp6f4bqwuR/C3/SOnPQ103hXT7KLw/ZTx2kCTSRBnkWMBmPqT1NcyehrrvDH/Ir6f/1xFe1wuk8RO/b9TqwDfO/QsT6Npd0c3Wm2cx9ZIFb+YrNuPA/hq6P7zSIF/wCuRaP/ANBIrfor7uVClP4op/I9lTktmclJ8NPD/nJLapc2kiMGRoZiSpHIPzZrrAMKASSQOp70tFFOhSpX9nFK/Ycpyl8TuFFFFbEBRRRQAUUUUAFFFFABRRRQAUUUUAFFFFABRRRQAUUUUAFFFFABRRRQAUUUUAFFFFABRRRQAUUUUAFFFFABRRRQAUUUUAFFFFABRRRQAUUUUAFFFFABRRRQAUUUUAFFFFABRRRQAUUUUAFFFFABRRRQAUUUUAFFFFABRRRQAUUUUAFFFFABRRRQAUUUUAcn4u/5C2nf9cpf5rWNMhkgkRerKQM/Sum8U6bPdwW93aIZZbVjmJRy6NjOPcYBrlFvrY9ZkUjgq52kH0wa/M+IKNSnj5VGtJWt9yR4eMi1Wb7mKnh25HhLTdPW4jiv9PETxygFk8xB+BKnkfjVu1h12aZ31G5tbZPKKRxWgMnzH+Ms6g8dgBj1zWj9stv+fiL/AL7FH2y2/wCfiL/vsV48sRUknzJO7b277nO5t7nPJoOp3eq2Vzqi6ar2cgc3dsredPgEYOQNoOeRk0258O6lNpl/YK9r5U16LmGQuwbBkDsGG3jpxgnPtXR/bLb/AJ+Iv++xR9stv+fiL/vsVp9crXTSWlradncftZE1ctdeG719cvLuOHS7oXLApcXkbPLbAKBtUYwRxnqvWuj+2W3/AD8Rf99ij7Zbf8/EX/fYrGjWqUW3HroTGTjsc9beH9SstJ0SKCS1kudNkYuHZlSRWDA4IGQcHPStfVbCW+axMTIv2e6SZ9xPKgHIHHXmrX2y2/5+Iv8AvsUfbLb/AJ+Iv++xVTxFSc1N76/jr+rBzk3clPQ113hj/kV9P/64iuMjZ7+T7Lpo8+d+Pk5VP9pj2Feg2Fotjp9vaocrDGqA464GM19VwtRqKc6rWlrHoYCLu5dCeiiivuj1QooooAKKKKACiiigAooooAKKKKACiiigAooooAKKKKACiiigAooooAKKKKACiiigAooooAKKKKACiiigAooooAKKKKACiiigAooooAKKKKACiiigAooooAKKKKACiiigAooooAKKKKACiiigAooooAKKKKACiiigAooooAKKKKACiiigAooooAKKKKACiiigAooooAKiktYJm3TQRyH1ZAalopNJqzAr/YLP/n0g/wC/Yo+wWf8Az6Qf9+xViip9nDshcqK/2Cz/AOfSD/v2KPsFn/z6Qf8AfsVYoo9nDsg5UYviPT7Q+F9TK28SMtrI6sqAFSFJBz9RVPwfqun+JdDSc2tuLqLCXKeUvDY69Oh6/mO1aPihtvhHVj/05yj/AMcNeJ+FvEU3hrWo7uPLwt8k8QP30/xHUV42MxEMLioXXuta/fv8jrpUFUpOy1R7z9gs/wDn0g/79ij7BZ/8+kH/AH7FPtbqG9tIrm1kEkMqh0dehBqWvYUKbV0kcnKuw2ONIl2xIqL6KMCnUUVolbYYUUUUAFFFFABRRRQAUUUUAFFFFABRRRQAUUUUAFFFFABRRRQAUUUUAFFFFABRRRQAUUUUAFFFFABRRRQAUUUUAFFFFABRRRQAUUUUAFFFFABRRRQAUUUUAFFFFABRRRQAUUUUAFFFFABRRRQAUUUUAFFFFABRRRQAUUUUAFFFFABRRRQAUUUUAFFFFABRRRQAUUUUAFFFFABRRRQAUUUUAFFFFAGL4wbb4N1U/wDTs4/MV4rp3hnVNSjhmhg8uCeZYUml+VSxzj3PTGR3r3+5toby3eC6jWWJ+GRujc5waz/ENkbnw5cxWygSwoJYABjDoQy4/FQK8jH4BYmftJPRLbudVGv7Ncq6mN4G0XXfD0Eljqht5LMnfEY5CWjbuOQOD/P6111QWN2l9p9vdxcpPGsi/QjNT16GHpRpU1CDuuhhOTlJthRRRW5AUUUUAFFFFABRRRQAUUUUAFFFFABRRRQAUUUUAFFFFABRRRQAUUUUAFFFFABRRRQAUUUUAFFFFABRRRQAUUUUAFFFFABRRRQAUUUUAFFFFABRRRQAUUUUAFFFFABRRRQAUUUUAFFFFABRRRQAUUUUAFFFFABRRRQAUUUUAFFFFABRRRQAUUUUAFFFFABRRRQAUUUUAFFFFABRRRQAUUUUAFFFFABRRRQBieGf9HtrvTG62Fy8agj/AJZt86f+Otj8K26xG/0LxqrciPUrUqfTzIjkfmrH/vmtusKGkeTtp/l+Fi5737hRRRW5AUUUUAFFFFABRRRQAUUUUAFFFFABRRRQAUUUUAFFFFABRRRQAUUUUAFFFFABRRRQAUUUUAFFFFABRRRQAUUUUAFFFFABRRRQAUUUUAFFFFABRRRQAUUUUAFFFFABRRRQAUUUUAFFFFABRRRQAUUUUAFFFFABRRRQAUUUUAFFFFABRRRQAUUUUAFFFFABRRRQAUUUUAFFFFABRRRQAUUUUAFFFFABRRRQBi+KB5Onwako+bTrhLg/7mdr/wDjrN+VbQIIyOQahu7ZLyyntpfuTRtG30IxVDw1cvdeHLQzHM0aeTL/AL6Eo36rWC92s13X5f8ADoveHoatFFFbkBRRRQAUUUUAFFFFABRRRQAUUUUAFFFFABRRRQAUUUUAFFFFABRRRQAUUUUAFFFFABRRRQAUUUUAFFFFABRRRQAUUUUAFFFFABRRRQAUUUUAFFFFABRRRQAUUUUAFFFFABRRRQAUUUUAFFFFABRRRQAUUUUAFFFFABRRRQAUUUUAFFFFABRRRQAUUUUAFFFFABRRRQAUUUUAFFFFABRRRQAUUUUAFFFFABWJo3+i67rFgehlW7jH+zIOf/Hlb8626xb/AP0TxZpl10S6jks5D2zjzE/9BcfjWFXRxl2f56fqXHW6NqiiityAooooAKKKKACiiigAooooAKKKKACiiigAooooAKKKKACiiigAooooAKKKKACiiigAooooAKKKKACiiigAooooAKKKKACiiigAooooAKKKKACiiigAooooAKKKKACiiigAooooAKKKKACiiigAooooAKKKKACiiigAooooAKKKKACiiigAooooAKKKKACiiigAooooAKKKKACiiigAooooAKKKKACiiigArH8Uow0GS6jGZLGRLtMf9M2DH813D8a2KZLEk8LxSjckilWHqDwaipHng49youzTHI6yRq6HcrDII7ilrI8LyO3h63hmOZbQtayZ65jYpn8QoP41r0U5c8FLuKSs7BRRRViCiiigAooooAKKKKACiiigAooooAKKKKACiiigAooooAKKKKACiiigAooooAKKKKACiiigAooooAKKKKACiiigAooooAKKKKACiiigAooooAKKKKACiiigAooooAKKKKACiiigAooooAKKKKACiiigAooooAKKKKACiiigAooooAKKKKACiiigAooooAKKKKACiiigAooooAKKKKACiiigAoorhtU8Y6mniW+0zTZtGt5rMqIrLUZGSa+yobMbbgqjnaDhuQc4oA7misaDV7mTxWNMlhSKP+z1uiDy6uX2lcg4IH+TXKeItW1HU7C1e3t4JLq18SrbwR7iisEJwWPP4kD8KAOr0n/Rtf1mz6K0kd2g9nXaf/Ho2/OtmuKF5qFvr95aeIorKS8k0qWSCaz3pHNGp+ZGViSCpYcg8hj0rKj8cxaT4f8ADum2txpOkS3GmR3Blv3fyYUwAEVd25yTnq3AHJNZ04uKs+7/ADKk7u56VRXCWPxEN74fuZLVLO+1KG9jsI/ssxNvPJJja4bGQuCSRyRtI5qTXrjxhB4X1qO+GmjFg8sV9aB1VCAdyFC+7djowOPUdq0JO3orN8Oi8Hh2x/tKSGS48lctAhRSMccEk5xjPNaVABRRRQAUUUUAFFFFABRRRQAUUUUAFFFFABRRRQAUUUUAFFFFABRRRQAUUUUAFFFFABRRRQAUUUUAFFFFABRRRQAUUUUAFFFFABRRRQAUUUUAFFFFABRRRQAUUUUAFFFFABRRRQAUUUUAFFFFABRRRQAUUUUAFFFFABRRRQAUUUUAFFFFABRRRQAUUUUAFFFFABRRRQAUUUUAFFFFABXH+I9A17V3u7Qx6JqWnXP+pOoxHzLPIwdoVSHx1GSp5612FFAHIv4b1nSr7TbvQLm1upLbTxYTpqDOvmKCCJAyg85zwRznqKpnwdrq6MkMeo2hv11o6l57I2wg5ONv1OMZ6d67qigDjptN1JWv9e8UT2MUsVhJbW8Nq7GONG5Zi7gEsSBxgAAd6o6HoerxaJ4c1rQXtReJpMVrcW16WWOaPAYfMoJVgc9j1rs9W0+DVNMmtbm3guAykolxEsihx907WBHBwaZod39v0CxuiAGkgQsAMYbHIx7HNTzLm5R20uYt14f1vVtCZdU1K3XVEu0u7Uww5htmQgqnZnU85J5+Y4xxTZND8Q6zDqH9u3lrbCexktIbWykkeIFxzK5YDJ6ADHAzyc11dFUIz9Div4NFtodXS2W6iQI32V2dCBwCCwB5HbH51oUUUAFFFFABRRRQAUUUUAFFFFABRRRQAUUUUAFFFFABRRRQAUUUUAFFFFABRRRQAUUUUAFFFFABRRRQAUUUUAFFFFABRRRQAUUUUAFFFFABRRRQAUUUUAFFFFABRRRQAUUUUAFFFFABRRRQAUUUUAFFFFABRRRQAUUUUAFFFFABRRRQAUUUUAFFFFABRRRQAUUUUAFFFFABRRRQAUUUUAFFFFABRRRQAVjeG/3MOoWXT7JfSqo9FY+Yv6PWzWLaf6P4z1GE9Lq2huF+qlkb9AlY1NJxl8vvX+aRcdU0bVFFFbEBRRRQAUUUUAFFFFABRRRQAUUUUAFFFFABRRRQAUUUUAFFFFABRRRQAUUUUAFFFFABRRRQAUUUUAFFFFABRRRQAUUUUAFFFFABRRRQAUUUUAFFFFABRRRQAUUUUAFFFFABRRRQAUUUUAFFFFABRRRQAUUUUAFFFFABRRRQAUUUUAFFFFABRRRQAUUUUAFFFFABRRRQAUUUUAFFFFABRRRQAUUUUAFFFFABWJqf+j+KtGuegmE1o59cqHUfnGfzrbrD8WfutJhvf+fG7huD9A4Df+OsawxGlNy7a/c7lw+KxuUUUVuQFFFFABRRRQAUUUUAFFFFABRRRQAUUUUAFFFFABRRRQAUUUUAFFFFABRRRQAUUUUAFFFFABRRRQAUUUUAFFFFABRRRQAUUUUAFFFFABRRRQAUUUUAFFFFABRRRQAUUUUAFFFFABRRRQAUUUUAFFFFABRRRQAUUUUAFFFFABRRRQAUUUUAFFFFABRRRQAUUUUAFFFFABRRRQAUUUUAFFFFABRRRQAUUUUAFUdbtPt+g31pjJmt3QfUqcfrV6iplFSi4vqNOzuUdDvP7Q0Cwuycma3R2+pUZ/Wr1YfhD934fFqetpcTW5/4DIwH6YrcqKMnKlFvshzVpNBRRRWpIUUUUAFFFFABRRRQAUUUUAFFFFABRRRQAUUUUAFFFFABRRRQAUUUUAFFFFABRRRQAUUUUAFFFFABRRRQAUUUUAFFFFABRRRQAUUUUAFFFFABRRRQAUUUUAFFFFABRRRQAUUUUAFFFFABRRRQAUUUUAFFFFABRRRQAUUUUAFFFFABRRRQAUUUUAFFFFABRRRQAUUUUAFFFFABRRRQAUUUUAFFFFABRRRQBiaF+41fXbX+7eCYfSSNT/MNW3WLB+48cXajpdWMUn4o7Kf0Za2qwoaRa7N/n/kXPe4UUUVuQFFFFABRRRQAUUUUAFFFFABRRRQAUUUUAFFFFABRRRQAUUUUAFFFFABRRRQAUUUUAFFFFABRRRQAUUUUAFFFFABRRRQAUUUUAFFFFABRRRQAUUUUAFFFFABRRRQAUUUUAFFFFABRRRQAUUUUAFFFFABRRRQAUUUUAFFFFABRRRQAUUUUAFFFFABRRRQAUUUUAFFFFABRRRQAUUUUAFFFFABRRRQAUUUUAY2oDyfFmjzDjzY57c++VVx/6LNbNY/iH5G0qf8A55ajFz/vho//AGetisaek5rzv+C/yLlsgooorYgKKKKACiiigAooooAKKKKACiiigAooooAKKKKACiiigAooooAKKKKACiiigAooooAKKKKACiiigAooooAKKKKACiiigAooooAKKKKACiiigAooooAKKKKACiiigAooooAKKKKACiiigAooooAKKKKACiiigAooooAKKKKACiiigAooooAKKKKACiiigAooooAKKKKACiiigAooooAK808VeMr+41Sex0m4a0trZzG8sYw8jjg4PYA+nWvS68JY5mnJ5JmkJPr85r5zP8VVoUYxpu3MzvwNOM5ty6Fj+1NW/wCgzqX/AIFv/jR/amrf9BnUv/At/wDGuKa5s21K/GoajqUTpcMqJA820Lgf3QRWouoRWGlW8lp9pvUmmEa+a7byTn+/z1HevmKkMVFK05Xdu6W1972PSjKm76I6H+1NW/6DOpf+Bb/40f2pq3/QZ1L/AMC3/wAaxItWdJbiLUbb7K8MXnZWTerJ65wOfai21K7lkiM2mvFBN9yQSBivGRvUD5fzNYN4tXbk/wDwL8tdfkX+67fgbEt9qM6hZtV1CRQwYB7pyAQcg9eoIzT/AO1NW/6DOpf+Bb/41z7a5L5L3cdgz2CE5m8wBiAcFgmOR+OfarsF6J76a3VfljRHD5+9uz2/ClJ4uCcnJ/f/AMHz2GvZPRL8DT/tTVv+gzqX/gW/+NH9qat/0GdS/wDAt/8AGuffXGFvayR2jSPczvCqK44I3c5I/wBmlbVLpre+ia1WG8t4t4TzdykEHDBsex7dqu2M6yf/AIF5279yf3Pb8Df/ALU1b/oM6l/4Fv8A40f2pq3/AEGdS/8AAt/8a52DVp4tOsklt1kvJ49yp5wAKgDLMxHHUdj1pz695VjcSyWx8+2ZVeFZA2dxABDd/wBKOXG3spN62387d9r9dgvRtt+B1Vj4n1zTJlli1Ge6VfvQ3TmRXHpk8j6g16xpOpQ6xpNvf22RHOm4A9VPQg/Q5FeHWsk8sO66gWB88KJN/H1wK9W+Hh/4ou2HYSyge37xq9/IMVXlWlQqSurX3v8AicOOpwUFOKsdPRRRX2B5QUUUUAFFFFABRRRQAUUUUAFFFFABRRRQAUUUUAFFFFABRRRQAUUUUAFFFFABRRRQAUUUUAFFFFABRRRQAUUUUAFFFFABRRRQAUUUUAFFFFABRRRQAUUUUAFFFFABRRRQAUUUUAFFFFABRRRQAUUUUAFFFFABRRRQAUUUUAFFFFABRRRQAUUUUAFFFFABRRRQAV4Qf9bN/wBdpP8A0I17vXhB/wBbN/12k/8AQjXyfEv8On6s9TLvikYcD6lYXV6I9KkuI5rhpEkWeNcggdic9qmuEvNQgtHeza3eO6V2jaRWIUd8g4qzql9Jp9skkMAnkklWNUL7OT74NR293qr3CLcaXFFET8zrdbiv4bRmvm+acoqqoxXnezdl2cvyR6Fkny3f3f8AAIr/AEyS+1C4BG2GayMO/PRifTrS276rK1vBLbLbJH/rpfMVhIAMYUdeffGKuvqFnG4SS7gVmYqA0gBJ9PrT7i6t7WPfdTxwpnG6Rwo/M1l7WpyqDjfto/wK5Y3umYv2bU4tLfSY7VWUho1ujIAoQ9yvXIB6Y/Gp/s95p+otJaWv2qKWGOMfvApQrkZOe3PbNXLu6u0jjfTrWO8RhksZwgHpjg5qrpmq3t9HHPNp8dvaupYy/aQxUD22it+etKDnyxt113b8r3vpolb0ItBNK7v/AF5Fe3028SHSxLGN9vdSSSkMMAEPg/qKsvYzvq2oShMRz2iRIxI5Ybs+/cVoW93b3alrWeKdQcExuGA/KkivbWeZoobmGSRPvIkgJX6isZYitKTbj66bXd/zKUIJLX+rWMKTTLiaGwuJ9Mjne2iMMlrMyNuHHzKTkZ474qSTTZpNKuVg0y2s2kkjKQwhQxAYEliOPXgVoWusWd39qKTxAWzEOfMB4H8XsOv5UaZq0WqtcGCN1jhcKruMbwRnIHpXRKtiYq7hbls+umt0t+/zIUKb0vuX69Q+Hf8AyJlv/wBdZf8A0Y1eX16h8O/+RMt/+usv/oxq9Dhz/epf4f1RhmH8Jep09FFFfeHiBRRRQAUUUUAFFFFABRRRQAUUUUAFFFFABRRRQAUUUUAFFFFABRRRQAUUUUAFFFFABRRRQAUUUUAFFFFABRRRQAUUUUAFFFFABRRRQAUUUUAFFFFABRRRQAUUUUAFFFFABRRRQAUUUUAFFFFABRRRQAUUUUAFFFFABRRRQAUUUUAFFFFABRRRQAUUUUAFFFFABXhB/wBbN/12k/8AQjXu9eGXMLW2o3lvKMSQ3EisD/vHn8q+U4lT9lTfmz08u+KRh+JFV7G2WSRo1N3GC6ttK89Qe1OtLOzgukePVbmZgeEkvS4b8Cea0p7aC6i8u6hjmjznZIgYZ+hqvHpGmwyLJDp9rG6nKssCgg+xxXy0MRFUfZttb7banpOD5+YyIrS3k03W3khR2aaXLMuTwOKdZtE+rWzagYzmwQwGXHX+PGe/St4QRBHURIFkJLgKMMT1z60yWztp4Vhnt4pIl+6joCo+gNafXE7p31/DRLT7vuF7Jq1ivpjWj2LnT4ykHmOF/usc8leemawpN3/CG6f86xxeavms6blC7j94ZGRnFdUqqiBVUKoGAAOAKasMSQ+SkSLFjGwKAuPpWdPEqEnK19U/uv8AjqVKm2reRgw26JqjPNqVvI/2Zw6WtsUJT1JDHp2/HFQWe21n01c2V7AW2W80AMcq5U8lRwRjr0+ldFb2ltaKVtbeKAMckRoFz+VJFY2kEzTQWsMcrfedIwGP1IrX65F3Tu9LdF37Wtv59mR7J6FHSUhaTUY9qE/anDLgdMDqKk0//kLap/11T/0AVdW3hSd50hjWVxhpAoDMPc96csaI7MiKrOcsQMFvr61zzrKTl5pfp/kaKDVvIdXp/wAO/wDkTLf/AK6y/wDoxq8wJwMngV6n4AheHwXZeYCDIXkAI7M5I/TB/Gvc4bT+syf939UceYfw16nSUUUV92eIFFFFABRRRQAUUUUAFFFFABRRRQAUUUUAFFFFABRRRQAUUUUAFFFFABRRRQAUUUUAFFFFABRRRQAUUUUAFFFFABRRRQAUUUUAFFFFABRRRQAUUUUAFFFFABRRRQAUUUUAFFFFABRRRQAUUUUAFFFFABRRRQAUUUUAFFFFABRRRQAUUUUAFFFFABRRRQAUUUUAFc34i8F2evXH2tJXs7zAVpkG4OB03KeuPXrXSUVjWo068OSoroqE5Qd4s88/4Vjd/wDQbj/8BP8A7Oj/AIVjd/8AQbj/APAT/wCzr0OivO/sXAf8+/xf+Z0fXK/8x55/wrG7/wCg3H/4Cf8A2dH/AArG7/6Dcf8A4Cf/AGdeh0Uf2LgP+ff4v/MPrlf+Y88/4Vjd/wDQbj/8BP8A7Oj/AIVjd/8AQbj/APAT/wCzr0Oij+xcB/z7/F/5h9cr/wAx55/wrG7/AOg3H/4Cf/Z0f8Kxu/8AoNx/+An/ANnXodFH9i4D/n3+L/zD65X/AJjzz/hWN3/0G4//AAE/+zo/4Vjd/wDQbj/8BP8A7OvQ6KP7FwH/AD7/ABf+YfXK/wDMcNYfDOCO4V9V1B7yNTkwpF5St7E5JI/Ku4VVRQqKFVRgADAApaK7sPhKGGjy0Y2MalWdR3m7hRRRXSZhRRRQAUUUUAFFFFABRRRQAUUUUAFFFFABRRRQAUUUUAFFFFABRRRQAUUUUAFFFFABRRRQAUUUUAFFFFABRRRQAUUUUAFFFFABRRRQAUUUUAFFFFABRRRQAUUUUAFFFFABRRRQAUUUUAFFFFABRRRQAUUUUAFFFFABRRRQAUUUUAFFFFABRRRQAUUUUAFFFFABRRRQAUUUUAFFFFABRRRQAUUUUAFFFFABRRRQAUUUUAFFFFABRRRQAUUUUAFFFFABRRRQAUUUUAFFFFABRRRQAUUUUAFFFFABRRRQAUUUUAFFFFABRRRQAUUUUAFFFFABRRRQAUUUUAFFFFABRRRQAUUUUAFFFFABRRRQAUUUUAFFFFABRRRQAUUUUAFFFFABRRRQAUUUUAFFFFABRRRQAUUUUAFFFFABRRRQAUUUUAFFFFABRRRQAUUUUAFFFFABRRRQAUUUUAFFFFABRRRQAUUUUAFFFFABRRRQAUUUUAFFFFABRRRQAUUUUAFFFFABRRRQAUUUUAFFFFABRRRQAUUUUAFFFFABRRRQAUUUUAFFFFABRRRQAUUUUAFFFFABRRRQAUUUUAFFFFABRRRQAUUUUAFFFFABRRRQAUUUUAFFFFABRRRQAUUUUAFFFFABRRRQAUUUUAFFFFABRRRQAUUUUAFFFFABRRRQAUUUUAFFFFABRRRQAUUUUAFFFFABRRRQAUUUUAFFFFABRRRQAUUUUAFFFFABRRRQAUUUUAFFFFABRRRQAUUUUAFFFFABRRRQAUUUUAFFFFAH/9k=)"
      ],
      "metadata": {
        "id": "e6GbAjK40HdK"
      }
    }
  ],
  "metadata": {
    "colab": {
      "provenance": [],
      "toc_visible": true,
      "include_colab_link": true
    },
    "kernelspec": {
      "display_name": "Python 3",
      "language": "python",
      "name": "python3"
    },
    "language_info": {
      "codemirror_mode": {
        "name": "ipython",
        "version": 3
      },
      "file_extension": ".py",
      "mimetype": "text/x-python",
      "name": "python",
      "nbconvert_exporter": "python",
      "pygments_lexer": "ipython3",
      "version": "3.8.8"
    }
  },
  "nbformat": 4,
  "nbformat_minor": 0
}