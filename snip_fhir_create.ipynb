{
  "nbformat": 4,
  "nbformat_minor": 0,
  "metadata": {
    "colab": {
      "provenance": [],
      "collapsed_sections": [],
      "authorship_tag": "ABX9TyN5GRLtcbG4KrKjfcaUvXJh",
      "include_colab_link": true
    },
    "kernelspec": {
      "name": "python3",
      "display_name": "Python 3"
    },
    "language_info": {
      "name": "python"
    }
  },
  "cells": [
    {
      "cell_type": "markdown",
      "metadata": {
        "id": "view-in-github",
        "colab_type": "text"
      },
      "source": [
        "<a href=\"https://colab.research.google.com/github/alexontour/snippets/blob/main/snip_fhir_create.ipynb\" target=\"_parent\"><img src=\"https://colab.research.google.com/assets/colab-badge.svg\" alt=\"Open In Colab\"/></a>"
      ]
    },
    {
      "cell_type": "markdown",
      "source": [
        "**Author: Alexander Kollmann, 08/2022**\n",
        "\n",
        "---\n",
        "\n",
        "**Funktion**\n",
        "\n",
        "FHIR-Server ansprechen (HAPI)\n",
        "\n",
        "FHIR - Ressorcen schreiben und verknüpfen (versch. Optionen)\n",
        "\n",
        "Patient, Encounter, Observation, Condition\n",
        "\n",
        "---\n",
        "\n",
        "\n",
        "\n",
        "**Referenzen**\n",
        "\n",
        "https://colab.research.google.com/drive/1OSuqqACnCqw8h67E7DKDMyIGO1C2qbEq?usp=sharing#scrollTo=rU-lfJob3fOf\n",
        "\n",
        "---\n",
        "\n"
      ],
      "metadata": {
        "id": "M38yeRPGzMtb"
      }
    },
    {
      "cell_type": "code",
      "source": [
        "import json\n",
        "import requests\n",
        "from collections import OrderedDict\n",
        "from io import StringIO"
      ],
      "metadata": {
        "id": "LImJnBaNJj5T"
      },
      "execution_count": 1,
      "outputs": []
    },
    {
      "cell_type": "code",
      "source": [
        "# Define Base URL\n",
        "url = \"http://hapi.fhir.org/baseR4/\" # Open HAPI FHIR Server\n",
        "#url = \"https://server.fire.ly/R4/\" # Open Firely Server\n",
        "\n",
        "# Header definieren\n",
        "headers = {\"Content-Type\": \"application/fhir+json;charset=utf-8\"}"
      ],
      "metadata": {
        "id": "Nzln2QiRJmQ_"
      },
      "execution_count": 2,
      "outputs": []
    },
    {
      "cell_type": "code",
      "source": [
        "#Option 1: JSON - Objekt erstellen\n",
        "patient = json.loads(\"\"\"{\n",
        "   \"resourceType\":\"Patient\",\n",
        "   \"name\":[\n",
        "      {\n",
        "         \"given\": \"Christiano\",\n",
        "         \"family\": \"Ronaldo\",\n",
        "         \"text\":\"Christiano Ronaldo\",\n",
        "         \"use\": \"official\"\n",
        "      }\n",
        "   ],\n",
        "   \"gender\":\"male\",\n",
        "   \"birthDate\":\"1950-01-01\"\n",
        "}\"\"\")"
      ],
      "metadata": {
        "id": "kiVFzH4rJqhK"
      },
      "execution_count": 3,
      "outputs": []
    },
    {
      "cell_type": "code",
      "source": [
        "# FHIR Ressource an FHIR-Server senden (POST)\n",
        "response = requests.request(\"POST\", url + \"Patient\", headers=headers, data=str(patient))\n",
        "\n",
        "# Ergebnis (Response) verarbeiten\n",
        "patient_id = json.loads(response.text)['id']\n",
        "patient_name = json.loads(response.text)['name']\n",
        "#response.json()\n",
        "\n",
        "\n",
        "print(\"Patient-ID: \" + patient_id)\n",
        "#print(patient_name[0]['given'])\n",
        "\n"
      ],
      "metadata": {
        "colab": {
          "base_uri": "https://localhost:8080/"
        },
        "id": "ldbyaqlgJ2cY",
        "outputId": "7a422d15-3a75-429e-de97-a3b00d9b7156"
      },
      "execution_count": 6,
      "outputs": [
        {
          "output_type": "stream",
          "name": "stdout",
          "text": [
            "Patient-ID: 6998276\n"
          ]
        }
      ]
    },
    {
      "cell_type": "code",
      "source": [
        "# Option 2: Erzeugen der FHIR-Ressource in eine Funktion auslagern\n",
        "def create_patient():\n",
        "\n",
        "    body = {\n",
        "        \"name\":[\n",
        "            {\n",
        "              \"given\": \"Christiano\",\n",
        "              \"family\": \"Ronaldo\",\n",
        "              \"text\":\"Christiano Ronaldo\",\n",
        "              \"use\": \"official\"\n",
        "            }\n",
        "        ],\n",
        "        \"birthDate\":\"1950-01-01\",\n",
        "        \"gender\": \"male\",\n",
        "        \"resourceType\": \"Patient\",\n",
        "    }\n",
        "\n",
        "    io = StringIO()\n",
        "    json.dump(body, io, indent=2)\n",
        "\n",
        "    return io\n"
      ],
      "metadata": {
        "id": "qSAAYrmvOjjn"
      },
      "execution_count": 8,
      "outputs": []
    },
    {
      "cell_type": "code",
      "source": [
        "# FHIR Ressource über Funktionsaufruf erstellen unn an FHIR-Server senden (POST)\n",
        "response = requests.request(\"POST\", url + \"Patient\", headers=headers, data=create_patient().getvalue())\n",
        "\n",
        "patient_id = json.loads(response.text)['id']\n",
        "#atient_name = json.loads(response.text)['name']\n",
        "#response.json()\n",
        "\n",
        "\n",
        "print(\"Patient-ID: \"+ patient_id)\n",
        "#print(patient_name[0]['given'])\n"
      ],
      "metadata": {
        "colab": {
          "base_uri": "https://localhost:8080/"
        },
        "id": "FnXdm6J2PMWA",
        "outputId": "99f3ddc4-eee0-402a-824b-01e96056fea1"
      },
      "execution_count": 9,
      "outputs": [
        {
          "output_type": "stream",
          "name": "stdout",
          "text": [
            "Patient-ID: 6998277\n"
          ]
        }
      ]
    },
    {
      "cell_type": "code",
      "source": [
        "def create_encounter(patient_id):\n",
        "\n",
        "    body = {\n",
        "        \"status\": \"finished\",\n",
        "        \"class\": {\n",
        "            \"system\": \"http://hl7.org/fhir/v3/ActCode\",\n",
        "            \"code\": \"IMP\",\n",
        "            \"display\": \"inpatient encounter\",\n",
        "        },\n",
        "        \"reason\": [\n",
        "            {\n",
        "                \"text\": \"The patient had an abnormal heart rate. She was concerned about this.\"\n",
        "            }\n",
        "        ],\n",
        "        \"subject\": {\"reference\": \"Patient/{}\".format(patient_id)},\n",
        "        \"resourceType\": \"Encounter\",\n",
        "    }\n",
        "\n",
        "    io = StringIO()\n",
        "    json.dump(body, io, indent=2)\n",
        "\n",
        "    return io\n",
        "\n",
        "\n",
        "# [END healthcare_create_encounter]\n",
        "\n",
        "response = requests.request(\"POST\", url + \"Encounter\", headers=headers, data=create_encounter(patient_id).getvalue())\n",
        "\n",
        "encounter_id = json.loads(response.text)['id']\n",
        "#response.json()\n",
        "\n",
        "print(\"Encounter-ID: \" + encounter_id)"
      ],
      "metadata": {
        "id": "oeuGYcrCfnBA",
        "colab": {
          "base_uri": "https://localhost:8080/"
        },
        "outputId": "56c829a0-0096-4003-df29-6b4f619bec32"
      },
      "execution_count": 10,
      "outputs": [
        {
          "output_type": "stream",
          "name": "stdout",
          "text": [
            "Encounter-ID: 6998278\n"
          ]
        }
      ]
    },
    {
      "cell_type": "code",
      "source": [
        "def create_observation(patient_id,encounter_id):\n",
        "\n",
        "    body = {\n",
        "        \"resourceType\": \"Observation\",\n",
        "        \"code\": {\n",
        "            \"coding\": [\n",
        "                {\n",
        "                    \"system\": \"http://loinc.org\",\n",
        "                    \"code\": \"8867-4\",\n",
        "                    \"display\": \"Heart rate\",\n",
        "                }\n",
        "            ]\n",
        "        },\n",
        "        \"status\": \"final\",\n",
        "        \"subject\": {\"reference\": \"Patient/{}\".format(patient_id)},\n",
        "        \"effectiveDateTime\": \"2019-01-01T00:00:00+00:00\",\n",
        "        \"valueQuantity\": {\"value\": 80, \"unit\": \"bpm\"},\n",
        "        \"context\": {\"reference\": \"Encounter/{}\".format(encounter_id)},\n",
        "    }\n",
        "\n",
        "    io = StringIO()\n",
        "    json.dump(body, io, indent=2)\n",
        "\n",
        "    return io\n",
        "\n",
        "response = requests.request(\"POST\", url + \"Observation\", headers=headers, data=create_observation(patient_id,encounter_id).getvalue())\n",
        "\n",
        "observation_id = json.loads(response.text)['id']\n",
        "#response.json()\n",
        "\n",
        "print(\"Observation-ID: \" + observation_id)"
      ],
      "metadata": {
        "id": "zKddjdhOf74m",
        "colab": {
          "base_uri": "https://localhost:8080/"
        },
        "outputId": "78a2394d-2d43-43a9-b73d-b6e990a2fce2"
      },
      "execution_count": 11,
      "outputs": [
        {
          "output_type": "stream",
          "name": "stdout",
          "text": [
            "Observation-ID: 6998279\n"
          ]
        }
      ]
    },
    {
      "cell_type": "code",
      "source": [
        "# Option 3: FHIR-Ressource über Dictionary erstellen\n",
        "problem = OrderedDict()\n",
        "problem['resourceType'] = 'Condition'\n",
        "#problem['id'] = 'example'\n",
        "problem['patient'] = {\"reference\": \"Patient/{}\".format(patient_id)}\n",
        "#problem['encounter'] = {'reference': 'Encounter/67890'}\n",
        "problem['dateRecorded'] = '2021-04-01T13:00'\n",
        "problem['code'] = {'coding':\n",
        "                       [{'system': 'http://hl7.org/fhir/sid/icd-10-us',\n",
        "                         'code': 'E10.65',\n",
        "                         'display': 'Type 1 Diabetes Mellitus with Hyperglycemia'}]}\n",
        "problem['clinicalStatus'] = \"active\"\n",
        "problem['verificationStatus'] = 'provisional'\n",
        "\n",
        "io = StringIO()\n",
        "json.dump(problem, io, indent=2)\n",
        "#print(io.getvalue())\n",
        "\n",
        "response = requests.request(\"POST\", url + \"Condition\", headers=headers, data=io.getvalue())\n",
        "\n",
        "condition_id = json.loads(response.text)['id']\n",
        "#response.json()\n",
        "\n",
        "print(\"Condition-ID: \" + condition_id)"
      ],
      "metadata": {
        "id": "dywQlGmaXU2j",
        "colab": {
          "base_uri": "https://localhost:8080/"
        },
        "outputId": "0cafe92a-8360-4fe5-82f8-02ee2027de52"
      },
      "execution_count": 13,
      "outputs": [
        {
          "output_type": "stream",
          "name": "stdout",
          "text": [
            "Condition-ID: 6998281\n"
          ]
        }
      ]
    }
  ]
}