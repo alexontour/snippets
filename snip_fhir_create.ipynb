{
  "cells": [
    {
      "cell_type": "markdown",
      "metadata": {
        "id": "view-in-github",
        "colab_type": "text"
      },
      "source": [
        "<a href=\"https://colab.research.google.com/github/alexontour/snippets/blob/main/snip_fhir_create.ipynb\" target=\"_parent\"><img src=\"https://colab.research.google.com/assets/colab-badge.svg\" alt=\"Open In Colab\"/></a>"
      ]
    },
    {
      "cell_type": "markdown",
      "metadata": {
        "id": "M38yeRPGzMtb"
      },
      "source": [
        "**Author: Alexander Kollmann, 08/2022**\n",
        "\n",
        "---\n",
        "\n",
        "**Funktion**\n",
        "\n",
        "Verbindung zu einem FHIR-Server herstellen (Firely, HAPI, etc.)\n",
        "\n",
        "FHIR - Ressorcen schreiben und verknüpfen (versch. Möglichkeiten)\n",
        "\n",
        "> Patient, Encounter, Observation, Condition\n",
        "\n",
        "AddOn - GUI / Eingabemaske\n",
        "---\n",
        "\n",
        "**Referenzen**\n",
        "\n",
        "https://colab.research.google.com/drive/1OSuqqACnCqw8h67E7DKDMyIGO1C2qbEq?usp=sharing#scrollTo=rU-lfJob3fOf\n",
        "\n",
        "https://github.com/Alvearie/FHIR-from-Jupyter\n",
        "\n",
        "https://pypi.org/project/fhirclient/\n",
        "\n",
        "https://github.com/intrahealth/client-registry/blob/master/docs/notebooks/load_bulk_data_in_python.ipynb\n",
        "\n",
        "https://github.com/CODA-19/csv-to-fhir/blob/master/demo_csv-json.py\n",
        "\n",
        "https://github.com/Healthedata1/smart_pythonclient_example/blob/master/Argo-patient-example.ipynb\n",
        "\n",
        "https://www.convertcsv.com/xml-to-csv.htm\n",
        "\n",
        "---\n",
        "\n"
      ]
    },
    {
      "cell_type": "markdown",
      "source": [
        "das ist eine beschreibung\n"
      ],
      "metadata": {
        "id": "vfu0iLy-pbLx"
      }
    },
    {
      "cell_type": "code",
      "execution_count": 1,
      "metadata": {
        "id": "LImJnBaNJj5T"
      },
      "outputs": [],
      "source": [
        "import json\n",
        "import requests\n",
        "from collections import OrderedDict\n",
        "from io import StringIO\n",
        "\n",
        "# Optional zur Darstellung einer Web-Seite\n",
        "from IPython.display import IFrame"
      ]
    },
    {
      "cell_type": "code",
      "execution_count": 2,
      "metadata": {
        "id": "Nzln2QiRJmQ_"
      },
      "outputs": [],
      "source": [
        "# Base URL zum FHIR-Server\n",
        "# https://confluence.hl7.org/display/FHIR/Public+Test+Servers\n",
        "\n",
        "url = \"https://hapi.ehealth-solutions.at/fhir/\"\n",
        "#url = \"http://hapi.fhir.org/baseR4/\"\n",
        "#url = 'https://server.fire.ly/'\n",
        "\n",
        "# https://hub.docker.com/r/hapiproject/hapi\n",
        "# url = \"http://hapifhir4ako.duckdns.org/fhir/\"\n",
        "\n",
        "# Header definieren\n",
        "headers = {\"Content-Type\": \"application/fhir+json;charset=utf-8\"}"
      ]
    },
    {
      "cell_type": "code",
      "execution_count": 3,
      "metadata": {
        "id": "MFVUP0ptoq8C"
      },
      "outputs": [],
      "source": [
        "# Zufalls-Wert für Namen generieren um Dubletten zu vermeiden\n",
        "\n",
        "import random\n",
        "import string\n",
        "\n",
        "def get_random_string(length):\n",
        "    # choose from all lowercase letter\n",
        "    letters = string.ascii_letters\n",
        "    result_str = ''.join(random.choice(letters) for i in range(length))\n",
        "    return result_str"
      ]
    },
    {
      "cell_type": "markdown",
      "metadata": {
        "id": "UC4QrIcxm05F"
      },
      "source": [
        "# **Patient**\n",
        "\n",
        "https://www.hl7.org/fhir/patient.html\n",
        "\n",
        "Demographics and other administrative information about an individual or animal receiving care or other health-related services. This Resource covers data about patients and animals involved in a wide range of health-related activities."
      ]
    },
    {
      "cell_type": "code",
      "execution_count": 4,
      "metadata": {
        "colab": {
          "base_uri": "https://localhost:8080/",
          "height": 371
        },
        "id": "buzROHnEPSqO",
        "outputId": "f5f55231-936a-43fe-a4e8-961a24fe44a2"
      },
      "outputs": [
        {
          "output_type": "execute_result",
          "data": {
            "text/plain": [
              "<IPython.lib.display.IFrame at 0x79cf2464ce60>"
            ],
            "text/html": [
              "\n",
              "        <iframe\n",
              "            width=\"1200\"\n",
              "            height=\"330\"\n",
              "            src=\"https://www.hl7.org/fhir/patient.html\"\n",
              "            frameborder=\"0\"\n",
              "            allowfullscreen\n",
              "            \n",
              "        ></iframe>\n",
              "        "
            ]
          },
          "metadata": {},
          "execution_count": 4
        }
      ],
      "source": [
        "\n",
        "# HL7 FHIR defines a set of \"resources\" for exchanging information.\n",
        "IFrame('https://www.hl7.org/fhir/patient.html', width=1200, height=330)"
      ]
    },
    {
      "cell_type": "code",
      "execution_count": 5,
      "metadata": {
        "colab": {
          "base_uri": "https://localhost:8080/",
          "height": 371
        },
        "id": "Wk8Vmo30gkJx",
        "outputId": "9cd09053-71aa-46d0-fe41-ec99ffe2023a"
      },
      "outputs": [
        {
          "output_type": "execute_result",
          "data": {
            "text/plain": [
              "<IPython.lib.display.IFrame at 0x79cf2464d5b0>"
            ],
            "text/html": [
              "\n",
              "        <iframe\n",
              "            width=\"1200\"\n",
              "            height=\"330\"\n",
              "            src=\"https://jsonformatter.org/jsbeautifier\"\n",
              "            frameborder=\"0\"\n",
              "            allowfullscreen\n",
              "            \n",
              "        ></iframe>\n",
              "        "
            ]
          },
          "metadata": {},
          "execution_count": 5
        }
      ],
      "source": [
        "# JSON Formatieren und Editiern\n",
        "IFrame('https://jsonformatter.org/jsbeautifier', width=1200, height=330)"
      ]
    },
    {
      "cell_type": "code",
      "execution_count": 6,
      "metadata": {
        "id": "kiVFzH4rJqhK"
      },
      "outputs": [],
      "source": [
        "# Option 1: JSON - Ressouce erstellen lt. Datenmodell\n",
        "# json.load() takes a file object and returns the json object. It is used to read JSON encoded data from a file and convert it into a\n",
        "# Python dictionary and deserialize a file itself i.e. it accepts a file object.\n",
        "\n",
        "patient = json.loads(\"\"\"{\n",
        "   \"resourceType\":\"Patient\",\n",
        "   \"name\":[\n",
        "      {\n",
        "         \"given\": \"Alex\",\n",
        "         \"family\": \"KO\",\n",
        "         \"text\":\"FHWN HCI2025\",\n",
        "         \"use\": \"official\"\n",
        "      }\n",
        "   ],\n",
        "   \"gender\":\"male\",\n",
        "   \"birthDate\":\"2012-12-12\"\n",
        "}\"\"\")"
      ]
    },
    {
      "cell_type": "code",
      "execution_count": 7,
      "metadata": {
        "id": "JvLVovRZjZbU"
      },
      "outputs": [],
      "source": [
        "# JSON von URL laden\n",
        "# url_austrian_patient = \"https://raw.githubusercontent.com/alexontour/snippets/main/austrian_patient_example.json\"\n",
        "# patient = requests.get(url_austrian_patient).json()\n",
        "\n",
        "# dict in json umwandeln\n",
        "# patient = json.dumps(patient, indent = 2)\n"
      ]
    },
    {
      "cell_type": "code",
      "execution_count": 8,
      "metadata": {
        "colab": {
          "base_uri": "https://localhost:8080/"
        },
        "id": "ldbyaqlgJ2cY",
        "outputId": "74273bf6-8e46-4a8d-f2a4-3994cbb4fb74"
      },
      "outputs": [
        {
          "output_type": "stream",
          "name": "stdout",
          "text": [
            "Patient-Name: [{'use': 'official', 'text': 'FHWN HCI2025', 'family': 'KO', 'given': ['Alex']}]\n",
            "Patient-ID: 45\n"
          ]
        }
      ],
      "source": [
        "# FHIR Ressource an FHIR-Server senden (POST)\n",
        "response = requests.request(\"POST\", url + \"Patient\", headers=headers, data=str(patient))\n",
        "\n",
        "# Ergebnis (Response) verarbeiten\n",
        "patient_id = json.loads(response.text)['id']\n",
        "patient_name = json.loads(response.text)['name']\n",
        "#response.json()\n",
        "\n",
        "print(\"Patient-Name: \"+ str(patient_name))\n",
        "print(\"Patient-ID: \" + patient_id)\n",
        "#print(patient_name[0]['given'])"
      ]
    },
    {
      "cell_type": "code",
      "execution_count": 9,
      "metadata": {
        "id": "5iv-UmxWsrzj"
      },
      "outputs": [],
      "source": [
        "#print(response.text)"
      ]
    },
    {
      "cell_type": "code",
      "execution_count": 10,
      "metadata": {
        "id": "qSAAYrmvOjjn"
      },
      "outputs": [],
      "source": [
        "# Option 2: Erzeugen der FHIR-Ressource als Python-Dictionary in eine Funktion auslagern\n",
        "# Dictionaries are used to store data values in key:value pairs. A dictionary is a collection which is ordered*, changeable and do not allow duplicates.\n",
        "\n",
        "def create_patient():\n",
        "\n",
        "    # Random Namenszusatz für Eindeutigkeit\n",
        "    rand = get_random_string(5)\n",
        "\n",
        "    body = {\n",
        "        \"name\":[\n",
        "            {\n",
        "              \"given\": \"Fachhochschule\",\n",
        "              \"family\": \"WienerNeustadt{}\".format(rand),\n",
        "              \"text\":\"Fachhochschule WienerNeustadt{}\".format(rand),\n",
        "              \"use\": \"official\"\n",
        "            }\n",
        "        ],\n",
        "        \"birthDate\":\"2022-12-05\",\n",
        "        \"gender\": \"female\",\n",
        "        \"resourceType\": \"Patient\",\n",
        "    }\n",
        "\n",
        "    io = StringIO()\n",
        "    json.dump(body, io, indent=2)\n",
        "\n",
        "    return io\n"
      ]
    },
    {
      "cell_type": "code",
      "execution_count": 11,
      "metadata": {
        "colab": {
          "base_uri": "https://localhost:8080/"
        },
        "id": "FnXdm6J2PMWA",
        "outputId": "97286527-85ed-4a50-9b23-35a03e575764"
      },
      "outputs": [
        {
          "output_type": "stream",
          "name": "stdout",
          "text": [
            "Patient-Name: [{'use': 'official', 'text': 'Fachhochschule WienerNeustadtxDEqu', 'family': 'WienerNeustadtxDEqu', 'given': ['Fachhochschule']}]\n",
            "Patient-ID: 46\n"
          ]
        }
      ],
      "source": [
        "# FHIR Ressource über Funktionsaufruf erstellen unn an FHIR-Server senden (POST)\n",
        "response = requests.request(\"POST\", url + \"Patient\", headers=headers, data=create_patient().getvalue())\n",
        "\n",
        "patient_id = json.loads(response.text)['id']\n",
        "patient_name = json.loads(response.text)['name']\n",
        "\n",
        "print(\"Patient-Name: \"+ str(patient_name))\n",
        "print(\"Patient-ID: \"+ patient_id)"
      ]
    },
    {
      "cell_type": "markdown",
      "metadata": {
        "id": "PR2stYl7oF7a"
      },
      "source": [
        "# **Encounter**\n",
        "\n",
        "https://www.hl7.org/fhir/encounter.html\n",
        "\n",
        "A patient encounter is further characterized by the setting in which it takes place. Amongst them are ambulatory, emergency, home health, inpatient and virtual encounters. An Encounter encompasses the lifecycle from pre-admission, the actual encounter (for ambulatory encounters), and admission, stay and discharge (for inpatient encounters). During the encounter the patient may move from practitioner to practitioner and location to location."
      ]
    },
    {
      "cell_type": "code",
      "execution_count": 12,
      "metadata": {
        "colab": {
          "base_uri": "https://localhost:8080/",
          "height": 371
        },
        "id": "wT_PgSyrcMO0",
        "outputId": "28389b1b-449b-4d13-f834-a776e5892711"
      },
      "outputs": [
        {
          "output_type": "execute_result",
          "data": {
            "text/plain": [
              "<IPython.lib.display.IFrame at 0x79cf2464e630>"
            ],
            "text/html": [
              "\n",
              "        <iframe\n",
              "            width=\"1200\"\n",
              "            height=\"330\"\n",
              "            src=\"https://www.hl7.org/fhir/encounter.html\"\n",
              "            frameborder=\"0\"\n",
              "            allowfullscreen\n",
              "            \n",
              "        ></iframe>\n",
              "        "
            ]
          },
          "metadata": {},
          "execution_count": 12
        }
      ],
      "source": [
        "# HL7 FHIR defines a set of \"resources\" for exchanging information.\n",
        "IFrame('https://www.hl7.org/fhir/encounter.html', width=1200, height=330)"
      ]
    },
    {
      "cell_type": "code",
      "execution_count": 13,
      "metadata": {
        "colab": {
          "base_uri": "https://localhost:8080/"
        },
        "id": "oeuGYcrCfnBA",
        "outputId": "4ab9a3d7-4931-4650-9151-a46c401c9ac3"
      },
      "outputs": [
        {
          "output_type": "stream",
          "name": "stdout",
          "text": [
            "Encounter-ID: 47\n"
          ]
        }
      ],
      "source": [
        "def create_encounter(patient_id):\n",
        "\n",
        "    body = {\n",
        "        \"status\": \"finished\",\n",
        "        \"class\": {\n",
        "          \"system\": \"http://terminology.hl7.org/CodeSystem/v3-ActCode\",\n",
        "          \"code\": \"AMB\",\n",
        "          \"display\": \"ambulatory\"\n",
        "          },\n",
        "        \"type\": [\n",
        "          {\n",
        "            \"coding\": [\n",
        "              {\n",
        "                \"system\": \"http://snomed.info/sct\",\n",
        "                \"code\": \"270427003\",\n",
        "                \"display\": \"Patient-initiated encounter\"\n",
        "              }\n",
        "            ]\n",
        "          }\n",
        "        ],\n",
        " #       \"class\": {\n",
        " #           \"system\": \"http://hl7.org/fhir/v3/ActCode\",\n",
        " #           \"code\": \"IMP\",\n",
        " #           \"display\": \"inpatient encounter\",\n",
        " #       },\n",
        "        \"reason\": [\n",
        "            {\n",
        "                \"text\": \"The patient had an abnormal heart rate. She was concerned about this.\"\n",
        "            }\n",
        "        ],\n",
        "        \"subject\": {\"reference\": \"Patient/{}\".format(patient_id)},\n",
        "        \"text\": {\n",
        "          \"status\": \"additional\",\n",
        "          \"div\": \"<div>Encounter zum Patienten:{}\".format(patient_name)+ \"</div>\"\n",
        "        },\n",
        "        \"resourceType\": \"Encounter\",\n",
        "    }\n",
        "\n",
        "    io = StringIO()\n",
        "    json.dump(body, io, indent=2)\n",
        "\n",
        "    return io\n",
        "\n",
        "response = requests.request(\"POST\", url + \"Encounter\", headers=headers, data=create_encounter(patient_id).getvalue())\n",
        "\n",
        "encounter_id = json.loads(response.text)['id']\n",
        "#response.json()\n",
        "\n",
        "print(\"Encounter-ID: \" + encounter_id)"
      ]
    },
    {
      "cell_type": "markdown",
      "metadata": {
        "id": "q2eEmVATo2dc"
      },
      "source": [
        "# **Observation**\n",
        "\n",
        "https://www.hl7.org/fhir/observation.html\n",
        "\n",
        "Measurements and simple assertions made about a patient, device or other subject. Observations are a central element in healthcare, used to support diagnosis, monitor progress, determine baselines and patterns and even capture demographic characteristics."
      ]
    },
    {
      "cell_type": "code",
      "execution_count": 14,
      "metadata": {
        "colab": {
          "base_uri": "https://localhost:8080/",
          "height": 371
        },
        "id": "HaQUe49ScPQH",
        "outputId": "4eb255e0-0a5c-4dab-a275-79069065e0ff"
      },
      "outputs": [
        {
          "output_type": "execute_result",
          "data": {
            "text/plain": [
              "<IPython.lib.display.IFrame at 0x79cf2464fdd0>"
            ],
            "text/html": [
              "\n",
              "        <iframe\n",
              "            width=\"1200\"\n",
              "            height=\"330\"\n",
              "            src=\"https://www.hl7.org/fhir/observation.html\"\n",
              "            frameborder=\"0\"\n",
              "            allowfullscreen\n",
              "            \n",
              "        ></iframe>\n",
              "        "
            ]
          },
          "metadata": {},
          "execution_count": 14
        }
      ],
      "source": [
        "# HL7 FHIR defines a set of \"resources\" for exchanging information.\n",
        "IFrame('https://www.hl7.org/fhir/observation.html', width=1200, height=330)"
      ]
    },
    {
      "cell_type": "code",
      "execution_count": 15,
      "metadata": {
        "colab": {
          "base_uri": "https://localhost:8080/"
        },
        "id": "zKddjdhOf74m",
        "outputId": "b2c38e75-bfd5-4d99-b887-d205530166ff"
      },
      "outputs": [
        {
          "output_type": "stream",
          "name": "stdout",
          "text": [
            "Observation-ID: 48\n"
          ]
        }
      ],
      "source": [
        "# die Observation referenziert auf einen Patienten und einen Encounter\n",
        "\n",
        "def create_observation(patient_id,encounter_id):\n",
        "\n",
        "    body = {\n",
        "        \"resourceType\": \"Observation\",\n",
        "        \"code\": {\n",
        "            \"coding\": [\n",
        "                {\n",
        "                    \"system\": \"http://loinc.org\",\n",
        "                    \"code\": \"8867-4\",\n",
        "                    \"display\": \"Heart rate\",\n",
        "                }\n",
        "            ]\n",
        "        },\n",
        "        \"status\": \"final\",\n",
        "        \"subject\": {\"reference\": \"Patient/{}\".format(patient_id)},\n",
        "        \"effectiveDateTime\": \"2019-01-01T00:00:00+00:00\",\n",
        "        \"valueQuantity\": {\"value\": 80, \"unit\": \"bpm\"},\n",
        "        \"context\": {\"reference\": \"Encounter/{}\".format(encounter_id)},\n",
        "    }\n",
        "\n",
        "    io = StringIO()\n",
        "    json.dump(body, io, indent=2)\n",
        "\n",
        "    return io\n",
        "\n",
        "response = requests.request(\"POST\", url + \"Observation\", headers=headers, data=create_observation(patient_id,encounter_id).getvalue())\n",
        "\n",
        "observation_id = json.loads(response.text)['id']\n",
        "#response.json()\n",
        "\n",
        "print(\"Observation-ID: \" + observation_id)"
      ]
    },
    {
      "cell_type": "markdown",
      "metadata": {
        "id": "cffUMcH6pVAX"
      },
      "source": [
        "# **Condition**\n",
        "\n",
        "https://www.hl7.org/fhir/condition.html\n",
        "\n",
        "A clinical condition, problem, diagnosis, or other event, situation, issue, or clinical concept that has risen to a level of concern. This resource is used to record detailed information about a condition, problem, diagnosis, or other event, situation, issue, or clinical concept that has risen to a level of concern."
      ]
    },
    {
      "cell_type": "code",
      "execution_count": 16,
      "metadata": {
        "colab": {
          "base_uri": "https://localhost:8080/",
          "height": 371
        },
        "id": "SVBehzTgcSIS",
        "outputId": "290e5730-0c24-4982-ca62-487705314e1f"
      },
      "outputs": [
        {
          "output_type": "execute_result",
          "data": {
            "text/plain": [
              "<IPython.lib.display.IFrame at 0x79cf2468d6d0>"
            ],
            "text/html": [
              "\n",
              "        <iframe\n",
              "            width=\"1200\"\n",
              "            height=\"330\"\n",
              "            src=\"https://www.hl7.org/fhir/condition.html\"\n",
              "            frameborder=\"0\"\n",
              "            allowfullscreen\n",
              "            \n",
              "        ></iframe>\n",
              "        "
            ]
          },
          "metadata": {},
          "execution_count": 16
        }
      ],
      "source": [
        "# HL7 FHIR defines a set of \"resources\" for exchanging information.\n",
        "IFrame('https://www.hl7.org/fhir/condition.html', width=1200, height=330)"
      ]
    },
    {
      "cell_type": "code",
      "execution_count": 17,
      "metadata": {
        "colab": {
          "base_uri": "https://localhost:8080/"
        },
        "id": "dywQlGmaXU2j",
        "outputId": "912e20a2-d716-48df-e963-fff34cce0a60"
      },
      "outputs": [
        {
          "output_type": "stream",
          "name": "stdout",
          "text": [
            "Condition-ID: 49\n"
          ]
        }
      ],
      "source": [
        "# Option 3: FHIR-Ressource über Orderd-Dictionary erstellen\n",
        "# An OrderedDict is a dictionary subclass that remembers the order that keys were first inserted.\n",
        "# A regular dict doesn’t track the insertion order and iterating it gives the values in an arbitrary order. By contrast, the order the items are inserted is remembered by OrderedDict.\n",
        "\n",
        "cond = OrderedDict()\n",
        "cond['resourceType'] = 'Condition'\n",
        "#cond['id'] = 'example'\n",
        "cond['subject'] = {\"reference\": \"Patient/{}\".format(patient_id)}\n",
        "cond['encounter'] = {'reference': 'Encounter/{}'.format(encounter_id)}\n",
        "cond['dateRecorded'] = '2021-04-01T13:00'\n",
        "cond['code'] = {'coding':\n",
        "                       [{'system': 'http://hl7.org/fhir/sid/icd-10-us',\n",
        "                         'code': 'E10.65',\n",
        "                         'display': 'Type 1 Diabetes Mellitus with Hyperglycemia'}]}\n",
        "cond['clinicalStatus'] = \"active\"\n",
        "cond['verificationStatus'] = 'provisional'\n",
        "\n",
        "io = StringIO()\n",
        "json.dump(cond, io, indent=2)\n",
        "#print(io.getvalue())\n",
        "\n",
        "response = requests.request(\"POST\", url + \"Condition\", headers=headers, data=io.getvalue())\n",
        "\n",
        "condition_id = json.loads(response.text)['id']\n",
        "#response.json()\n",
        "\n",
        "print(\"Condition-ID: \" + condition_id)"
      ]
    },
    {
      "cell_type": "markdown",
      "metadata": {
        "id": "Ki1wqZGUhO1i"
      },
      "source": [
        "# Ergebnis\n",
        "Es wurde ein Patient*in mit einem ambulanten Fall (Encounter), einer HR-Messung (Observation) und einer Diagnose (Condition) auf einem FHIR-Server (url) angelegt. Die dazugehörigen IDs sind wie folgt:"
      ]
    },
    {
      "cell_type": "code",
      "execution_count": 18,
      "metadata": {
        "colab": {
          "base_uri": "https://localhost:8080/"
        },
        "id": "qrxKH_HZhSGW",
        "outputId": "3ac7cbb7-494c-4e72-f6c7-84b07c982c53"
      },
      "outputs": [
        {
          "output_type": "stream",
          "name": "stdout",
          "text": [
            "Patient-Name: [{'use': 'official', 'text': 'Fachhochschule WienerNeustadtxDEqu', 'family': 'WienerNeustadtxDEqu', 'given': ['Fachhochschule']}]\n",
            "Patient-ID: 46\n",
            "Encounter-ID: 47\n",
            "Condition-ID: 49\n",
            "Observation-ID: 48\n"
          ]
        }
      ],
      "source": [
        "print(\"Patient-Name: \" + str(patient_name))\n",
        "print(\"Patient-ID: \" + patient_id)\n",
        "print(\"Encounter-ID: \" + encounter_id)\n",
        "print(\"Condition-ID: \" + condition_id)\n",
        "print(\"Observation-ID: \" + observation_id)"
      ]
    },
    {
      "cell_type": "markdown",
      "metadata": {
        "id": "e6GbAjK40HdK"
      },
      "source": [
        "Ergebnis abrufbar unter: http://clinfhir.com/patientViewer.html (Server-URL zuerst konfigurieren z.B. http://hapi.fhir.org/baseR4/)\n",
        "\n",
        "![image.png](data:image/png;base64,iVBORw0KGgoAAAANSUhEUgAAAjoAAAEfCAYAAABIwWzYAAAgAElEQVR4nOzdd3SUddbA8e+UTHpPSCUUCR0pGopBRAREmoKioghSXFbFwq4LKvK6LurK6tpWdFkFQemgKAKCINJbMLTQISGB9GTSJ9Pn/SMyMCSB9ITkfs7xLPPUO89kkzv31xQ2m82GEEIIIUQjpKzvAIQQQgghaoskOkIIIYRotCTREUIIIUSjJYmOEEIIIRotSXSEEEII0WhJoiOEEEKIRksSHSGEEEI0WpLoCCGEEKLRkkRHCCGEEI2WJDpCCCGEaLQk0RFCCCFEoyWJjhBCCCEaLUl0hBBCCNFoSaIjhBBCiEZLEh0hhBBCNFqS6AghhBCi0ZJERwghhBCNliQ6QgghhGi0JNERQgghRKMliY4QQgghGi1JdIQQQgjRaEmiI4QQQohGSxIdIYQQQjRakugIIYQQotGSREcIIYQQjZa6vgMQFZdXbON0qqm+w6ghinq5q81mq/V7KBTQLliNj5t8jxBCiPomiU4Dt/JgMfsuGDmZYiIl11rf4YhKCPVR0SFUTa/WGp7o5Vrf4QghRJOksNXFV1xRaWl5Vt7bWMDWkwbcnRW08HeiRYCalgFqNOr6qYaIijGabSRmmUnMNpOYZaLQYOPe9s68OsyDMB9VfYcnhBBNiiQ6DdDaWD3vbSygyGBjZHc3xvb2qO+QRDWsPFDED7FFuDopeHWYBw/fIdUdIYSoK5LoNDCnUk2M+TyH5n5qnor2oEu4pr5DEjXgRLKRb/YUkpRtZsWffekc5lTfIQkhRJMgvSUbmH9uKATgufu8JMlpRDqFaXj+Pi/g6mcshBCi9kmi04DM36EjNtHEk308aBkg/cQbmwj/kird0UsmPt9WVN/hCCFEkyCJTgOydJ+O25trGN7Nrb5DEbVk6O1udG+hYdmB4voORQghmgRJdBqI9Hwr2iIrrQOl70Zj1zrQiVydleQcmS5ACCFqmyQ6DcSViQBbSJNVo3flM248kz8KIUTDJX9VG4gzaWaAm/bNORMXy9xZUyt83ZnvzKdd5x7Viq0xys/Vcmjvr/S9bwQaZ5c6vXcL/z8SnTQz93V0rtN7CyFEUyMVnQaiQF8yyl+WDahdNpuV/Ts38ebLT3D+1LF6ieHKZ1xkkJkdhBCitslfVdGkpCUn8t23n5OXk13fodTJultCCNHUSdPVLWzowxN4ZPy0+g5DCCGEaLAk0WkiCvNz+XjOdOLPxtG73xDGTvkL+3b8zPafvyMtJQlvX38GjXic+4Y9hrNL6SUKUi4lsGXdMg7t3UZRYT7evv5069mPoaMnEBgcVur4/FwtO35Zy77fNpKWkoS7hxcdu/Vk6OgJRLRuh0Jxdb2ua2Nr3bYzL8/+CA8vH/v+Nd98xsbvFgOOfY6ubPdvFsLLsz8mNzuDDd8t5tzJIyhVSnr06s/occ/Z47v2OgD7d25i/85Npe6ZmZbM90u/IC52H0WF+TRvGUn0fcO5Z/Aoh2dz/TO9a8BQVn39KZcTz9MqshOTX3qT0OatqvOxCSGEqCZJdBqIumzESLmcwMdzppNw7oR9W15ONmu+mUdqciJPTZ1p76Brs9k4uHsLS/47l6LCfIfjd2xey5njv/P8a+8TFtHavu/sycN8+dGbZGek2rcVFeYTs3srsfu28/BTzzN45FiUqppZ4NJkMLDq6485eTQGi6WkU7fFAgd2/ULihdO8MOvfhIS3vOl1bDYbRw7uZOGn/3B4r5cunmPFgo84HruPKS+9ibdvQKlzz5z4nZNHD5KfpwXAxdUNb1//Gnl/Qgghqk4SnVvYxu8WO1Qorlde01ZS/BlaRXZi9geLadmmPedPH+d/H84mOyOV44f2kjY8kYjW7QBIS77Imm8+o6gwn8gOXZn04ps0CwkjLnY///twNmkpSfyw7L9MefnvOLu4oc1KZ9mX/yY7IxV3Dy8mvjCb7r36kZeTzcqFH3Ng1y989+08vHx8ueveYTXyHPLztMSfPcH4516jzz1D0BUV8u1/3+P3fb+RlpJE3OH9hIS35JHx04geMIwP33qJ7IxUevcbwtPTZtmTutTLF1m96NNS7/XwgZ18/Z85nDi8n01rlzBmwgulkrSc7Ezu6HMvT/35VTw8vcnL1eLu4VUj708IIUTVSWfkJmr4mIm0iuyIQqHktrad6d6zH1CSNBQWlFQzbDYbv+/7zV6ZGfbI0wSFNkehUNKpWy/69H8AgBNHDpCcFA/AkYO7SIo/A8CDY/9E9173oFAo8fELZNS4ZwkOjcBiMbNn2waHqkl19eo3mOh7h6F20uDl48fdA0fa9+Vkp1eo4++VxEilUjP80cn299ot6m77ez0as4uszNRS56pUavoNHoWXjx9KlQpf/8Aae29CCCGqTio6TZBfQBDNQprbXytVKoe5ZLL/+ENuNOi5fPE8AP7NQhz64ihVKp545hWeeOYV+zaDvpizJ2IB8PL2o23Hbg59cfwCgmjXuQdpKUkknDtBekoSrdt2rpH31LxVO4cqi7PL1WU0crOzMBkNN5wvx2jQk/JHsubjH0hAs2D7PqVKRfNWbQFIS0ki7fJFmgWHO5x//TlCCCEaBkl0bmFVHXWlUCpRKhU3Pc5kNJD1RzXH08sHd0/vCh/v4xeAp7efw3612sl+DX2xDm1Weo0lOkpl9YqTRoOejLTLAGRnpDLr+UfLPTYvV1tqW0WeT2k3/wyEEEJUjzRdiQqxWixYzJb6DqNBsFpLr1GlVKpQKuT/TkII0dBIRUeUy0njTECzEOLPxlFYkIeuqOCGfU+uPT5Xm0VBntbheLPZRFFBHlAyKskvIKjUNQrzcykszLcP9b72nNp0bez+zUL4y5ufEBJey0PDpaAjhBC1Tr6CinJpnF0Ib9kGAG1WOpcTzzvs37V1HZMejGLSg1Fs+WkFzi6uhLeMBEo6NZ89ecShE7A2K50zcSV9eFpFdiIoNAIoaUpT/dG/xmw2YTGb7ecY9MVkpCXX3pv8w7Wx52ZnkpWRZt+nL9bxn3dfYdKDUfztmZGkXk6o9XiEEELUDKno3MJuNrwcYOILsx1GIFWGQqHgjj73suOXH8jOSOXHZfMJCWtB81aRpCUnsWPzWqCko3Ln7r0A6Hn3IA7s3ERyUjw/Lv8ffgFB9uHla5d8YR/V1H/IaPvwa2cXV0Kbt+LcqaNos9I5sHMzwx+dhM1qZcOarzl1LKZK8Zf5npQqVMqSpCrlcgKFBXl4KkoSra5Rfdm2cTW52kzWr1pAYFAozUKac+LwfnsMPXrdQ1BIRI3FI4QQonZJoiNuKDisZP6ZJf+dS1pKEn+fPs5hv5NGw6gnphIcVjIhX7PgcJ569lX7hIGf/fNvDserVGoefup57uh9r32bWu1E73sesM+6vH71QtavXgiAu4cXnbv3Ie7wvhp5P75+ATRvFUlG2mWS4s/wyuTh9qaq8BZteGT88yz+/F3OnTrK68894nBuu849GPrwhBqb6FAIIUTtk0RH3JBCoaDX3YNp3jKSLT8t58jBneTlZNuXgBg47DFCI1o7DCNv27E7b/77G3b/+hP7tv/MpYvnbrgEBEDbTt35y9//w/dLv+D0sUO4uLrZj09KOFtjiY6zixuPT5qOWu1E7IHtWC1WPD19MBoMKBQK+vQfSljEbWz8fjEnjxykqDCfgKBQ+g16kAFDx+Dm7lkjcQghhKgbCpssodwgfLC5kEW7dXw9JRAXJ+ml2pgZzTYmfJnJU3e5MfMBj/oORwghGjXpjCyEEEKIRksSHSGEEEI0WpLoCCGEEKLRkkRHCCGEEI2WJDpCCCGEaLRkeLmoll1b1/H1f+YA1ZucEEoW01y/eqF9Ph13Dy/6DhxJn/4P8J93XyE7I5XWbTvz8uyP7EtE1LfUywl8+NZLZGek0rvfEJ6eNuuGq6QLIYSoW5LoiAahWFfIN1/8k+OxV+fLuZLsODk51WNktUdmdhBCiNoniY5oEHK1maRcvghAROt2THvtffwDg7FaLWSkXqrn6IQQQtyqJNERDU5oeCu8vH1RKBSoVGpCwlvx/pfr6jssIYQQtyBJdG5Ra775zL6g58x35tOucw/7vjNxscydNRWAoQ9P4JHx0wDH/iRDH57A4JFP8OvG1ez8ZS15OdkEh0Yw7JGJ9Oo3GLWTxuF++blaNny3iL3bNqAv1tH+9jsZ/eSzN4zRbDJyYOcv/LJuWbnLQBgNehZ99g77d26yn7d/5yb279xk749TkJ9jj/vaPjrVeT8Via2s4zes+Zq0lCT7tZu3blvJT04IIURdkkSnoajj7hrnTh7haMwukpPi7dvSUpJY8OlbZGelMfyRifbFK1MuJfDFv151OPbE4f1cPHeSoNCyV/IuLMhj6fx/cWDXL/ZtRYX5xOzeypGDO5nw3Ov06T+0Xt5PRWO7kuwY9DqWffUhu7b8WOrat7XvQlFBXo29DyGEEDVLhpc3UedOHcW/WShz5//Agh8O8PzMubi4ugEQu+838nK1QEklY/MPS+wJxJBR4/hi5U7+u3o3D479E4kXTpe6ttViYdvG1RzY9QsqlZpxU2fwvzV7+HjxZnrdPRiT0ciab+ZxOfE8GmcX/vTXObwzbxX+zUIA6N1vCP9dtYs33v+6wqOrKvp+KhPbFUdidtuTnMgOXfnnF9+z4IcDvPbPLynKz0NfrKvKRyCEEKIOSKLTRHl5+/Hg488QGByGQqGkU/fedLg9CiipeOiKCgBITU60j4TqcHsUwx6ZiLOLKxqNM3cPHEG3nneXurY2K50DO0uqJd163k30gGGonTR4+fjxwOjxeHn7kavN5GjMrhobeVTR91PZ2Ax6HYf2bAXAxdWNMU+/SFBocxQKJZEduzFwxNgaiV8IIUTtkESnifILDMK/WbD9tVKpxNnZFShJBgrzcwHIyUonV5sJQKvIjrh7eNnPcXZxo22nHlwvOzON1MsJAASFRuDs4nb1vgFBBASFApBw7iQGfXGdvp/KxqYrKiIzLRmA0OatCb6uqa5N+y54efvVyHsQQghR86SPThOlVKpQKm6e515p8gEIDA4vtf9K89C1MtIu2/+98bvF9k7Tpa6dk43ZZIQyrlFZFX0/lY1NX1xI0R/VoIBmIThpnB2Oc9JocHJ2LusSNxWfaUFntOGmUdz8YCGEEFUiFR1RYUaDvkavZ7VasNqsNXrNmlJWbCaTsUYn+dt73sjIT7N5b2MBhy4aa+y6QgghrpKKTiOQnZnm8LogP6fGru0fGGL/d052OjabzWHodVkdca8959rh7Q1BVWLz9PIhOyOVnOwMjEa9QxXLZDRiMhiqHE9anpUl+4pZsq+Yfm01PHKnKwM6VK1CJIQQojSp6NyiVKqrOarJdLUaYLPZSEtOrLH7+PoH2EdDJV44Y+/UCyXLNpyJ+73UOc2CwwgJbwVAekoSBv3VZOjYod1MejCKSQ9G8d238+p8GYTKxubi4kZwaAsA0pITyUi92vRls9k4e/II+XlaasLOs0ZeXJbHn7/JZcuJmq2eCSFEUyWJzi2qeatI+7/37/iZrIxUbDYrhw/sYPMPS2vsPoFBYXTp0QeAU8di2LDmawz6YoxGA7/9vIajMbtLneMXEMTtd9wFwJGDu9i19SeMRgP5uVp2bS2Z4djHL5A777qv1MR8ta2ysWmcXeje+x5UKjX6Yh2rF31KesolbDYrp48fYvOPVX/WId5l/99v9zkj01fkM2VRLpvjql4tEkIIIU1Xt6y2nbrT4fYoTh2L4UxcLDOeubpqeMeuUVy+eKFGKg1qJw0PPv4MqZcvciYulk1rl7Bp7RIA3D286HB7FHGH9zmco1SpGDJqHJeTLnDi8H6WffkBy778wL5fpVIzetyzRLRuV+34Kqsqsd3R+16GPfI061Z+xblTR3nt2dH2fR27RmEyGKr0rO/r6MJDPVz49aSe1TF6sgod+wTtv2Bk/wUjSVoPxt/lRsqlBF566SVSU1MZMmQIs2bNwsXlxiul5+bmMn36dOLi4ujcuTMfffQRPj51u/L7pUuXOHToEKNGjarT+wohBEhF55bl5e3H1L++zaCRY3H38EKlUnNb+y5M/evbPDrx5SqPBCqLt28Az/7tn/Z7OWk03H5nX/7y9/8Q1XdguedMe/VfPD55Os1bllSfrpz3t7c/J3rA8Dqv5lQ1NqVKxfAxE5n84pv24eXNW0Yy+cU3q/2s2wereX6AByv/7MvU/u74upV+JolZZgr1DbPT9o0YjUaWLFnC448/TnJycn2HI4RoohS2uu4kIcr0waZCFu3R8fWUQFycZLhxY2Y025jwZSbj+rjx6lAPh30puVZWxehYFaMnv7gkuXmouwvTB3uQn5l4S1V0YmNjmTq1ZM21CRMmMG1aw+mULoRoOqTpSogGJNRHycuDPHhxoAc6oxWdwUaOzoZaVbXr+fj48PXXX9dskEIIcQuRpqsGor6acUT9WbFiOVFRUcTGxjpsj42NpVfPKO7t24tV33xBm2ZqnFSlfz60Wi0ffvgh9913H9HR0cycOZPTp087jGTLzc1l4sSJREVFMXHiRHJzc0td4+OPP2bIkCFERUXx4IMPMn/+fLTasvsc2Ww2jh49ysyZM4mOji7zHL1ez+zZs+3VHIDFixcTFRXF7Nmz0etlRJkQou5IRaeBMZht0nTVyBnNfyQiFWw1VinB9bqfiRMnTvDSSy9x8eJF+7Zt27Zx6NAhXnvtNQYOLLvv1LXi4uJ48803SUpKsm9LSUnhq6++Ytu2bbz33nu0atXKvs9isbB8+XLmzZuH2WwudU5sbCzvvPMOHh6OzXFCCFGfpKLTQLQNLmmbSMwy3+RIcatLzC75jJUFCRU+5/qC36VLl2jbti2bN29m//79zJ07Fy8vL/Lz8/nyyy+5fPly2Rf6g1ar5fPPPycpKYmIiAgWLlzIgQMHWLhwIREREcTHx/PFF1+g012dZyg2NpYvv/wSs9nM4MGD7feeNWsWarWa2NhYlixZgpOTE3PmzGH+/Pn2cydMmEBMTAxz5sy5ab8iIYSoSZLoNBDtg0uKa5LoNH5XPmNFQXylz73SLBUREcGzzz6Ln58fKpWKe+65hxEjRgAQHx/PmTNnuFG96PDhw8TExAAwduxYunTpglKppEuXLowZMwaAAwcOcP78eaBkBNWmTZvQ6XT4+fkxfvx4+70HDx5MdHQ0AHv37iU9Pb3S70sIIWqLJDoNRGSQGo1aYf+2Lxqvi9lmlAobyvzKJzpX+nK1a9cOf39/ik02zqaZUShU3HnnnfbjTp06dcOWsVOnTtn/3bp1a4d9bdu2BUCn03Hy5EkACgsLOXfuHAChoaEEBQXZj3dzc+ODDz4gJiaGVatWERoaWun3JYQQtUX66DQg97bXsDlOz93tXOjaXFPf4YhaEHfZyK4zelo5p5B288PLpVKpUCgUuDgpiPBXYbKWJBxXZGVlOSwNci29Xu9Qdbm20/D1srKyAMjLy7N3ZA4JCcG5BudpEkKI2iQVnQZk5lBPPF2UfLunEKvMbtQofbOnEHdnBdGeh2vsmi5OCpyv+8ri5ORUIyP5LBZLqfXIjMaaXcVdCCFqk1R0GpBmnkpeG+bB69/l882eAiZEe5bqhCpuXd/sKeSS1sycUV4k773ayTctzbG2k5Nz89Xni4uLsVodZ0u+tuOwv78/TmqnMs/VaDQEBATYX8+fP58ePXrc8H7e3t74+PiQmppKRkYGBoPBoYIkhBANlVR0GpiR3VwY1cOVzceLmbFSy/FLZTc/iFtHXLKRGau0/HxMx5COSkb1cEGtvvodw2h0XH0+MfHmq8+fPHnSYVi4xWLh0KFD9teRkZHldkZWKJR07tzZ/jo+/mpfIYvFwgcffEBUVBR9+vSxz/Hj4eFBZGTJchmJiYlcunTJIeZ58+YRFRVFVFQUu3eXXuhVCCHqiyQ6DdCcUZ68PdqLvGIL767P5Ytt+fx8TMfJZCNFBhtmq/zXkP/TGWycTDHx8zEd//0tn3fW5ZKSpSNKvYN3H/YCsCcNAD///DOpqalYrVZ27NjB0qU3XxE9MzOTDz74gEuXLmG1Wtm1axc//fQTAN27d6dbt24oy6kGmq1w++2306FDBwCWL1/OkSNHsFqtxMXFsXPnTgD69u1r75is0WgYMmQIbm5u6HQ65s2bZ4/5yJEjbN682X7vK9dVKpX2hC4xMZHCwkKKi4ul2UsIUaek6aqBeqi7C31u0zB3YyFbT+rZeaa+IxJVY0OVvp8W+euZ/e5raDQlncy7d+9OVFQUMTExxMbGMnLk1dXno6KiuHDhQrmzE0NJh+CEhARGjx7tsN3Ly4tnnnkGf3//cs8tNtkICAjkhRdeYPbs2SQlJfHMM884HHNl+Pq1k//16NGDZ555hnnz5pWKGUqay669d1hYGJGRkZw6dYrt27ezffv2eltBXQjRdEmi04AFeSn58HEvrDYvTqeaOJNm4UyauZY7Klf84unx28lNj7O/9gpsR0ibQZW5xC3p+k6+NpsNG5CZkcH58+fJysrCmHkSRX48bYNUDLzvXkaNmoufn5/9HD8/P95++20WLVrEhg0b0Ol0dOjQgccee4xWrVrxyiuv3DCGwYMHM3jwYBYsWGBvKurbty+TJ0+2V2HKoy20kqcrSagWLFjA4sWL2blzJ9nZ2fj7+zNo0CCeeuopmjVr5nCeSqXiySefpEuXLqxYsYKDBw+Sn59PaGgogwcPZvTo0YSEhNiPDwwM5LXXXuPzzz/n0KFDKJVKPD09ZQkIIUSdktXLRZUU5iSw4T9dMRkK7NsGTNhIaNsH6jEqcb2yVi/PMnrw3aFiHuzuSrtgtXR4F0I0alLREVWScGSJQ5IT1Kq/JDkNUEpKin3OHH9/fzQaDW181Lg7K3l+SS6jergSHakhzEeFUglOKgXerpL5CCEaD0l0RKVZzAYSjjh2mG3V7cl6ikaU5cyZM7z44osO/Xw6d+6Mq6srANPuc8fFScHHWwr57/Yih3M7hKhZ8Wc/VDJUQQjRCMivMlFpSXGryc+62jva078NrbpKotOQZGdn2/sS+fv7M23aNMaOHevQv2hKPzf+NcYLDxfHCs6pVDN93snkZIqpTmMWQojaIH10RKVtnn8XmUn77K+7DHiTrvf9vR4jEtWRmmvhuSV5nEsvvc7aO6O9eLC7rDYuhLh1SUVHVEraha1kXtrvsC1M+ubc0kJ8VKyd5ke/dqXXV5v1fT4fbCqsh6iEEKJmSKIjKsxmtXDghz9z7bLYSpWGgOa96jEqUVM+H+fD5LvdS21ftEfHM4tyq339E8mlK0ZCCFHbJNERFbb/hz9RoL3gsE2tKf2HUdy6pg9257MnvUtt33fByMSFVU92Nh03sPe8LGcihKh7kuiICjm5+99c+H1hqe1Ozl71EI2oTf3bO7Pn9YBSnZRjEqqW7FzMsvDKqjz2SKIjhKgHkuiIm0o9t5nYn8ueqVfjUvrbv7j1ebsq2T8rkKhWjv12qpLs/PnbkuMPXTSSkmu9ydFCCFGzJNERN1RckMrBdc+Vu1+pKt2BVTQeX0/yqVay88qqPC5rLfbX0nwlhKhrkuiIGzrww58o0MaXu18SncavqsnOwl06Nh03OGzbe95QztFCCFE7JNER5YrdNIPLp9ff8BhJdJqGyiY7v5028uEvpYel7z1vpNAgU3cJIeqOJDqiTPGHv+XkrvdvepxSLYlOU1HRZOdiloW/rswr8xqFBhsH46X5SghRdyTREaXkph3j4LpnK3SsSio6TUpFkp3Za/Mxmsuv2sjoKyFEXZJER5Syb+0UzMaimx+INF01RTdKdmavzedw0o3XyJIOyUKIuiSJjnCw97unyb4cU+HjFUqnWoxGNFTlJTtrY/U3PfeS1sLvibJgqBCibkiiI+xO7v438bGLK3WOVHSapmKjjbG9XAnwqNqvkP0XpKojhKgb6voOQDQMqee3ljsp4I1IH52mw2SBnWcN7D5nZMcZAxn5VZ/8b+95I88PkOVDhBC1TxIdgaEok/1rJ1fpXBl11bhZbbDrrIFd54zsOmMkOddy85Mq4OglE+fSzUQGya8gIUTtkt8ygj1rxlOUm1Slc6XpqnF784f8CvW7qYqYiyZJdIQQtU766DRxhze/SsrZTVU+X6GUP1SN2ZxRXnz0eO2sZyajr4QQdUESnSYs4egyTuycW61rKFUy6qqxG9TJmUP/14xOYTX7We89byS9Gv18hBCiIiTRaaJyM06w77tJ1b6OUoaXNwkuTrDyz748e2/NdSA2mm0cTJCqjhCidkmi00TtXT0eq6X6CyxK01XT8vwAd5ZP9cNJVTPXi4mX+XSEELVLEp0maN/3k9CmxNbItaTpqunpEq7m8N+bcV9H52pfa895AzqjLPIphKg9kug0Maf3fsKF37+usetJotN0fTLWm7ce8qzWNdLzrRy6KFUdIUTtkUSnCUmL/41DG16u0WsqFNJ01ZQ9fIcrv/w1gOZ+VW/LktXMhRC1SRKdJsJQrGXfmgk1fl2p6IhQHyU/T/fnyd6uVTr/gCQ6QohaJF/Hm4jTez6mRZdHMZt0mI1FmE06LCYdZmPJ/5qMRSWvTTosxiJMxsIKXVcSHXHFa8M8iY505rlvcyt13qlUM4cTTXRvIT9LQoiaJ4lOE9F14D8qfOzlU+vYvuTBCh0ro67Etfq11XDo/wJ59ts8YioxdPzQRaMkOkKIWiFNV6KU7ORDFT5W5tER13NxUvD1JB+mD/ao8Dkx0iFZCFFLJNERpWhTfnd43emeV/H0u63MY6XpSpRn8t1urPyzH96uN/81s/e8kQsZ5jqISgjR1EiiI0rRphx2eN0x+i8MmrKd5h1HlTpWmq7EjXQKU7Pn9QCGd3W56bEyzFwIURsk0REOinIuUlyQan/tHdgBZ/dA3LzDuefJ7+k6cI7D8VLRERXx3iNevD3a64bH/Hy8dlZJF0I0bZLoCAdZyZlQj1oAACAASURBVDEOrwMieju87nLvGwx4epO9KUsSHVFRD3V3YesrAbQLLrsKeOSSmdRcWeRTCFGzJNERDrTXdUQOjIgudUxo5P088NxBWt7+uEwYKCol2FvJd8/78XS0W6l9ZouN934uqIeohBCNmSQ6wsH1I64CW5ROdAA0rn70fWy5VHRElbwyxIMvxvugUDhu//WkQWZKFkLUKEl0hIPsy1ebrpzd/PEObH/D44Nb31vbIYlG6u5IDb//XyB+7o6/hj7frquniIQQjZEkOsJOX5iByXC16cA/7M56jEY0BRq1gs/GeaNWXS3tHEowMn97UT1GJYRoTCTREXa6/MsOr928m9dTJKIpuT3ciWkDHPvsfLG9iCNJMtxcCFF9kugIO13eJYfXkuiIujKlnzt3tdHYX5st8MVvUtURQlSfDJkRdkXXJTrukuiIchSZtWiNF0nSHSLYpWONXPPhvhZO5xVgsdoAiMuBT/e4MqwCkw3WNyUqfDRh+Goi6jsUIcR1JNERdro8x6Yrdx/5pS0cxeWt51je9yTo9uHq7I4eLapiVc1cXAP3DLVRZLDZNyUCy7MUOKkU5Z9Xz5ydXMDgitFowlMVRFevh+nm+zBuKr/6Dk0IgSQ64hrSdCXKk2E4y7a0j8gkjmK/U3hHOAP5aG56ZuW41/D16kbJKDE1UKxPYX9OInvi5zMk8E26+Iyo39CEEJLoiKuk6UqUJbHoIGuT/4ZTQAEKv3TccK7vkBosjYsaQvIxFGezPuVvFFoy6OM/ub7DEqJJk87Iwu7aRMfZLQCVk2s9RiMagmzDRdamvIIx5AQ2v/T6DueW4ezqhHvLfHbmfcSRnO/qOxwhmjRJdIRd8TV9dOqqmnPp0iXWrl1bJ/cSlbczcx5Wv2TcPKWKU1lKlQKnsEw2Z8whx3jp5icIIWqFJDoCgOKCVKxWs/21m0/tJjpGo5ElS5bw+OOPk5ycXKv3ElWTULSP08Yf0fjLquJVpXFW4+JrISZnSX2HIkSTJYmOAEr3z6ntjshxcXF88sknGI2yrlFDdSzve/DNqu8wbn1+WcTmLcNikwkQhagP0hlZACVNVaNnXkahKMl9nZw96zkiUd8SdPtxayZNVtWlUitROtlIKT5Gc7c76jscIZocqejUAKvVyt69e5k0aRJ9+vQhOjqaF154gf3792O1Wh2OTUhIYOTIkURFRfHZZ5+h1WqZP38+Q4YMISoqiocffpj169djMpX+9mcwGFi/fj3jx48nKiqKPn36MGnSJDZv3lxuZSQ5OZmPPvrIfv0hQ4bw7rvvlmoucnbzZ+v23+k3YCT9Boxk46Zt5cY9e/Zs9PqS5ozc3FwmTpxo356Tk8OyZct4+OGH7fdbtGgRxcXFAOj1embPns3UqVPt1168eHGp61bmma5bt46oqCiioqLYvXs3n3zyCdHR0dx3330sXLgQs9mMqJwicxbFFi0qtfyKqAlKFxNaY1J9hyFEkyQVnWoyGAzMnz+fb7/91mH7/v37OXToEJMnT2bixImoVKUnVTty5Ai7du0iPj7evi0pKYm33nqLtLQ0h/O0Wi3vvvsuO3bssB9rNps5fvw4x48fZ8qUKUyZMsV+vM1mY8uWLcydO5f8/Hz7OdnZ2axdu5Zff/2VmTNnMmjQIBQKBVD9CdkSEhKYPn06J06ccLjfvHnzSExMZObMmRW6TnWe6aeffkpCQgJQ0g8oPDwctVp+zCtLa0yi2JrLzep6hlwlW6f7kRVX9ow6Ko2NgE4m2ozQ0XJgMWpXW5nHVVRuvJr0WGfaPXJ1eYhz69zYO8eHIfOzCOpRd02hZcVSnhz9Jc6Yf6Wrz6g6iEwIcS35ulZNW7duZfny5QCMGzeOnTt3snPnTsaNG4fZbGbBggUcPHiwzHOPHj1KaGgoP/zwAwcOHGDu3Lm4uZUsbvjbb7+h1WoBsFgsrFq1ih07dqBWq5kxYwZ79uzh119/5YEHHgBg0aJFDvc5c+YMH3/8Mfn5+URERLBw4UIOHDjAmjVr6Nq1K/n5+cydO5fDhw/X2LM4c+YMUFKhOXDgAF999RUhISEA7N27l8TERFxcXJgzZw7z58+3nzdhwgRiYmKYM2cOLi4u1Xqm6enpzJ07lwMHDrBlyxbuvvvuGnt/TYmPUzguaq8KH69U2/BtYyKgk9HhP68IM5nHndjzDx92/Z8vhtyq/8rJT1Kz7a9+FKbV0EzM1VDZWJzdnLjNo28tRyWEKIskOtVQUFDAzz//jNlspkOHDjzxxBO4urri6urKE088Qdu2bTGbzWzdurXMpiU/Pz+eeeYZwsLCUCqV9O7dm6ioKADy8vIoKCgAIDU1lS1btgAQHR3NsGHD0Gg0eHl58eSTT+Ln54fZbGbbtm2YTCYsFgubNm0iMzMTtVrN9OnT6dKlC0qlkhYtWvDiiy/i5uZGfn4+GzZswGg0olDWzI/CxIkT6dixI0qlks6dO9OvXz+gpCJ1bWWptp5pr1696N27N0qlEh8fH1xdZS6guuAWaOWed3MYtijL4b+RyzMZ/UMGQT2MJG134eLWqn8eNgvYLKUrj5EjdUyISanTak55sQghGh5JdKohKyuLpKSSdvcWLVrg6Xm10O/p6Unr1q0BOH36NHl5eaXODwoKIjg42P5aqVTa/zCnp6eTm5sLlCQ6V+7TsmVLe9UHoF27dmzevJmYmBhmzZqFk5MTeXl5xMbGAtC6dWvatWvncN9WrVrRpUsXAI4fP05WVhY10XQVFBRE8+ZXR2upVCpcXK4uyJiamnrTa1T3mUZERDg8H1H/3IMsdHm6AKXaRvJ+Z0w6SRCEEHVHOi9UQ05Ojv2P96ZNm9i0aVOZxxUUFFBYWEhgYKDDdpVKhbIClZRrE4Tw8PCbHp+Xl2dPkkJCQnB3d1xByMnJCV9fX6AkodJqtYT+0cRUHUql8o/+PlVX3Wdakecj6p5HsAW3QCvF2UqsRgW4lfTVMRcrOLvWnfhNruScU2M1K/AItXDbUB3txhTh6lfS8fz3z7yIW+wBQNxiD+IWe9B5QiF3TMsvt4+Oxagg5YAzJ5e5k3FEg0IJIT0NdH2mgIAOJofc/tw6N4595cl9H2dTlKbi6FeeZJ9yQu1mo+UAPV0mFeARYrlpLEKIhkcSnTpgtVqx2arXCfOKK6OSmrrynmlFEkfRMBRnqdgxy5fMY06E9jYQHq3HYlKQetCZo195knFUQ7+3c3DxsxLY2Ui7R4qI3+iGbxsTIT0N+LUrf14as05B7BdenFrhjnuQhfZjShbeTNzmws+TA+jzeh5thusckh2bFY4v8uTSDhea99MTEmUg/bAzZ39wI+OYhgH/1uIZbq50LEKI+iWJTjX4+PgQFBREeno6Q4YMYdasWQ5NNTUl5JpqS3p6Ojab7YaVE29vb3x8fEhNTSU1NZWioiKH5hyTyUROTg5Q0tzk5+fH9SlDSkqKw+uioqIym4pqWl09U1G3tOecKExVEdrLgJO7DWwlVZTMY06lkg6bBQ7/14vjizzIOqkhvK+eiP56vFuYSd7jQrPuRrpNLbjh/RK2unJqhTutBhfTa0Yezt4llaHO4wvZMcuXmI+98G5pJrDL1QpQUbqKrBNOPPBVFr6Rpj9iKbDHkharwTPcXOlYhBD1S77+VkNgYCAtW7YEIDEx0d55GEpGIN1///2l5oepipCQECIiIuzXvfY+OTk5TJo0iaioKJ588kkyMzPx9PS098uJj4+3j4a6IiEhgePHjwPQpUsXAgICwGZ1GIZtMBgcKiYpKSnodLoqv4eKqqtnKuqGWacg4RdXYj70xsnNRsvBxSidbBgLleTGq2nWzUh4X71DZUWhAs/mJXMfFWsr/yvKkK8kYZMrboEWujxdaE9yAFwDLPR4Ph+bWcHFX12wWRzPbTFAj2+bq9UZhQrC+pT8nOUn3TrfC61WEzpdJlrteVJSDtV3OELUq1vn/7kNkKenJ/379+fAgQOcOnWKZcuWMXnyZFQqFevXr0er1aJWq7n//vurVZUICQlh0KBBLFiwgJiYGJYuXcqkSZOAkn4sV5KWu+++Gz8/P1QqFSNHjmTbtm3k5+fz0Ucf4e3tTadOnbh06RKffvopOp0OLy8vHnroITQaDRZTsb0jr06nY+fOnQwZMoTIyEhOnDjhMBy8JiiVStRqNWazmcTERAoLC1GpVLi7u9fJMxU1qzBVxQ+PNit3v1Jto8fzBQT3MACg8bTS7+2SqqLNAvocJQWX1eRdVJP2u4aU/VX/bItSVeRccCL4DgOe4aUni/QKN+PVwkxWnAZjkRJnr6uJkHcrU6l++S6+Vnv/nIbIaCzEYMhDr89Fr8+z/9tgKPmScMcdf6rnCIWoX5LoVNPQoUM5ffo0P/74I0uWLGHJEsfF+55++mn69OlTrXuoVCoeffRRzp8/z44dO1i4cCELFy50OKZ379488sgj9kn0OnfuzMyZM5k7dy5JSUn2xOgKLy8vZs6cSefOncFmRV+YTps2bRgwYADr168nKSmJcePG2Y/v3r07JpOpQiOnKiIsLIzIyEhOnTrF9u3b2b59O507d+ajjz6qk2cqapZSbcO7pRmVs2MjqHszK8FRBsL76vEItjgkERaDgpPL3Yn71gNj/tXKjUeoBdcAC8XZVSs4m4oU6LVKClNUxH3jUWq/1azAYlBgyFWiz3ZMdDyCG25CY7NZSiUzen0uxcVarNay4/b3b1vHUQrR8EiiU01ubm7MmDGDqKgoVq5cyalTpwDo0KEDEyZMoG/fvmXO4FtZfn5+vPPOO2zZsoXvv//e4T6jRo1i4MCBDnPGKBQKBg8eTJcuXfj+++/55ZdfSElJwd/fn379+jFhwgTCwsIAMBt1XD6zgTZ3TmHGjBm0aNGCFStWkJ2dTWRkJMOHD+fee+/l9ddfr7FEJzAwkNdee43PP/+cQ4cOoVQq8fT0RK/X4+PjUyfPVNScK/PoeLeq2HIbFqOCgx96cfZ7d0J7G4gcqcO/gwkXPwtObjb7SKrqyDqhIetE2TM2Aw26SmMy6UolM8XFOZhMlWs+Dg/vVUsRCnHrUNhqajiQuGUVF6Sy5av+dBv8T8Lbj0CpcqrvkEQ9KzBl8J+L9+AVeeMh01eWgNBnqxj4SXaFEx3tGSe2vOhPQCcjd7+Vi8bTcf2yK4nOXbNziRxZ8sc9L0HN1pf8aTm42GEo9/XDy69c+7ahOu58Mb9CU0TdaBmJsu5bXizlvt/0QoZp5nOH7+PX7bGVSmb0+hyKi3NuHvRNeHmFExk5tNrXEeJWJxUdgc1mIT/rLPu+e5rb7phMmzsm4RPcpb7DEo3YleYln9bmUkmOxagg82j5lZibcWtmwTPMjPaME4YCx6ap+pR4cScuKUqUShU2mw2LxYTZrCu32am6QkPvrJXrCnGrkVFXAqul5Fu4yVDA6b0fE7P+xXqOSDR2Tu42XPysZBzRoMu82gxps0L8z65c2Fj+UhHGPCVWU/llGhcfK63uLyY1pmSyQIvx2slyIGWfMyvvD2bXbF9MRdWb4PJmsVxL4+yBzWa1V2+MxoJaS3Lc3Zvh7l5+5/CK+uyzzxg5cqR9odyaPr66bDYbhw8fZtu2bXVyP3FrkoqOoNQYWyFqmVcLM+F36Tm/3o2NEwNoMUCPUmMjeY8z+hwVnZ4q4tyPbg5Dup19rLgGWLi4zQWVs42gHgZa3FvGFAMKiByhI+ecE8cWeHJxiyvh0QbUrlYyjmnIOKLB2dtGm5G6kjl9qqDcWG6Q84SE9KDzH01XFouB3NxEMjLi0OmyqhTDjQQFda3xazZER48e5bnnnuO1116r71BEAyaJjsBqrVi/CiFqitrFRq8ZeXi1MHNqhQcnl7vj6m+lzQgdbUcXoVRD8h5n8i6qMekUOLnZcPGx0u2ZAg596sWple4Ua5WE9TGUfX23kuuHRBk4tdKd06vd7MtLdBpXRNvRRdXqjFxeLGrXiiVOKpUz/v5t8fdvS1FROikpseTnX6pyPFe4uvqhUmnw9W1V7WtVxbRp05g2bVqd3c9qtWI2y+8vcWOS6AhstVQ+F42fs4+VYV9XrSKhdrXR5elCujxdWOb+EUszHTcoILSPgZF9HLdHjtTZOyxfS6Wx0er+YlrdX3zTWMq7BoB3KzMPr0uvUCxV4e4eRGTkAxQWppGaerhSCY+zsxfNmnXBxycCjebqArglfYD0GAz5mM1G3N0DUKurvnK8ELcy6aMjpKIjRAPg4RFMZOQDtGs3Am/viJse7+4eSIsW/QgIaE9s7AleeOEFoqOjiYqK4qGHHmL+/IUUFSnQaDywWEwkJCQwcuRI+6ziJlMxFkvJCDO9Xs/s2bPL7V+j1+tZvnw5w4cPJyoqivHjx7N582ZMJsc1vsrro2M0Gtm1axfPPvssffr0ITo6munTp3Py5Mky16wzGo1s3ryZSZMmlXn8lXinTp0KwJw5c4iKimLdunUVft6i6ZBER2CTREeIBsPDI4Q2bYbQrt0IfHxalnmMSuVEQEAH3N2D2LBhI9OnTycrK4uxY8cyadIkQkNDWbJkCS+88ALZ2UVoNNdPnGijqCidM2fWUViYCqVWu7sqLy+P999/n88++4y77rqLsWPHotVqeeONN/j0009vuhSLTqfjP//5D3/5y1+4dOkSY8aM4eGHH+bcuXNMnjyZ9evXOyQ7Op2Od999lzfeeIO8vDzGjBnDiBEjOHbsmP14pVJJr169GD58OFAyK/yUKVPsS+UIcS1puhLSdCVKyTOlYLKU3f9FVJ7FoCTDerZS53h4hODhEUJBQSoZGcfJzb1o3+fq6o+7ezOys7WsWLGCvn378uabb+LhUZLQ2Gw2Vq1axZo1azh//jzh4eHXXV2Bu3sQQUFdUKmcub4XtdVqQqksmU9Lp9ORl5fHokWLiIyMBGDq1KnMnTuXNWvW0LVrVwYOHFju+9i6dSsrVqxg8ODBzJgxA29vbwDGjx/PrFmz+Pjjj2nZsiVdupRMabFx40Y2bNjAU089xdSpU3F2dgbg0Ucf5W9/+xvLly/nzjvvZPjw4YSGhrJ+/Xr69+/PyJEjK/V8RdMhFR0hTVeiFH9NS9Q413cYjYaXOoRwt+5VOtfTM4TbbhtM27bD8fVtDYBa7YJKpaGwsJCCggK8vLzQaK7OPaRQKHjsscdYvXo1/fv3L/O6Tk6u+Pu3w9XVr4y9Cq6t8kydOpXIyEisVgs2mxV3d3eeeuopfH192bFjR7lVnfz8fDZt2kRgYCBPP/20PckBCAgI4Pnnn8dsNvPrr79isVgoKChg+/bttGnThscee8ye5AC0bt2aRx99FJvNVmMztIumQSo6ApsMLxfXcVX74KuJwGA8ipNGltuoLkuxCn/fspuhKsrTMxRPz1Dy85MpKkrHZrMQGBhIy5YtWbduHRkZGTz00EPcfvvtBAQEoFBUfY4gpfLqn4agoCDatGmD2awnOfkgNpuV8PBeBAcH07p1a+Lj4ykoKChzkd3U1FQuXLjAHXfcUUZVCcLDw2nRogVxcXEUFRWRnZ1NUlISPXr0wNfXt9Txjz32GI899liV35domiTREdgsUtERpd3m3o+Y/IP4BLjVdyi3NJPRghp3Ql1rZrZxL68wvLzCMJv1ODu7MH36dHJzc9m/fz/79+8HICIigiFDhjB8+HBCQkKqdT8/Pz98fHxQq10ICelOcXEOVqsFJycnfH19SUpKorCwkMDAwFLnFhUVodVqSUlJ4Ztvvim132w2YzAYyM3NJTs7m5ycHFJTUwkICHCoUAlRHZLoCNy8Hb9pFRdKWVhAF68Hibm8CAIqt5CkcKTKCucO78k1fl21uqSC0qpVK77++msuXLjAli1b2LZtG0lJSfzvf/9jxYoVvPfee0RFRdXIPTUaT/sw9pt1Qr7WiRMnOHHiRLn7q5uMCXEjkuiIUomOLj+lniIRDUmoa2d6ek7iWNoCXIJvPheNKK240Iirzoc7g8fW6n1UKhVt27albdu2PP/882RnZ7NmzRoWLVrE6tWr6dSpU5WvnZubS15eHn5+jn15TCYTOTk5+Pj4OPS9ucqGu7s7fn5+DB06lBdffPGmzWk2m42goCCysrIwGo1S1RE1QjojC1RqF5zdAuyvzYYCTMayJ3ETTUu/wGn46+8gL1uqOpVl0JvRJbszJPj/cFZeP7y7Zuzdu5exY8eycuXKa7ba8Pf3Z8yYMURGRpKZmYnRaMTX1xd/f39ycnJKzX9TUFBAfHx8mfdITU0lKSmp1PZLly5x7tw52rVrh6enZxlnKmjWrBlhYWGcOXOGgoICbDYLOl0WxcXZZc6fExAQQEREBGfOnCEnp/QK7rt37+bBBx9kw4YNN3wuQlxLKjoCKKnqGK5Zc0dfkIqTf2Q9RiQaAheVJw+G/Iu1KVbyTHFogvPrO6RbQmGeHl2qC4+GzKONR79au09ERARGo5EtW7bQv39/goKCuDJU/MyZMyQmJjJ48GDc3d0xmUwEBgby+++/c/r0aXtzltFo5LvvvuPs2bPlNiEtW7aM9u3b/3H9krl1li5dil6vZ/DgwTg5OZV5no+PD/fffz8ffPABy5YtY9KkSbj98aXKZrOxb98+/v73v9OzZ09effVVPD09ueeee/jggw9Yu3YtkyZNsld1tFota9aswWQy0bZt2z9mkE7hL38ZQUiIlrNnv/vjro4jxsStxdc3lNzcLJydfXBza4aXV6jDrN9VIYmOAEoSnZzUI/bXxQWpeEqiIwA/5xY8GbGAHZmfEXtuCRbfVNy9nGU01nWsVhu6AiPWXA/8bV15MuJtmrv1qNV7hoWF8fTTT/Puu+/yxBNPMGjQIHx9fbl8+TLbtm0jODiYsWPH4uTkhJOTE4MHD2bXrl28/PLLDBgwgKCgIPbs2YPRaGTUqFH2zszXCgkJwWaz2a+v0WjYtm0b2dnZTJ48mR49yn+PCoWCESNGcO7cORYsWMCWLVuIjo7G1dWVY8eOceTIEby9vRk5ciQuLk7YbBZGjBjBqVOnWLBgATt27CA6Ohqj0Wi/51tv/RW1OoGcHBMtW7rRufMgVCr5WWxM/PyC0Ov1FBYmkZBwHB+fSAIDO9rndqosSXQEAO5e13VILpAOyeIqF5UX9we/ThfvERzL/4Hzl3aQb0rBqjShVla/H4XVaqI4PxmbzYabVxhK1a3TN6OZRysyC5JQ2Vxo7XYHXXwfooPX/XVyb4VCwbBhwwgMDGTp0qX89NNPGI1GQkNDeeKJJxgzZgzNmjWzH3/ffffh7e3NwoUL2bp1K25ubgwYMIBJkyYRExNTZqLj7+/PnDlz2LRpE8uXLycvL49u3brxxhtv0LNnT5TKG/eAcHNzY8aMGURFRbFy5UpWr16N2WwmNDSUcePGMXr0aEJCQrBYjJhMOlxdPXn99dfp06cPS5cuZfHixWg0Gnr27Mk//vEC3t5GmjVzwd3dv8afp2g43N3dcXd3p1kzX9LT00lMTCc0tBfOzmX1B7sxha2shlLR5MRtf4cjW96wv75z2Ee0v+vleoxINHRF5mwyDefx1VR/2v29q8eTdmEr0Y8tJ6jVPTUQXd3zdmraI4dsNhuffvopv/76K5988gmtWtXsCuoZGSfQ68/SvHnzas0RJG5NOTk5aLXFNG/ev9JNWVLREUAZQ8yloiNuwl3tj7u6+t+qd614jOwTW+n38EJua/t4DUQm6oNeryc9PR2VSlWjTUk2m438/Evk55/mtttaSJLTRPn6+mK1WklPP0bz5tGVOlcSHQGAm5cMMRd1y1CUxe6VY0m9sJWIzg9zW4+J9R2SqAK9Xs/69es5ffo0v/32G3fffTcBAQE3P7GCFAoFWu0JgoOrN9uzuPX5+/tTWJhGXl4i3t4tKnyeJDoCkIqOqFvnYv7H8W1z0OVfRqFU0W/smvoOSVRRXl4ea9euJT4+njvvvJPnn38eN7eam027oCAFpdJsX7BUNG3+/h5otecl0RGVd31FRxIdURtSz2/h1J6PSDn7s31bx76v1GNEorqCgoJYunRprV2/qCgdLy9ZhkSU8PDwIDn5IiaTDieniv1cSKIjAFBr3NG4+mIsLpmkSxIdUZN0eZeI2/EeZw98Xmpfx7v/Vg8RiVtFcXEWPj6S6IirXF3dMRjyJdERlefuHW5PdIzFOVjMelTq0isSC1EZJ3d/wOk9H6PLTy61L7z9CJzdZJiwKJ/ZXISykjNLp6Zms379Pn777TDnzpX83IWGBtC/f1ceeeQewsMDS/X3yc0tZPr0eYSHBzJr1jhcXG6dKQ5qWnx8CrGx53jkkasjINet28ucOd8wf/5f6NGjbT1GByqVAmMlZu+XREfYuXqGkZN23P66uCAVD9+aHSIqmo7Lp9dxYue/yEzcU+4xHaKn12FE4tZku+lcPVdYLFZ+/HEP//73KoxGEx06RDBhwv2oVEpOnkxkzZqdrFq1nXHjBjFlyjCcnas2AV1jlpSUzl//+gX33Ve7k11Wh1KpQKWq+GcniY6wK6tDsiQ6orLys85w/Le3STiy5IbHefq1Jqj1vXUUlWjsLBYrX321ga++2kBUVDtmznyCiIhmDpWbzMw85s1by6JFm8jMzGXGjLG4uTnXY9QNj8Viw2KxlNo+cuRdjBx5Vz1EVH2S6Ag7WcVcVNexbW9xctcHmCtQVm4nE1KKGnT06HlWrfqNHj3a8o9/TCIgoPQMuoGB3syYUbKS/IYN++nRo+0t+8dbVJwkOsJORl6Jqrp4bAVxO94l95qmz5tp3+eFWoxINCVGo5kNG/aj0xl4+un7y0xyrnBzc+bxxwdw8OBpNm06QP/+XfHycnc4JjVVy9KlW/j554MA9O3bmYkTH6BdO8dZmYuLDaxdu5v16/dy7lwyarWKDh1aMHr03QwadGepprHc3EJ++mkvP/ywh6SkdPz9vRgypCfjxw/Gz8/L4bjp0+fRo0ckpXpOPAAAIABJREFUd97ZnvffX056ei6DBt2Bm5sza9fuZt68l8rsK/P11z/z+ec/8tFHz9O3bxeHODdtOsC5c8mYzRZCQwMYOrQXY8bcY7/3Z5+tZfHizQAsXryZxYs3M2HC/UybNqrcPjpGo5nffjvMypW/cepUIkqlkh49InnyyYH07NkBpfLq81q3bi9ffbWejz+eRlqalq++2sipU4m4uTkzYEAPJk0aSkiI340/7CqQREfYXV/RKcq5WE+RiFuFNuUwx379O5dPr6vUeZE9p9ZSRKIpysrK5fjxeCIjw2nX7uZLkkRENKNjxxbs2RNHfHwq3bq1se87cSKBGTP+i8ViYezYAaSn57Bt22EOHTrDa689ycCBdwCg0xn417+Ws3lzDL17d+See7pRVKRnz5443nprMcePx/PXvz6GRlPyZzYxMZ033/yaEycu0r17GwYO7EFKSjarV+9g167jvP/+VFq3DnWIc8uWQ2zYsJ+oqPb07euJh4crPXpEsnbtbvbtO0n37pEOiVdBgY7ffz9Lhw4t7M8hKyuPWbMWcOzYBXr37kh0dBdMJjMHD57iq682cPToed5+ewp+fp507tyKRx65h40bD9CmTRg9e7anXbvm5T7HvLwi/vWv5fzyyyHatAnjyScHYjSa2bYtlhde+JQpU4YxZcowVKqrfaysVhuLFm1mx46j9Ot3O1FR7Th8+Bw//LCbY8fi+fe/nyU8PLACn3rFSaIj7PxCujq8zk4+VE+RiIbObNJxfNtbnNj5ryqd36X/rBqOSDRlaWlaEhLSGDKkZ4X63Li5udCyZTA7dhwlKSnDIdG5dCmTBx7oxcyZY3F3Lxl1On58Mq+++j++/HID7dtHEB4eSGzsWTZs2M8rrzzGo4/2tyccf/rTcObM+YaUlGwyM3MJC/v/9u48Our63v/4c9bMkslksu8b2QgJJCg7iCCigMWlVWvdq9Xa3ttrl1u92u3eW+/pcltvW61dLbb1p9a6C4ILIAiChB0CZCH7RibbJDOZzPr7Y2RgSAIhBkKS9+Mcz3Em3+93PvMNMK/5LO9PDE6niz/9aS3HjtXzyCO3ceONi4If/qtXH+XRR//Ak0/+kyeeuC+kd6m5uYPvfe9OVq+eH7y+zWanpCSb3bvL6erqxWI5te9TbW0rBw9Wc+ONC4mKMuH3+3nzze0cOFDFY4/dznXXzQtex+u9nt/97k3WrFlPWVkNCxcWceWVxaSnJ7Bt20FKSrJ58MHPDXkPvV4fL7+8mXffLeW++1by5S+vDIa6++5byc9+9gJr1qxnypSkYDgEaG3t5PDhGv70p38nJyc5eK2Tbdmzp2LUg87wprKLSUEXnhDSq9MhQUcMomr3s7z1fwUjDjmx6QsxmIf+lijE+ersDMwJi4kxD3slVVpaPBBYZXTm8w88cF0w5ADk5CRz221Lg8uuATo6egCwWEwhvSrh4Xp++tMH+c1vvkFycmArjPLyerZsOcCiRdNZuXJuSA/H5ZfncfvtV1NaeozDh0N70TMzE5g1Ky/k+iaTgcsvz+fIkVqqq0OnF+zadRSApUtLUKmU9Pb2cfx4E8XF2SxcWBRyHZVKSWpqXMh7OR+trR28++4uSkpyuPnmK4MhB8BsNnLPPSuwWEysX/8JDocz5NylS0vIzj7Ve6VSKZk3rwAY+PsYDdKjI0JEJ1+Oo7sBCHxr7z5xGHPctDFulbgUtNVu48DG/6S58r3PdJ3CxY+OUouECOjvdwOBD8zPuh9WXl4q0dERA57Pz0/DYNBRXl6P1+sjJyeZiAhDcJhqyZJi8vPTB+1RKiurxeFwMn/+tAE/VygUFBVl4vF42b+/innzTv17GxdnwWQyDDh+9ux8nntuQ8jwlc1mZ9euo0yblk5GRgIQCEU//vF9QKDXpLOzh4YGKzU1zezeXc6OHWUjvk8nTnRRX9/GggVFREUN3E08JSWG4uJsjhypxWrtJi3tVHDMzEwc8HuyWCIuyPwckKAjzhCdPIv6steDj9sbSyXoTHL9disHNv4nx3Y89ZmvpdVbSM5bNQqtEuKUhAQLEBgWcTpdwyr219RkBU717JwUH28Z9HyjUY/ZbKC7247b7SE/P41vf/tWfvGLl3jxxY28+OJG1GoVxcXZXHfdPJYuLUGvD4Qaq7UbgN27y2lt7Rxw7a6uXgwGHY2NVpxOV/B5i8WERjPwYzorK4k5c6aGDF/V1LRw+HAt99xzTcjwV3+/mxde+IC//e1dbDZH8PmkpBhiYsy0t9vOea8G095uw+Pxkp4eP2i41Go1REWZcDic9PW5Qn528vd1sUjQESGiky8PeWxt2EVWyd1j1BpxKQgzxmCOK0AXHo+z97N1K8t2D+JCSEiIIjMzgcZGK319/ecMOk6ni8ZGK2q1ipSUke20rlAoWLlyDldeWcyePeW8+24p27YdpLT0GKWlx3jzze088cR9ISvA1q//ZESvdSaDIYzZs/P5xS/+QXV1M5GR4ZSWlqPTaZg/vzB4nMvl4Ze//AevvrqVuXMLWL16PlOnphMVZcJg0AVXUl1IGo0ajUZ1QV/jXCToiBDRKbNCHss8HQGQO+chcuc8RFP5eso++gUtVe+P6DqFi/9jlFsmBMTERFJUlMW6dTs5fLgmuKx6KDU1LezeXU5JSTbZ2ckhP7Nau+nvdw8IS3Z7H93djgHzgAyGMBYuLGLhwiJ8Pj9VVY389rdv8NFHB9m8eR9f+MLiYNj57W8fZtas/HO+n9N7dYZy2WV5xMaa+fjjMrKykigtPcqMGdnBeTcA1dXNbN68j0WLivjP/7x3wDDYZxEdHYFaraK2thW/3z+gV6e/30VLSwcajRq1emyDjkxGFiG0egumqCnBx+2Npfg8/WPYInEpScq9lmVffo9rv/oxubO/el7nZkz/4gVqlZjstFo1N9ywCIMhjL/97b3gUNFgHI5+XnxxI21tXVx77ZwBNXQqKxvp7raHPOf3+zlw4DgOh5PCwky8Xh/PPPMGt9/+BMeO1QePUyoV5OSk8KUvXQUEVoMB5OamoFarOHiwGr/fPyrvOTk5hlmz8tm9u5y9eys4fLiW2bPzQ+YA2e19dHT0kJWVNCDkuFwe9u+vHPHrx8VFkpoay+HDNYNOZm5sbKesrJbk5JiQlWFjQYKOGCDqtOErv89LR/PeMWyNuBTFpM5l9vXPcNmqJ4d9TtHSH17AFonJrqAgnfvuW8WBA1V85zvPUFnZOCBUdHTY+NnPXmDt2h2sWjU3ZNnzSZWVjbz22lZcLk/wucOHa3jllS2UlORQXJyNWq1iypRkysvref/93SHHer0+PvkksPpp6tR0AHJzU1m4sIjnn3+PHTuOhLTL5fLwu9+9yVVXfYt//vPDYb9frVbNnDkFVFU18Ze/vIPZbOCyy/JCjjEa9URFmdi3r5K2tlPhz+fz8847O1m3bueQ1z85F2ko8fFRLF8+i717K3j55c0h96C7286aNe/Q2dnDihVzRrUnaSRk6EoMEJMyi9qDLwUfdzTtJSZ17hi2SFyKag+9zO61gU05l9z1Fpv+OnTNjcj4Qsyx5+6yF2KkVColt966BJ1Oyy9+8Q/uvPN/mDo1nZkzc4Kbeu7ZU4HP5+NLX7qKBx9cPegKqaKiLN57bzcffrifBQsKgwUDTSY9jz56W3BF1sKFRaxaNZc1a9bz0UcHWbCgEJVKyd69FezdW8mqVXODK6jCw/V87WvX8+ijf+Rb33qa4uJspk/Poq/PxbZth6ira2Xu3AKuvLL4vN5zYWEG8fGRHDlSx+rV84PL2U9KT49n/vxC3n77Y+699ycsXToTrVbNtm2H6Ozs4c47l/PGGx+FLOmOjDQSExPJxo17CAvTMHNmLkuWDGyXSqXk5puvpLq6mT//eV3wfp0sGNja2smddy4fNExebBJ0xABRZ0xI7mjaM0YtEZeq2kMvs/WFWwC4+XErYYZo8ub9K8c+/s2gx09f+oOL2TwxSalUSm66aRGLF89g3bodvPdeKc8//z4ej5eMjAS+9KWruOGGhSQlRQ+5DH3mzBw+//nFPPXUq7zwwkZ0Og0rV87hnnuuDQkSBkMYjzxyG7m5qbz99naee25DcAuIH/7w7gFbQGRmJvLMMw/z8ssfsm7dTkpLjwWP/8EP7mLZssuCq7SGKz4+ivnzC6mubmH+/MKQWjYAOp2W7373i6Snx/Piixt54YUPiI6O4HOfm89NNy1CrVaxbdshampacDicGAw6IiPD+cpXruPXv36Fl17aREdHT7DGzZnMZiM//OE9XHHFDF56aRPPP/9+cAuI733vzgFbQIwVhX+0BgzFhOF1O3jhR6fGrS2Jxaz6Fxm+EgGnh5xbvt+FVheYaOlx2Xnt5xn0O6xnnKHgjid8F7mVYqKoqHiNzMwk1Gr5Xi4CmpvbMRjyMJvTh3W8zNERA6g0BsxxpxJ8Z/O+QT68xGR0esj54o/swZADoNYambni5wPOKVoi2z0IIcaOBB0xqDPr6XQ0SY/OZHd0+6+CIedL/+VCrRk4wXDKzHtIyr025DmZhCyEGEsSdMSgBtTTkaAzaXk9/Xzy5tcoXfswelMidzzhR6kaej+hGVf9V/D/U6auRqmUIQchxNiRoCMGdWaPTmfLvjFqiRhLnS0H2PjcCsp3PkNy3io+/2jTOc+JTpkVrIA8XXpzhBBjTIKOGNSZPTqd0qMz6dQeepmNa1bQenwTRUu+z5K73h72udOX/pBwSwZRSTMvYAuFEOLcJOiIQSkUKqKSSoKPu9uO0ttZPYYtEhfTwU0/ZusLt9DX08Ti219jxrL/OvdJp1FrjTI3R1yS9uwpZ9asr/LUU6+d9bjq6hZWr36Me+/9KV1dvRepded2/HjTeRUWHE0ul4fXXtsaUndnPJCgI4Z0Zj0da93HY9QScbH0261se/lO9r//fcItmdz477WkFtwwomtNmXnPKLdOiMmtrq6Vb3/7meDWEhfbs8+u4y9/eQevd3xVpZGgI4aUOOWqkMdNle+OUUvExdBWu42Nz62get/fScq9lhu+cxxjZNpYN0sI8Smv14/X6x2z1/d4xu61PwtZDiGGlJK/OuRxU/kGPC47aq1xiDPEeFW1+1lK1z6Mu7+H/Pn/xuWr/m+smySEEKNCgo4YkkqjJyl3BU3l7wDg7G2hufJdUgtuHOOWidG0d8MjHN7yM1TqMGav/i25cx4a6yYJcUnr6urlrbe28/rr26irayU6OoJrr53NXXctJyoqYsDxjY1WnntuAzt3HqGpyRrc+uHWW5ewZElJyNYNTz31Grt3l/Pd736RZ599h82b9zF1ahpZWUmsXbsDgOee28Bzz23g7ruv4V/+Zeh/j6urW/i3f/s199yzAq1WzVNPvYbb7eGmm67g/vtXERamGVbbTl6nuTkwZHbLLT8iMTGKX/3qG2RmJozonlxMEnTEWaUV3BgMOgDNFRJ0JorezmpK336YhqNvYkmYzqzVTxOXvnCsmyXEJa22tpUf/vAvHD5cQ0lJNsuWzaSpqZ2XX/6QrVsP8vOfP0hWVlLw+F27jvLoo38A4OqrL8diMdHV1cumTXv53vf+zIMPfo57712BSnVqJkldXSuPPPJ7EhKiuPvua7BauykpyUGvD2Pdup1kZycze3Y+eXmpw2rzCy98QGdnT3CDzeTkGMLCNMNuW3i4nptuuoKtWw9SWdnIypVziI+3EB6uH9E9udgk6IizSspbGfK4ufJd/H4fCoVM7xrPmsrXU7r2YWzWY6QX3sy8L6wZtNKxEOIUp9PFn/60lmPH6nnkkdu48cZFwYCyenUgNDz55D954on7iIgwYrPZ+ctf3iEy0jTgw/7LX17Jf/zHH9i0aR/XX7+A2NjI4M9sNgdz5xbw+ON3huywPn36FLZtO0hJSTYPPvi5Ybf7xIkufvKTB0I25zzftt1zz7X09vbR1tbJLbcsCfbknO89GQsTKuh4Pf1nrdgqzp/elEhs+gLaarcB0NNxnOaKDSTmXDPGLZuYFCiorq7m4Ycf5urlV/P1r3/9rMcCdHV18c1vfZOUlBQee+wx9PrAt6yT+/V63A402nAg8Hfk0OYfc3DTjwEoWvI9Ziz77/Nup91u59VXX+X6668nImJsu6WFGImTwz/nEh19aj+38vJ6tmw5wKJF01m5cm5IL8zll+dx++1X88c/vs3hwzXMmzeNhoY2ursdXHXVTDIzE0OuazLpSUyMZv/+Snp7ncTGhr7u0qUzQ0LOZ1FUlElhYUbIc5+lbac733syFsZ90Gmp+oCmo6/S3rCDvt4TGIyROHrHZundROXu70WtOvX445dvQRMmH24Xgt8PXq+HGwpt6Nq38NYvfnLWYxUK8Pl8LEm2oVSqePepZ1EoFCHHeb1uwvQWtHoLvTYrvR1VmKJzmL70B2QW33HebXS5XPz85z+ntraWz31u+N8qhbiUREdHkJAQNeTP+/vd1NS0hDxXVlaLw+Fk/vxpA0KIQqGgqCgTj8fL/v1VzJs3jYKCDJ5/PrCprdPpoqurl7q6Vo4erWfXrqPs2VNBdLRpwGsbDDri4y2j8C4DEhOj0em0Ic+NtG1nOt97MhbGbdBpq9tO2abv09d5GB2tRIRBlAmgAYt8Bl9gvZ/+Jy6YKAAn0D2844O93j2D/tjvb8PpBI8HvIZwcmY9MKKQA4FgNZZLXIUYDdddN29YE3lPZ7UG/j7u3l1Oa2vngHO6unoxGHQ0NlpxOl3odFqamzv4v/97mS1bDgSXZ6vVKrKykoYMEmazAaNRP9K3Nsj1jGg0Az/uR9K2M43knlxs4zLo1Oz/fxz64BEi1A3EyrQCIc5JoQB9WOC/KF8vjXt+Snfrbi677ndodeZzX0AIEbR+/SfDOq6hoY1vf/sZGhra+MIXFrNwYRFTpiRhNhvxen088cTf2b+/8gK39uK0bbj3ZCyMu6BTd/gVyjY9Qqy+IWQ4RQgxPColROmtdDe+ye63/My7+cXgzxobG3nuuefYsmUL7e3tJCUlceONN3Lrrbei1+vZs2cPDz74YPD4q6++msLCQp588kkiIyMHezkhJoyYmMCXgt/+9mFmzco/5/EffXSQ48eb+OY3b+a225aGDCt7va4L1s7hGK22ne89GQvjaumMzXqMfe98A4tWQo4Qn5VZ76C36X2O7fgNALt27eKuu+5i7dq1FBYW8uUvf5n4+HiefvppHn74YaxWK9HR0dxzzz1kZWURGxvLHXfcwfLly9FqL353tBAXW25uCmq1ioMHq4OT/c/m5LBOfn7qgLlzVms3ZWW1F6SdwzFabTvfezIWxlXQKf/4l4SrmtCOu34oIS5NkWHtHN36P9RV7eU3v/kNkZGR/P73v+d///d/eeihh3jmmWe4//772bNnD++88w7p6encd9995ObmEh8fz913381tt92GwSBjyGLiy81NZeHCIp5//j127DgS8sHucnn43e/e5KqrvhXcdPNkb8fHH5fh9fqCx9rtTv7wh7dHvDlmd7cdt9vzGd7JyNvW3e3Abu8LPj7fezIWxk1ksHfV0Vz+NknDmx8lhBgGpRKMqg72b/sLR44c4Zvf/CbTpp1aGaFSqbjpppvYvXs3TU1N9PX1Dfj2J8RkER6u52tfu55HH/0j3/rW0xQXZzN9ehZ9fS62bTtEXV0rc+cWcOWVxQDMnVtAWlo8a9asZ//+SkpKcujutvPee6Xk5aXy+c9fwSuvbKGz0xasS3M2kZFGYmIi2bhxD2FhGmbOzGXJkuIR/Z0cSdvS0uJxOJw8/fTrzJ6dz6pVc4mLs5zXPRkL4ybotDfuQqeyj3UzhJhwDGEuWuvXo1ZHU1BQMOAfzdjYWP7whz8EHzudzovdRCEuGZmZiTzzzMO8/PKHrFu3k9LSY8FtE37wg7tYtuwy9PrAMuuMjAR+/et/5be/fZ3Nm/ezd28lU6em8fDDX2DZssvYvbucV17ZQnl5AzNn5p7ztSMjw/nKV67j179+hZde2kRHRw/z5hUEX+98jKRtixfPoKJiKa++upXS0mMUFmYSF2c5r3syFhT+S3VQ7QwHN/4A64H/JkJ6yIUYdUcaTLxyYBG/fPIpMjMzz3qs0+nkiSeeoKGhQSYhiwuuouI1MjOTUKvHzfdycYE1N7djMORhNqcP6/hx8yenp70CxkUku/Dae8L4uCKavdUWGjsCtRaSo/q4LKuDhflWIvTuMW5hqO3HYvjrlgzuuqKG+XlWAF77JIVdVVF8Y0U5CZGBHgKPV8HHFTHkJvYQbz7VazDYsWJ0KRV+jJq+cx8ohBDjzLgJOhqtEc8kX2nl8SrYdDiON0uTAchJ7GV6ehc+n4IjjRG8WZrM5rI47lhUS1FaF+NtJsW6vUnsqIgmJ2HwonfiwlGq1DS09NDdPcwChUIIMU6Mm6Az2fl8Ct7Zl8jaPUlcPqWDW+bVh/Tc3ABUNJtYszmTNZsz+erVleQmXrqB4cbZDdw4uyHkOa9v8Gg22LFidGk0ajxeL2VlZcyYMSNkno7D4eBHP/oRPp+Pxx57TFZYiYvK7e7H5/Od+0AxafT12fH7Twx76GpcLS+fzI40RrB+XyLFGV3cvrB2wPCUAshN7OHzc+rpdyvZdCiOfrf8esXwaDRacrKzeeWVV6isPFUN1e/3s23bNrZu3UpKSgpm86kqyna7HYfDMRbNFZOITmeWlX4ihFZrxGRKOveBn5IenXHA5VGyszIagEX5bei1Q+8zlJ/cQ2FqNya9B6dbRZjm1Dcha08YG/YlsL8uEptDQ4ypnzk5HSwuOBESnHqdap7ekENuYg9XFbXy7v4EPqmKwubQkBbjYPn0FmZmdqJUhk6a6vcEAtbGw/HYHBrykgLBazCnz7sB+PU7uXT0BorO/ejlQqLCXcE5OUPN0bH1afiwLI6dFVFYe8KIMLiZkdbFNcUtxJj6B7xeebOJB5dVcaQxgvcPxtPYoSfC4GZRvpWl01ox6j5bXYrxTKlS8uBXv8rj33+Ce+65h6VLl5KSksLRo0fZsWMH06dP54477kClUqFUKklISGD9+vX86le/YsaMGaxevZrw8PCxfhtiAtJqzTidTjQazVg3RVwi+vudaDTD//dGgs440GnXUn3CSJKlj+Sos08YNYZ5eGh56P4kfuBAbSTPfZiJ26OgJLOL2AgndVYj6/clUFpl4cGrq0iyhF67oUPP79+bgtOtYl5OO30uFaXHo/jTxixumNXANcUtwXlA3Q4Nf96YRXmzieyEXhbkWWloN/Cb9bmkRp/9W79e6+WKqW0crDPT2KFnTk47FqP7rIGu+oSRNZszsfaEUZBiY05OO202HTsqotldHcUDV1WRn2wLOcfRr+KVnSkcbjBzeVYHhandHKo3s3ZPItUnjNy39DjGsMkZdhR+mFlSwl//+lfWrFnDxo0bsdlsJCUl8ZWvfIWbb74ZkylQxEqhUHDTTTdRV1fHli1bOHz4MHPnzpWgIy4IgyGO3t7K4J8/Mbm5XC5Aie489uiToDMOdDs0tNnCmJ3dgWEEH8StXTpe3ZmCSefmgWVVwbB0egD6547UAR/0h+vNrCxpZmVJE2pVoPfmymkneGp9DgfqIlmQb8Wk8+DzKfiwLI7yZhO3zq9j8dQ2lEo/fuBIQwR/2jjlrO0zG9xcW9xMn0tFp13Lkmknzrq6qqdPzeu7Uuhxavj6NRVMTbEFA1f1tEAA+sfHqTy0vJLYiFM9O63dOswGN9///GEsxsBeLitLmvjb1ozgCrZLeV7TheQHUChITk7m8ccf5/HHHz/r8YmJifz0pz+9KG0Tk1tERDKVlXuJi4tCpZrkK1IEHR12IiIyzuscmcQxCeytsdDareOaGS0hPUIKoCi1m/m5VsoaIjjeagw5Lyrcxezs9mDIAYgx9ZOd0EuXXYvdGcjJtj4NB+vM5CX1MDu7IzikpQDyk3qYn2sd1fdT0WLiWJOJKwtOkJ/UE7K6LDPOztLCEzR16jlYN7C+y9yc9mDIAQjT+ChItuH1KbDaxq6g1aVB6jeIS49arSc6ehqtrR1j3RQxxvr6+ujp6cNiyT6v8yToTHBur5LWLh0Wo4uMuIGVpZVKP4WpgSXF1SdChx4sRhcmfWgPklbtCwkKANYeLU2detJi7AN6nJRKP1nxvaPxVoIa2gOrfnITewbMEwLISezBYnRRZzXg9p76I65S+okzD+wpionoH/DcpCQ5R1yiYmOn4nbraW9vH+umiDHi8XhobLQSFzcDtVp3XudK0BkHlAo/KqUfn+/8P4vcXgXdDg0RBjcm3eCFBI06Dya9hz6XCt9pS7yjTS40qnMv6/T5FXh9CixG96C1e8JHcZKvx6fA1qfGYnQRYRj8/Ri0XsJ1gfdz+pJ1s8E9qm0RQlwsChITL8dmU9PaKrWeJhuHw0FNTQsWyzTM5rTzPl+CzjgQaXQTG9FPa7eOvv6zT6vyA2/vTuJ3702h+oTxrMeeSa3yoRikh2S80qh8KBQT5/0IMZlptUbS0hbi9UZQVdVCd7fsfTjROZ1Omps7aWzsJjZ2JtHROSO6jkxGHgciDS6y4nvZWRFNY4eeyDOGjk5nc2g4WG+m265Fq/ahUfkxG9y0dOnocWoGDEUBdNk19PSp0aj8I6qmfLLHqdOuwQ8DruEbohDgSKiVfiL0HjrtWmwOzYCVYgA9TjVdDi3JUX0opfyGEBOGSqUlKelyentb6Oqqprm5hrAwPWq1Ur7UTBBhYXocDif9/f2o1XoiItLJyspEpdKO+JoSdMYBtcrP7Ckd7Dlu4YND8WTE2QddBu0HDtWbqW0zsmhqG/FmJ2qVn/hIJzsqoqn5dIn66Xw+BceaIgBIOccy8KHERvSTEu2gvNmEzaHBfNqQkh/Ou2fpXE62s7zZNOg8neOt4fT0qYmPdA5r6E0IMb6EhycQHp6Az+emv9+Gy+VAqZSPs4nCYFCiVhttjbjvAAATJElEQVQICxudkgLyJ2OcOFm8b+2eJP76YQZfXFAXMinY74ddVdG8sjOVeLOTJdNOBFdLlWR0sqM8mg37E0iPtYcsLz9Yb2Z7eQx5ST0j3mMqwuCmJKOT13el8GFZXMhy9GONEbx3MGHY13L0q+hznX0JaU5CD3lJPWwuiyM7oSd0efkJIxsPxRFvdlKS0Tmi9yOEGB+USg16fTR6ffRYN0VcwiTojBNKpZ/l01voc6nZeCiOsoYIchJ7SY+143IrOVRvprVbR1S4izuvqAnpuYmPdHLTnAae+zCTn7w+NaRgYFlDBDGmfm6Y1TDosNZwKIAl007Q0qVn3d5E9tdGUpjaTaddy97qSKJNLhz9565/EW924nSreH1XCvnJtgFLwU8y6T3cMKuBNZszeXpDDgUpNtJi7LTZdOytjkSj9nP34mriZadzIYSY9CTojCNhGh83z61jdnY7W47EUt5koqwhMOyUHNXHTXMamJ9rHbCySAHMSO/isRvLgltAfFIZRYypn2uLWwZsATHStt2+sJYpCb28fyCeDfsTiDc7uWF2I/FmJ0+tP/ckshnpXSwtbGXrkViONZnIjLUPGnQgUC/n2587FtwC4mCdmQiDm7k57YNuASGEEGJyUvj9/nExg2vXG/fTV/tnjOe3fF4IMQzNvSksf+gAWr1lrJsihBCjSpaXCyGEEGLCkqAjhBBCiAlLgo4QQgghJiwJOkIIIYSYsCToCCGEEGLCmlDLy1/7JIUN+4dfnG52dgd3LKpBqx5/1XPLGiL4x8dpfPXqShKGWS+m16nm6Q05Q1YqjjH1k5vUwxVT20iPsaM4Y/uE7cdi+OuWDL513TFyE0dWXHA0rnEuTpeKLUdjWZBnHbSC9MXi8ij5+9YMPqmMAuCBZVXMzBy6iKHHq+D/bUtn+7EYosJdfGNF+bB/t0IIIQY3oYKOMcxDRmzoRm+9TjXWnjAiDG6izqjJYtK7B3yYjwdNnXpe2p6G2zuyDjmV0k/CGdsj+IE2m47tx2LYWRHN1dNbWFXSjGachUC3V8mL29No7dYxP9c61s0JUdYQwfT0LtRDbJzaaddS1RJ+kVslhBAT24QKOstntLB8RkvIcyd7EObltHPj7IYxatnoqWkz8tcPM4JVkEfCbHDzlauqBvQW+P1w/EQ4z29NZ/2+RHQaL9cUtwS3V5ifZ2V+3qUVHs7k94PPf2mlV53Gi1bjo7LFRJddO2Qxw4pmE9aesHHZwyiEEJcqmaMzTvR7lLyzL5FfvJVHb7/6glT+VShgSnwv9191nKhwF1uOxNHaJRUaPytDmJc52e20dOlo7hz8fro8So42RTA12XbBhvSEEGIymlA9OufDD6zfm8gbpclDzp0orYriTxuzuH/pcS6f0sFrn6RQ3mzigWVV7Km28P6BeDrtWtJiHFw9vYWSjM7gZpYnebwKyhrNfHAwnsqWcJQKP/nJPaya2UR6rJ3h9j2s25PEhv0JZCf08qWFteysiGZXVdRnvxGDSLT0sSi/jTdKkylrMAd7foaaX9PvUfLRkVh2VkbT2KHH61MQY+pnTk7HkNtL+HwKSquieGdfIo0deuLNTq6Y2sbCqW2EndGj4fdDVWs4HxyK51CdGZ9fQXqsnZUlzUxL6Q4OP5Y3m/jl23nB877zt2Iy4+x8/ZqK4LYY7T1hbD0aw/byGGwODTGmfhbmt7Gk8MSA1z35vraXx9DYoUel9JMea2dRvpXLszrOa1gvO6GXA7VOyhrMTEuxDdhxvaNXS2VLOMuKWqhpk+ErIYQYLZM26CiA/GQbG/YnDDp3IhBQIkiNdpCd0Bt83uVR8tbuJHZVRlGS2YXF6GJPtYU/b8xiQZ6VW+bVEaYJfAD2u5W8UZrCxkNxWIwuriw4AcCeags/fzOf2xfVMi/XOqywo9d6uG/p8UHD1GhTENhLCqDOasDtVYbM5zldt0PDnzdmUdUaTkGKjaK0LjxeJUcaI1i7J5HKlnDuX1o1YMPQtXsTqW0zMj2ti8LUbg7Vm3l5RyoVLeHcsag2GEx8PgUfHIrn9V3JhGl8zMttR6/1cqjezFPrc1g1s4lVJc0olX7MBjfXFjdzoDYSR7+aWdntRBrdwftV2RLOs5uy6HZoghuB1lmNvLU7EOjuW3ocsyEQyvrdSl7Yls6uqigKUmwUZ3TidKk4VG/muQ8zOH7CyK3z6ob9u4gKdzEloZfKlnBsfRoiz5gvdrw1EG6mxNsl6AghxCiatEEHINHiJC+ph4pmE529WmIjTg0HWXvCONoYwczMzpAeicYOPR6vgm9ddywYBlYUN/PCtjR2VERTkNLNZVmB3qHdx6PYeCiOy6d0cNv8Ooyffngvn9HCnzdm8c8dqSRG9gWvczbXFrec85jRFGl0ERXuorVbR7978KDjJ9DLU9UaPiC0Xe9T8ObuJNbvS6SmzUhRWnfIuY0dBr56dSVTU2wogM9d1si6vUms25tIRqw9ODeovNnE2j2B5+5dUh0csltZ0sQL2wJziZIsfVyW1Um82cnKkmY6esNos4VxzYyWYGCyOTS8UZqM063igWVVTE/vQvHpe/i4PIbnt6bz9p6kYHgpbzaxoyKaW+fXceW0E8H3dd1lTfx1SwbtPWF0OYaeb3MmjcpHQbKN7cdiqG/XhwSdk8NW+ck2YiJkM1IhhBhNk3qOjk7jpSDFRmu3jtq20CXXx1vD6XZomJ7eNWCYYWnhiZBwotN6WT6jBZPOw/5aCy6PEnu/mp2V0UQa3Kwobg6GHAhMBr5+ViM+XyAM+XyX1uTZ4epzqWjq1JOd0EtRWldIz5RS6Sfu0w/tnj7NgHOvLmoJhhwAtcrP4oITpMfaOVAXSa9Tjcer4JOqKNxeJStLmkNCRZjGx6qZTcSY+imtiqLfffY/yuXNJiqaTczPtVKU2h18XQUwe0o7c3LaOVgbSWu3LqTNJp0n5H3ptV4eXFbFN1aUn/c8qfRYO/HmwPDV6b/zk8NWBcm2IXvOhBBCjMyk7tEByE7oIdLgpqwxguJPh4VOfsPOTuglOaov5HiL0UXOIJNFo00u0mPtNHfqcPSr6XGqaerUk5c4+Lf0uAgn8ZFOqk8Y6XOrxrTey0gZtF7uW3ocCAwx9TjVWG1hNHfpKW8yUdYYMeS5mXED5ycZdR5Sox3sr7XQZdfi1XmotxpIiXaQFjOw1yvC4CY12kGt1UiXQ0u8efCaMz6fgqpPh4YKU7sHBFe1yk9WnJ3tx2JoaDeQHNVHclQfhjDvp8NU4RRndJIeYw8OS46ExTj48NXx1nA0Kh/psefu2RNCCHF+Jn3QiY0IFMmragmn0x4YvmqzhVHeZGL5jJYBASTC4MakGzi5VqnwE6bxYe9X43Qr6XOp6OkL1PB5d38igUGSU7w+BW6Pkh534LhLLej4/Ar8/sD7OlutIbdHyQeH4nj3QCKOflXw+RhTP2a9G5tjYG+OxegiwjDwHqqVfoxhXnr61PS5VGhUgfupUfn44FACKuXAkNFp19JmC6PboRky6Hh8Cuz9arRqH7urLVQMUqumo1cLBGoUAaTF2rl1Xh0vfZzGxkNxbDwUh0rpJzuhl3m5VkoyOwdMXj4Xtco/YPjqZKiektCLxei65JbGCyHEeDfpg45W7WN6WhefVEZR22YkNqKfyhYTAHlJtgHHKxWcV5HBmjYjNW2DVyIGRlwL50Jr79HSadcyLbWbMI130GM8XgX/2JHK1iOxFKTYmJ9nJT3GjknvQafxBldpfVat3TrW7xt+xeuhuDxKth6JHdaxCmBOTjvFGZ2UN5sorYriYH0kx5pMHGsysf1YTMjk5eE6ffhqWootGKq/MLf+095ECTpCCDGaJn3QAciIs5MQ6aSsMTAh9GijidyknpDJySd1OzT0OtXBSa4neXyKYM+MTuPD7fVi0nuYm2PlpjkNw15Gfinw+RQcawoMO2XF2Yes5NvcpWdfjYWitG7uXXIcg3bwQHSmTruWXufAP3qBnhcVFqOLcF3gPhrDPGTF9XLn4prz7kE5KdBT5MFidPGvKypIsvSd+6RPhWl8FKV1U5TWjd8fmET9RmkyB+vM7KuxsPjTlXTDdXL46vgJIz1ONZUtJnRaLxnDmJAuhBDi/E3qycgnRRldTE22cbw1nOMnwqm1BpY9D1ahtqNXS0O7YcDznb1amjv1pMfaCde7iTS6iI1wUmc14ugfX3myoUNPaVUUSZa+QecjnXRyeC7J0jcg5Hi8Cipbh14mXW81cGZ86unTUH0inIRIJ5FGF4YwD4kWJ/XthkGHwIZLqfSTGu2g066lqUN/zuO9PgVvlCbzxKsF1J/2u1YoICXawVWFrcCp4a7zcXL4qqHdQEWLiaONpsA8MeOl2bMnhBDjnQQdAh+EhandtNnC+LAsFmOYJ6R2zpk2HY7D2hMWfOx0qXh3fwJOt5LLszpRK/2E6zzMmtLBsSYTHxyMx+M91afjJ7Dv0b//vZhnN2XidKkGeZWL72RhvjWbM+lxqlk2vfWsy5312kCvVWVLYIXa6dfZWRnNzoroIc/dciQ2JHS4PUo2HYqjsUPPrCkdGLRetGofs6a0Y+0J4+3dSQPuU2OHnh/+o5An1+bRaQ8NHX0uFU73qeOnpthIjXbw1u4kGs8IO06Xir9syuS7z8/gUL0ZldJPsqWP+nYDu49HhfzufD4FR5sCQ5sjnTycHmsnxtTP5sNx1FqNFKTYhuw1E0II8dmMr66GCygl2kFKtIPD9WaWFbUOWs0XAkvSux0a/ue1gkB1XJWPPdUWbH0aVpY0BysGK4D5uVYa2g2s25vI7uMWClO70Wp8HG8Np7IlHKPOw/zcdnTDHPIZLd0ODX/8YErIUmavT0FLlw63V4lK6WdlSTNzs9vPOuQWb3ZSmNrFx+Ux/OT1qczMDKxaO1RvpsepZvn0Fj46Fhtcsn2SSe/BEu7iJ69PDRZdPFRvprFDz4I8K5dldQSPnZZiY2VJM+v2JnKkKYKSjC7CdW4a2g2UNQSG11aUNAd7RDRqH1Hh/XxSGcUrO1PIju9lfp4Vi9HF5+c08OzmTH7y+lQKUmykRDvodWrYWxOJzaFhQZ6VnITA768orYu5Oe2s35fAwTpzcLVWRbOJypZw5ua0My0ltDbQcJ0cvtp+LIaESCdpMY5znnNyvtM1M1pC9mxr6dLx63dyMRvcIRWgh3peCCEmGwk6n4owuJn66ZDCYLVzTjKEebn/quMcbTSx8XA8dqea7IRe7ryihqnJtpCJymEaH7ctqCU/2camw3FsLosLbo9w9fQWFuVbib4Ae1adi9enGNCrAZAQ6WRaajcL8qwkWvrOOa9Iq/bxxQV1xJudbDwczweH4okwuJmfa2VRvhWVMhB6Wrp0ON0qdJ9OataofNw8t576dgPv7E3kk8oo0mIcg1Z+Vir9rCxpIjOul/cPJrD9WDRur5IIg5u5Oe0sKTwR0lYFcMXUNlq7dRyojaTmhJGpKTb02j7yk218d/VRNuxLYH9dJPtrI9GofOQk9nLloloKkruDrx2m8XHbwlpSox1sL49hw/6E4BYQdy+uOe8tIE53+uqrqck2omTYSgghLhiF3+8fF33mu964n77aP2O8QHtM+nwKXv0khfp2Aw8sqxp0ufdrn6SwqyqKb6woH7DztxDjWXNvCssfOoBWbxnrpgghxKiSOTqfqms3UFoVxczMzkuupo0QQgghRmZSD13Z+9X8fWs6VlsYLV06suLtzMzsOPeJQgghhBgXxk2PTm9XHf2jPJVBq/Zh0nmobzeQFW/nSwtrB+yyLcRk4HE7cfa2jnUzhBBi1I2bOTr7Nvw7XUf+F9PAEjZCiM+o0ZbEin89giZs6P3JhBBiPBo3PTrm+Bl4/Ocu9iaEOD9uDxgikiXkCCEmpHETdCyJJfT7ZUWIEKPN4YT4KcvHuhlCCHFBjJugExk/DXN8CXZZ1S3EqHIqkkkp+MJYN0MIIS6IcRN0AHIXPEKvL2WsmyHEhNFlV5OQeyOWxOKxbooQQlwQ4yroxGUsInPWv9HeFzfWTRFi3OtxgN9YwrQrfzDWTRFCiAtmXAUdgKkLvkPCtPux9iXiubhbRAkxYXT1gls/k1k3rCHMGDvWzRFCiAtm3CwvP9PxvX/j8MbH0CtaCde50Uzq0odCnJvfD3YnOPxJRKdfTeFVT2CISB7rZgkhxAU1boMOgMPWQN3Bl6g/9AIuRysqpR8F4/btCHFBeL0eFEotXr+auIzFpBffS3zm4rFulhBCXBTjOuicztHdQL+jDc6557YQk0v3iTKiki/DGJmBSh021s0RQoiLasIEHSGEEEKIM427ychCCCGEEMMlQUcIIYQQE5YEHSGEEEJMWBJ0hBBCCDFhSdARQgghxIQlQUcIIYQQE5YEHSGEEEJMWBJ0hBBCCDFhSdARQgghxIQlQUcIIYQQE5YEHSGEEEJMWBJ0hBBCCDFhSdARQgghxIQlQUcIIYQQE5YEHSGEEEJMWBJ0hBBCCDFhSdARQgghxIQlQUcIIYQQE5YEHSGEEEJMWBJ0hBBCCDFh/X9LBHHrMnbQhgAAAABJRU5ErkJggg==)\n",
        "\n",
        "Modellierung eines gesamten UseCases - siehe auch: http://gb2.clinfhir.com/\n",
        "\n",
        "![img_fhir.JPG](data:image/jpeg;base64,/9j/4AAQSkZJRgABAQEAkACQAAD/4RDmRXhpZgAATU0AKgAAAAgABAE7AAIAAAAJAAAISodpAAQAAAABAAAIVJydAAEAAAASAAAQzOocAAcAAAgMAAAAPgAAAAAc6gAAAAgAAAAAAAAAAAAAAAAAAAAAAAAAAAAAAAAAAAAAAAAAAAAAAAAAAAAAAAAAAAAAAAAAAAAAAAAAAAAAAAAAAAAAAAAAAAAAAAAAAAAAAAAAAAAAAAAAAAAAAAAAAAAAAAAAAAAAAAAAAAAAAAAAAAAAAAAAAAAAAAAAAAAAAAAAAAAAAAAAAAAAAAAAAAAAAAAAAAAAAAAAAAAAAAAAAAAAAAAAAAAAAAAAAAAAAAAAAAAAAAAAAAAAAAAAAAAAAAAAAAAAAAAAAAAAAAAAAAAAAAAAAAAAAAAAAAAAAAAAAAAAAAAAAAAAAAAAAAAAAAAAAAAAAAAAAAAAAAAAAAAAAAAAAAAAAAAAAAAAAAAAAAAAAAAAAAAAAAAAAAAAAAAAAAAAAAAAAAAAAAAAAAAAAAAAAAAAAAAAAAAAAAAAAAAAAAAAAAAAAAAAAAAAAAAAAAAAAAAAAAAAAAAAAAAAAAAAAAAAAAAAAAAAAAAAAAAAAAAAAAAAAAAAAAAAAAAAAAAAAAAAAAAAAAAAAAAAAAAAAAAAAAAAAAAAAAAAAAAAAAAAAAAAAAAAAAAAAAAAAAAAAAAAAAAAAAAAAAAAAAAAAAAAAAAAAAAAAAAAAAAAAAAAAAAAAAAAAAAAAAAAAAAAAAAAAAAAAAAAAAAAAAAAAAAAAAAAAAAAAAAAAAAAAAAAAAAAAAAAAAAAAAAAAAAAAAAAAAAAAAAAAAAAAAAAAAAAAAAAAAAAAAAAAAAAAAAAAAAAAAAAAAAAAAAAAAAAAAAAAAAAAAAAAAAAAAAAAAAAAAAAAAAAAAAAAAAAAAAAAAAAAAAAAAAAAAAAAAAAAAAAAAAAAAAAAAAAAAAAAAAAAAAAAAAAAAAAAAAAAAAAAAAAAAAAAAAAAAAAAAAAAAAAAAAAAAAAAAAAAAAAAAAAAAAAAAAAAAAAAAAAAAAAAAAAAAAAAAAAAAAAAAAAAAAAAAAAAAAAAAAAAAAAAAAAAAAAAAAAAAAAAAAAAAAAAAAAAAAAAAAAAAAAAAAAAAAAAAAAAAAAAAAAAAAAAAAAAAAAAAAAAAAAAAAAAAAAAAAAAAAAAAAAAAAAAAAAAAAAAAAAAAAAAAAAAAAAAAAAAAAAAAAAAAAAAAAAAAAAAAAAAAAAAAAAAAAAAAAAAAAAAAAAAAAAAAAAAAAAAAAAAAAAAAAAAAAAAAAAAAAAAAAAAAAAAAAAAAAAAAAAAAAAAAAAAAAAAAAAAAAAAAAAAAAAAAAAAAAAAAAAAAAAAAAAAAAAAAAAAAAAAAAAAAAAAAAAAAAAAAAAAAAAAAAAAAAAAAAAAAAAAAAAAAAAAAAAAAAAAAAAAAAAAAAAAAAAAAAAAAAAAAAAAAAAAAAAAAAAAAAAAAAAAAAAAAAAAAAAAAAAAAAAAAAAAAAAAAAAAAAAAAAAAAAAAAAAAAAAAAAAAAAAAAAAAAAAAAAAAAAAAAAAAAAAAAAAAAAAAAAAAAAAAAAAAAAAAAAAAAAAAAAAAAAAAAAAAAAAAAAAAAAAAAAAAAAAAAAAAAAAAAAAAAAAAAAAAAAAAAAAAAAAAAAAAAAAAAAAAAAAAAAAAAAAAAAAAAAAAAAAAAAAAAAAAAAAAAAAAAAAAAAAAAAAAAAAAAAAAAAAAAAAAAAAAAAAAAAAAAAAAAAAAAAAAAAAAAAAAAAAAAAAAAAAAAAAAAAAAAAAAAAAAAAAAAAAAAAAAAAAAAAAAAAAAAAAAAAAAAAAAAAAAAAAAAAAAAAAAAAAAAAAAAAAAAAAAAAAAAAAAAAAAAAAAAAAAAAAAAAAAAAAAAAAAAAAAAAAAAAAAAAAAAAAAAAAAAAAAAAAAAAAAAAAAAAAAAAAAAAAAAAAAAAAAAAAAAAAAAAAAAAAAAAAAAAAAAAAAAAAAAAAAAAAAAAAAAAAAAAAAAAAAAAAAAAAAAAAAAAAAAAAAAAAAAAAAAAAAAAAAAAAAAAAAAAAAAAAAAAAAAAAAAAAAAAAAAAAAAAAAAAAAAAAAAAAAAAAAAAAAAAAAAAAAAAAAAAAAAAAAAAAAAAAAAAAAAAAAAAAAAAAAAAAAAAAAAAAAAAAAAAAAAAAAAAAAAAAAAAAAAAAAAAAAAAAAAAAAAAAAAAAAAAAAAAAAAAAAAAAAAAAAAAAAAAAAAAAAAAAAAAAAAAAAAAAAAAAAAAAAAAAAAAAAAAAAAAAAAAAAAAAAAAAAAAAAAAAAAAAAAAAAAAAAAAAAAAAAAAAAAAAAAAAAAAAAAAAAAAAAAAAAAAAAAAAAAAAAAAAAAAAAAAAAAAAAAAAAAAAAAAAAAAAAAAAAAAAAAAAAAAAAAAAAAAAAAAAAAAAAAAAAAAAAAAAAAAAAAAAAAAAAAAAAAAAAAAAAAAAAAAAAAAAAAAAAAAAAAAAAAAAAAAAAAAAAAAAAAAAAAAAAAAAAAAAAAAAAAAAAAAAAAAAAAAAAAAAAAAAAAAAAAAAAAAAAAAAAAAAAAAAAAAAAAAAAAAAAAAAAAAAAAAAAAAAAAAAAAAAAAAAAAAAAAAAAAAAAAAAAAAAAAAAAAAAAAAAAAAAAAAAAAAAAAAAAAAAAAAAAAAAAAAAAAAAAAAAAAAAAAAAAAAAAAAAAAAAAAAAAAAAAAAAAAAAAAAAAAAAAAAAAAAAAAAAAAAAAAAAAAAAAAAAAAAAAAAAAAAAAAAAAAAAAAAAAAAAAAAAAAAAAAAAAAAAAAAAAAAAAAAAAAAAAAAAAAAAAEFMS09MTDAxAAAABZADAAIAAAAUAAAQopAEAAIAAAAUAAAQtpKRAAIAAAADNDQAAJKSAAIAAAADNDQAAOocAAcAAAgMAAAIlgAAAAAc6gAAAAgAAAAAAAAAAAAAAAAAAAAAAAAAAAAAAAAAAAAAAAAAAAAAAAAAAAAAAAAAAAAAAAAAAAAAAAAAAAAAAAAAAAAAAAAAAAAAAAAAAAAAAAAAAAAAAAAAAAAAAAAAAAAAAAAAAAAAAAAAAAAAAAAAAAAAAAAAAAAAAAAAAAAAAAAAAAAAAAAAAAAAAAAAAAAAAAAAAAAAAAAAAAAAAAAAAAAAAAAAAAAAAAAAAAAAAAAAAAAAAAAAAAAAAAAAAAAAAAAAAAAAAAAAAAAAAAAAAAAAAAAAAAAAAAAAAAAAAAAAAAAAAAAAAAAAAAAAAAAAAAAAAAAAAAAAAAAAAAAAAAAAAAAAAAAAAAAAAAAAAAAAAAAAAAAAAAAAAAAAAAAAAAAAAAAAAAAAAAAAAAAAAAAAAAAAAAAAAAAAAAAAAAAAAAAAAAAAAAAAAAAAAAAAAAAAAAAAAAAAAAAAAAAAAAAAAAAAAAAAAAAAAAAAAAAAAAAAAAAAAAAAAAAAAAAAAAAAAAAAAAAAAAAAAAAAAAAAAAAAAAAAAAAAAAAAAAAAAAAAAAAAAAAAAAAAAAAAAAAAAAAAAAAAAAAAAAAAAAAAAAAAAAAAAAAAAAAAAAAAAAAAAAAAAAAAAAAAAAAAAAAAAAAAAAAAAAAAAAAAAAAAAAAAAAAAAAAAAAAAAAAAAAAAAAAAAAAAAAAAAAAAAAAAAAAAAAAAAAAAAAAAAAAAAAAAAAAAAAAAAAAAAAAAAAAAAAAAAAAAAAAAAAAAAAAAAAAAAAAAAAAAAAAAAAAAAAAAAAAAAAAAAAAAAAAAAAAAAAAAAAAAAAAAAAAAAAAAAAAAAAAAAAAAAAAAAAAAAAAAAAAAAAAAAAAAAAAAAAAAAAAAAAAAAAAAAAAAAAAAAAAAAAAAAAAAAAAAAAAAAAAAAAAAAAAAAAAAAAAAAAAAAAAAAAAAAAAAAAAAAAAAAAAAAAAAAAAAAAAAAAAAAAAAAAAAAAAAAAAAAAAAAAAAAAAAAAAAAAAAAAAAAAAAAAAAAAAAAAAAAAAAAAAAAAAAAAAAAAAAAAAAAAAAAAAAAAAAAAAAAAAAAAAAAAAAAAAAAAAAAAAAAAAAAAAAAAAAAAAAAAAAAAAAAAAAAAAAAAAAAAAAAAAAAAAAAAAAAAAAAAAAAAAAAAAAAAAAAAAAAAAAAAAAAAAAAAAAAAAAAAAAAAAAAAAAAAAAAAAAAAAAAAAAAAAAAAAAAAAAAAAAAAAAAAAAAAAAAAAAAAAAAAAAAAAAAAAAAAAAAAAAAAAAAAAAAAAAAAAAAAAAAAAAAAAAAAAAAAAAAAAAAAAAAAAAAAAAAAAAAAAAAAAAAAAAAAAAAAAAAAAAAAAAAAAAAAAAAAAAAAAAAAAAAAAAAAAAAAAAAAAAAAAAAAAAAAAAAAAAAAAAAAAAAAAAAAAAAAAAAAAAAAAAAAAAAAAAAAAAAAAAAAAAAAAAAAAAAAAAAAAAAAAAAAAAAAAAAAAAAAAAAAAAAAAAAAAAAAAAAAAAAAAAAAAAAAAAAAAAAAAAAAAAAAAAAAAAAAAAAAAAAAAAAAAAAAAAAAAAAAAAAAAAAAAAAAAAAAAAAAAAAAAAAAAAAAAAAAAAAAAAAAAAAAAAAAAAAAAAAAAAAAAAAAAAAAAAAAAAAAAAAAAAAAAAAAAAAAAAAAAAAAAAAAAAAAAAAAAAAAAAAAAAAAAAAAAAAAAAAAAAAAAAAAAAAAAAAAAAAAAAAAAAAAAAAAAAAAAAAAAAAAAAAAAAAAAAAAAAAAAAAAAAAAAAAAAAAAAAAAAAAAAAAAAAAAAAAAAAAAAAAAAAAAAAAAAAAAAAAAAAAAAAAAAAAAAAAAAAAAAAAAAAAAAAAAAAAAAAAAAAAAAAAAAAAAAAAAAAAAAAAAAAAAAAAAAAAAAAAAAAAAAAAAAAAAAAAAAAAAAAAAAAAAAAAAAAAAAAAAAAAAAAAAAAAAAAAAAAAAAAAAAAAAAAAAAAAAAAAAAAAAAAAAAAAAAAAAAAAAAAAAAAAAAAAAAAAAAAAAAAAAAAAAAAAAAAAAAAAAAAAAAAAAAAAAAAAAAAAAAAAAAAAAAAAAAAAAAAAAAAAAAAAAAAAAAAAAAAAAAAAAAAAAAAAAAAAAAAAAAAAAAAAAAAAAAAAAAAAAAAAAAAAAAAAAAAAAAAAAAAAAAAAAAAAAAAAAAAAAAAAAAAAAAAAAAAAAAAAAAAAAAAAAAAAAAAAAAAAAAAAAAAAAAAAAAAAAAAAAAAAAAAAAAAAAAAAAAAAAAAAAAAAAAAAAAAAAAAAAAAAAAAAAAAAAAAAAAAAAAAAAAAAAAAAAAAAAAAAAAAAAAAAAAAAAAAAAAAAAAAAAAAAAAAAAAAAAAAAAAAAAAAAAAAAAAAAAAAAAAAAAAAAAAAAAAAAAAAAAAAAAAAAAAAAAAAAAAAAAAAAAAAAAAAAAAAAAAAAAAAAAAAAAAAAAAAAAAAAAAAAAAAAAAAAAAAAAAAAAAAAAAAAAAAAAAAAAAAAAAAAAAAAAAAAAAAAAAAAAAAAAAAAAAAAAAAAAAAAAAAAAAAAAAAAAAAAAAAAAAAAAAAAAAAAAAAAAAAAAAAAAAAAAAAAAAAAAAAAAAAAAAAAAAAAAAAAAAAAAAAAAAAAAAAAAAAAAAAAAAAAAAAAAAAAAAAAAAAAAAAAAAAAAAAAAAAAAAAAAAAAAAAAAAAAAAAAAAAAAAAAAAAAAAAAAAAAAAAADIwMjI6MTI6MDUgMTY6MDA6NDgAMjAyMjoxMjowNSAxNjowMDo0OAAAAEEATABLAE8ATABMADAAMQAAAP/hCxtodHRwOi8vbnMuYWRvYmUuY29tL3hhcC8xLjAvADw/eHBhY2tldCBiZWdpbj0n77u/JyBpZD0nVzVNME1wQ2VoaUh6cmVTek5UY3prYzlkJz8+DQo8eDp4bXBtZXRhIHhtbG5zOng9ImFkb2JlOm5zOm1ldGEvIj48cmRmOlJERiB4bWxuczpyZGY9Imh0dHA6Ly93d3cudzMub3JnLzE5OTkvMDIvMjItcmRmLXN5bnRheC1ucyMiPjxyZGY6RGVzY3JpcHRpb24gcmRmOmFib3V0PSJ1dWlkOmZhZjViZGQ1LWJhM2QtMTFkYS1hZDMxLWQzM2Q3NTE4MmYxYiIgeG1sbnM6ZGM9Imh0dHA6Ly9wdXJsLm9yZy9kYy9lbGVtZW50cy8xLjEvIi8+PHJkZjpEZXNjcmlwdGlvbiByZGY6YWJvdXQ9InV1aWQ6ZmFmNWJkZDUtYmEzZC0xMWRhLWFkMzEtZDMzZDc1MTgyZjFiIiB4bWxuczp4bXA9Imh0dHA6Ly9ucy5hZG9iZS5jb20veGFwLzEuMC8iPjx4bXA6Q3JlYXRlRGF0ZT4yMDIyLTEyLTA1VDE2OjAwOjQ4LjQ0MzwveG1wOkNyZWF0ZURhdGU+PC9yZGY6RGVzY3JpcHRpb24+PHJkZjpEZXNjcmlwdGlvbiByZGY6YWJvdXQ9InV1aWQ6ZmFmNWJkZDUtYmEzZC0xMWRhLWFkMzEtZDMzZDc1MTgyZjFiIiB4bWxuczpkYz0iaHR0cDovL3B1cmwub3JnL2RjL2VsZW1lbnRzLzEuMS8iPjxkYzpjcmVhdG9yPjxyZGY6U2VxIHhtbG5zOnJkZj0iaHR0cDovL3d3dy53My5vcmcvMTk5OS8wMi8yMi1yZGYtc3ludGF4LW5zIyI+PHJkZjpsaT5BTEtPTEwwMTwvcmRmOmxpPjwvcmRmOlNlcT4NCgkJCTwvZGM6Y3JlYXRvcj48L3JkZjpEZXNjcmlwdGlvbj48L3JkZjpSREY+PC94OnhtcG1ldGE+DQogICAgICAgICAgICAgICAgICAgICAgICAgICAgICAgICAgICAgICAgICAgICAgICAgICAgICAgICAgICAgICAgICAgICAgICAgICAgICAgICAgICAgICAgICAgICAgICAgICAgCiAgICAgICAgICAgICAgICAgICAgICAgICAgICAgICAgICAgICAgICAgICAgICAgICAgICAgICAgICAgICAgICAgICAgICAgICAgICAgICAgICAgICAgICAgICAgICAgICAgICAKICAgICAgICAgICAgICAgICAgICAgICAgICAgICAgICAgICAgICAgICAgICAgICAgICAgICAgICAgICAgICAgICAgICAgICAgICAgICAgICAgICAgICAgICAgICAgICAgICAgIAogICAgICAgICAgICAgICAgICAgICAgICAgICAgICAgICAgICAgICAgICAgICAgICAgICAgICAgICAgICAgICAgICAgICAgICAgICAgICAgICAgICAgICAgICAgICAgICAgICAgCiAgICAgICAgICAgICAgICAgICAgICAgICAgICAgICAgICAgICAgICAgICAgICAgICAgICAgICAgICAgICAgICAgICAgICAgICAgICAgICAgICAgICAgICAgICAgICAgICAgICAKICAgICAgICAgICAgICAgICAgICAgICAgICAgICAgICAgICAgICAgICAgICAgICAgICAgICAgICAgICAgICAgICAgICAgICAgICAgICAgICAgICAgICAgICAgICAgICAgICAgIAogICAgICAgICAgICAgICAgICAgICAgICAgICAgICAgICAgICAgICAgICAgICAgICAgICAgICAgICAgICAgICAgICAgICAgICAgICAgICAgICAgICAgICAgICAgICAgICAgICAgCiAgICAgICAgICAgICAgICAgICAgICAgICAgICAgICAgICAgICAgICAgICAgICAgICAgICAgICAgICAgICAgICAgICAgICAgICAgICAgICAgICAgICAgICAgICAgICAgICAgICAKICAgICAgICAgICAgICAgICAgICAgICAgICAgICAgICAgICAgICAgICAgICAgICAgICAgICAgICAgICAgICAgICAgICAgICAgICAgICAgICAgICAgICAgICAgICAgICAgICAgIAogICAgICAgICAgICAgICAgICAgICAgICAgICAgICAgICAgICAgICAgICAgICAgICAgICAgICAgICAgICAgICAgICAgICAgICAgICAgICAgICAgICAgICAgICAgICAgICAgICAgCiAgICAgICAgICAgICAgICAgICAgICAgICAgICAgICAgICAgICAgICAgICAgICAgICAgICAgICAgICAgICAgICAgICAgICAgICAgICAgICAgICAgICAgICAgICAgICAgICAgICAKICAgICAgICAgICAgICAgICAgICAgICAgICAgICAgICAgICAgICAgICAgICAgICAgICAgICAgICAgICAgICAgICAgICAgICAgICAgICAgICAgICAgICAgICAgICAgICAgICAgIAogICAgICAgICAgICAgICAgICAgICAgICAgICAgICAgICAgICAgICAgICAgICAgICAgICAgICAgICAgICAgICAgICAgICAgICAgICAgICAgICAgICAgICAgICAgICAgICAgICAgCiAgICAgICAgICAgICAgICAgICAgICAgICAgICAgICAgICAgICAgICAgICAgICAgICAgICAgICAgICAgICAgICAgICAgICAgICAgICAgICAgICAgICAgICAgICAgICAgICAgICAKICAgICAgICAgICAgICAgICAgICAgICAgICAgICAgICAgICAgICAgICAgICAgICAgICAgICAgICAgICAgICAgICAgICAgICAgICAgICAgICAgICAgICAgICAgICAgICAgICAgIAogICAgICAgICAgICAgICAgICAgICAgICAgICAgICAgICAgICAgICAgICAgICAgICAgICAgICAgICAgICAgICAgICAgICAgICAgICAgICAgICAgICAgICAgICAgICAgICAgICAgCiAgICAgICAgICAgICAgICAgICAgICAgICAgICAgICAgICAgICAgICAgICAgICAgICAgICAgICAgICAgICAgICAgICAgICAgICAgICAgICAgICAgICAgICAgICAgICAgICAgICAKICAgICAgICAgICAgICAgICAgICAgICAgICAgICAgICAgICAgICAgICAgICAgICAgICAgICAgICAgICAgICAgICAgICAgICAgICAgICAgICAgICAgICAgICAgICAgICAgICAgIAogICAgICAgICAgICAgICAgICAgICAgICAgICAgICAgICAgICAgICAgICAgICAgICAgICAgICAgICAgICAgICAgICAgICAgICAgICAgICAgICAgICAgICAgICAgICAgICAgICAgCiAgICAgICAgICAgICAgICAgICAgICAgICAgICAgICAgICAgICAgICAgICAgICAgICAgICAgICAgICAgICAgICAgICAgICAgICAgICAgICAgICAgICAgICAgICAgICAgICAgICAKICAgICAgICAgICAgICAgICAgICAgICAgICAgIDw/eHBhY2tldCBlbmQ9J3cnPz7/2wBDAAcFBQYFBAcGBQYIBwcIChELCgkJChUPEAwRGBUaGRgVGBcbHichGx0lHRcYIi4iJSgpKywrGiAvMy8qMicqKyr/2wBDAQcICAoJChQLCxQqHBgcKioqKioqKioqKioqKioqKioqKioqKioqKioqKioqKioqKioqKioqKioqKioqKioqKir/wAARCAH1ArgDASIAAhEBAxEB/8QAHwAAAQUBAQEBAQEAAAAAAAAAAAECAwQFBgcICQoL/8QAtRAAAgEDAwIEAwUFBAQAAAF9AQIDAAQRBRIhMUEGE1FhByJxFDKBkaEII0KxwRVS0fAkM2JyggkKFhcYGRolJicoKSo0NTY3ODk6Q0RFRkdISUpTVFVWV1hZWmNkZWZnaGlqc3R1dnd4eXqDhIWGh4iJipKTlJWWl5iZmqKjpKWmp6ipqrKztLW2t7i5usLDxMXGx8jJytLT1NXW19jZ2uHi4+Tl5ufo6erx8vP09fb3+Pn6/8QAHwEAAwEBAQEBAQEBAQAAAAAAAAECAwQFBgcICQoL/8QAtREAAgECBAQDBAcFBAQAAQJ3AAECAxEEBSExBhJBUQdhcRMiMoEIFEKRobHBCSMzUvAVYnLRChYkNOEl8RcYGRomJygpKjU2Nzg5OkNERUZHSElKU1RVVldYWVpjZGVmZ2hpanN0dXZ3eHl6goOEhYaHiImKkpOUlZaXmJmaoqOkpaanqKmqsrO0tba3uLm6wsPExcbHyMnK0tPU1dbX2Nna4uPk5ebn6Onq8vP09fb3+Pn6/9oADAMBAAIRAxEAPwD6RooooAKKKKACiiigAooooAKKKKACiiigAooooAKKKKACiiigAooooAKKKKACiiigAooooAKKKKACiiigAooooAKKKKACiiigAooooAKKKKACiiigAooooAKKKKACiiigAooooAKKKKACiiigAooooAKKKKACiiigAooooAKKKKACiiigAooooAKKKKACiiigAooooAKKKKACiiigAooooAKKKKACiiigAooooAKKKKACiiigAooooAKKKKACiiigAooooAKKKKACiiigAooooAKKKKACiiigAooooAKKKKACiiigAooooAKKKKACiiigAooooAKKKKACiiigAooooAKKKKACiiigAooooAKKKKACiiigAooooAKKKKACiiigAooooAKKKKACiiigAooooAKKKKACiiigAooooAKKKKACiiigAooooAKKKKACiiigAooooAKKKKACiiigAooooAKa7rHGzucKoJJ9BTqqaocaVc4/55mlJ2TYECC5vVEsk0kEbcpHHgHHufWl+xH/AJ+7r/v7S3l3Fp2lzXlxxDbwtI+P7qjJ/lXNWFv4q1vTotVbXV0prhBLBYxWcckcakZUSM3zMcYztK+1eRzTlq2aHSfYj/z93X/f2j7Ef+fu6/7+1xmoeNL6HwmLyfFpfWWrRWN+sCeYD+8AbYCCcMpBHfn1roLHxbZ3VxPb3lreaXPDCbgx30QQvEOrqQSCB3GcjuBQ/aJXuGhp/Yj/AM/d1/39o+xH/n7uv+/tZOneMbXUL62tn07UbJbwE2k11AFS4wN3ykMSDjnDAHFR3HjiwglmYWWozWNvIY59Rit90ETA4bJzuIB6lVIGDzR+8DQ2vsR/5+7r/v7R9iP/AD93X/f2su68XW0HiA6Pb2F/e3QhjnJto1ZBG5IDFiwGBj688Z5xIPFVj/wjd1rTR3Cw2ryRyQlR5odGKlMZxknpzzkUvfDQ0PsR/wCfu6/7+0fYj/z93X/f2si/8YQ2d1Nb2+k6pqElsivc/Y4VYQZGQGLMMnHOFyapaj4ykF94cbR7K6vbLVWZ2khjT5l2EgfMwIIPJ46D14prnfUNDpPsR/5+7r/v7R9iP/P3df8Af2sK28UQWVjqVzqF1cXXlak9pDEtsBIzcbYkVSd/1OD1zjFW7DxXa3r3UM9ne6fd2sPnva3cQV2j/vKQxVhxjg8Hrij3+4aGl9iP/P3df9/aFlmspkWaUzQSMFDMBuQnpnHUVgWHj7T786fIun6nDZ6gVS3vZrcLCzsOFJ3ZB7ZxtJ6E1v6n/wAg9/ZlP/jwpxnOElqGjNGiiivXMwooooAKKKKACiiigAooooAKKKKACiiigAooooAKKKKACiiigAooooAKKKKACiiigAooooAKKKKACiiigAooooAKKKKACiiigAooooAKKKKACiiigAooooAKKKKACiiigAooooAKKKKACiiigAooooAKKKKACiiigAooooAKKKKACiiigAooooAKKKKACqmqf8gq5/65mrdVNU/5BVz/ANczUz+FgV9T09NV0S60+U7UuoGiY+m5cZ/Wub0zxFfaNpUGmavoOqS39rGIQ1lamWG42jAZXHyqDjo5XFdev3R9KWvGT0szQ87vdH1ez8L/AGyXT3utTvNbh1CazgO/yxvXCZ6fKqjJ6Z9q0WkuvEfiSPUYNFuo7XT7KeLZfxGA3Mkm392A3O3C8tjHIxmtTUPElyuryaVoOlnU7yBVa4ZpxDDBu+6GfBO4jnAU8dcU/SfEjXmoT6ZqlhJpupwxed5DSCRJY843o4+8M8HIBHpWl5WvYDlNCgu7fW9Oj8O23iHT7bdi/sdSDNawR7TkRs+ed2MbGI/Cs628P22n2FzpOqeHNe1C/wDNkWP7NeXK2t0jMSrF1fy4xg/MCBjng13fh/xZp+uWNk7XFtbXt3GZFsTcq0gGSM44JHHXFaF3rOl6fdRW1/qVnazzf6uKadUZ/oCcmnzyTtYDC0bTprPx9qDi0khtRpVnDG3zMmVaXKhz94gEe/I9az73Rr5vHH9nR2sh0e9uY9UnmCnYrxjBjJ6Asyxtjvhq0/FfiTW/DtvdXtp4fhv9OtYDNJO2oCJuBkgJsP8AOrGla5qkkEt14k0q00WzSISLcHUVlU59cou3jvml73xAYGr3Osza/qVre/8ACQJAGAsIdJgQRTJtGS8+3KtuznLLgYqtpNvfaX4b8FTXem3xNjLIl1EkDySRbkdQSoGSMkc/jXfWuo2N9Z/a7K8t7m2wT58MqunHX5gcVBBr+kXdpPc2mq2VxBbAmaSK4Rljx13EHA/GlzO1rAcWNL1KB31OPT7ib7B4hmuzbhMSTRMhTcgON2N2R64OKvMLrxF4il1aDTr60tLTS57ZDdwGJ7iSQqcCM/NgbOpAyTxWrY+N9Eu/Cg197yGK06OFkEjIxPCELn5jx8vXmrfhnXl8SaGmpJbSWqvJIgil++u1yvI7Hjp26U25LVoDmJdOvT8NfDFqLO4NxBPYGWHym3xhWXcWGMjHfPSuz1P/AJB8n1X/ANCFWqq6n/yD5Pqv/oQqHK7A0aKKK9ozCiiigAooooAKKKKACiiigAooooAKKKKACiiigAooooAKKKKACiiigAooooAKKKKACiiigAooooAKKKKACiiigAooooAKKKKACiiigAooooAKKKKACiiigAooooAKKKKACiiigAoork/EXxAsNCvTZQQSX94v344jgJ7E4PPsBWNavToR56jsi4QlN2ijrKK82/4Wnff9C63/AH/P/wARR/wtO+/6F1v+/wCf/iK4f7Wwf8/4P/I2+q1ux6TRXm3/AAtO+/6F1v8Av+f/AIij/had9/0Lrf8Af8//ABFH9rYP+f8AB/5B9Vrdj0mivNv+Fp33/Qut/wB/z/8AEUf8LTvv+hdb/v8An/4ij+1sH/P+D/yD6rW7HpNFebf8LTvv+hdb/v8An/4ij/had9/0Lrf9/wA//EUf2tg/5/wf+QfVa3Y9Jorzb/had9/0Lrf9/wA//EUf8LTvv+hdb/v+f/iKP7Wwf8/4P/IPqtbsek0V51F8VnRwb/QZoou7pLkj8Co/nXdaZqlprGnx3unyiWGToehB7gjsa6aGMoYh2pSuzOdGdP4kW6KKK6zIKKKKACiiigAqpqn/ACCrn/rmat1W1FDJptwq8kxnA9eKmfwsBV+6PpS0yGRZYEdDkMoIp9eIanHaFd2+jeMfEGn6pLHbXF9dC8tWlYKLiMxqvyk9SpUgjqOKSW6g1v4kWkmlSJcRaVZTrdzxHcqvJt2x5HBPykkdsCupv9NsdUt/I1Oyt7yHOfLuIlkXP0IIp9rZ21jbLbWVvFbwKMLFEgRR9AOK05lv1EeU2a6APhBbrp4tf7VaVfJ8sL5/2vzOMfxZ/wDZfatTXbaNdV124tLzRLwOiDU9P1eNo2UCMfcl6hSOnBAOcHOa7qHQtJtrqO6t9LsoriJPLjmjt0V0X+6CBkD2ovNE0rUbmO41DTLO6ni/1cs9ujsn0JGRV+0VwOa8RXSX3wVvrqG3kto5tHZ1hkJLRgx8KSeTj1qn4zWZ7nwor3drZ2jSMGmvLfzoRN5Y8vcu5Rn72CT1xXd3FtBd20lvdQxzwSKVeKRAyup6gg8EU24s7a7tGtbq3int2G1oZEDIR6EHioU7AecSaZYLF4mXUvE9myTW8S3hsNNMcUDbjtd8O6sT0Yf3QM8Ve0aVoPGEVnqNvo15cT2EgivtKLJ+6UrxLFkgAk8HJ7gV2tpplhYWZtLGxtra2OcwwwqiHPX5QMU3T9H0zSfM/srTrSy805k+zQLHvPvtAzVe00AxPAMdrN4D0oKkL7IwTgA7XBP5EU/wJ/yLkv8A2ELv/wBKHrcs9OstP837BZ29r5zmSXyYlTex6scDk+5qSC2gtYzHawxwoWLFY0CjcTknA7kkk1Dle4ElVdT/AOQfJ9V/9CFWqqakc2ojH3pJFVR6ncKlbjNKiiivcMgooooAKKKKACiiigAooooAKKKKACiiigAooooAKKKKACiiigAooooAKKKKACiiigAooooAKKKKACiiigAooooAKKKKACiiigAooooAKKKKACiiigAooooAKKKKACiiigAooooAhvZzbWFxOBkxRM4HrgZrw3SAZIJLmUl5pnJd25J/ya9t1b/kC3v/AF7yf+gmvE9G/wCQav8AvGvls/b5qa9f0PSwO0jN1fxrpOjXhtZvOnmX74gUHYfQkkc/StbTNTtdXsVurGTfG3B4wVPoR61zPhbUNO05tTh1K4gtr77W5lM7BC4zxyeo60y+1OxXwfdzeGla1ia52SyIhUjLcsD9OnoD2rz6mEg2qUItO6XN0d/60OiNV/E2vTqdpRXGvp9p4f1/Rv7DZkN4xSeMSlhMmPvEE9uuRVWHRbTVbrxK96JH8mdjGokIVWCn5sA4J+tYrBwa5ud8tr7a722v+pXtZbW19fK53lUG1iAatNpwimaeGDzztUEMPQc5zXH+a+o6V4ZstQnkNpdMwnJcjzNv3VJqe2s7bT/FmrW1k7GKPTSAjSF/L4+6Cecd8e9aLAxipc7u7Pppo7b/AKfiT7Zu1l/VrnTSa5bwWFtdXUVxb/aZFiSGWPEgYnABHb1qyL3Opmz+zXHEfmef5f7rrjbu9fauAubC2ufCPhySePc7XCwk7iPkZjkcVtGMWHjWZLKPAg0nESZJ6E4HNVPB0knyvX3vTR27iVWXXy/E66ivO/sVqvg1fES3Mv8Aa5If7T5x3F92NmM46cYxWjdWMer+N7aLUA+x9N3Sxq5Tdz904IOMnp7Vm8DFN+/or306xte2vn5Fe2b6dvxOzIBGCMg1u/C6ZoNZ1bT1J8nasqrnhTnH8iPyrzzwan2YarZI7mC2vGSJWbOxfSu/+Gv/ACN2q/8AXAf+hCtcDTdHMIwTv/wUTWlz0Gz0+iiivuDxgooooAKKKKACiiigCidPkiZjZT+UrHJjZdy59vSj7PqH/PxB/wB+j/jV6isHQpt3sO7KH2fUP+fiD/v0f8aPs+of8/EH/fo/41fopfV6fYLso/Z9Q/5+IP8Av0f8aPs+of8APxB/36P+NXqKPq9PsF2Ufs+of8/EH/fo/wCNH2fUP+fiD/v0f8avUUfV6fYLso/Z9Q/5+IP+/R/xo+z6h/z8Qf8Afo/41eoo+r0+wXZR+z6h/wA/EH/fo/40fZ9Q/wCfiD/v0f8AGr1FH1en2C7KP2e//wCfmD/v0f8AGkGmFmEk9zI8y/cdflCfQf41foqlQpp3SC7Km+8t/wDWItyn96P5WH4dD+FSw3cM52xv846owww/A1NUU1tDcACaNWx0PcfQ9q0s1sIloqn5F1b/APHvMJk/55zdfwb/ABzTl1CNWCXStbOeB5n3T9G6Ucy66AWqKAcjI5FFUAUUUUAFFFFABRRRQAUUUUAFFFFABRRRQAUUUUAFFFFABRRRQAUUUUAFFFFABRRRQAUUUUAFFFFABRRRQAUUUUAFFFFABRRRQAUUUUAFFFFABRRRQAUUUUAFFFFAFTVv+QLe/wDXvJ/6Ca8T0b/kGr/vGvbNW/5At7/17yf+gmvE9G/5Bq/7xr5XP/ih8z08DtIqa3pHh+5dLnXI7dG+6JZJvK3e2QRnpV60tdOfSlt7OK3exZcBYwGRh39jXNQ6TaeJPFerNrAaZbNlihh3lQoxnPBBq/ZafZ+FbPVbizuHlhTMn2bfkQkLnHrk+/bH1rzKkLU1T9o3JWaXTXtr5nRF+85cqt+Jf03w7pOkTtNp9msUjDBcszHHtknH4VYh0uzgN0YodpvGLT/MTvJGPXj8K5h9T16x0q3166vYZraZkMlkIAoRGPGH6kjI6/rVq4u9YvfFlzpunX6WkC2ySBmgWQqTjpnHX3zRKhXk25VL93d9GtNr6XX6ApwSso/l1NeTQNLm0qPTZbRXtY/uIWOV+jZz+tQW2i6Fpl15VtDDBPPCYgnmkNInfgnn69aw08S6oPDQ3NE2oNffYlm2fLnP3sdM/p7U7yNRtvHWkx6neR3p8mUpMsQjY8HIIHHpWioV4qUZ1LL3na71sr3/AOH1Fzwdmo9jSuE8LNpq6Tc3Vj9mhbAha7AKEH13Zz171d02x0jzEvdM8uUxxC3WWOYuAg/h6kf1rmvE3hvSYdS0147Xa15e7Zz5j/ODye/H4VWutWh0XUrrS9K1CPRba15VWgaczyEZOSc7R0FaLD+2ppUZybd3rtvZ7Xer8vUnn5Je+lodWvhfRV1L7cunxi43bwcnaD67c7f096unT7X+0hqBi/0oR+V5m4/dznGM4rmL7xJqM/hfT9Qsw1sszYuriKDzfIA6nae3HekN1e6l4P1PGs212EUstxFFh2TByroQNpNYPD4hpOpPry7t21t6fK/yK9pTWkV5nTWNnZW/nT2Cri6fzXdXLBye/X+VdJ8Nf+Ru1X/rgP8A0IVxfhCK4i8M2ZuLnzw8atGPLC+WuBheOuPWu0+Gv/I3ar/1wH/oQq8HFxzCMW72drirO9Bu1j0+iiivuTxgooooAKKKKACiiigAooooAKKKKACiiigAooooAKKKKACiiigAooooAKKKKACkZQ6lWAYHqCOtLRQBUNgIzmzla3P90cof+An+mKPtNxB/x9Qb1/56Q8j8V6j9at1T1bVbbRtNkvr0v5UeBtjUszsSAqqB1JJAA96nlttoBYhuIrhd0MiuO+D0qSuXTxJp959tN7pmo6bd2VsbporiNUleMZ+ZWVip6Yxn64q9/bK2dtps8ryzQ6lJHFADGN6lwSNxzjGOvWi76gbVFcNaeOJrXWPEFte2epahHYXpUNZ2oZbaHy1PzHjdyWOBub2xitdteim8U6VHa6gxs7zTprpY1hUxyqDHhzITuXAboBg5OcYFUB0VFc1B45sJ5oWNjqMVhcSCODUpbfFvIxOFwc7gCeAxUA5HNO1LxpZ2F9c20On6lqH2IA3ktlbh0t8jOGJIycc4XccdqAOjorlE8WT3Hjm0020srmfTriwFwtzGqbDuYYfJbdtA46ZyeneuroAKKKKACiiigAooooAKKKKACiiigAooooAKKKKACiiigAooooAKKKKACiiigAooooAKKKKACiiigAooooAKKKKACiiigAooooAKKKrX2pWWmQGbULqK3jHeRgM/T1pOSirsaTew3Vv+QLe/9e8n/oJrxPRv+Qav+8a7vUPiOl5K1j4Y0ybU5mG0syEJj6Dkj64rhpdO1XwsiLrFjJHBN8yOpDAH0yDjPtXyWcVI4hxlS1Ub3a2+89PCRcLqWlzL1nwp/aOofb9P1CfTbthtkkhz849wCOenftUuj+F7bTLO5jnlkvJrwEXE0vVx6e3X1NXP7btPV/8Avmj+27T1f/vmvHeKrun7Pm0/rrudfsoc3NbUyo/CUuIbW61aa40yBw0do0Sg8dAXHJArTh0jyvEVxqnnZ86FYvK2fdx3zn+lO/tu09X/AO+aP7btPV/++aU8TWnu/wAF/Xz3GqcFsZv/AAiMTaPcWUl22+S6a6imRNpiY9OM8/p+FOtfDd0mt2up3+rveTQIyYaEICCOMAHjr75rQ/tu09X/AO+aP7btPV/++ar63Xaavvfouu/TQXsodhuq6R/adxYSef5X2OcTY2bt+O3Xiql94euJNSmvdJ1STTpLlQs4ESyB8cAjPQ+9Xf7btPV/++aP7btPV/8AvmohiKsEknt5J+fUbhF7kN1o08mn20Nnq13bz233Z2fzDJ671PDVBZ+GfJi1Br69e7utQTZLMIxGMYwMKOM1d/tu09X/AO+aP7btPV/++aFiKqjyp/gr733336B7ON7iaHptxpOmraXN79sEeBG3kiPYoGAvBOfrXVfDX/kbtV/64D/0IVyp1mJyEtopZpW4VAvU16R8PfDd1o9nc32qKUvL0gmI9Y1GcZ9znp9K9HLIVK+MVVrbVs58S4wpcp2NFFFfbnjhRRRQAUUUUAFFFFABRRRQAUUUUAFFFFABRRRQAUUUUAFFFFABRRRQAUUUUAFFFFABWP4qhW48N3MUulNq0TbfMtI5Njsu4ZKn+8OoAIJI6itiigDznS7PVLuTUrLSX1xtHm0+WMprqsrJOwwixlwHK4znOR0waet9qGp2vheyTQdTgewvIPtr3FsUWLYhU7T/ABjP8QyMd69DooA4K11S90PUvEkUvh7U7r7VftJZvb2xdJyY0GCeijI+8fl688YqhDoFxaat4e0OeRUuf+EdvYHZTkKzNFnHsCa9MrLi0GFPEkmtS3NzPcNF5MUcjL5cCEgsEAAPJUE5JoA870zQrH+z7DS73wpr0upQtHHcLNf3SWa7SMyCTeYyvG4KAT0GBXQWuoXnhm81qEaPf6gb67a7sZrOHzY5t6gbXYcIQRjLYGMc13FQyWkbnKlom67o22k/XsfxpO/QDl0bUbbxtpV1qtlKz3OmfZ5pbSFnhim3hiCRnavXBPHvXXVVzeQdQtynt8r/AOB/SnxXkMrbNxST+442t+Rpcy6gT0UUVQBRRRQAUUUUAFFFFABRRRQAUUUUAFFFFABRRRQAUUUUAFFFFABRRRQAUUUUAFFFFABRRRQAUVXm1CztruC1uLuCK4uSRBDJKFeXAydqk5OPappZY4IXlmdY40Us7ucBQOpJ7CgB1FRWt3b31rHc2VxFc28gyksLh1ceoI4NPkkSKMvK6oijJZjgD8aAHUVzOpfEDQNPfy47k3s+cCK1Xfk+men61l3niLxfqX7vQtIht/m2uZJkeWI4BG9cgJkEHBB4rjnjKMbqPvNdEr/kaqjN76ep28s0VvEZJ5EijXqzsAB+JrlNV+JOhaeTHayPqE3QLbj5c/7x4/LNZcPw71LV5Vn8W61LOc58mFsgfieB+ArrNJ8L6NogH9n2MaSD/lqw3P8A99HmsufGVvhioLu9X9233l2pQ3dzkRqnjnxPxptmmj2jf8tZRhsfUjP5Crdj8MrZ5xdeItQuNTuDywLFVP49T+YruaKccBTb5qzc357fdsJ1pLSCsVrHT7PTbcQafbRW8Y/hjUDP19askBgQRkHqDRRXekkrIxu3qyv/AGfZ/wDPpB/36H+FH9n2f/PpB/36H+FWKKXLHsF2V/7Ps/8An0g/79D/AAo/s+z/AOfSD/v0P8KsUUcsewXZX/s+z/59IP8Av0P8KP7Ps/8An0g/79D/AAqxRRyx7Bdlf+z7P/n0g/79D/Cj+z7P/n0g/wC/Q/wqxRRyx7Bdlf8As+z/AOfSD/v0P8KP7Ps/+fSD/v0P8KsUUcsewXZFFbQQEmGGOMnqUQDNS0UU0kthBRRRTAKKKKACiiigAooooAKKKKACiiigAooooAKKKKACiiigAooooAKKKKACiiigAooooAKKKKACiiigAooooAKKKKACmSwxzrtmRXHowp9FG4FX7NND/wAes5x/zzl+Yfgeo/Wj7YYuLuJov9sfMn5jp+OKtUVPLbYBEdZFDRsGU9CpyKWq72URYvFugkPVojjP1HQ/jUck1zaRs8wSaJRkuDtYfgeD+lHM1uBZhmjnjDxMGXpx2PpT64mx1KexnMkRyrH50PRq66yvob6ASQt/vKeqmsqVZVNOo2rFiimvIkUbPIyoijLMxwAPrWK/i/SgxERnnA/iigYj88Uq2Jo0P4s1H1ZnKcYfE7G5RWD/AMJhp3/PG8/8BzR/wmGnf88bz/wHNc/9p4L/AJ+x+8j29L+ZG9RWD/wmGnf88bz/AMBzR/wmGnf88bz/AMBzR/aeC/5+x+8Pb0v5kb1FYP8AwmGnf88bz/wHNH/CYad/zxvP/Ac0f2ngv+fsfvD29L+ZG9RWD/wmGnf88bz/AMBzR/wmGnf88bz/AMBzR/aeC/5+x+8Pb0v5kb1FZdh4i03UJxBDMyTHpHMhQn6Z6/hWpXXSrU60eanJNeRpGUZK8XcKKKK1KCijPOO9FABRRRQAVl+JrzUdP8MahdaJa/a9QhgZreHaW3t24HJ+netQkAEk4A6mub8Sa9oP9l3Njea61m8qFfMsZyJ4z6qVyQaidSFNXm7eo1Fy0SON+Hfi3WNW16G3vfF1nqZaIreabe2Qsrq2lGeIwq4kwQc88DsK0tD8U6xeeHfG9zc3m+bSry5is28pB5SomVGAMHB9c1zVnIsuu6fqN74k1Hxbc6XuNhaxaYIGViMZeQZLDA/E/jW1D8PNU1E6tLZa9qGhafrbPLd6c1rEzCRlwSH3ZC57AAkcZ71nTxFKq7Qd/T/PYqVOUVeSOfvNS1vXrn4aX0d5D/a11HcE3M8QKqSuC2xcA4XJA4GQK6Cz8Ra9Y6hr/hvX9St9aaPSWv7S/Fqke9SCNrRjKkZ+vvnPFyb4VySWHhmCDxDNay+H0cJcQ2wDSMehwWIUA9Qd2RkcVV1HQ7bwN4f17xB4r1+TU9Sv7U2a3LWwiUAqQkaRpkDJ6np9OTW2pBg3HxCu9G8B+ELKLULbRZNTgaSfUVsA62yKf4IUXbknjGMdfqIbXxVb674b13UtWuR4gl8O4aC4WNreK9V/ul4uNuG64AyB+J6XQvBE+sfDvwpcRXs+ia1plvvtroQq5QP1Vkb7wIxxx/SujsvBbv4c1HTPE+tXmuvqeftE0p8tUHYRxjIjA68d/wAqmdOFRcs1dDjJxd0cz4X8MeKrTUdMv55tGvLS9tWlmZNNigawYqCnllRukPP8XGFOeTUHwesNVh1bxNLd6z9pgj1OWKaH7KiedN8uZtw5XjjaOK3ND+Hup6drGm3WreLbvU7bSUZLG2FusGwEAYd1JMgwB164/Cr3hzwbd+G/E2q31vrRl03Up3uG09rVQUlbHzebnJ6EYxjmnGMY6RVgbb3OsoooqhBRRRQAUUUUAFFFFABRRRQAUUUUAFFFFABRRRQAUUUUAFFFFABRRRQAUUUUAFFFFABRRRQAUUUUAFFFFABRRRQAUUUUAFFFFABRRRQAUUUUAFFFFABRRRQAUUUUAFFFFABRRRQAUUUUAFFFFABWfqthcahGsccyxxg5IIPzGtCiplFSVmBzDeGLr+GaE/Ukf0pYNF1OzmEtu8e4ejdfbpXTUVj9WgndDuzkfFF3cTiysbmEwrIWklUMCr7cYGfTJzj6VlgYGBWt4u/5C2nf9cpf5rWTX5tn8pPMJpu9rfkjwcY26zMzVPEOmaLNDDqM7xyTAtGqQPIWAxk/Kp9RS6Z4g0zWJHj0+53yxjc0bxtG4HrtYA496xdfmvIPHGkPp1ml5N9kuB5TzeUMZTndg/yqzb2mqXWtrrGrQWunLa20kUcaTeaTuIJZmwowNvSuX6tRVCM3u1f4lvdq3La/Tcz5I8qf6/pudHVS41WytYbuWecKlku64IBPljGeQPbmuKm1D7KLG9sb/WruR7qJJbiVHS2lV3CnCNhcc8bR+Pepr23axi8Y3lrdXaTRx5Q/aXwpMQOQM9R2PYcVccvSdpvfyt1S67b/APAGqOuv9ancqwdFZTlWGQaWuN1G81C+1wafDDqE8FvaRSstjdJAzM+eWZmUkcdAfXNNmfWxpunW17Ld2Mr6mIUkaVGleEqcbihKk9vwBrJYF2V5pN9L62323/An2XmdmzKiFnIVVGST2FMgnjubeOeBw8UihkYdwehrl2tpLbUdV0g317NayaeLhfNuGZ42ywO1+oBwOM1qeFLdbbwrp6o8rhoEcmWQuQSo4BPQe3asquHjTp8/Nfa3o1cmUEo3uac8QliI6MOUYdVI6EV3Wj3bX2i2dzJ9+WFWc46nHP61xJ6GktfiPpOi6FbWYiuLm6hiCsiqFUN6Fj/QGvf4bxMKFSp7SVlb8T0MtjOc3GJ6GzKilnIVVGSScACuF8SfE6x0/fb6KFvbkcGX/lkh+v8AF+HHvXAeIfGereInK3Evk2ueLaI4X8f7341z9ezi86lL3cOref8AkfT0sGlrM9W+G+r3us6jq+oatdGRo0jUFzhUBLHAHQDiuov/ABn4e07IuNUgZh/BCfMP0+XOK8d8JaXYa1r0enancTQRzA+WYiBucdByD2zz/jXrFh8PfDdhgiwFw4/iuGL5/Dp+ldOXVsVVoJU0tL3bbfnt/wAEyrwpxn71/RGRcfFO2lkMOiaTd30vbI25/AZP8qi/tH4h6z/x6WEOlxHo0igMPruyf0rvbe2gtI/LtYI4UH8MaBR+QqWvQ+q15/xar/7d0/zZh7SC+GP36nnv/CvNY1Q7vEXiOaUHrFEWYfhnAH5Vsaf8N/DtgQz2z3bj+K4fcPyGB+ldVRVwwGGi78t356/mJ16j0uRW9rb2kQjtII4Ix0WNAo/IVLRRXakkrIxCiiimAUUUUAFFFFABRRRQAUUUUAFFFFABRRRQAUUUUAFFFFABRRRQAUUUUAFFFFABRRRQAUUUUAFFFFABRRRQAUUUUAFFFFABRRRQAUUUUAFFFFABRRRQAUUUUAFFFFABRRRQAUUUUAFFFFABRRRQAUUUUAFFFFABRRRQAUUUUAFFFFAHJ+Lv+Qtp3/XKX+a1k1reLv8AkLad/wBcpf5rXJ63oOl6vCZdSso7l4Y2EbOPu96/MM6UZZnNTdlpsr9F5o8LFWdd3/rQszaXDNrNtqbNIJreJ4kUEbSGxnPGc/KO9WpoUuIHhmXdHIpVl9QeDXBaTHo/hnwbpWtRWVtHf3EMcYnkYoNzjksew6k1q6V4u+06i9jLdafqMhgeaN9OY9V6oVJODzwc888CuSrg6urpttRur2ts9bav8zOVOXTVItHwdavBDBPqGozRW8iPBHJOCIipBGPl56Y+bPFWbzw3bXsuoM9zdRpqEPlTxIy7TxjcMqSGxx1x7Vn6H4g1DVpoHSXTLmGUHzYbdyJbQ4yN4Y/NzweAawdQN43gnVjq00M0P9o7SI42B4mAbqxyPQDp710QpYl1VCdSzul977eqv57lqM3KzZ2N7oEF3PDcRXN1Z3MMflCe2cKzJ/dYEEEfUUkfhyyigtY0ab/R7n7VvZ9zSyc5LkjnOfauSlg8PySW/wDwh1jcR6mJ4yskNtNEqLuG7eWAG3bng10+q3uswSzvanTbO1hUFZL5ifOOMnGGG0dsnP0rKpTrR5YKbXlJcr+67dtdPmS4yVlf79C++lQPqct85cyS2/2dlyNu3JPpnPPrS6Vpq6Tp6WcVxPPHHwhnYFlXsuQBwPfmubm1PUNXl8M3tjJbwJdFmaN1Zxu2NnkMMjGce/PtVjXrW+Ou6ZczXuLRb6NYbWNcA5Byznuc9B0FZuhPSnOdrp6f4bqwuR/C3/SOnPQ103hXT7KLw/ZTx2kCTSRBnkWMBmPqT1NcyehrrvDH/Ir6f/1xFe1wuk8RO/b9TqwDfO/QsT6Npd0c3Wm2cx9ZIFb+YrNuPA/hq6P7zSIF/wCuRaP/ANBIrfor7uVClP4op/I9lTktmclJ8NPD/nJLapc2kiMGRoZiSpHIPzZrrAMKASSQOp70tFFOhSpX9nFK/Ycpyl8TuFFFFbEBRRRQAUUUUAFFFFABRRRQAUUUUAFFFFABRRRQAUUUUAFFFFABRRRQAUUUUAFFFFABRRRQAUUUUAFFFFABRRRQAUUUUAFFFFABRRRQAUUUUAFFFFABRRRQAUUUUAFFFFABRRRQAUUUUAFFFFABRRRQAUUUUAFFFFABRRRQAUUUUAFFFFABRRRQAUUUUAcn4u/5C2nf9cpf5rWNMhkgkRerKQM/Sum8U6bPdwW93aIZZbVjmJRy6NjOPcYBrlFvrY9ZkUjgq52kH0wa/M+IKNSnj5VGtJWt9yR4eMi1Wb7mKnh25HhLTdPW4jiv9PETxygFk8xB+BKnkfjVu1h12aZ31G5tbZPKKRxWgMnzH+Ms6g8dgBj1zWj9stv+fiL/AL7FH2y2/wCfiL/vsV48sRUknzJO7b277nO5t7nPJoOp3eq2Vzqi6ar2cgc3dsredPgEYOQNoOeRk0258O6lNpl/YK9r5U16LmGQuwbBkDsGG3jpxgnPtXR/bLb/AJ+Iv++xR9stv+fiL/vsVp9crXTSWlradncftZE1ctdeG719cvLuOHS7oXLApcXkbPLbAKBtUYwRxnqvWuj+2W3/AD8Rf99ij7Zbf8/EX/fYrGjWqUW3HroTGTjsc9beH9SstJ0SKCS1kudNkYuHZlSRWDA4IGQcHPStfVbCW+axMTIv2e6SZ9xPKgHIHHXmrX2y2/5+Iv8AvsUfbLb/AJ+Iv++xVTxFSc1N76/jr+rBzk3clPQ113hj/kV9P/64iuMjZ7+T7Lpo8+d+Pk5VP9pj2Feg2Fotjp9vaocrDGqA464GM19VwtRqKc6rWlrHoYCLu5dCeiiivuj1QooooAKKKKACiiigAooooAKKKKACiiigAooooAKKKKACiiigAooooAKKKKACiiigAooooAKKKKACiiigAooooAKKKKACiiigAooooAKKKKACiiigAooooAKKKKACiiigAooooAKKKKACiiigAooooAKKKKACiiigAooooAKKKKACiiigAooooAKKKKACiiigAooooAKiktYJm3TQRyH1ZAalopNJqzAr/YLP/n0g/wC/Yo+wWf8Az6Qf9+xViip9nDshcqK/2Cz/AOfSD/v2KPsFn/z6Qf8AfsVYoo9nDsg5UYviPT7Q+F9TK28SMtrI6sqAFSFJBz9RVPwfqun+JdDSc2tuLqLCXKeUvDY69Oh6/mO1aPihtvhHVj/05yj/AMcNeJ+FvEU3hrWo7uPLwt8k8QP30/xHUV42MxEMLioXXuta/fv8jrpUFUpOy1R7z9gs/wDn0g/79ij7BZ/8+kH/AH7FPtbqG9tIrm1kEkMqh0dehBqWvYUKbV0kcnKuw2ONIl2xIqL6KMCnUUVolbYYUUUUAFFFFABRRRQAUUUUAFFFFABRRRQAUUUUAFFFFABRRRQAUUUUAFFFFABRRRQAUUUUAFFFFABRRRQAUUUUAFFFFABRRRQAUUUUAFFFFABRRRQAUUUUAFFFFABRRRQAUUUUAFFFFABRRRQAUUUUAFFFFABRRRQAUUUUAFFFFABRRRQAUUUUAFFFFABRRRQAUUUUAFFFFABRRRQAUUUUAFFFFAGL4wbb4N1U/wDTs4/MV4rp3hnVNSjhmhg8uCeZYUml+VSxzj3PTGR3r3+5toby3eC6jWWJ+GRujc5waz/ENkbnw5cxWygSwoJYABjDoQy4/FQK8jH4BYmftJPRLbudVGv7Ncq6mN4G0XXfD0Eljqht5LMnfEY5CWjbuOQOD/P6111QWN2l9p9vdxcpPGsi/QjNT16GHpRpU1CDuuhhOTlJthRRRW5AUUUUAFFFFABRRRQAUUUUAFFFFABRRRQAUUUUAFFFFABRRRQAUUUUAFFFFABRRRQAUUUUAFFFFABRRRQAUUUUAFFFFABRRRQAUUUUAFFFFABRRRQAUUUUAFFFFABRRRQAUUUUAFFFFABRRRQAUUUUAFFFFABRRRQAUUUUAFFFFABRRRQAUUUUAFFFFABRRRQAUUUUAFFFFABRRRQAUUUUAFFFFABRRRQBieGf9HtrvTG62Fy8agj/AJZt86f+Otj8K26xG/0LxqrciPUrUqfTzIjkfmrH/vmtusKGkeTtp/l+Fi5737hRRRW5AUUUUAFFFFABRRRQAUUUUAFFFFABRRRQAUUUUAFFFFABRRRQAUUUUAFFFFABRRRQAUUUUAFFFFABRRRQAUUUUAFFFFABRRRQAUUUUAFFFFABRRRQAUUUUAFFFFABRRRQAUUUUAFFFFABRRRQAUUUUAFFFFABRRRQAUUUUAFFFFABRRRQAUUUUAFFFFABRRRQAUUUUAFFFFABRRRQAUUUUAFFFFABRRRQBi+KB5Onwako+bTrhLg/7mdr/wDjrN+VbQIIyOQahu7ZLyyntpfuTRtG30IxVDw1cvdeHLQzHM0aeTL/AL6Eo36rWC92s13X5f8ADoveHoatFFFbkBRRRQAUUUUAFFFFABRRRQAUUUUAFFFFABRRRQAUUUUAFFFFABRRRQAUUUUAFFFFABRRRQAUUUUAFFFFABRRRQAUUUUAFFFFABRRRQAUUUUAFFFFABRRRQAUUUUAFFFFABRRRQAUUUUAFFFFABRRRQAUUUUAFFFFABRRRQAUUUUAFFFFABRRRQAUUUUAFFFFABRRRQAUUUUAFFFFABRRRQAUUUUAFFFFABWJo3+i67rFgehlW7jH+zIOf/Hlb8626xb/AP0TxZpl10S6jks5D2zjzE/9BcfjWFXRxl2f56fqXHW6NqiiityAooooAKKKKACiiigAooooAKKKKACiiigAooooAKKKKACiiigAooooAKKKKACiiigAooooAKKKKACiiigAooooAKKKKACiiigAooooAKKKKACiiigAooooAKKKKACiiigAooooAKKKKACiiigAooooAKKKKACiiigAooooAKKKKACiiigAooooAKKKKACiiigAooooAKKKKACiiigAooooAKKKKACiiigArH8Uow0GS6jGZLGRLtMf9M2DH813D8a2KZLEk8LxSjckilWHqDwaipHng49youzTHI6yRq6HcrDII7ilrI8LyO3h63hmOZbQtayZ65jYpn8QoP41r0U5c8FLuKSs7BRRRViCiiigAooooAKKKKACiiigAooooAKKKKACiiigAooooAKKKKACiiigAooooAKKKKACiiigAooooAKKKKACiiigAooooAKKKKACiiigAooooAKKKKACiiigAooooAKKKKACiiigAooooAKKKKACiiigAooooAKKKKACiiigAooooAKKKKACiiigAooooAKKKKACiiigAooooAKKKKACiiigAoorhtU8Y6mniW+0zTZtGt5rMqIrLUZGSa+yobMbbgqjnaDhuQc4oA7misaDV7mTxWNMlhSKP+z1uiDy6uX2lcg4IH+TXKeItW1HU7C1e3t4JLq18SrbwR7iisEJwWPP4kD8KAOr0n/Rtf1mz6K0kd2g9nXaf/Ho2/OtmuKF5qFvr95aeIorKS8k0qWSCaz3pHNGp+ZGViSCpYcg8hj0rKj8cxaT4f8ADum2txpOkS3GmR3Blv3fyYUwAEVd25yTnq3AHJNZ04uKs+7/ADKk7u56VRXCWPxEN74fuZLVLO+1KG9jsI/ssxNvPJJja4bGQuCSRyRtI5qTXrjxhB4X1qO+GmjFg8sV9aB1VCAdyFC+7djowOPUdq0JO3orN8Oi8Hh2x/tKSGS48lctAhRSMccEk5xjPNaVABRRRQAUUUUAFFFFABRRRQAUUUUAFFFFABRRRQAUUUUAFFFFABRRRQAUUUUAFFFFABRRRQAUUUUAFFFFABRRRQAUUUUAFFFFABRRRQAUUUUAFFFFABRRRQAUUUUAFFFFABRRRQAUUUUAFFFFABRRRQAUUUUAFFFFABRRRQAUUUUAFFFFABRRRQAUUUUAFFFFABRRRQAUUUUAFFFFABXH+I9A17V3u7Qx6JqWnXP+pOoxHzLPIwdoVSHx1GSp5612FFAHIv4b1nSr7TbvQLm1upLbTxYTpqDOvmKCCJAyg85zwRznqKpnwdrq6MkMeo2hv11o6l57I2wg5ONv1OMZ6d67qigDjptN1JWv9e8UT2MUsVhJbW8Nq7GONG5Zi7gEsSBxgAAd6o6HoerxaJ4c1rQXtReJpMVrcW16WWOaPAYfMoJVgc9j1rs9W0+DVNMmtbm3guAykolxEsihx907WBHBwaZod39v0CxuiAGkgQsAMYbHIx7HNTzLm5R20uYt14f1vVtCZdU1K3XVEu0u7Uww5htmQgqnZnU85J5+Y4xxTZND8Q6zDqH9u3lrbCexktIbWykkeIFxzK5YDJ6ADHAzyc11dFUIz9Div4NFtodXS2W6iQI32V2dCBwCCwB5HbH51oUUUAFFFFABRRRQAUUUUAFFFFABRRRQAUUUUAFFFFABRRRQAUUUUAFFFFABRRRQAUUUUAFFFFABRRRQAUUUUAFFFFABRRRQAUUUUAFFFFABRRRQAUUUUAFFFFABRRRQAUUUUAFFFFABRRRQAUUUUAFFFFABRRRQAUUUUAFFFFABRRRQAUUUUAFFFFABRRRQAUUUUAFFFFABRRRQAUUUUAFFFFABRRRQAVjeG/3MOoWXT7JfSqo9FY+Yv6PWzWLaf6P4z1GE9Lq2huF+qlkb9AlY1NJxl8vvX+aRcdU0bVFFFbEBRRRQAUUUUAFFFFABRRRQAUUUUAFFFFABRRRQAUUUUAFFFFABRRRQAUUUUAFFFFABRRRQAUUUUAFFFFABRRRQAUUUUAFFFFABRRRQAUUUUAFFFFABRRRQAUUUUAFFFFABRRRQAUUUUAFFFFABRRRQAUUUUAFFFFABRRRQAUUUUAFFFFABRRRQAUUUUAFFFFABRRRQAUUUUAFFFFABRRRQAUUUUAFFFFABWJqf+j+KtGuegmE1o59cqHUfnGfzrbrD8WfutJhvf+fG7huD9A4Df+OsawxGlNy7a/c7lw+KxuUUUVuQFFFFABRRRQAUUUUAFFFFABRRRQAUUUUAFFFFABRRRQAUUUUAFFFFABRRRQAUUUUAFFFFABRRRQAUUUUAFFFFABRRRQAUUUUAFFFFABRRRQAUUUUAFFFFABRRRQAUUUUAFFFFABRRRQAUUUUAFFFFABRRRQAUUUUAFFFFABRRRQAUUUUAFFFFABRRRQAUUUUAFFFFABRRRQAUUUUAFFFFABRRRQAUUUUAFUdbtPt+g31pjJmt3QfUqcfrV6iplFSi4vqNOzuUdDvP7Q0Cwuycma3R2+pUZ/Wr1YfhD934fFqetpcTW5/4DIwH6YrcqKMnKlFvshzVpNBRRRWpIUUUUAFFFFABRRRQAUUUUAFFFFABRRRQAUUUUAFFFFABRRRQAUUUUAFFFFABRRRQAUUUUAFFFFABRRRQAUUUUAFFFFABRRRQAUUUUAFFFFABRRRQAUUUUAFFFFABRRRQAUUUUAFFFFABRRRQAUUUUAFFFFABRRRQAUUUUAFFFFABRRRQAUUUUAFFFFABRRRQAUUUUAFFFFABRRRQAUUUUAFFFFABRRRQBiaF+41fXbX+7eCYfSSNT/MNW3WLB+48cXajpdWMUn4o7Kf0Za2qwoaRa7N/n/kXPe4UUUVuQFFFFABRRRQAUUUUAFFFFABRRRQAUUUUAFFFFABRRRQAUUUUAFFFFABRRRQAUUUUAFFFFABRRRQAUUUUAFFFFABRRRQAUUUUAFFFFABRRRQAUUUUAFFFFABRRRQAUUUUAFFFFABRRRQAUUUUAFFFFABRRRQAUUUUAFFFFABRRRQAUUUUAFFFFABRRRQAUUUUAFFFFABRRRQAUUUUAFFFFABRRRQAUUUUAY2oDyfFmjzDjzY57c++VVx/6LNbNY/iH5G0qf8A55ajFz/vho//AGetisaek5rzv+C/yLlsgooorYgKKKKACiiigAooooAKKKKACiiigAooooAKKKKACiiigAooooAKKKKACiiigAooooAKKKKACiiigAooooAKKKKACiiigAooooAKKKKACiiigAooooAKKKKACiiigAooooAKKKKACiiigAooooAKKKKACiiigAooooAKKKKACiiigAooooAKKKKACiiigAooooAKKKKACiiigAooooAK808VeMr+41Sex0m4a0trZzG8sYw8jjg4PYA+nWvS68JY5mnJ5JmkJPr85r5zP8VVoUYxpu3MzvwNOM5ty6Fj+1NW/wCgzqX/AIFv/jR/amrf9BnUv/At/wDGuKa5s21K/GoajqUTpcMqJA820Lgf3QRWouoRWGlW8lp9pvUmmEa+a7byTn+/z1HevmKkMVFK05Xdu6W1972PSjKm76I6H+1NW/6DOpf+Bb/40f2pq3/QZ1L/AMC3/wAaxItWdJbiLUbb7K8MXnZWTerJ65wOfai21K7lkiM2mvFBN9yQSBivGRvUD5fzNYN4tXbk/wDwL8tdfkX+67fgbEt9qM6hZtV1CRQwYB7pyAQcg9eoIzT/AO1NW/6DOpf+Bb/41z7a5L5L3cdgz2CE5m8wBiAcFgmOR+OfarsF6J76a3VfljRHD5+9uz2/ClJ4uCcnJ/f/AMHz2GvZPRL8DT/tTVv+gzqX/gW/+NH9qat/0GdS/wDAt/8AGuffXGFvayR2jSPczvCqK44I3c5I/wBmlbVLpre+ia1WG8t4t4TzdykEHDBsex7dqu2M6yf/AIF5279yf3Pb8Df/ALU1b/oM6l/4Fv8A40f2pq3/AEGdS/8AAt/8a52DVp4tOsklt1kvJ49yp5wAKgDLMxHHUdj1pz695VjcSyWx8+2ZVeFZA2dxABDd/wBKOXG3spN62387d9r9dgvRtt+B1Vj4n1zTJlli1Ge6VfvQ3TmRXHpk8j6g16xpOpQ6xpNvf22RHOm4A9VPQg/Q5FeHWsk8sO66gWB88KJN/H1wK9W+Hh/4ou2HYSyge37xq9/IMVXlWlQqSurX3v8AicOOpwUFOKsdPRRRX2B5QUUUUAFFFFABRRRQAUUUUAFFFFABRRRQAUUUUAFFFFABRRRQAUUUUAFFFFABRRRQAUUUUAFFFFABRRRQAUUUUAFFFFABRRRQAUUUUAFFFFABRRRQAUUUUAFFFFABRRRQAUUUUAFFFFABRRRQAUUUUAFFFFABRRRQAUUUUAFFFFABRRRQAUUUUAFFFFABRRRQAV4Qf9bN/wBdpP8A0I17vXhB/wBbN/12k/8AQjXyfEv8On6s9TLvikYcD6lYXV6I9KkuI5rhpEkWeNcggdic9qmuEvNQgtHeza3eO6V2jaRWIUd8g4qzql9Jp9skkMAnkklWNUL7OT74NR293qr3CLcaXFFET8zrdbiv4bRmvm+acoqqoxXnezdl2cvyR6Fkny3f3f8AAIr/AEyS+1C4BG2GayMO/PRifTrS276rK1vBLbLbJH/rpfMVhIAMYUdeffGKuvqFnG4SS7gVmYqA0gBJ9PrT7i6t7WPfdTxwpnG6Rwo/M1l7WpyqDjfto/wK5Y3umYv2bU4tLfSY7VWUho1ujIAoQ9yvXIB6Y/Gp/s95p+otJaWv2qKWGOMfvApQrkZOe3PbNXLu6u0jjfTrWO8RhksZwgHpjg5qrpmq3t9HHPNp8dvaupYy/aQxUD22it+etKDnyxt113b8r3vpolb0ItBNK7v/AF5Fe3028SHSxLGN9vdSSSkMMAEPg/qKsvYzvq2oShMRz2iRIxI5Ybs+/cVoW93b3alrWeKdQcExuGA/KkivbWeZoobmGSRPvIkgJX6isZYitKTbj66bXd/zKUIJLX+rWMKTTLiaGwuJ9Mjne2iMMlrMyNuHHzKTkZ474qSTTZpNKuVg0y2s2kkjKQwhQxAYEliOPXgVoWusWd39qKTxAWzEOfMB4H8XsOv5UaZq0WqtcGCN1jhcKruMbwRnIHpXRKtiYq7hbls+umt0t+/zIUKb0vuX69Q+Hf8AyJlv/wBdZf8A0Y1eX16h8O/+RMt/+usv/oxq9Dhz/epf4f1RhmH8Jep09FFFfeHiBRRRQAUUUUAFFFFABRRRQAUUUUAFFFFABRRRQAUUUUAFFFFABRRRQAUUUUAFFFFABRRRQAUUUUAFFFFABRRRQAUUUUAFFFFABRRRQAUUUUAFFFFABRRRQAUUUUAFFFFABRRRQAUUUUAFFFFABRRRQAUUUUAFFFFABRRRQAUUUUAFFFFABRRRQAUUUUAFFFFABXhB/wBbN/12k/8AQjXu9eGXMLW2o3lvKMSQ3EisD/vHn8q+U4lT9lTfmz08u+KRh+JFV7G2WSRo1N3GC6ttK89Qe1OtLOzgukePVbmZgeEkvS4b8Cea0p7aC6i8u6hjmjznZIgYZ+hqvHpGmwyLJDp9rG6nKssCgg+xxXy0MRFUfZttb7banpOD5+YyIrS3k03W3khR2aaXLMuTwOKdZtE+rWzagYzmwQwGXHX+PGe/St4QRBHURIFkJLgKMMT1z60yWztp4Vhnt4pIl+6joCo+gNafXE7p31/DRLT7vuF7Jq1ivpjWj2LnT4ykHmOF/usc8leemawpN3/CG6f86xxeavms6blC7j94ZGRnFdUqqiBVUKoGAAOAKasMSQ+SkSLFjGwKAuPpWdPEqEnK19U/uv8AjqVKm2reRgw26JqjPNqVvI/2Zw6WtsUJT1JDHp2/HFQWe21n01c2V7AW2W80AMcq5U8lRwRjr0+ldFb2ltaKVtbeKAMckRoFz+VJFY2kEzTQWsMcrfedIwGP1IrX65F3Tu9LdF37Wtv59mR7J6FHSUhaTUY9qE/anDLgdMDqKk0//kLap/11T/0AVdW3hSd50hjWVxhpAoDMPc96csaI7MiKrOcsQMFvr61zzrKTl5pfp/kaKDVvIdXp/wAO/wDkTLf/AK6y/wDoxq8wJwMngV6n4AheHwXZeYCDIXkAI7M5I/TB/Gvc4bT+syf939UceYfw16nSUUUV92eIFFFFABRRRQAUUUUAFFFFABRRRQAUUUUAFFFFABRRRQAUUUUAFFFFABRRRQAUUUUAFFFFABRRRQAUUUUAFFFFABRRRQAUUUUAFFFFABRRRQAUUUUAFFFFABRRRQAUUUUAFFFFABRRRQAUUUUAFFFFABRRRQAUUUUAFFFFABRRRQAUUUUAFFFFABRRRQAUUUUAFc34i8F2evXH2tJXs7zAVpkG4OB03KeuPXrXSUVjWo068OSoroqE5Qd4s88/4Vjd/wDQbj/8BP8A7Oj/AIVjd/8AQbj/APAT/wCzr0OivO/sXAf8+/xf+Z0fXK/8x55/wrG7/wCg3H/4Cf8A2dH/AArG7/6Dcf8A4Cf/AGdeh0Uf2LgP+ff4v/MPrlf+Y88/4Vjd/wDQbj/8BP8A7Oj/AIVjd/8AQbj/APAT/wCzr0Oij+xcB/z7/F/5h9cr/wAx55/wrG7/AOg3H/4Cf/Z0f8Kxu/8AoNx/+An/ANnXodFH9i4D/n3+L/zD65X/AJjzz/hWN3/0G4//AAE/+zo/4Vjd/wDQbj/8BP8A7OvQ6KP7FwH/AD7/ABf+YfXK/wDMcNYfDOCO4V9V1B7yNTkwpF5St7E5JI/Ku4VVRQqKFVRgADAApaK7sPhKGGjy0Y2MalWdR3m7hRRRXSZhRRRQAUUUUAFFFFABRRRQAUUUUAFFFFABRRRQAUUUUAFFFFABRRRQAUUUUAFFFFABRRRQAUUUUAFFFFABRRRQAUUUUAFFFFABRRRQAUUUUAFFFFABRRRQAUUUUAFFFFABRRRQAUUUUAFFFFABRRRQAUUUUAFFFFABRRRQAUUUUAFFFFABRRRQAUUUUAFFFFABRRRQAUUUUAFFFFABRRRQAUUUUAFFFFABRRRQAUUUUAFFFFABRRRQAUUUUAFFFFABRRRQAUUUUAFFFFABRRRQAUUUUAFFFFABRRRQAUUUUAFFFFABRRRQAUUUUAFFFFABRRRQAUUUUAFFFFABRRRQAUUUUAFFFFABRRRQAUUUUAFFFFABRRRQAUUUUAFFFFABRRRQAUUUUAFFFFABRRRQAUUUUAFFFFABRRRQAUUUUAFFFFABRRRQAUUUUAFFFFABRRRQAUUUUAFFFFABRRRQAUUUUAFFFFABRRRQAUUUUAFFFFABRRRQAUUUUAFFFFABRRRQAUUUUAFFFFABRRRQAUUUUAFFFFABRRRQAUUUUAFFFFABRRRQAUUUUAFFFFABRRRQAUUUUAFFFFABRRRQAUUUUAFFFFABRRRQAUUUUAFFFFABRRRQAUUUUAFFFFABRRRQAUUUUAFFFFABRRRQAUUUUAFFFFABRRRQAUUUUAFFFFABRRRQAUUUUAFFFFABRRRQAUUUUAFFFFABRRRQAUUUUAFFFFABRRRQAUUUUAFFFFABRRRQAUUUUAFFFFABRRRQAUUUUAFFFFAH/9k=)"
      ]
    },
    {
      "cell_type": "markdown",
      "metadata": {
        "id": "mKTcFTEB-G0q"
      },
      "source": [
        "# AddOn -  GUI /Eingabemaske\n",
        "\n",
        "## Code von ChatGPT programmiert"
      ]
    },
    {
      "cell_type": "code",
      "execution_count": 19,
      "metadata": {
        "id": "1csvvTaG-G0r",
        "outputId": "c7efa963-898c-456a-98ea-1832b54a741f",
        "colab": {
          "base_uri": "https://localhost:8080/"
        }
      },
      "outputs": [
        {
          "output_type": "stream",
          "name": "stdout",
          "text": [
            "Collecting fhir.resources\n",
            "  Downloading fhir_resources-8.1.0-py2.py3-none-any.whl.metadata (49 kB)\n",
            "\u001b[?25l     \u001b[90m━━━━━━━━━━━━━━━━━━━━━━━━━━━━━━━━━━━━━━━━\u001b[0m \u001b[32m0.0/49.2 kB\u001b[0m \u001b[31m?\u001b[0m eta \u001b[36m-:--:--\u001b[0m\r\u001b[2K     \u001b[91m━━━━━━━━━━━━━━━━━━━━━━━━━━━━━━━━━\u001b[0m\u001b[90m╺\u001b[0m\u001b[90m━━━━━━\u001b[0m \u001b[32m41.0/49.2 kB\u001b[0m \u001b[31m67.8 MB/s\u001b[0m eta \u001b[36m0:00:01\u001b[0m\r\u001b[2K     \u001b[90m━━━━━━━━━━━━━━━━━━━━━━━━━━━━━━━━━━━━━━━\u001b[0m \u001b[32m49.2/49.2 kB\u001b[0m \u001b[31m733.7 kB/s\u001b[0m eta \u001b[36m0:00:00\u001b[0m\n",
            "\u001b[?25hCollecting fhir-core>=1.1.3 (from fhir.resources)\n",
            "  Downloading fhir_core-1.1.4-py2.py3-none-any.whl.metadata (11 kB)\n",
            "Requirement already satisfied: pydantic<3.0,>=2.7.4 in /usr/local/lib/python3.12/dist-packages (from fhir-core>=1.1.3->fhir.resources) (2.11.10)\n",
            "Requirement already satisfied: annotated-types>=0.6.0 in /usr/local/lib/python3.12/dist-packages (from pydantic<3.0,>=2.7.4->fhir-core>=1.1.3->fhir.resources) (0.7.0)\n",
            "Requirement already satisfied: pydantic-core==2.33.2 in /usr/local/lib/python3.12/dist-packages (from pydantic<3.0,>=2.7.4->fhir-core>=1.1.3->fhir.resources) (2.33.2)\n",
            "Requirement already satisfied: typing-extensions>=4.12.2 in /usr/local/lib/python3.12/dist-packages (from pydantic<3.0,>=2.7.4->fhir-core>=1.1.3->fhir.resources) (4.15.0)\n",
            "Requirement already satisfied: typing-inspection>=0.4.0 in /usr/local/lib/python3.12/dist-packages (from pydantic<3.0,>=2.7.4->fhir-core>=1.1.3->fhir.resources) (0.4.2)\n",
            "Downloading fhir_resources-8.1.0-py2.py3-none-any.whl (2.3 MB)\n",
            "\u001b[2K   \u001b[90m━━━━━━━━━━━━━━━━━━━━━━━━━━━━━━━━━━━━━━━━\u001b[0m \u001b[32m2.3/2.3 MB\u001b[0m \u001b[31m23.1 MB/s\u001b[0m eta \u001b[36m0:00:00\u001b[0m\n",
            "\u001b[?25hDownloading fhir_core-1.1.4-py2.py3-none-any.whl (29 kB)\n",
            "Installing collected packages: fhir-core, fhir.resources\n",
            "Successfully installed fhir-core-1.1.4 fhir.resources-8.1.0\n"
          ]
        }
      ],
      "source": [
        "!pip install fhir.resources"
      ]
    },
    {
      "cell_type": "code",
      "execution_count": 20,
      "metadata": {
        "id": "PFXoBAL2-G0r",
        "outputId": "ef0ae84c-c7db-4d73-9c2f-4a21e916d160",
        "colab": {
          "base_uri": "https://localhost:8080/",
          "height": 172,
          "referenced_widgets": [
            "033e47e2b5ae4cf78200012347f97693",
            "f999ded10dda4c4988893b937544aa0b",
            "26568821d8f1442f8fa3d5a0caab1025",
            "43d7181fe7a9413caa0b01d2a447c6bf",
            "61552d6c0f824a76b3768d84206d856c",
            "a1780944eacb4ea5b33fde5d09bef7d0",
            "f87a1269c67e4c5ebd2faada04115a25",
            "f81a0aa719bb4a59bafb6290c79c2ea9",
            "43191deb3b184fd4a5b1fedf8fe03035",
            "e08b78744fb34f4c81cb39e8137b169a",
            "8e99b27c86b44c8fb2a9b298797dd047",
            "95e8526ac7bf4fc8ac1fee11b4016e80",
            "2e4776533af845c9a3188836b742b329",
            "e731aa3593574ad3a27fe2c97b049ecf",
            "333d438b46134a839bf2088b0abe8333"
          ]
        }
      },
      "outputs": [
        {
          "output_type": "display_data",
          "data": {
            "text/plain": [
              "Text(value='', description='Vorname:', placeholder='Vorname eingeben')"
            ],
            "application/vnd.jupyter.widget-view+json": {
              "version_major": 2,
              "version_minor": 0,
              "model_id": "033e47e2b5ae4cf78200012347f97693"
            }
          },
          "metadata": {}
        },
        {
          "output_type": "display_data",
          "data": {
            "text/plain": [
              "Text(value='', description='Nachname:', placeholder='Nachname eingeben')"
            ],
            "application/vnd.jupyter.widget-view+json": {
              "version_major": 2,
              "version_minor": 0,
              "model_id": "43d7181fe7a9413caa0b01d2a447c6bf"
            }
          },
          "metadata": {}
        },
        {
          "output_type": "display_data",
          "data": {
            "text/plain": [
              "Dropdown(description='Geschlecht:', options=('male', 'female'), value='male')"
            ],
            "application/vnd.jupyter.widget-view+json": {
              "version_major": 2,
              "version_minor": 0,
              "model_id": "f87a1269c67e4c5ebd2faada04115a25"
            }
          },
          "metadata": {}
        },
        {
          "output_type": "display_data",
          "data": {
            "text/plain": [
              "DatePicker(value=None, description='Geburtsdatum:')"
            ],
            "application/vnd.jupyter.widget-view+json": {
              "version_major": 2,
              "version_minor": 0,
              "model_id": "e08b78744fb34f4c81cb39e8137b169a"
            }
          },
          "metadata": {}
        },
        {
          "output_type": "display_data",
          "data": {
            "text/plain": [
              "Button(description='Daten an FHIR-Server senden', style=ButtonStyle())"
            ],
            "application/vnd.jupyter.widget-view+json": {
              "version_major": 2,
              "version_minor": 0,
              "model_id": "2e4776533af845c9a3188836b742b329"
            }
          },
          "metadata": {}
        }
      ],
      "source": [
        "import ipywidgets as widgets\n",
        "from IPython.display import display\n",
        "import requests\n",
        "\n",
        "# Erstelle die Eingabemasken für Vorname, Nachname, Geschlecht und Geburtsdatum\n",
        "vorname_input = widgets.Text(\n",
        "    value='',\n",
        "    placeholder='Vorname eingeben',\n",
        "    description='Vorname:',\n",
        "    disabled=False\n",
        ")\n",
        "\n",
        "nachname_input = widgets.Text(\n",
        "    value='',\n",
        "    placeholder='Nachname eingeben',\n",
        "    description='Nachname:',\n",
        "    disabled=False\n",
        ")\n",
        "\n",
        "geschlecht_input = widgets.Dropdown(\n",
        "    options=['male', 'female'],\n",
        "    value='male',\n",
        "    description='Geschlecht:'\n",
        ")\n",
        "\n",
        "geburtsdatum_input = widgets.DatePicker(\n",
        "    description='Geburtsdatum:'\n",
        ")\n",
        "\n",
        "# Zeige die Eingabemasken an\n",
        "display(vorname_input)\n",
        "display(nachname_input)\n",
        "display(geschlecht_input)\n",
        "display(geburtsdatum_input)\n",
        "\n",
        "# Erstelle eine Funktion, um die Daten an den FHIR-Server zu senden\n",
        "def send_data_to_fhir_server(_):\n",
        "    vorname = vorname_input.value\n",
        "    nachname = nachname_input.value\n",
        "    geschlecht = geschlecht_input.value\n",
        "    geburtsdatum = geburtsdatum_input.value.strftime('%Y-%m-%d') if geburtsdatum_input.value else None\n",
        "\n",
        "    # Erstelle das FHIR-Patientenobjekt\n",
        "    patient_data = {\n",
        "        'resourceType': 'Patient',\n",
        "        'name': [\n",
        "            {\n",
        "                'given': [vorname],\n",
        "                'family': nachname\n",
        "            }\n",
        "        ],\n",
        "        'gender': geschlecht,\n",
        "        'birthDate': geburtsdatum\n",
        "    }\n",
        "\n",
        "    # Sende die Daten an den FHIR-Server\n",
        "    fhir_server_url = url\n",
        "    #response = requests.post(fhir_server_url, json=patient_data, headers={'Content-Type': 'application/json'})\n",
        "\n",
        "    url_f = \"http://hapi.fhir.org/baseR4/\"\n",
        "\n",
        "    response = requests.request(\"POST\", url_f + \"Patient\", headers=headers, data=str(patient_data))\n",
        "    patid = json.loads(response.text)['id']\n",
        "\n",
        "    if response.status_code == 201:\n",
        "        print(\"Daten erfolgreich an den FHIR-Server gesendet.\")\n",
        "        print(\"PatID: \" + patid)\n",
        "    else:\n",
        "        print(\"Fehler beim Senden der Daten an den FHIR-Server:\", response.status_code)\n",
        "        print(\"Fehlermeldung:\", response.text)\n",
        "\n",
        "\n",
        "# Erstelle einen Button, um die Daten zu senden\n",
        "send_button = widgets.Button(description=\"Daten an FHIR-Server senden\")\n",
        "send_button.on_click(send_data_to_fhir_server)\n",
        "display(send_button)"
      ]
    },
    {
      "cell_type": "code",
      "execution_count": 21,
      "metadata": {
        "id": "DQODWiB3-G0s",
        "outputId": "a8a66dbf-9ec2-4913-85a5-5b5a55daba97",
        "colab": {
          "base_uri": "https://localhost:8080/",
          "height": 112,
          "referenced_widgets": [
            "7b99cfdaf9cd4d66950bf80a90bde970",
            "fa8f6ee76b8b41e1b7d3597d9a64c864",
            "a839234701044b0abb56eb2135990e87",
            "99c680b41fc44b8ea226199f8651f6e5",
            "8ec9c7c8e39a4a718d7c0dd5aae30670",
            "ad3e125a57554b389c2070790897c478",
            "094d195694eb4bd7a6c9d41bbf85bfeb",
            "96a0d10dc16942d1ac664aeaa0fddb56",
            "0d6e694956fd42258179583e3f32ed68"
          ]
        }
      },
      "outputs": [
        {
          "output_type": "display_data",
          "data": {
            "text/plain": [
              "Text(value='', description='Patienten-ID:', placeholder='Patienten-ID')"
            ],
            "application/vnd.jupyter.widget-view+json": {
              "version_major": 2,
              "version_minor": 0,
              "model_id": "7b99cfdaf9cd4d66950bf80a90bde970"
            }
          },
          "metadata": {}
        },
        {
          "output_type": "display_data",
          "data": {
            "text/plain": [
              "FloatText(value=0.0, description='Blutzuckerwert:')"
            ],
            "application/vnd.jupyter.widget-view+json": {
              "version_major": 2,
              "version_minor": 0,
              "model_id": "99c680b41fc44b8ea226199f8651f6e5"
            }
          },
          "metadata": {}
        },
        {
          "output_type": "display_data",
          "data": {
            "text/plain": [
              "Button(description='Blutzucker-Beobachtung an FHIR-Server senden', style=ButtonStyle())"
            ],
            "application/vnd.jupyter.widget-view+json": {
              "version_major": 2,
              "version_minor": 0,
              "model_id": "094d195694eb4bd7a6c9d41bbf85bfeb"
            }
          },
          "metadata": {}
        }
      ],
      "source": [
        "import ipywidgets as widgets\n",
        "from IPython.display import display\n",
        "import requests\n",
        "from datetime import datetime\n",
        "\n",
        "# Erstelle die Eingabemaske für die Blutzucker-Beobachtung\n",
        "patient_id_input = widgets.Text(\n",
        "    value='',\n",
        "    placeholder='Patienten-ID',\n",
        "    description='Patienten-ID:',\n",
        "    disabled=False\n",
        ")\n",
        "\n",
        "blutzucker_input = widgets.FloatText(\n",
        "    value=0.0,\n",
        "    description='Blutzuckerwert:',\n",
        "    disabled=False\n",
        ")\n",
        "\n",
        "# Zeige die Eingabemasken an\n",
        "display(patient_id_input)\n",
        "display(blutzucker_input)\n",
        "\n",
        "# Erstelle eine Funktion, um die Blutzucker-Beobachtung an den FHIR-Server zu senden\n",
        "def send_blutzucker_observation_to_fhir_server(_):\n",
        "    patient_id = patient_id_input.value\n",
        "    blutzucker_wert = blutzucker_input.value\n",
        "\n",
        "    # Erstelle den aktuellen Zeitstempel im FHIR-Format\n",
        "    timestamp = datetime.utcnow().isoformat()\n",
        "\n",
        "    # Erstelle das FHIR-Observation-Objekt für den Blutzucker\n",
        "    blutzucker_observation_data = {\n",
        "        'resourceType': 'Observation',\n",
        "        'status': 'final',\n",
        "        'code': {\n",
        "            'text': 'Blutzucker'\n",
        "        },\n",
        "        'subject': {\n",
        "            'reference': f'Patient/{patient_id}'\n",
        "        },\n",
        "        'effectiveDateTime': timestamp,\n",
        "        'valueQuantity': {\n",
        "            'value': blutzucker_wert,\n",
        "            'unit': 'mg/dL',\n",
        "            'system': 'http://unitsofmeasure.org',\n",
        "            'code': 'mg/dL'\n",
        "        }\n",
        "    }\n",
        "\n",
        "    # Sende die Blutzucker-Beobachtung an den FHIR-Server\n",
        "    fhir_server_url = url\n",
        "    #response = requests.post(fhir_server_url, json=blutzucker_observation_data, headers={'Content-Type': 'application/json'})\n",
        "    response = requests.request(\"POST\", url + \"Observation\", headers=headers, data=str(blutzucker_observation_data))\n",
        "    if response.status_code == 201:\n",
        "        print(\"Blutzucker-Beobachtung erfolgreich an den FHIR-Server gesendet.\")\n",
        "        observation_id = json.loads(response.text)['id']\n",
        "        print(\"Observation-ID: \" + observation_id)\n",
        "    else:\n",
        "        print(\"Fehler beim Senden der Blutzucker-Beobachtung an den FHIR-Server:\", response.status_code)\n",
        "        print(\"Fehlermeldung:\", response.text)\n",
        "\n",
        "# Erstelle einen Button, um die Blutzucker-Beobachtung zu senden\n",
        "send_button = widgets.Button(description=\"Blutzucker-Beobachtung an FHIR-Server senden\")\n",
        "send_button.on_click(send_blutzucker_observation_to_fhir_server)\n",
        "display(send_button)\n"
      ]
    },
    {
      "cell_type": "code",
      "execution_count": 22,
      "metadata": {
        "id": "vCOamH5b-G0s",
        "outputId": "d28626a8-6455-4a55-b2f6-d015e391a7e0",
        "colab": {
          "base_uri": "https://localhost:8080/",
          "height": 129,
          "referenced_widgets": [
            "15304e078dbb4a6fa6ebd6ab73aaa043",
            "09ea4cf417914b8c8798a7ed84c07afe",
            "1bce70f931dd4bf59d788c7dc73430c9",
            "6e0dcd3c28a44e2797c976b67a198f86",
            "2c7f0516cea8486b8709e43c9e4e74b1",
            "cdd5a4dc7c1348c88dc3f6cbcb3a5e59",
            "870eaa381ec24ba8ae14a65b2711d8e9",
            "281677733f674a6eac5efb8f37e901b7",
            "e924fa71fdfe4cc1bf05a91ea2e02ebd"
          ]
        }
      },
      "outputs": [
        {
          "output_type": "display_data",
          "data": {
            "text/plain": [
              "Text(value='', description='Patienten-ID:', placeholder='Patienten-ID')"
            ],
            "application/vnd.jupyter.widget-view+json": {
              "version_major": 2,
              "version_minor": 0,
              "model_id": "15304e078dbb4a6fa6ebd6ab73aaa043"
            }
          },
          "metadata": {}
        },
        {
          "output_type": "display_data",
          "data": {
            "text/plain": [
              "FloatText(value=0.0, description='Blutzucker (mg/dL):')"
            ],
            "application/vnd.jupyter.widget-view+json": {
              "version_major": 2,
              "version_minor": 0,
              "model_id": "6e0dcd3c28a44e2797c976b67a198f86"
            }
          },
          "metadata": {}
        },
        {
          "output_type": "stream",
          "name": "stdout",
          "text": [
            "Aktuelle Patient-ID: 46\n"
          ]
        },
        {
          "output_type": "display_data",
          "data": {
            "text/plain": [
              "Button(description='Blutzucker-Observation an FHIR-Server senden', style=ButtonStyle())"
            ],
            "application/vnd.jupyter.widget-view+json": {
              "version_major": 2,
              "version_minor": 0,
              "model_id": "870eaa381ec24ba8ae14a65b2711d8e9"
            }
          },
          "metadata": {}
        }
      ],
      "source": [
        "# Obeservation Blutzucker ergänzen\n",
        "\n",
        "import ipywidgets as widgets\n",
        "from IPython.display import display\n",
        "import requests\n",
        "from datetime import datetime, timezone\n",
        "\n",
        "# Erstelle die Eingabemasken für die Observation-Daten\n",
        "patient_id_input = widgets.Text(\n",
        "    value='',\n",
        "    placeholder='Patienten-ID',\n",
        "    description='Patienten-ID:',\n",
        "    disabled=False\n",
        ")\n",
        "\n",
        "blutzucker_input = widgets.FloatText(\n",
        "    value=0.0,\n",
        "    description='Blutzucker (mg/dL):',\n",
        "    disabled=False\n",
        ")\n",
        "\n",
        "# Zeige die Eingabemasken an\n",
        "display(patient_id_input)\n",
        "display(blutzucker_input)\n",
        "\n",
        "# Erstelle eine Funktion, um die Daten an den FHIR-Server zu senden\n",
        "def send_blutzucker_observation_to_fhir_server(_):\n",
        "    patient_id = patient_id_input.value\n",
        "    blutzucker_value = blutzucker_input.value\n",
        "    #timestamp = datetime.datetime.utcnow().isoformat()  # Aktueller Zeitstempel\n",
        "    #timestamp = datetime.now(datetime.timezone.utc).isoformat()\n",
        "    timestamp = datetime.now().isoformat()\n",
        "\n",
        "    # Erstelle das FHIR-Observation-Objekt für Blutzucker\n",
        "    observation_data = {\n",
        "        'resourceType': 'Observation',\n",
        "        'status': 'final',\n",
        "        'code': {\n",
        "            'coding': [\n",
        "                {\n",
        "                    'system': 'http://loinc.org',\n",
        "                    'code': '15074-8',\n",
        "                    'display': 'Glucose [Mass/volume] in Blood'\n",
        "                }\n",
        "            ],\n",
        "            'text': 'Blutzucker'\n",
        "        },\n",
        "        'subject': {\n",
        "            'reference': f'Patient/{patient_id}'\n",
        "        },\n",
        "        'effectiveDateTime': timestamp,\n",
        "        'valueQuantity': {\n",
        "            'value': blutzucker_value,\n",
        "            'unit': 'mg/dL',\n",
        "            'system': 'http://unitsofmeasure.org',\n",
        "            'code': 'mg/dL'\n",
        "        }\n",
        "    }\n",
        "\n",
        "    # Sende die Daten an den FHIR-Server und erhalte die Observation-ID\n",
        "    fhir_server_url = url + \"Observation\"\n",
        "    response = requests.post(fhir_server_url, json=observation_data, headers={'Content-Type': 'application/json'})\n",
        "\n",
        "    if response.status_code == 201:\n",
        "        observation_id = response.json().get('id')\n",
        "        print(\"Observation erfolgreich an den FHIR-Server gesendet.\")\n",
        "        print(f\"Observation-ID: {observation_id}\")\n",
        "        return observation_id\n",
        "    else:\n",
        "        print(\"Fehler beim Senden der Observation an den FHIR-Server:\", response.status_code)\n",
        "        print(\"Fehlermeldung:\", response.text)\n",
        "        return None\n",
        "\n",
        "# Erstelle einen Button, um die Daten zu senden\n",
        "print(\"Aktuelle Patient-ID: \" + patient_id)\n",
        "send_button = widgets.Button(description=\"Blutzucker-Observation an FHIR-Server senden\")\n",
        "send_button.on_click(send_blutzucker_observation_to_fhir_server)\n",
        "display(send_button)\n",
        "\n"
      ]
    },
    {
      "cell_type": "code",
      "execution_count": 22,
      "metadata": {
        "id": "6Ebkkc2t-G0t"
      },
      "outputs": [],
      "source": []
    }
  ],
  "metadata": {
    "colab": {
      "provenance": [],
      "toc_visible": true,
      "include_colab_link": true
    },
    "kernelspec": {
      "display_name": "Python 3 (ipykernel)",
      "language": "python",
      "name": "python3"
    },
    "language_info": {
      "codemirror_mode": {
        "name": "ipython",
        "version": 3
      },
      "file_extension": ".py",
      "mimetype": "text/x-python",
      "name": "python",
      "nbconvert_exporter": "python",
      "pygments_lexer": "ipython3",
      "version": "3.11.3"
    },
    "widgets": {
      "application/vnd.jupyter.widget-state+json": {
        "033e47e2b5ae4cf78200012347f97693": {
          "model_module": "@jupyter-widgets/controls",
          "model_name": "TextModel",
          "model_module_version": "1.5.0",
          "state": {
            "_dom_classes": [],
            "_model_module": "@jupyter-widgets/controls",
            "_model_module_version": "1.5.0",
            "_model_name": "TextModel",
            "_view_count": null,
            "_view_module": "@jupyter-widgets/controls",
            "_view_module_version": "1.5.0",
            "_view_name": "TextView",
            "continuous_update": true,
            "description": "Vorname:",
            "description_tooltip": null,
            "disabled": false,
            "layout": "IPY_MODEL_f999ded10dda4c4988893b937544aa0b",
            "placeholder": "Vorname eingeben",
            "style": "IPY_MODEL_26568821d8f1442f8fa3d5a0caab1025",
            "value": ""
          }
        },
        "f999ded10dda4c4988893b937544aa0b": {
          "model_module": "@jupyter-widgets/base",
          "model_name": "LayoutModel",
          "model_module_version": "1.2.0",
          "state": {
            "_model_module": "@jupyter-widgets/base",
            "_model_module_version": "1.2.0",
            "_model_name": "LayoutModel",
            "_view_count": null,
            "_view_module": "@jupyter-widgets/base",
            "_view_module_version": "1.2.0",
            "_view_name": "LayoutView",
            "align_content": null,
            "align_items": null,
            "align_self": null,
            "border": null,
            "bottom": null,
            "display": null,
            "flex": null,
            "flex_flow": null,
            "grid_area": null,
            "grid_auto_columns": null,
            "grid_auto_flow": null,
            "grid_auto_rows": null,
            "grid_column": null,
            "grid_gap": null,
            "grid_row": null,
            "grid_template_areas": null,
            "grid_template_columns": null,
            "grid_template_rows": null,
            "height": null,
            "justify_content": null,
            "justify_items": null,
            "left": null,
            "margin": null,
            "max_height": null,
            "max_width": null,
            "min_height": null,
            "min_width": null,
            "object_fit": null,
            "object_position": null,
            "order": null,
            "overflow": null,
            "overflow_x": null,
            "overflow_y": null,
            "padding": null,
            "right": null,
            "top": null,
            "visibility": null,
            "width": null
          }
        },
        "26568821d8f1442f8fa3d5a0caab1025": {
          "model_module": "@jupyter-widgets/controls",
          "model_name": "DescriptionStyleModel",
          "model_module_version": "1.5.0",
          "state": {
            "_model_module": "@jupyter-widgets/controls",
            "_model_module_version": "1.5.0",
            "_model_name": "DescriptionStyleModel",
            "_view_count": null,
            "_view_module": "@jupyter-widgets/base",
            "_view_module_version": "1.2.0",
            "_view_name": "StyleView",
            "description_width": ""
          }
        },
        "43d7181fe7a9413caa0b01d2a447c6bf": {
          "model_module": "@jupyter-widgets/controls",
          "model_name": "TextModel",
          "model_module_version": "1.5.0",
          "state": {
            "_dom_classes": [],
            "_model_module": "@jupyter-widgets/controls",
            "_model_module_version": "1.5.0",
            "_model_name": "TextModel",
            "_view_count": null,
            "_view_module": "@jupyter-widgets/controls",
            "_view_module_version": "1.5.0",
            "_view_name": "TextView",
            "continuous_update": true,
            "description": "Nachname:",
            "description_tooltip": null,
            "disabled": false,
            "layout": "IPY_MODEL_61552d6c0f824a76b3768d84206d856c",
            "placeholder": "Nachname eingeben",
            "style": "IPY_MODEL_a1780944eacb4ea5b33fde5d09bef7d0",
            "value": ""
          }
        },
        "61552d6c0f824a76b3768d84206d856c": {
          "model_module": "@jupyter-widgets/base",
          "model_name": "LayoutModel",
          "model_module_version": "1.2.0",
          "state": {
            "_model_module": "@jupyter-widgets/base",
            "_model_module_version": "1.2.0",
            "_model_name": "LayoutModel",
            "_view_count": null,
            "_view_module": "@jupyter-widgets/base",
            "_view_module_version": "1.2.0",
            "_view_name": "LayoutView",
            "align_content": null,
            "align_items": null,
            "align_self": null,
            "border": null,
            "bottom": null,
            "display": null,
            "flex": null,
            "flex_flow": null,
            "grid_area": null,
            "grid_auto_columns": null,
            "grid_auto_flow": null,
            "grid_auto_rows": null,
            "grid_column": null,
            "grid_gap": null,
            "grid_row": null,
            "grid_template_areas": null,
            "grid_template_columns": null,
            "grid_template_rows": null,
            "height": null,
            "justify_content": null,
            "justify_items": null,
            "left": null,
            "margin": null,
            "max_height": null,
            "max_width": null,
            "min_height": null,
            "min_width": null,
            "object_fit": null,
            "object_position": null,
            "order": null,
            "overflow": null,
            "overflow_x": null,
            "overflow_y": null,
            "padding": null,
            "right": null,
            "top": null,
            "visibility": null,
            "width": null
          }
        },
        "a1780944eacb4ea5b33fde5d09bef7d0": {
          "model_module": "@jupyter-widgets/controls",
          "model_name": "DescriptionStyleModel",
          "model_module_version": "1.5.0",
          "state": {
            "_model_module": "@jupyter-widgets/controls",
            "_model_module_version": "1.5.0",
            "_model_name": "DescriptionStyleModel",
            "_view_count": null,
            "_view_module": "@jupyter-widgets/base",
            "_view_module_version": "1.2.0",
            "_view_name": "StyleView",
            "description_width": ""
          }
        },
        "f87a1269c67e4c5ebd2faada04115a25": {
          "model_module": "@jupyter-widgets/controls",
          "model_name": "DropdownModel",
          "model_module_version": "1.5.0",
          "state": {
            "_dom_classes": [],
            "_model_module": "@jupyter-widgets/controls",
            "_model_module_version": "1.5.0",
            "_model_name": "DropdownModel",
            "_options_labels": [
              "male",
              "female"
            ],
            "_view_count": null,
            "_view_module": "@jupyter-widgets/controls",
            "_view_module_version": "1.5.0",
            "_view_name": "DropdownView",
            "description": "Geschlecht:",
            "description_tooltip": null,
            "disabled": false,
            "index": 0,
            "layout": "IPY_MODEL_f81a0aa719bb4a59bafb6290c79c2ea9",
            "style": "IPY_MODEL_43191deb3b184fd4a5b1fedf8fe03035"
          }
        },
        "f81a0aa719bb4a59bafb6290c79c2ea9": {
          "model_module": "@jupyter-widgets/base",
          "model_name": "LayoutModel",
          "model_module_version": "1.2.0",
          "state": {
            "_model_module": "@jupyter-widgets/base",
            "_model_module_version": "1.2.0",
            "_model_name": "LayoutModel",
            "_view_count": null,
            "_view_module": "@jupyter-widgets/base",
            "_view_module_version": "1.2.0",
            "_view_name": "LayoutView",
            "align_content": null,
            "align_items": null,
            "align_self": null,
            "border": null,
            "bottom": null,
            "display": null,
            "flex": null,
            "flex_flow": null,
            "grid_area": null,
            "grid_auto_columns": null,
            "grid_auto_flow": null,
            "grid_auto_rows": null,
            "grid_column": null,
            "grid_gap": null,
            "grid_row": null,
            "grid_template_areas": null,
            "grid_template_columns": null,
            "grid_template_rows": null,
            "height": null,
            "justify_content": null,
            "justify_items": null,
            "left": null,
            "margin": null,
            "max_height": null,
            "max_width": null,
            "min_height": null,
            "min_width": null,
            "object_fit": null,
            "object_position": null,
            "order": null,
            "overflow": null,
            "overflow_x": null,
            "overflow_y": null,
            "padding": null,
            "right": null,
            "top": null,
            "visibility": null,
            "width": null
          }
        },
        "43191deb3b184fd4a5b1fedf8fe03035": {
          "model_module": "@jupyter-widgets/controls",
          "model_name": "DescriptionStyleModel",
          "model_module_version": "1.5.0",
          "state": {
            "_model_module": "@jupyter-widgets/controls",
            "_model_module_version": "1.5.0",
            "_model_name": "DescriptionStyleModel",
            "_view_count": null,
            "_view_module": "@jupyter-widgets/base",
            "_view_module_version": "1.2.0",
            "_view_name": "StyleView",
            "description_width": ""
          }
        },
        "e08b78744fb34f4c81cb39e8137b169a": {
          "model_module": "@jupyter-widgets/controls",
          "model_name": "DatePickerModel",
          "model_module_version": "1.5.0",
          "state": {
            "_dom_classes": [],
            "_model_module": "@jupyter-widgets/controls",
            "_model_module_version": "1.5.0",
            "_model_name": "DatePickerModel",
            "_view_count": null,
            "_view_module": "@jupyter-widgets/controls",
            "_view_module_version": "1.5.0",
            "_view_name": "DatePickerView",
            "description": "Geburtsdatum:",
            "description_tooltip": null,
            "disabled": false,
            "layout": "IPY_MODEL_8e99b27c86b44c8fb2a9b298797dd047",
            "style": "IPY_MODEL_95e8526ac7bf4fc8ac1fee11b4016e80",
            "value": null
          }
        },
        "8e99b27c86b44c8fb2a9b298797dd047": {
          "model_module": "@jupyter-widgets/base",
          "model_name": "LayoutModel",
          "model_module_version": "1.2.0",
          "state": {
            "_model_module": "@jupyter-widgets/base",
            "_model_module_version": "1.2.0",
            "_model_name": "LayoutModel",
            "_view_count": null,
            "_view_module": "@jupyter-widgets/base",
            "_view_module_version": "1.2.0",
            "_view_name": "LayoutView",
            "align_content": null,
            "align_items": null,
            "align_self": null,
            "border": null,
            "bottom": null,
            "display": null,
            "flex": null,
            "flex_flow": null,
            "grid_area": null,
            "grid_auto_columns": null,
            "grid_auto_flow": null,
            "grid_auto_rows": null,
            "grid_column": null,
            "grid_gap": null,
            "grid_row": null,
            "grid_template_areas": null,
            "grid_template_columns": null,
            "grid_template_rows": null,
            "height": null,
            "justify_content": null,
            "justify_items": null,
            "left": null,
            "margin": null,
            "max_height": null,
            "max_width": null,
            "min_height": null,
            "min_width": null,
            "object_fit": null,
            "object_position": null,
            "order": null,
            "overflow": null,
            "overflow_x": null,
            "overflow_y": null,
            "padding": null,
            "right": null,
            "top": null,
            "visibility": null,
            "width": null
          }
        },
        "95e8526ac7bf4fc8ac1fee11b4016e80": {
          "model_module": "@jupyter-widgets/controls",
          "model_name": "DescriptionStyleModel",
          "model_module_version": "1.5.0",
          "state": {
            "_model_module": "@jupyter-widgets/controls",
            "_model_module_version": "1.5.0",
            "_model_name": "DescriptionStyleModel",
            "_view_count": null,
            "_view_module": "@jupyter-widgets/base",
            "_view_module_version": "1.2.0",
            "_view_name": "StyleView",
            "description_width": ""
          }
        },
        "2e4776533af845c9a3188836b742b329": {
          "model_module": "@jupyter-widgets/controls",
          "model_name": "ButtonModel",
          "model_module_version": "1.5.0",
          "state": {
            "_dom_classes": [],
            "_model_module": "@jupyter-widgets/controls",
            "_model_module_version": "1.5.0",
            "_model_name": "ButtonModel",
            "_view_count": null,
            "_view_module": "@jupyter-widgets/controls",
            "_view_module_version": "1.5.0",
            "_view_name": "ButtonView",
            "button_style": "",
            "description": "Daten an FHIR-Server senden",
            "disabled": false,
            "icon": "",
            "layout": "IPY_MODEL_e731aa3593574ad3a27fe2c97b049ecf",
            "style": "IPY_MODEL_333d438b46134a839bf2088b0abe8333",
            "tooltip": ""
          }
        },
        "e731aa3593574ad3a27fe2c97b049ecf": {
          "model_module": "@jupyter-widgets/base",
          "model_name": "LayoutModel",
          "model_module_version": "1.2.0",
          "state": {
            "_model_module": "@jupyter-widgets/base",
            "_model_module_version": "1.2.0",
            "_model_name": "LayoutModel",
            "_view_count": null,
            "_view_module": "@jupyter-widgets/base",
            "_view_module_version": "1.2.0",
            "_view_name": "LayoutView",
            "align_content": null,
            "align_items": null,
            "align_self": null,
            "border": null,
            "bottom": null,
            "display": null,
            "flex": null,
            "flex_flow": null,
            "grid_area": null,
            "grid_auto_columns": null,
            "grid_auto_flow": null,
            "grid_auto_rows": null,
            "grid_column": null,
            "grid_gap": null,
            "grid_row": null,
            "grid_template_areas": null,
            "grid_template_columns": null,
            "grid_template_rows": null,
            "height": null,
            "justify_content": null,
            "justify_items": null,
            "left": null,
            "margin": null,
            "max_height": null,
            "max_width": null,
            "min_height": null,
            "min_width": null,
            "object_fit": null,
            "object_position": null,
            "order": null,
            "overflow": null,
            "overflow_x": null,
            "overflow_y": null,
            "padding": null,
            "right": null,
            "top": null,
            "visibility": null,
            "width": null
          }
        },
        "333d438b46134a839bf2088b0abe8333": {
          "model_module": "@jupyter-widgets/controls",
          "model_name": "ButtonStyleModel",
          "model_module_version": "1.5.0",
          "state": {
            "_model_module": "@jupyter-widgets/controls",
            "_model_module_version": "1.5.0",
            "_model_name": "ButtonStyleModel",
            "_view_count": null,
            "_view_module": "@jupyter-widgets/base",
            "_view_module_version": "1.2.0",
            "_view_name": "StyleView",
            "button_color": null,
            "font_weight": ""
          }
        },
        "7b99cfdaf9cd4d66950bf80a90bde970": {
          "model_module": "@jupyter-widgets/controls",
          "model_name": "TextModel",
          "model_module_version": "1.5.0",
          "state": {
            "_dom_classes": [],
            "_model_module": "@jupyter-widgets/controls",
            "_model_module_version": "1.5.0",
            "_model_name": "TextModel",
            "_view_count": null,
            "_view_module": "@jupyter-widgets/controls",
            "_view_module_version": "1.5.0",
            "_view_name": "TextView",
            "continuous_update": true,
            "description": "Patienten-ID:",
            "description_tooltip": null,
            "disabled": false,
            "layout": "IPY_MODEL_fa8f6ee76b8b41e1b7d3597d9a64c864",
            "placeholder": "Patienten-ID",
            "style": "IPY_MODEL_a839234701044b0abb56eb2135990e87",
            "value": ""
          }
        },
        "fa8f6ee76b8b41e1b7d3597d9a64c864": {
          "model_module": "@jupyter-widgets/base",
          "model_name": "LayoutModel",
          "model_module_version": "1.2.0",
          "state": {
            "_model_module": "@jupyter-widgets/base",
            "_model_module_version": "1.2.0",
            "_model_name": "LayoutModel",
            "_view_count": null,
            "_view_module": "@jupyter-widgets/base",
            "_view_module_version": "1.2.0",
            "_view_name": "LayoutView",
            "align_content": null,
            "align_items": null,
            "align_self": null,
            "border": null,
            "bottom": null,
            "display": null,
            "flex": null,
            "flex_flow": null,
            "grid_area": null,
            "grid_auto_columns": null,
            "grid_auto_flow": null,
            "grid_auto_rows": null,
            "grid_column": null,
            "grid_gap": null,
            "grid_row": null,
            "grid_template_areas": null,
            "grid_template_columns": null,
            "grid_template_rows": null,
            "height": null,
            "justify_content": null,
            "justify_items": null,
            "left": null,
            "margin": null,
            "max_height": null,
            "max_width": null,
            "min_height": null,
            "min_width": null,
            "object_fit": null,
            "object_position": null,
            "order": null,
            "overflow": null,
            "overflow_x": null,
            "overflow_y": null,
            "padding": null,
            "right": null,
            "top": null,
            "visibility": null,
            "width": null
          }
        },
        "a839234701044b0abb56eb2135990e87": {
          "model_module": "@jupyter-widgets/controls",
          "model_name": "DescriptionStyleModel",
          "model_module_version": "1.5.0",
          "state": {
            "_model_module": "@jupyter-widgets/controls",
            "_model_module_version": "1.5.0",
            "_model_name": "DescriptionStyleModel",
            "_view_count": null,
            "_view_module": "@jupyter-widgets/base",
            "_view_module_version": "1.2.0",
            "_view_name": "StyleView",
            "description_width": ""
          }
        },
        "99c680b41fc44b8ea226199f8651f6e5": {
          "model_module": "@jupyter-widgets/controls",
          "model_name": "FloatTextModel",
          "model_module_version": "1.5.0",
          "state": {
            "_dom_classes": [],
            "_model_module": "@jupyter-widgets/controls",
            "_model_module_version": "1.5.0",
            "_model_name": "FloatTextModel",
            "_view_count": null,
            "_view_module": "@jupyter-widgets/controls",
            "_view_module_version": "1.5.0",
            "_view_name": "FloatTextView",
            "continuous_update": false,
            "description": "Blutzuckerwert:",
            "description_tooltip": null,
            "disabled": false,
            "layout": "IPY_MODEL_8ec9c7c8e39a4a718d7c0dd5aae30670",
            "step": null,
            "style": "IPY_MODEL_ad3e125a57554b389c2070790897c478",
            "value": 0
          }
        },
        "8ec9c7c8e39a4a718d7c0dd5aae30670": {
          "model_module": "@jupyter-widgets/base",
          "model_name": "LayoutModel",
          "model_module_version": "1.2.0",
          "state": {
            "_model_module": "@jupyter-widgets/base",
            "_model_module_version": "1.2.0",
            "_model_name": "LayoutModel",
            "_view_count": null,
            "_view_module": "@jupyter-widgets/base",
            "_view_module_version": "1.2.0",
            "_view_name": "LayoutView",
            "align_content": null,
            "align_items": null,
            "align_self": null,
            "border": null,
            "bottom": null,
            "display": null,
            "flex": null,
            "flex_flow": null,
            "grid_area": null,
            "grid_auto_columns": null,
            "grid_auto_flow": null,
            "grid_auto_rows": null,
            "grid_column": null,
            "grid_gap": null,
            "grid_row": null,
            "grid_template_areas": null,
            "grid_template_columns": null,
            "grid_template_rows": null,
            "height": null,
            "justify_content": null,
            "justify_items": null,
            "left": null,
            "margin": null,
            "max_height": null,
            "max_width": null,
            "min_height": null,
            "min_width": null,
            "object_fit": null,
            "object_position": null,
            "order": null,
            "overflow": null,
            "overflow_x": null,
            "overflow_y": null,
            "padding": null,
            "right": null,
            "top": null,
            "visibility": null,
            "width": null
          }
        },
        "ad3e125a57554b389c2070790897c478": {
          "model_module": "@jupyter-widgets/controls",
          "model_name": "DescriptionStyleModel",
          "model_module_version": "1.5.0",
          "state": {
            "_model_module": "@jupyter-widgets/controls",
            "_model_module_version": "1.5.0",
            "_model_name": "DescriptionStyleModel",
            "_view_count": null,
            "_view_module": "@jupyter-widgets/base",
            "_view_module_version": "1.2.0",
            "_view_name": "StyleView",
            "description_width": ""
          }
        },
        "094d195694eb4bd7a6c9d41bbf85bfeb": {
          "model_module": "@jupyter-widgets/controls",
          "model_name": "ButtonModel",
          "model_module_version": "1.5.0",
          "state": {
            "_dom_classes": [],
            "_model_module": "@jupyter-widgets/controls",
            "_model_module_version": "1.5.0",
            "_model_name": "ButtonModel",
            "_view_count": null,
            "_view_module": "@jupyter-widgets/controls",
            "_view_module_version": "1.5.0",
            "_view_name": "ButtonView",
            "button_style": "",
            "description": "Blutzucker-Beobachtung an FHIR-Server senden",
            "disabled": false,
            "icon": "",
            "layout": "IPY_MODEL_96a0d10dc16942d1ac664aeaa0fddb56",
            "style": "IPY_MODEL_0d6e694956fd42258179583e3f32ed68",
            "tooltip": ""
          }
        },
        "96a0d10dc16942d1ac664aeaa0fddb56": {
          "model_module": "@jupyter-widgets/base",
          "model_name": "LayoutModel",
          "model_module_version": "1.2.0",
          "state": {
            "_model_module": "@jupyter-widgets/base",
            "_model_module_version": "1.2.0",
            "_model_name": "LayoutModel",
            "_view_count": null,
            "_view_module": "@jupyter-widgets/base",
            "_view_module_version": "1.2.0",
            "_view_name": "LayoutView",
            "align_content": null,
            "align_items": null,
            "align_self": null,
            "border": null,
            "bottom": null,
            "display": null,
            "flex": null,
            "flex_flow": null,
            "grid_area": null,
            "grid_auto_columns": null,
            "grid_auto_flow": null,
            "grid_auto_rows": null,
            "grid_column": null,
            "grid_gap": null,
            "grid_row": null,
            "grid_template_areas": null,
            "grid_template_columns": null,
            "grid_template_rows": null,
            "height": null,
            "justify_content": null,
            "justify_items": null,
            "left": null,
            "margin": null,
            "max_height": null,
            "max_width": null,
            "min_height": null,
            "min_width": null,
            "object_fit": null,
            "object_position": null,
            "order": null,
            "overflow": null,
            "overflow_x": null,
            "overflow_y": null,
            "padding": null,
            "right": null,
            "top": null,
            "visibility": null,
            "width": null
          }
        },
        "0d6e694956fd42258179583e3f32ed68": {
          "model_module": "@jupyter-widgets/controls",
          "model_name": "ButtonStyleModel",
          "model_module_version": "1.5.0",
          "state": {
            "_model_module": "@jupyter-widgets/controls",
            "_model_module_version": "1.5.0",
            "_model_name": "ButtonStyleModel",
            "_view_count": null,
            "_view_module": "@jupyter-widgets/base",
            "_view_module_version": "1.2.0",
            "_view_name": "StyleView",
            "button_color": null,
            "font_weight": ""
          }
        },
        "15304e078dbb4a6fa6ebd6ab73aaa043": {
          "model_module": "@jupyter-widgets/controls",
          "model_name": "TextModel",
          "model_module_version": "1.5.0",
          "state": {
            "_dom_classes": [],
            "_model_module": "@jupyter-widgets/controls",
            "_model_module_version": "1.5.0",
            "_model_name": "TextModel",
            "_view_count": null,
            "_view_module": "@jupyter-widgets/controls",
            "_view_module_version": "1.5.0",
            "_view_name": "TextView",
            "continuous_update": true,
            "description": "Patienten-ID:",
            "description_tooltip": null,
            "disabled": false,
            "layout": "IPY_MODEL_09ea4cf417914b8c8798a7ed84c07afe",
            "placeholder": "Patienten-ID",
            "style": "IPY_MODEL_1bce70f931dd4bf59d788c7dc73430c9",
            "value": ""
          }
        },
        "09ea4cf417914b8c8798a7ed84c07afe": {
          "model_module": "@jupyter-widgets/base",
          "model_name": "LayoutModel",
          "model_module_version": "1.2.0",
          "state": {
            "_model_module": "@jupyter-widgets/base",
            "_model_module_version": "1.2.0",
            "_model_name": "LayoutModel",
            "_view_count": null,
            "_view_module": "@jupyter-widgets/base",
            "_view_module_version": "1.2.0",
            "_view_name": "LayoutView",
            "align_content": null,
            "align_items": null,
            "align_self": null,
            "border": null,
            "bottom": null,
            "display": null,
            "flex": null,
            "flex_flow": null,
            "grid_area": null,
            "grid_auto_columns": null,
            "grid_auto_flow": null,
            "grid_auto_rows": null,
            "grid_column": null,
            "grid_gap": null,
            "grid_row": null,
            "grid_template_areas": null,
            "grid_template_columns": null,
            "grid_template_rows": null,
            "height": null,
            "justify_content": null,
            "justify_items": null,
            "left": null,
            "margin": null,
            "max_height": null,
            "max_width": null,
            "min_height": null,
            "min_width": null,
            "object_fit": null,
            "object_position": null,
            "order": null,
            "overflow": null,
            "overflow_x": null,
            "overflow_y": null,
            "padding": null,
            "right": null,
            "top": null,
            "visibility": null,
            "width": null
          }
        },
        "1bce70f931dd4bf59d788c7dc73430c9": {
          "model_module": "@jupyter-widgets/controls",
          "model_name": "DescriptionStyleModel",
          "model_module_version": "1.5.0",
          "state": {
            "_model_module": "@jupyter-widgets/controls",
            "_model_module_version": "1.5.0",
            "_model_name": "DescriptionStyleModel",
            "_view_count": null,
            "_view_module": "@jupyter-widgets/base",
            "_view_module_version": "1.2.0",
            "_view_name": "StyleView",
            "description_width": ""
          }
        },
        "6e0dcd3c28a44e2797c976b67a198f86": {
          "model_module": "@jupyter-widgets/controls",
          "model_name": "FloatTextModel",
          "model_module_version": "1.5.0",
          "state": {
            "_dom_classes": [],
            "_model_module": "@jupyter-widgets/controls",
            "_model_module_version": "1.5.0",
            "_model_name": "FloatTextModel",
            "_view_count": null,
            "_view_module": "@jupyter-widgets/controls",
            "_view_module_version": "1.5.0",
            "_view_name": "FloatTextView",
            "continuous_update": false,
            "description": "Blutzucker (mg/dL):",
            "description_tooltip": null,
            "disabled": false,
            "layout": "IPY_MODEL_2c7f0516cea8486b8709e43c9e4e74b1",
            "step": null,
            "style": "IPY_MODEL_cdd5a4dc7c1348c88dc3f6cbcb3a5e59",
            "value": 0
          }
        },
        "2c7f0516cea8486b8709e43c9e4e74b1": {
          "model_module": "@jupyter-widgets/base",
          "model_name": "LayoutModel",
          "model_module_version": "1.2.0",
          "state": {
            "_model_module": "@jupyter-widgets/base",
            "_model_module_version": "1.2.0",
            "_model_name": "LayoutModel",
            "_view_count": null,
            "_view_module": "@jupyter-widgets/base",
            "_view_module_version": "1.2.0",
            "_view_name": "LayoutView",
            "align_content": null,
            "align_items": null,
            "align_self": null,
            "border": null,
            "bottom": null,
            "display": null,
            "flex": null,
            "flex_flow": null,
            "grid_area": null,
            "grid_auto_columns": null,
            "grid_auto_flow": null,
            "grid_auto_rows": null,
            "grid_column": null,
            "grid_gap": null,
            "grid_row": null,
            "grid_template_areas": null,
            "grid_template_columns": null,
            "grid_template_rows": null,
            "height": null,
            "justify_content": null,
            "justify_items": null,
            "left": null,
            "margin": null,
            "max_height": null,
            "max_width": null,
            "min_height": null,
            "min_width": null,
            "object_fit": null,
            "object_position": null,
            "order": null,
            "overflow": null,
            "overflow_x": null,
            "overflow_y": null,
            "padding": null,
            "right": null,
            "top": null,
            "visibility": null,
            "width": null
          }
        },
        "cdd5a4dc7c1348c88dc3f6cbcb3a5e59": {
          "model_module": "@jupyter-widgets/controls",
          "model_name": "DescriptionStyleModel",
          "model_module_version": "1.5.0",
          "state": {
            "_model_module": "@jupyter-widgets/controls",
            "_model_module_version": "1.5.0",
            "_model_name": "DescriptionStyleModel",
            "_view_count": null,
            "_view_module": "@jupyter-widgets/base",
            "_view_module_version": "1.2.0",
            "_view_name": "StyleView",
            "description_width": ""
          }
        },
        "870eaa381ec24ba8ae14a65b2711d8e9": {
          "model_module": "@jupyter-widgets/controls",
          "model_name": "ButtonModel",
          "model_module_version": "1.5.0",
          "state": {
            "_dom_classes": [],
            "_model_module": "@jupyter-widgets/controls",
            "_model_module_version": "1.5.0",
            "_model_name": "ButtonModel",
            "_view_count": null,
            "_view_module": "@jupyter-widgets/controls",
            "_view_module_version": "1.5.0",
            "_view_name": "ButtonView",
            "button_style": "",
            "description": "Blutzucker-Observation an FHIR-Server senden",
            "disabled": false,
            "icon": "",
            "layout": "IPY_MODEL_281677733f674a6eac5efb8f37e901b7",
            "style": "IPY_MODEL_e924fa71fdfe4cc1bf05a91ea2e02ebd",
            "tooltip": ""
          }
        },
        "281677733f674a6eac5efb8f37e901b7": {
          "model_module": "@jupyter-widgets/base",
          "model_name": "LayoutModel",
          "model_module_version": "1.2.0",
          "state": {
            "_model_module": "@jupyter-widgets/base",
            "_model_module_version": "1.2.0",
            "_model_name": "LayoutModel",
            "_view_count": null,
            "_view_module": "@jupyter-widgets/base",
            "_view_module_version": "1.2.0",
            "_view_name": "LayoutView",
            "align_content": null,
            "align_items": null,
            "align_self": null,
            "border": null,
            "bottom": null,
            "display": null,
            "flex": null,
            "flex_flow": null,
            "grid_area": null,
            "grid_auto_columns": null,
            "grid_auto_flow": null,
            "grid_auto_rows": null,
            "grid_column": null,
            "grid_gap": null,
            "grid_row": null,
            "grid_template_areas": null,
            "grid_template_columns": null,
            "grid_template_rows": null,
            "height": null,
            "justify_content": null,
            "justify_items": null,
            "left": null,
            "margin": null,
            "max_height": null,
            "max_width": null,
            "min_height": null,
            "min_width": null,
            "object_fit": null,
            "object_position": null,
            "order": null,
            "overflow": null,
            "overflow_x": null,
            "overflow_y": null,
            "padding": null,
            "right": null,
            "top": null,
            "visibility": null,
            "width": null
          }
        },
        "e924fa71fdfe4cc1bf05a91ea2e02ebd": {
          "model_module": "@jupyter-widgets/controls",
          "model_name": "ButtonStyleModel",
          "model_module_version": "1.5.0",
          "state": {
            "_model_module": "@jupyter-widgets/controls",
            "_model_module_version": "1.5.0",
            "_model_name": "ButtonStyleModel",
            "_view_count": null,
            "_view_module": "@jupyter-widgets/base",
            "_view_module_version": "1.2.0",
            "_view_name": "StyleView",
            "button_color": null,
            "font_weight": ""
          }
        }
      }
    }
  },
  "nbformat": 4,
  "nbformat_minor": 0
}